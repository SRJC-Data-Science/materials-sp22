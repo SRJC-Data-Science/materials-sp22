{
 "cells": [
  {
   "cell_type": "code",
   "execution_count": 24,
   "metadata": {},
   "outputs": [],
   "source": [
    "from datascience import *\n",
    "import numpy as np\n",
    "\n",
    "%matplotlib inline\n",
    "import matplotlib.pyplot as plots\n",
    "plots.style.use('fivethirtyeight')\n",
    "students = Table().read_table('student_data.csv')\n"
   ]
  },
  {
   "cell_type": "markdown",
   "metadata": {},
   "source": [
    "### Hypothesis Testing Based on Simulations\n",
    "\n",
    "1. State the null and alternative hypothesis\n",
    "2. Pick a test statistic\n",
    "3. Simulate the sampling distribution of the test statistic, under the null model\n",
    "4. Draw conclusion with regard to null model based on the p-value, using the distribution generated from Step 3. A significance level of 0.05 was often used to decide whether the p-value is significant enough. \n"
   ]
  },
  {
   "cell_type": "markdown",
   "metadata": {},
   "source": [
    "#### Example 1: Swain v.s. Alabama\n",
    "\n",
    "In the Swain v.s. Alabama (1965) case, Robert Swain believes that the jury panel that convicted him under-represented the population of eligible jurors, among which 26% were black. In the jury panel of 100 jurors, only 8 were black. The Supreme court opinion stated \"the overall percentage disparity has been small\". \n",
    "\n",
    "What are the null and alternative models? "
   ]
  },
  {
   "cell_type": "code",
   "execution_count": null,
   "metadata": {},
   "outputs": [],
   "source": []
  },
  {
   "cell_type": "markdown",
   "metadata": {},
   "source": [
    "In the following code, what is the test statistic used in the simulation? "
   ]
  },
  {
   "cell_type": "markdown",
   "metadata": {},
   "source": []
  },
  {
   "cell_type": "code",
   "execution_count": 6,
   "metadata": {},
   "outputs": [],
   "source": [
    "def sampling_distribution_black(n, prop):\n",
    "    results = [] \n",
    "    proportions = make_array(prop, 1-prop)   \n",
    "    for i in np.arange(100000):\n",
    "        results = np.append(results, sample_proportions(n, proportions).item(0)*100)\n",
    "    return results"
   ]
  },
  {
   "cell_type": "markdown",
   "metadata": {},
   "source": [
    "How do you find the p-value based on the following distribution? "
   ]
  },
  {
   "cell_type": "markdown",
   "metadata": {},
   "source": []
  },
  {
   "cell_type": "code",
   "execution_count": null,
   "metadata": {},
   "outputs": [],
   "source": [
    "results = sampling_distribution_black(100, 0.26)\n",
    "Table().with_column('Number of black jurors', results).hist()"
   ]
  },
  {
   "cell_type": "markdown",
   "metadata": {},
   "source": [
    "What is the overall conclusion from the hypothesis test? "
   ]
  },
  {
   "cell_type": "markdown",
   "metadata": {},
   "source": []
  },
  {
   "cell_type": "markdown",
   "metadata": {},
   "source": [
    "If in the county, instead of 26% of the jurors, 12% of the jurors are black. Re-run the simulation based on the new null model. What is the conclusion of this hypothesis test? "
   ]
  },
  {
   "cell_type": "markdown",
   "metadata": {},
   "source": []
  },
  {
   "cell_type": "markdown",
   "metadata": {},
   "source": [
    "#### Example 2: The psychic octopus. \n",
    "\n",
    "During the 2010 World Cup tournament, Paul the Octopus (in a German aquarium) became famous for correctly predicting the winner in all 8 games it was asked to predict.  (Two containers of food were lowered into Paul’s tank, each with a flag of the opposing teams.  He made a selection by choosing which container to eat from. Is this evidence that Paul has psychic powers and can choose correctly more than half the time?\n",
    "\n",
    "What are the null and alternative models? "
   ]
  },
  {
   "cell_type": "markdown",
   "metadata": {},
   "source": []
  },
  {
   "cell_type": "markdown",
   "metadata": {},
   "source": [
    "Use the same test statistic as Swain v.s. Alabama, simulate a sampling distribution for the test statistic, and use it to complete the hypothesis test. "
   ]
  },
  {
   "cell_type": "code",
   "execution_count": null,
   "metadata": {},
   "outputs": [],
   "source": []
  },
  {
   "cell_type": "markdown",
   "metadata": {},
   "source": [
    "Suppose a different and less psychically powerful octopus named \"Polly\" only got 6 correct out of 8.  Will the p-value be more than or less than the p-value for Paul the Octopus? Estimate this new p-value using the same sampling distribution shown above and draw a conclusion with respect to this hypothesis test. "
   ]
  },
  {
   "cell_type": "code",
   "execution_count": null,
   "metadata": {},
   "outputs": [],
   "source": []
  },
  {
   "cell_type": "markdown",
   "metadata": {},
   "source": [
    "#### Example 3: the loaded die\n",
    "\n",
    "A gambler at the Graton Casino observed 120 dice rolls and noticed that the number of rolls were not perfectly even. Specifically, he counted the following frequencies for each side of the die: (18, 21, 19, 23, 24, 15). He suspects the die may be loaded. \n",
    "\n",
    "What are the null and alternative models? "
   ]
  },
  {
   "cell_type": "markdown",
   "metadata": {},
   "source": []
  },
  {
   "cell_type": "markdown",
   "metadata": {},
   "source": [
    "Based on the following code, what is value of the test statistic given the observed data? Complete the definition of the ```fair_die``` based on the null model.    "
   ]
  },
  {
   "cell_type": "code",
   "execution_count": null,
   "metadata": {},
   "outputs": [],
   "source": [
    "dice_data = make_array(18, 21, 19, 23, 24, 15)\n",
    "\n",
    "def tvd(dist1, dist2):\n",
    "    return sum(abs(dist1 - dist2))/2\n",
    "\n",
    "fair_die = make_array( ... )\n",
    "\n",
    "results = make_array()\n",
    "for i in np.arange(10000):\n",
    "    test_stat = ... \n",
    "    fair_results = np.append(results, test_stat)\n",
    "Table().with_column('Test stat', results).hist()"
   ]
  },
  {
   "cell_type": "markdown",
   "metadata": {},
   "source": [
    "Based on the simulated sampling distribution, what is the p-value and the conclusion of the test? "
   ]
  },
  {
   "cell_type": "markdown",
   "metadata": {},
   "source": []
  },
  {
   "cell_type": "markdown",
   "metadata": {},
   "source": [
    "Imagine now instead of 120 rolls, there are 1200 dice rolls, and the frequencies were 10 times larger. Repeat the hypothesis test. Does the conclusion change? "
   ]
  },
  {
   "cell_type": "code",
   "execution_count": null,
   "metadata": {},
   "outputs": [],
   "source": [
    "dice_data = dice_data * 10"
   ]
  },
  {
   "cell_type": "markdown",
   "metadata": {},
   "source": [
    "#### Example 4: Testing whether one group mean is different\n",
    "\n",
    "Based on the student data in ```student_data.csv```, suppose we want to test the hypothesis that students who do not use social networking sites tend to be older in terms of average age. \n",
    "\n",
    "What is are the null and alternative models? "
   ]
  },
  {
   "cell_type": "markdown",
   "metadata": {},
   "source": []
  },
  {
   "cell_type": "markdown",
   "metadata": {},
   "source": [
    "Suppose we use the average age as the test statistic. Does the following output appear to support the null or alternative model? "
   ]
  },
  {
   "cell_type": "code",
   "execution_count": null,
   "metadata": {},
   "outputs": [],
   "source": [
    "students.group('SOCIAL', np.average)"
   ]
  },
  {
   "cell_type": "code",
   "execution_count": null,
   "metadata": {},
   "outputs": [],
   "source": [
    "students.group('SOCIAL')"
   ]
  },
  {
   "cell_type": "markdown",
   "metadata": {},
   "source": [
    "In the following code, what is the test statistic? What is the p-value and conclusion of the hypothesis test based on the student data? "
   ]
  },
  {
   "cell_type": "code",
   "execution_count": null,
   "metadata": {},
   "outputs": [],
   "source": [
    "def sampling_distribution_mean(n, variable):\n",
    "    random_group = students.sample(n, with_replacement=False)\n",
    "    return np.average(random_group.column(variable))\n",
    "\n",
    "sample_means = make_array()\n",
    "for i in np.arange(10000):\n",
    "    sample_means = np.append(sample_means, sampling_distribution_mean(20, 'AGE'))\n",
    "\n",
    "Table().with_column('Sample Means', sample_means).hist()"
   ]
  },
  {
   "cell_type": "markdown",
   "metadata": {},
   "source": [
    "Now modify the code and use it to test the hypothesis that on average, female students own more pets than male students. "
   ]
  },
  {
   "cell_type": "code",
   "execution_count": null,
   "metadata": {},
   "outputs": [],
   "source": []
  },
  {
   "cell_type": "markdown",
   "metadata": {},
   "source": [
    "#### Example 5: A/B Testing \n",
    "\n",
    "In A/B testing, we ask whether the two samples are likely from the same population. Instead of using the sample mean as the test statistic as in Example 4, we use the difference between the two sample means as the test statistic. \n",
    "\n",
    "Use the student data to test there is a significance difference in average height between female and male students. "
   ]
  },
  {
   "cell_type": "code",
   "execution_count": 39,
   "metadata": {},
   "outputs": [
    {
     "data": {
      "text/plain": [
       "-3.4013303769401375"
      ]
     },
     "execution_count": 39,
     "metadata": {},
     "output_type": "execute_result"
    }
   ],
   "source": [
    "def difference_of_means(table, variable):\n",
    "    subtable = table.select('SEX', variable)\n",
    "    means_table = subtable.group('SEX', np.average)\n",
    "    means = means_table.column(1)\n",
    "    return means.item(0) - means.item(1)\n",
    "\n",
    "difference_of_means(students, 'HEIGHT')"
   ]
  },
  {
   "cell_type": "markdown",
   "metadata": {},
   "source": [
    "What are the null and alternative models? "
   ]
  },
  {
   "cell_type": "markdown",
   "metadata": {},
   "source": []
  },
  {
   "cell_type": "markdown",
   "metadata": {},
   "source": [
    "What is the value of the test statistic? "
   ]
  },
  {
   "cell_type": "markdown",
   "metadata": {},
   "source": []
  },
  {
   "cell_type": "markdown",
   "metadata": {},
   "source": [
    "Under the null model, the sampling distribution of the test statistic was generated using a technique called \"label shuffling\"  "
   ]
  },
  {
   "cell_type": "code",
   "execution_count": 47,
   "metadata": {},
   "outputs": [
    {
     "data": {
      "text/html": [
       "<table border=\"1\" class=\"dataframe\">\n",
       "    <thead>\n",
       "        <tr>\n",
       "            <th>COLOR</th> <th>ZIP</th> <th>MATH</th> <th>PAPER</th> <th>CAR</th> <th>SHOE</th> <th>AGE</th> <th>HEIGHT</th> <th>PETS</th> <th>SOCIAL</th> <th>SEX</th>\n",
       "        </tr>\n",
       "    </thead>\n",
       "    <tbody>\n",
       "        <tr>\n",
       "            <td>Blue  </td> <td>95403</td> <td>3   </td> <td>2    </td> <td>2018</td> <td>6.5 </td> <td>20  </td> <td>61    </td> <td>0   </td> <td>Yes   </td> <td>Female</td>\n",
       "        </tr>\n",
       "        <tr>\n",
       "            <td>Other </td> <td>95401</td> <td>2   </td> <td>5    </td> <td>2007</td> <td>6.5 </td> <td>26  </td> <td>61    </td> <td>1   </td> <td>No    </td> <td>Male  </td>\n",
       "        </tr>\n",
       "        <tr>\n",
       "            <td>Green </td> <td>95492</td> <td>1   </td> <td>3    </td> <td>1994</td> <td>5.5 </td> <td>22  </td> <td>62    </td> <td>4   </td> <td>Yes   </td> <td>Female</td>\n",
       "        </tr>\n",
       "        <tr>\n",
       "            <td>Black </td> <td>95472</td> <td>3   </td> <td>3    </td> <td>nan </td> <td>8   </td> <td>19  </td> <td>62    </td> <td>2   </td> <td>Yes   </td> <td>Female</td>\n",
       "        </tr>\n",
       "        <tr>\n",
       "            <td>Purple</td> <td>95409</td> <td>2   </td> <td>2    </td> <td>1990</td> <td>7   </td> <td>19  </td> <td>63    </td> <td>3   </td> <td>Yes   </td> <td>Female</td>\n",
       "        </tr>\n",
       "        <tr>\n",
       "            <td>Orange</td> <td>95407</td> <td>4   </td> <td>3    </td> <td>2016</td> <td>8.5 </td> <td>37  </td> <td>63    </td> <td>2   </td> <td>Yes   </td> <td>Male  </td>\n",
       "        </tr>\n",
       "        <tr>\n",
       "            <td>Blue  </td> <td>95401</td> <td>5   </td> <td>4    </td> <td>2003</td> <td>8   </td> <td>17  </td> <td>63    </td> <td>5   </td> <td>Yes   </td> <td>Female</td>\n",
       "        </tr>\n",
       "        <tr>\n",
       "            <td>Blue  </td> <td>94928</td> <td>3   </td> <td>3    </td> <td>2012</td> <td>7.5 </td> <td>18  </td> <td>63    </td> <td>6   </td> <td>Yes   </td> <td>Female</td>\n",
       "        </tr>\n",
       "        <tr>\n",
       "            <td>Purple</td> <td>95403</td> <td>4   </td> <td>5    </td> <td>nan </td> <td>8.5 </td> <td>36  </td> <td>63    </td> <td>0   </td> <td>No    </td> <td>Male  </td>\n",
       "        </tr>\n",
       "        <tr>\n",
       "            <td>Red   </td> <td>95404</td> <td>2   </td> <td>2    </td> <td>2011</td> <td>7.5 </td> <td>20  </td> <td>64    </td> <td>7   </td> <td>Yes   </td> <td>Male  </td>\n",
       "        </tr>\n",
       "    </tbody>\n",
       "</table>\n",
       "<p>... (64 rows omitted)</p>"
      ],
      "text/plain": [
       "COLOR  | ZIP   | MATH | PAPER | CAR  | SHOE | AGE  | HEIGHT | PETS | SOCIAL | SEX\n",
       "Blue   | 95403 | 3    | 2     | 2018 | 6.5  | 20   | 61     | 0    | Yes    | Female\n",
       "Other  | 95401 | 2    | 5     | 2007 | 6.5  | 26   | 61     | 1    | No     | Male\n",
       "Green  | 95492 | 1    | 3     | 1994 | 5.5  | 22   | 62     | 4    | Yes    | Female\n",
       "Black  | 95472 | 3    | 3     | nan  | 8    | 19   | 62     | 2    | Yes    | Female\n",
       "Purple | 95409 | 2    | 2     | 1990 | 7    | 19   | 63     | 3    | Yes    | Female\n",
       "Orange | 95407 | 4    | 3     | 2016 | 8.5  | 37   | 63     | 2    | Yes    | Male\n",
       "Blue   | 95401 | 5    | 4     | 2003 | 8    | 17   | 63     | 5    | Yes    | Female\n",
       "Blue   | 94928 | 3    | 3     | 2012 | 7.5  | 18   | 63     | 6    | Yes    | Female\n",
       "Purple | 95403 | 4    | 5     | nan  | 8.5  | 36   | 63     | 0    | No     | Male\n",
       "Red    | 95404 | 2    | 2     | 2011 | 7.5  | 20   | 64     | 7    | Yes    | Male\n",
       "... (64 rows omitted)"
      ]
     },
     "execution_count": 47,
     "metadata": {},
     "output_type": "execute_result"
    }
   ],
   "source": [
    "shuffled_sex = students.sample(with_replacement = False)\n",
    "shuffled_students = students.drop('SEX').with_column('SEX', shuffled_sex.column('SEX'))\n",
    "shuffled_students\n"
   ]
  },
  {
   "cell_type": "markdown",
   "metadata": {},
   "source": [
    "Use the code provided above, create a simulation of the sampling distribution of the test statistic. Each iteration should shuffle the labels once, and use ```difference_of_means``` to compute the test statistic. "
   ]
  },
  {
   "cell_type": "code",
   "execution_count": null,
   "metadata": {},
   "outputs": [],
   "source": []
  },
  {
   "cell_type": "markdown",
   "metadata": {},
   "source": [
    "Use the simulated sampling distribution to compute the p-value and draw the conclusion. "
   ]
  },
  {
   "cell_type": "markdown",
   "metadata": {},
   "source": []
  },
  {
   "cell_type": "markdown",
   "metadata": {},
   "source": [
    "Can you use the same procedure to test whether there is a difference in the attitude towards Math among male and female students? "
   ]
  },
  {
   "cell_type": "markdown",
   "metadata": {},
   "source": []
  },
  {
   "cell_type": "markdown",
   "metadata": {},
   "source": [
    "#### Example 6: Label Shuffling for Categorical Data\n",
    "\n"
   ]
  },
  {
   "cell_type": "markdown",
   "metadata": {},
   "source": []
  }
 ],
 "metadata": {
  "kernelspec": {
   "display_name": ".venv",
   "language": "python",
   "name": "python3"
  },
  "language_info": {
   "codemirror_mode": {
    "name": "ipython",
    "version": 3
   },
   "file_extension": ".py",
   "mimetype": "text/x-python",
   "name": "python",
   "nbconvert_exporter": "python",
   "pygments_lexer": "ipython3",
   "version": "3.12.3"
  }
 },
 "nbformat": 4,
 "nbformat_minor": 2
}
