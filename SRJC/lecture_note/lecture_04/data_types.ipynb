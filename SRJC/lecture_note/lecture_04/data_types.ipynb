{
 "cells": [
  {
   "cell_type": "markdown",
   "id": "dfa7f2bf",
   "metadata": {},
   "source": [
    "## Lecture Notes - Data Types ##\n",
    "\n",
    "**Helpful Resource:**\n",
    "- [Python Reference](http://data8.org/sp22/python-reference.html): Cheat sheet of helpful array & table methods used in Data 8!\n",
    "\n",
    "**Recommended Readings:**\n",
    "- [Arrays](https://inferentialthinking.com/chapters/05/1/Arrays.html)\n",
    "- [What is Data Science?](http://www.inferentialthinking.com/chapters/01/what-is-data-science.html)\n",
    "- [Programming in Python](http://www.inferentialthinking.com/chapters/03/programming-in-python.html)\n",
    "- [Data Types](https://inferentialthinking.com/chapters/04/Data_Types.html)"
   ]
  },
  {
   "cell_type": "markdown",
   "id": "0fbba360",
   "metadata": {},
   "source": [
    "## Numbers - Int and Float ##\n",
    "\n",
    "We covered it last lecture.  We look at String and Array today."
   ]
  },
  {
   "cell_type": "markdown",
   "id": "4b9d97e2",
   "metadata": {},
   "source": [
    "## String ##\n",
    "\n",
    "Python doesn't have a concept of charater that means Python treats a single charater as a string.\n",
    "\n",
    "String is a text representation in programming.  In Python, a string is enclosed by a pair double quotation marks (\"\") or a pair of single quotation marks ('').\n",
    "\n",
    "A combination of using \"\" and '' in a string could be tricky sometimes.\n"
   ]
  },
  {
   "cell_type": "code",
   "execution_count": null,
   "id": "6588420a",
   "metadata": {
    "scrolled": true
   },
   "outputs": [],
   "source": [
    "# use double quote \"\"\n",
    "\n",
    "\"hiking, reading, eating\""
   ]
  },
  {
   "cell_type": "code",
   "execution_count": null,
   "id": "0e7c28b4",
   "metadata": {},
   "outputs": [],
   "source": [
    "# use single quote \"\"\n",
    "\n",
    "'hiking, reading, eating'"
   ]
  },
  {
   "cell_type": "code",
   "execution_count": null,
   "id": "bbb89ba2",
   "metadata": {},
   "outputs": [],
   "source": [
    "# use variable \n",
    "\n",
    "myHobbies = \"hiking, reading, eating\"\n",
    "myHobbies"
   ]
  },
  {
   "cell_type": "markdown",
   "id": "5f0610c8",
   "metadata": {},
   "source": [
    "### Error when using two pairs of double quotation marks in a string"
   ]
  },
  {
   "cell_type": "code",
   "execution_count": null,
   "id": "f5aef072",
   "metadata": {
    "scrolled": false
   },
   "outputs": [],
   "source": [
    "# Error: use double quote to enclose a double quoted conversation string\n",
    "\n",
    "\"Sally said: \"Her big brother is Charlie Brown\"\""
   ]
  },
  {
   "cell_type": "code",
   "execution_count": null,
   "id": "264207cf",
   "metadata": {},
   "outputs": [],
   "source": [
    "# Error: use single quote to enclose a single quoted conversation string \n",
    "\n",
    "'Sally said: 'Her big brother is Charlie Brown''"
   ]
  },
  {
   "cell_type": "markdown",
   "id": "c0010dc3",
   "metadata": {},
   "source": [
    "### Solutions: combine double `\"\"` and single quotation `''` marks in a string ###\n"
   ]
  },
  {
   "cell_type": "code",
   "execution_count": null,
   "id": "759d3138",
   "metadata": {},
   "outputs": [],
   "source": [
    "# solution 1: \n",
    "#   use single quote to enclose a double quoted conversation string\n",
    "\n",
    "'Sally said: \"Her big brother is Charlie Brown\"'"
   ]
  },
  {
   "cell_type": "code",
   "execution_count": null,
   "id": "b330936e",
   "metadata": {
    "scrolled": true
   },
   "outputs": [],
   "source": [
    "# solution 2: \n",
    "#   use double quote to enclose a single quoted conversation string\n",
    "\n",
    "\"Sally said: 'Her big brother is Charlie Brown'\""
   ]
  },
  {
   "cell_type": "code",
   "execution_count": null,
   "id": "162554a7",
   "metadata": {},
   "outputs": [],
   "source": [
    "# use double quote enclosure is better because we can have apostrophe in a string\n",
    "\n",
    "\"Snoopy won't reject cookies.\""
   ]
  },
  {
   "cell_type": "markdown",
   "id": "5a932b01",
   "metadata": {},
   "source": [
    "### Using Escape Character ( \\ ) ###\n",
    "\n",
    "Use `\\` to have Python compiler to escape/ignore the character right after `\\`.\n",
    "\n",
    "Note: escape character `\\` ignore only one character, not all characters after it."
   ]
  },
  {
   "cell_type": "code",
   "execution_count": null,
   "id": "12d1434f",
   "metadata": {
    "scrolled": false
   },
   "outputs": [],
   "source": [
    "# with escape character `\\`, \n",
    "#   we can use double quote to enclose double quoted conversation.\n",
    "\n",
    "\"Sally said: \\\"Her big brother is Charlie Brown\\\"\""
   ]
  },
  {
   "cell_type": "code",
   "execution_count": null,
   "id": "9d442d18",
   "metadata": {
    "scrolled": true
   },
   "outputs": [],
   "source": [
    "# with escape character `\\`, \n",
    "#   we can use single quote to enclose a string that contains an apostrophe.\n",
    "\n",
    "'Snoop won\\'t reject cookies.'"
   ]
  },
  {
   "cell_type": "markdown",
   "id": "f6326d9a",
   "metadata": {},
   "source": [
    "### String Concatenation ###\n",
    "\n",
    "Combine multiple strings together.  \n",
    "\n",
    "In Python, two strings can be concatenated by using a plus sign `+` or simply placing multiple strings right next to each with or without space.\n"
   ]
  },
  {
   "cell_type": "code",
   "execution_count": null,
   "id": "7ffd9fd1",
   "metadata": {},
   "outputs": [],
   "source": [
    "# using a plus sign (+) to concatenate strings\n",
    "#   a string can contain spaces \n",
    "#   - if the string requires a space that should be explicitly added\n",
    "\n",
    "\"I like \" + \"apple, \" + \"cheeescake and \" + \"kiwi\""
   ]
  },
  {
   "cell_type": "code",
   "execution_count": null,
   "id": "8880d3f6",
   "metadata": {},
   "outputs": [],
   "source": [
    "# placing strings right next to each to concatenate strings\n",
    "\n",
    "\"I like \" \"apple, \" \"cheeescake and \" \"kiwi\"\n",
    "\n",
    "# no space between 2 strings, same as -\n",
    "# \"I like \"\"apple, \"\"cheeescake and \"\"kiwi\""
   ]
  },
  {
   "cell_type": "code",
   "execution_count": null,
   "id": "a01786ea",
   "metadata": {},
   "outputs": [],
   "source": [
    "# Concatenation using plus sign (+) must be operated in one line\n",
    "#   the following will produce errors\n",
    "\n",
    "\"I like \" + \n",
    "\"apple, \" + \"cheeescake and \" + \"kiwi\""
   ]
  },
  {
   "cell_type": "code",
   "execution_count": null,
   "id": "40fb682a",
   "metadata": {},
   "outputs": [],
   "source": [
    "# without plus sign (+), it is treated as 2 different strings\n",
    "\n",
    "\"I like \" \n",
    "\"apple, \" \"cheeescake and \" \"kiwi\""
   ]
  },
  {
   "cell_type": "code",
   "execution_count": null,
   "id": "bbbd0ea9",
   "metadata": {},
   "outputs": [],
   "source": [
    "# concatenate a string variable and a constant string - needs plus sign (+)\n",
    "#   the following will produce errors\n",
    "\n",
    "subject = \"I like \"\n",
    "subject \"apple, \" \"cheeescake and \" \"kiwi\"\n",
    "\n",
    "# should be subject + \" apple, \" \"cheeescake and \" \"kiwi\""
   ]
  },
  {
   "cell_type": "code",
   "execution_count": null,
   "id": "08d04dab",
   "metadata": {},
   "outputs": [],
   "source": [
    "# concatenate string variables - needs plus sign (+)\n",
    "\n",
    "subject = \"I like \"\n",
    "something = \"apple, \" \"cheeescake and \" \"kiwi\"\n",
    "subject + something"
   ]
  },
  {
   "cell_type": "code",
   "execution_count": null,
   "id": "b77ee101",
   "metadata": {
    "scrolled": true
   },
   "outputs": [],
   "source": [
    "# concatenation only applies to string to string\n",
    "#   the following will produce errors\n",
    "\n",
    "subject = \"I like \"\n",
    "luckyNumber = 7       # should be luckyNumber = \"7\"\n",
    "subject + luckyNumber"
   ]
  },
  {
   "cell_type": "code",
   "execution_count": null,
   "id": "17064792",
   "metadata": {},
   "outputs": [],
   "source": [
    "# produces errors\n",
    "\n",
    "\"I like \" + 7"
   ]
  },
  {
   "cell_type": "markdown",
   "id": "78da7576",
   "metadata": {},
   "source": [
    "### String Comparison ###\n",
    "\n",
    "In Python, comparison operators (logical operators) are used for comparing strings.\n",
    "\n",
    "<, >, <=, >=, == and !=\n",
    "\n",
    "Uppercase characters have lower values than lowercase characters in programming.  That means \"A\" is smaller than \"a\" when they are compared using comparison operators.\n"
   ]
  },
  {
   "cell_type": "code",
   "execution_count": null,
   "id": "edbab3bd",
   "metadata": {},
   "outputs": [],
   "source": [
    "# Who is bigger? \"Charlie Brown\" or \"Sally Brown\"?\n",
    "\n",
    "\"Charlie Brown\" > \"Sally Brown\""
   ]
  },
  {
   "cell_type": "code",
   "execution_count": null,
   "id": "abb54942",
   "metadata": {},
   "outputs": [],
   "source": [
    "# Is \"Charlie Brown\" same as \"charlie brown\"?\n",
    "\n",
    "\"Charlie Brown\" == \"charlie brown\""
   ]
  },
  {
   "cell_type": "code",
   "execution_count": null,
   "id": "9d2c6b88",
   "metadata": {},
   "outputs": [],
   "source": [
    "\"Charlie Brown\" > \"charlie brown\""
   ]
  },
  {
   "cell_type": "code",
   "execution_count": null,
   "id": "782ae4db",
   "metadata": {},
   "outputs": [],
   "source": [
    "\"Sally Brown\" != \"sally brown\""
   ]
  },
  {
   "cell_type": "code",
   "execution_count": null,
   "id": "4af70ff9",
   "metadata": {},
   "outputs": [],
   "source": [
    "# How about a number and a number in a string?\n",
    "\n",
    "68.16 == \"68.16\""
   ]
  },
  {
   "cell_type": "code",
   "execution_count": null,
   "id": "4ce4f008",
   "metadata": {},
   "outputs": [],
   "source": [
    "# How about the value of a float number and \n",
    "#   an integer number?\n",
    "\n",
    "68.0 == 68"
   ]
  },
  {
   "cell_type": "code",
   "execution_count": null,
   "id": "0e67ef54",
   "metadata": {},
   "outputs": [],
   "source": [
    "# How about the data type of a number with a decimal point  \n",
    "#   and a number without a decimal point?\n",
    "\n",
    "type(68.0) == type(68)"
   ]
  },
  {
   "cell_type": "code",
   "execution_count": null,
   "id": "0c5d4105",
   "metadata": {},
   "outputs": [],
   "source": [
    "type(68.0)"
   ]
  },
  {
   "cell_type": "code",
   "execution_count": null,
   "id": "937dc4b6",
   "metadata": {},
   "outputs": [],
   "source": [
    "type(68)"
   ]
  },
  {
   "cell_type": "markdown",
   "id": "9281e91e",
   "metadata": {},
   "source": [
    "### String and Numeric Value Conversion"
   ]
  },
  {
   "cell_type": "code",
   "execution_count": null,
   "id": "46926ae5",
   "metadata": {},
   "outputs": [],
   "source": [
    "# Convert an integer string to an integer value\n",
    "\n",
    "int(\"68\")"
   ]
  },
  {
   "cell_type": "code",
   "execution_count": null,
   "id": "17e3af57",
   "metadata": {},
   "outputs": [],
   "source": [
    "# Convert a float string to a float value\n",
    "\n",
    "float(\"68.0\")"
   ]
  },
  {
   "cell_type": "code",
   "execution_count": null,
   "id": "facf3fd4",
   "metadata": {},
   "outputs": [],
   "source": [
    "# Convert a float value to a float string\n",
    "\n",
    "str(68.0)"
   ]
  },
  {
   "cell_type": "code",
   "execution_count": null,
   "id": "1ad0d18f",
   "metadata": {},
   "outputs": [],
   "source": [
    "# Convert an integer value to an integer string\n",
    "\n",
    "str(68)"
   ]
  },
  {
   "cell_type": "code",
   "execution_count": null,
   "id": "31ec9cac",
   "metadata": {},
   "outputs": [],
   "source": [
    "# Convert a float value to an integer value\n",
    "#   the decimal point and places are truncated\n",
    "\n",
    "int(68.75)"
   ]
  },
  {
   "cell_type": "code",
   "execution_count": null,
   "id": "b0529ff3",
   "metadata": {
    "scrolled": true
   },
   "outputs": [],
   "source": [
    "# Convert an integer value to a float value\n",
    "#   .0 is appended to the integer value\n",
    "\n",
    "float(68)"
   ]
  },
  {
   "cell_type": "code",
   "execution_count": null,
   "id": "528f114a",
   "metadata": {},
   "outputs": [],
   "source": [
    "# Convert an integer string to a float value\n",
    "#   .0 is appended to the integer value\n",
    "\n",
    "float(\"68\")"
   ]
  },
  {
   "cell_type": "code",
   "execution_count": null,
   "id": "283bc901",
   "metadata": {
    "scrolled": true
   },
   "outputs": [],
   "source": [
    "# Error when convert a float string to an integer value\n",
    "#   because int() function expects an integer string or a float value, \n",
    "#   but not a float string.\n",
    "\n",
    "int(\"68.75\")"
   ]
  },
  {
   "cell_type": "code",
   "execution_count": null,
   "id": "ffe36337",
   "metadata": {},
   "outputs": [],
   "source": [
    "# If a float string is given to be converted to an integer value,\n",
    "#   we need to convert it to float value first then to an integer value,\n",
    "#   the decimal point and places are truncated.\n",
    "\n",
    "int(float(\"68.75\"))"
   ]
  },
  {
   "cell_type": "code",
   "execution_count": null,
   "id": "50f249e3",
   "metadata": {},
   "outputs": [],
   "source": [
    "# Taking an example from the UC Berkeley video\n",
    "\n",
    "x = 3\n",
    "y = '4'\n",
    "z = '5.6'"
   ]
  },
  {
   "cell_type": "code",
   "execution_count": null,
   "id": "755d96ff",
   "metadata": {
    "scrolled": true
   },
   "outputs": [],
   "source": [
    "# Error: plus sign (+) is either for adding two numeric numbers or\n",
    "#        concatenating two strings.\n",
    "#        cannot add or concatenate a numeric value and a string\n",
    "\n",
    "x + y"
   ]
  },
  {
   "cell_type": "code",
   "execution_count": null,
   "id": "4028f4cf",
   "metadata": {
    "scrolled": true
   },
   "outputs": [],
   "source": [
    "# Error when convert a float string to an integer value\n",
    "#   because int() function expects an integer string or a float value, \n",
    "#   but not a float string.\n",
    "\n",
    "x = 3\n",
    "y = '4'\n",
    "z = '5.6'\n",
    "\n",
    "x + int(y + z)"
   ]
  },
  {
   "cell_type": "code",
   "execution_count": null,
   "id": "f4db1829",
   "metadata": {},
   "outputs": [],
   "source": [
    "# If a float string is given to be converted to an integer value,\n",
    "#   we need to convert it to a float value first then to an integer value,\n",
    "#   the decimal point and places are truncated.\n",
    "\n",
    "x = 3\n",
    "y = '4'\n",
    "z = '5.6'\n",
    "\n",
    "x + int(float(y + z))"
   ]
  },
  {
   "cell_type": "code",
   "execution_count": null,
   "id": "17e8bcad",
   "metadata": {},
   "outputs": [],
   "source": [
    "# Error: plus sign (+) is either for adding two numeric numbers or\n",
    "#        concatenating two strings.\n",
    "#        cannot add or concatenate a numeric number and a string\n",
    "\n",
    "x = 3\n",
    "y = '4'\n",
    "z = '5.6'\n",
    "\n",
    "str(x) + int(y)"
   ]
  },
  {
   "cell_type": "code",
   "execution_count": null,
   "id": "0f975bc1",
   "metadata": {
    "scrolled": true
   },
   "outputs": [],
   "source": [
    "x = 3\n",
    "y = '4'\n",
    "z = '5.6'\n",
    "\n",
    "y + float(z)\n",
    "\n",
    "# side note: no need to repeat the assignment statements for x, y, z\n",
    "#            just for demonstration purposes"
   ]
  },
  {
   "cell_type": "markdown",
   "id": "22b6ec6e",
   "metadata": {},
   "source": [
    "## Arrays ##\n",
    "\n",
    "Array is a data structure that can store multiple values in a variable (name).  Those values in the array usually have the same data type.\n",
    "\n",
    "To use arrays, we need to import `datascience` library/module/package. We also need a package called `numpy`.\n",
    "\n",
    "We use `make_array` method to create an array."
   ]
  },
  {
   "cell_type": "code",
   "execution_count": null,
   "id": "610512e7",
   "metadata": {},
   "outputs": [],
   "source": [
    "# Create an array with a bunch of names (string) and assign it to a variable call roster\n",
    "\n",
    "from datascience import *\n",
    "import numpy as np\n",
    "\n",
    "roster = make_array(\"Charlie\", \"Lucy\", \"Snoopy\", \"Sally\")\n",
    "roster"
   ]
  },
  {
   "cell_type": "code",
   "execution_count": null,
   "id": "f99d511d",
   "metadata": {},
   "outputs": [],
   "source": [
    "# Create an array of numbers\n",
    "#   if all elements in the array are integer values, \n",
    "#   the data type of all the elements is integer\n",
    "\n",
    "score = make_array(78, 88, 100)\n",
    "score"
   ]
  },
  {
   "cell_type": "code",
   "execution_count": null,
   "id": "17412ae9",
   "metadata": {},
   "outputs": [],
   "source": [
    "# if all elements in the array are float values, \n",
    "#   the data type of all the elements is float\n",
    "\n",
    "score = make_array(78.2, 88.2, 100.2)\n",
    "score"
   ]
  },
  {
   "cell_type": "code",
   "execution_count": null,
   "id": "fe766835",
   "metadata": {},
   "outputs": [],
   "source": [
    "# if the values of the elements are mixed of integer and float, \n",
    "#   the data type of all the elements is float\n",
    "\n",
    "score = make_array(78, 88, 100.2)\n",
    "score"
   ]
  },
  {
   "cell_type": "markdown",
   "id": "92e04b41",
   "metadata": {},
   "source": [
    "### Perform Arithmetics on Array ###"
   ]
  },
  {
   "cell_type": "code",
   "execution_count": null,
   "id": "45f66947",
   "metadata": {},
   "outputs": [],
   "source": [
    "# Multiple array element by 2\n",
    "\n",
    "score * 2"
   ]
  },
  {
   "cell_type": "markdown",
   "id": "8de688a7",
   "metadata": {},
   "source": [
    "### Combine String Elements in an Array with Delimiter ###\n",
    "\n",
    "Use a string method call `join`."
   ]
  },
  {
   "cell_type": "code",
   "execution_count": null,
   "id": "8a2967a8",
   "metadata": {},
   "outputs": [],
   "source": [
    "# Combine the roster array with --\n",
    "\n",
    "dash_delimiter = \" <--> \".join(roster)\n",
    "dash_delimiter"
   ]
  },
  {
   "cell_type": "markdown",
   "id": "69cdcc09",
   "metadata": {},
   "source": [
    "### Indexing Arrays ###\n",
    "\n",
    "#### `array.item(index)` ####\n",
    "\n",
    "To access the elements in an array, we use an array method `array.item(index)` where index is the position of an array element.  We typically count the elements from 0.  So the first element position is 0, and the second element position is 1, etc.\n"
   ]
  },
  {
   "cell_type": "code",
   "execution_count": null,
   "id": "11fe9bb2",
   "metadata": {},
   "outputs": [],
   "source": [
    "# How to access snoopy in this array?\n",
    "\n",
    "roster = make_array(\"Charlie\", \"Lucy\", \"Snoopy\", \"Sally\")\n",
    "roster.item(2)"
   ]
  },
  {
   "cell_type": "code",
   "execution_count": null,
   "id": "1b51ad24",
   "metadata": {},
   "outputs": [],
   "source": [
    "# Who is the last one in the roster?\n",
    "\n",
    "roster.item(3)"
   ]
  },
  {
   "cell_type": "markdown",
   "id": "9ba05b84",
   "metadata": {},
   "source": [
    "### Array Size ###\n",
    "\n",
    "`len()` returns the number of elements in an array."
   ]
  },
  {
   "cell_type": "code",
   "execution_count": null,
   "id": "392be52e",
   "metadata": {
    "scrolled": true
   },
   "outputs": [],
   "source": [
    "len(roster)"
   ]
  },
  {
   "cell_type": "markdown",
   "id": "79871b5b",
   "metadata": {},
   "source": [
    "### Use `len()` to reference the last element of any array ###\n",
    "\n",
    "If we want to reference the last element in an array, we substract 1 from the return value of `len()`."
   ]
  },
  {
   "cell_type": "code",
   "execution_count": null,
   "id": "4d4eaf64",
   "metadata": {
    "scrolled": true
   },
   "outputs": [],
   "source": [
    "roster.item(len(roster) - 1)"
   ]
  },
  {
   "cell_type": "markdown",
   "id": "126a21db",
   "metadata": {},
   "source": [
    "### Adding an Element to the End of an Array ###\n",
    "\n",
    "#### `np.append(array, item)` ####\n",
    "\n",
    "We make use of `numpy` method to add an element to the end of any array."
   ]
  },
  {
   "cell_type": "code",
   "execution_count": null,
   "id": "f2c6d4aa",
   "metadata": {},
   "outputs": [],
   "source": [
    "import numpy as np\n",
    "np.append(roster, \"Bella\")"
   ]
  },
  {
   "cell_type": "code",
   "execution_count": null,
   "id": "d7770322",
   "metadata": {
    "scrolled": true
   },
   "outputs": [],
   "source": [
    "# How many people in the roster?\n",
    "\n",
    "len(roster)"
   ]
  },
  {
   "cell_type": "code",
   "execution_count": null,
   "id": "ed499a23",
   "metadata": {},
   "outputs": [],
   "source": [
    "# Why not 5?  We appended 'Bella' to the end of the roster array.\n",
    "#   Because array operations will not change the original contents of an array.\n",
    "\n",
    "roster"
   ]
  },
  {
   "cell_type": "code",
   "execution_count": null,
   "id": "1cd7238e",
   "metadata": {},
   "outputs": [],
   "source": [
    "# Add 'Bella' to the end of the roster array and\n",
    "#   assign the roster array to new_roster variable/name\n",
    "\n",
    "new_roster = np.append(roster, \"Bella\")\n",
    "new_roster"
   ]
  },
  {
   "cell_type": "code",
   "execution_count": null,
   "id": "963c1328",
   "metadata": {},
   "outputs": [],
   "source": [
    "len(new_roster)"
   ]
  },
  {
   "cell_type": "markdown",
   "id": "fd9538e1",
   "metadata": {},
   "source": [
    "### Making an Array from a Table Column ##\n",
    "\n",
    "Each column in a table is an array.  We can use table column method to retrieve a column - tbl.column(column_name)\n",
    "\n",
    "Steps:\n",
    "1. Read a data file to a table format\n",
    "2. Assign the table to a variable / name\n",
    "3. Use table column method `tbl.column()` to create an array by retrieving a column from the table\n",
    "4. Assign the retrieved column to a variable / name\n"
   ]
  },
  {
   "cell_type": "code",
   "execution_count": null,
   "id": "e7e16250",
   "metadata": {},
   "outputs": [],
   "source": [
    "# Step 1 & 2:\n",
    "student_tbl = Table.read_table('student_data.csv')\n",
    "\n",
    "# Step 3 & 4:\n",
    "height_col = student_tbl.column(\"HEIGHT\")\n",
    "\n",
    "# disply the array\n",
    "height_col"
   ]
  },
  {
   "cell_type": "code",
   "execution_count": null,
   "id": "e933e872",
   "metadata": {
    "scrolled": true
   },
   "outputs": [],
   "source": [
    "height_col + 5"
   ]
  },
  {
   "cell_type": "code",
   "execution_count": null,
   "id": "edb67ffc",
   "metadata": {},
   "outputs": [],
   "source": [
    "max(height_col)"
   ]
  },
  {
   "cell_type": "code",
   "execution_count": null,
   "id": "0df49ec8",
   "metadata": {},
   "outputs": [],
   "source": [
    "min(height_col)"
   ]
  },
  {
   "cell_type": "code",
   "execution_count": null,
   "id": "c4687204",
   "metadata": {},
   "outputs": [],
   "source": [
    "np.average(height_col)"
   ]
  },
  {
   "cell_type": "code",
   "execution_count": null,
   "id": "ad9f5e31",
   "metadata": {},
   "outputs": [],
   "source": [
    "len(height_col)"
   ]
  },
  {
   "cell_type": "code",
   "execution_count": null,
   "id": "868098c9",
   "metadata": {},
   "outputs": [],
   "source": []
  }
 ],
 "metadata": {
  "kernelspec": {
   "display_name": "Python 3 (ipykernel)",
   "language": "python",
   "name": "python3"
  },
  "language_info": {
   "codemirror_mode": {
    "name": "ipython",
    "version": 3
   },
   "file_extension": ".py",
   "mimetype": "text/x-python",
   "name": "python",
   "nbconvert_exporter": "python",
   "pygments_lexer": "ipython3",
   "version": "3.11.5"
  }
 },
 "nbformat": 4,
 "nbformat_minor": 5
}
