{
 "cells": [
  {
   "cell_type": "markdown",
   "id": "46712aa3",
   "metadata": {},
   "source": [
    "## Lecture Notes - Join Tables by Columns ##\n",
    "\n",
    "**Helpful Resource:**\n",
    "- [Python Reference](http://data8.org/sp22/python-reference.html): Cheat sheet of helpful array & table methods used in Data 8!\n",
    "\n",
    "**Recommended Readings:**\n",
    "- [Joining Tables by Columns](https://inferentialthinking.com/chapters/08/4/Joining_Tables_by_Columns.html)\n"
   ]
  },
  {
   "cell_type": "code",
   "execution_count": 1,
   "id": "33e6a0f1",
   "metadata": {},
   "outputs": [],
   "source": [
    "# import modules to be used in this notebook\n",
    "\n",
    "from datascience import *\n",
    "import numpy as np\n",
    "\n",
    "%matplotlib inline\n",
    "import matplotlib.pyplot as plots\n",
    "plots.style.use('fivethirtyeight')\n",
    "import warnings\n",
    "warnings.simplefilter(action='ignore',category=np.VisibleDeprecationWarning)"
   ]
  },
  {
   "cell_type": "code",
   "execution_count": 2,
   "id": "d8d91d59",
   "metadata": {},
   "outputs": [
    {
     "data": {
      "text/html": [
       "<table border=\"1\" class=\"dataframe\">\n",
       "    <thead>\n",
       "        <tr>\n",
       "            <th>Flavor</th> <th>Color</th> <th>Price</th>\n",
       "        </tr>\n",
       "    </thead>\n",
       "    <tbody>\n",
       "        <tr>\n",
       "            <td>strawberry</td> <td>pink       </td> <td>3.55 </td>\n",
       "        </tr>\n",
       "        <tr>\n",
       "            <td>chocolate </td> <td>light brown</td> <td>4.75 </td>\n",
       "        </tr>\n",
       "        <tr>\n",
       "            <td>chocolate </td> <td>dark brown </td> <td>5.25 </td>\n",
       "        </tr>\n",
       "        <tr>\n",
       "            <td>strawberry</td> <td>pink       </td> <td>5.25 </td>\n",
       "        </tr>\n",
       "        <tr>\n",
       "            <td>chocolate </td> <td>dark brown </td> <td>5.25 </td>\n",
       "        </tr>\n",
       "        <tr>\n",
       "            <td>bubblegum </td> <td>pink       </td> <td>4.75 </td>\n",
       "        </tr>\n",
       "    </tbody>\n",
       "</table>"
      ],
      "text/plain": [
       "Flavor     | Color       | Price\n",
       "strawberry | pink        | 3.55\n",
       "chocolate  | light brown | 4.75\n",
       "chocolate  | dark brown  | 5.25\n",
       "strawberry | pink        | 5.25\n",
       "chocolate  | dark brown  | 5.25\n",
       "bubblegum  | pink        | 4.75"
      ]
     },
     "execution_count": 2,
     "metadata": {},
     "output_type": "execute_result"
    }
   ],
   "source": [
    "my_cones = Table().read_table(\"cones.csv\")\n",
    "my_cones"
   ]
  },
  {
   "cell_type": "code",
   "execution_count": 42,
   "id": "1e346cc6",
   "metadata": {},
   "outputs": [
    {
     "data": {
      "text/html": [
       "<table border=\"1\" class=\"dataframe\">\n",
       "    <thead>\n",
       "        <tr>\n",
       "            <th>Category</th> <th>Star</th> <th>Price Change Fraction</th>\n",
       "        </tr>\n",
       "    </thead>\n",
       "    <tbody>\n",
       "        <tr>\n",
       "            <td>strawberry</td> <td>2.5 </td> <td>0.95                 </td>\n",
       "        </tr>\n",
       "        <tr>\n",
       "            <td>chocolate </td> <td>3.5 </td> <td>1.05                 </td>\n",
       "        </tr>\n",
       "        <tr>\n",
       "            <td>bubblegum </td> <td>4.2 </td> <td>1.03                 </td>\n",
       "        </tr>\n",
       "    </tbody>\n",
       "</table>"
      ],
      "text/plain": [
       "Category   | Star | Price Change Fraction\n",
       "strawberry | 2.5  | 0.95\n",
       "chocolate  | 3.5  | 1.05\n",
       "bubblegum  | 4.2  | 1.03"
      ]
     },
     "execution_count": 42,
     "metadata": {},
     "output_type": "execute_result"
    }
   ],
   "source": [
    "# Create a ratings table with columns of Category, Star and Price Change Fraction \n",
    "#   based on the values in Price Change Fraction column\n",
    "#   some prices will be increased and some will be reduced  \n",
    "\n",
    "categories = make_array(\"strawberry\", \"chocolate\", \"bubblegum\")\n",
    "stars = make_array(2.5, 3.5, 4.2)\n",
    "price_changes = make_array(0.95, 1.05, 1.03)\n",
    "\n",
    "ratings = Table().with_columns(\n",
    "        \"Category\", categories,\n",
    "        \"Star\", stars,\n",
    "        \"Price Change Fraction\", price_changes\n",
    ")\n",
    "\n",
    "ratings"
   ]
  },
  {
   "cell_type": "code",
   "execution_count": 43,
   "id": "86312a17",
   "metadata": {},
   "outputs": [
    {
     "data": {
      "text/html": [
       "<table border=\"1\" class=\"dataframe\">\n",
       "    <thead>\n",
       "        <tr>\n",
       "            <th>Flavor</th> <th>Color</th> <th>Price</th> <th>Star</th> <th>Price Change Fraction</th>\n",
       "        </tr>\n",
       "    </thead>\n",
       "    <tbody>\n",
       "        <tr>\n",
       "            <td>bubblegum </td> <td>pink       </td> <td>4.75 </td> <td>4.2 </td> <td>1.03                 </td>\n",
       "        </tr>\n",
       "        <tr>\n",
       "            <td>chocolate </td> <td>light brown</td> <td>4.75 </td> <td>3.5 </td> <td>1.05                 </td>\n",
       "        </tr>\n",
       "        <tr>\n",
       "            <td>chocolate </td> <td>dark brown </td> <td>5.25 </td> <td>3.5 </td> <td>1.05                 </td>\n",
       "        </tr>\n",
       "        <tr>\n",
       "            <td>chocolate </td> <td>dark brown </td> <td>5.25 </td> <td>3.5 </td> <td>1.05                 </td>\n",
       "        </tr>\n",
       "        <tr>\n",
       "            <td>strawberry</td> <td>pink       </td> <td>3.55 </td> <td>2.5 </td> <td>0.95                 </td>\n",
       "        </tr>\n",
       "        <tr>\n",
       "            <td>strawberry</td> <td>pink       </td> <td>5.25 </td> <td>2.5 </td> <td>0.95                 </td>\n",
       "        </tr>\n",
       "    </tbody>\n",
       "</table>"
      ],
      "text/plain": [
       "Flavor     | Color       | Price | Star | Price Change Fraction\n",
       "bubblegum  | pink        | 4.75  | 4.2  | 1.03\n",
       "chocolate  | light brown | 4.75  | 3.5  | 1.05\n",
       "chocolate  | dark brown  | 5.25  | 3.5  | 1.05\n",
       "chocolate  | dark brown  | 5.25  | 3.5  | 1.05\n",
       "strawberry | pink        | 3.55  | 2.5  | 0.95\n",
       "strawberry | pink        | 5.25  | 2.5  | 0.95"
      ]
     },
     "execution_count": 43,
     "metadata": {},
     "output_type": "execute_result"
    }
   ],
   "source": [
    "# combine the cones and ratings table togather using tbl.join and\n",
    "#   assign the combined table view to variable new_cones_tbl\n",
    "\n",
    "new_cones_tbl = my_cones.join(\"Flavor\", ratings, \"Category\")\n",
    "new_cones_tbl"
   ]
  },
  {
   "cell_type": "code",
   "execution_count": 47,
   "id": "59cb4c4e",
   "metadata": {},
   "outputs": [],
   "source": [
    "# create a function to compute the new prices for each flavor\n",
    "\n",
    "def new_price(price, fraction):\n",
    "    return price * fraction\n",
    "\n",
    "# call the function to return an array of new prices and\n",
    "#  assign the array to the variable updated_prices\n",
    "\n",
    "updated_prices = new_price(new_cones_tbl.column(\"Price\"), new_cones_tbl.column(\"Price Change Fraction\"))"
   ]
  },
  {
   "cell_type": "code",
   "execution_count": 46,
   "id": "089364d1",
   "metadata": {},
   "outputs": [
    {
     "data": {
      "text/html": [
       "<table border=\"1\" class=\"dataframe\">\n",
       "    <thead>\n",
       "        <tr>\n",
       "            <th>Flavor</th> <th>Color</th> <th>Price</th> <th>Star</th> <th>Price Change Fraction</th> <th>New Price</th>\n",
       "        </tr>\n",
       "    </thead>\n",
       "    <tbody>\n",
       "        <tr>\n",
       "            <td>bubblegum </td> <td>pink       </td> <td>4.75 </td> <td>4.2 </td> <td>1.03                 </td> <td>4.8925   </td>\n",
       "        </tr>\n",
       "        <tr>\n",
       "            <td>chocolate </td> <td>light brown</td> <td>4.75 </td> <td>3.5 </td> <td>1.05                 </td> <td>4.9875   </td>\n",
       "        </tr>\n",
       "        <tr>\n",
       "            <td>chocolate </td> <td>dark brown </td> <td>5.25 </td> <td>3.5 </td> <td>1.05                 </td> <td>5.5125   </td>\n",
       "        </tr>\n",
       "        <tr>\n",
       "            <td>chocolate </td> <td>dark brown </td> <td>5.25 </td> <td>3.5 </td> <td>1.05                 </td> <td>5.5125   </td>\n",
       "        </tr>\n",
       "        <tr>\n",
       "            <td>strawberry</td> <td>pink       </td> <td>3.55 </td> <td>2.5 </td> <td>0.95                 </td> <td>3.3725   </td>\n",
       "        </tr>\n",
       "        <tr>\n",
       "            <td>strawberry</td> <td>pink       </td> <td>5.25 </td> <td>2.5 </td> <td>0.95                 </td> <td>4.9875   </td>\n",
       "        </tr>\n",
       "    </tbody>\n",
       "</table>"
      ],
      "text/plain": [
       "Flavor     | Color       | Price | Star | Price Change Fraction | New Price\n",
       "bubblegum  | pink        | 4.75  | 4.2  | 1.03                  | 4.8925\n",
       "chocolate  | light brown | 4.75  | 3.5  | 1.05                  | 4.9875\n",
       "chocolate  | dark brown  | 5.25  | 3.5  | 1.05                  | 5.5125\n",
       "chocolate  | dark brown  | 5.25  | 3.5  | 1.05                  | 5.5125\n",
       "strawberry | pink        | 3.55  | 2.5  | 0.95                  | 3.3725\n",
       "strawberry | pink        | 5.25  | 2.5  | 0.95                  | 4.9875"
      ]
     },
     "execution_count": 46,
     "metadata": {},
     "output_type": "execute_result"
    }
   ],
   "source": [
    "# append the updated_prices array to new_cones_tbl view\n",
    "\n",
    "new_cones_tbl.with_columns(\"New Price\", updated_prices)"
   ]
  },
  {
   "cell_type": "code",
   "execution_count": null,
   "id": "a5bc1d14",
   "metadata": {},
   "outputs": [],
   "source": []
  },
  {
   "cell_type": "code",
   "execution_count": null,
   "id": "3330a907",
   "metadata": {},
   "outputs": [],
   "source": []
  }
 ],
 "metadata": {
  "kernelspec": {
   "display_name": "Python 3 (ipykernel)",
   "language": "python",
   "name": "python3"
  },
  "language_info": {
   "codemirror_mode": {
    "name": "ipython",
    "version": 3
   },
   "file_extension": ".py",
   "mimetype": "text/x-python",
   "name": "python",
   "nbconvert_exporter": "python",
   "pygments_lexer": "ipython3",
   "version": "3.11.5"
  }
 },
 "nbformat": 4,
 "nbformat_minor": 5
}
