{
 "cells": [
  {
   "cell_type": "markdown",
   "id": "46712aa3",
   "metadata": {},
   "source": [
    "## Lecture Notes - Join Tables by Columns ##\n",
    "\n",
    "**Helpful Resource:**\n",
    "- [Python Reference](http://data8.org/sp22/python-reference.html): Cheat sheet of helpful array & table methods used in Data 8!\n",
    "\n",
    "**Recommended Readings:**\n",
    "- [Joining Tables by Columns](https://inferentialthinking.com/chapters/08/4/Joining_Tables_by_Columns.html)\n"
   ]
  },
  {
   "cell_type": "code",
   "execution_count": null,
   "id": "33e6a0f1",
   "metadata": {},
   "outputs": [],
   "source": [
    "# import modules to be used in this notebook\n",
    "\n",
    "from datascience import *\n",
    "import numpy as np\n",
    "\n",
    "%matplotlib inline\n",
    "import matplotlib.pyplot as plots\n",
    "plots.style.use('fivethirtyeight')\n",
    "import warnings\n",
    "warnings.simplefilter(action='ignore',category=np.VisibleDeprecationWarning)"
   ]
  },
  {
   "cell_type": "code",
   "execution_count": null,
   "id": "d8d91d59",
   "metadata": {},
   "outputs": [],
   "source": [
    "my_cones = Table().read_table(\"cones.csv\")\n",
    "my_cones"
   ]
  },
  {
   "cell_type": "code",
   "execution_count": null,
   "id": "1e346cc6",
   "metadata": {},
   "outputs": [],
   "source": [
    "# Create a ratings table with columns of Category, Star and Price Change Fraction \n",
    "#   based on the values in Price Change Fraction column\n",
    "#   some prices will be increased and some will be reduced  \n",
    "\n",
    "categories = make_array(\"strawberry\", \"chocolate\", \"bubblegum\")\n",
    "stars = make_array(2.5, 3.5, 4.2)\n",
    "price_changes = make_array(0.95, 1.05, 1.03)\n",
    "\n",
    "ratings = Table().with_columns(\n",
    "        \"Category\", categories,\n",
    "        \"Star\", stars,\n",
    "        \"Price Change Fraction\", price_changes\n",
    ")\n",
    "\n",
    "ratings"
   ]
  },
  {
   "cell_type": "code",
   "execution_count": null,
   "id": "86312a17",
   "metadata": {},
   "outputs": [],
   "source": [
    "# combine the cones and ratings table togather using tbl.join and\n",
    "#   assign the combined table view to variable new_cones_tbl\n",
    "\n",
    "new_cones_tbl = my_cones.join(\"Flavor\", ratings, \"Category\")\n",
    "new_cones_tbl"
   ]
  },
  {
   "cell_type": "code",
   "execution_count": null,
   "id": "59cb4c4e",
   "metadata": {},
   "outputs": [],
   "source": [
    "# create a function to compute the new prices for each flavor\n",
    "\n",
    "def new_price(price, fraction):\n",
    "    return price * fraction\n",
    "\n",
    "# call the function to return an array of new prices and\n",
    "#  assign the array to the variable updated_prices\n",
    "\n",
    "updated_prices = new_price(new_cones_tbl.column(\"Price\"), new_cones_tbl.column(\"Price Change Fraction\"))"
   ]
  },
  {
   "cell_type": "code",
   "execution_count": null,
   "id": "089364d1",
   "metadata": {},
   "outputs": [],
   "source": [
    "# append the updated_prices array to new_cones_tbl view\n",
    "\n",
    "cones_with_new_price = new_cones_tbl.with_columns(\"New Price\", updated_prices)\n",
    "cones_with_new_price"
   ]
  },
  {
   "cell_type": "code",
   "execution_count": null,
   "id": "a5bc1d14",
   "metadata": {},
   "outputs": [],
   "source": [
    "# move the \"Price\" column next the \"New Price\" column\n",
    "# step 1: append a new column \"Old Price\" with the data in \"Price\" column\n",
    "#         to the table\n",
    "# step 2: drop the \"Price\" column\n",
    "\n",
    "# step 1 here\n",
    "arranged_col = cones_with_new_price.with_columns(\"Old Price\", new_cones_tbl.column(\"Price\"))\n",
    "\n",
    "# step 2 here\n",
    "arranged_col.drop(\"Price\")"
   ]
  },
  {
   "cell_type": "code",
   "execution_count": null,
   "id": "3330a907",
   "metadata": {},
   "outputs": [],
   "source": []
  },
  {
   "cell_type": "code",
   "execution_count": null,
   "id": "d524528f",
   "metadata": {},
   "outputs": [],
   "source": []
  }
 ],
 "metadata": {
  "kernelspec": {
   "display_name": "Python 3 (ipykernel)",
   "language": "python",
   "name": "python3"
  },
  "language_info": {
   "codemirror_mode": {
    "name": "ipython",
    "version": 3
   },
   "file_extension": ".py",
   "mimetype": "text/x-python",
   "name": "python",
   "nbconvert_exporter": "python",
   "pygments_lexer": "ipython3",
   "version": "3.11.5"
  }
 },
 "nbformat": 4,
 "nbformat_minor": 5
}
