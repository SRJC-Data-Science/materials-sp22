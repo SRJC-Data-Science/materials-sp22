{
 "cells": [
  {
   "cell_type": "markdown",
   "id": "df673c8c",
   "metadata": {},
   "source": [
    "# Lecture 20-21: Hypothesis Testing, Part 2\n",
    "\n",
    "\n",
    "This notebook reviews the elements of hypothesis testing process. \n",
    "\n",
    "**Helpful Resource:**\n",
    "- [Python Reference](http://data8.org/sp22/python-reference.html): Cheat sheet of helpful array & table methods used in Data 8!\n",
    "\n",
    "**Recommended Readings**: \n",
    "- [Testing Hypotheses](https://inferentialthinking.com/chapters/11/Testing_Hypotheses.html)\n",
    "- [p-Value](https://inferentialthinking.com/chapters/11/3/Decisions_and_Uncertainty.html)\n",
    "- [A/B Testing](https://inferentialthinking.com/chapters/12/1/AB_Testing.html)"
   ]
  },
  {
   "cell_type": "code",
   "execution_count": 8,
   "id": "8413092a",
   "metadata": {},
   "outputs": [],
   "source": [
    "from datascience import *\n",
    "import numpy as np\n",
    "\n",
    "%matplotlib inline\n",
    "import matplotlib.pyplot as plots\n",
    "plots.style.use('fivethirtyeight')"
   ]
  },
  {
   "cell_type": "markdown",
   "id": "3c03c160",
   "metadata": {},
   "source": [
    "### Null and Alternative Hypotheses\n",
    "\n",
    "All statistical tests attempt to choose between two views of the world. Specifically, the choice is between two views about how the data were generated. These two views are called hypotheses.\n",
    "\n",
    "The `null hypothesis` says that the data were generated at random under clearly specified assumptions about the randomness. From a practical perspective, the null hypothesis is a hypothesis under which you can simulate data. The `alternative hypothesis` says that some reason other than chance made the data differ from the predictions of the model in the null hypothesis.\n",
    "\n",
    "Identify the Null and Alternative hypotheses, as well as the test statistic in the following scenarios. "
   ]
  },
  {
   "cell_type": "markdown",
   "id": "87c145b7",
   "metadata": {},
   "source": [
    "a) A study was conducted to see if a new Covid-19 vaccine reduces the risk of contracting the virus. Assume the risk of contracting Covid-19 without vaccine was 20% in the target population. "
   ]
  },
  {
   "cell_type": "code",
   "execution_count": null,
   "id": "075d8053",
   "metadata": {},
   "outputs": [],
   "source": [
    "\n",
    "\n"
   ]
  },
  {
   "cell_type": "markdown",
   "id": "b70845ef",
   "metadata": {},
   "source": [
    "b) During the 2010 World Cup tournament, Paul the Octopus (in a German aquarium) became famous for correctly predicting the winner in all 8 games it was asked to predict.  (Two containers of food were lowered into Paul’s tank, each with a flag of the opposing teams.  He made a selection by choosing which container to eat from. Is this evidence that Paul has psychic powers and can choose correctly more than half the time?"
   ]
  },
  {
   "cell_type": "code",
   "execution_count": 6,
   "id": "d2d43fdc",
   "metadata": {},
   "outputs": [
    {
     "data": {
      "image/jpeg": "[encoded data removed]",
      "text/html": [
       "\n",
       "        <iframe\n",
       "            width=\"400\"\n",
       "            height=\"300\"\n",
       "            src=\"https://www.youtube.com/embed/pc0FLC8H7D8\"\n",
       "            frameborder=\"0\"\n",
       "            allowfullscreen\n",
       "            \n",
       "        ></iframe>\n",
       "        "
      ],
      "text/plain": [
       "<IPython.lib.display.YouTubeVideo at 0x2d0de10ed80>"
      ]
     },
     "execution_count": 6,
     "metadata": {},
     "output_type": "execute_result"
    }
   ],
   "source": [
    "from IPython.display import YouTubeVideo\n",
    "YouTubeVideo(\"pc0FLC8H7D8\")"
   ]
  },
  {
   "cell_type": "code",
   "execution_count": null,
   "id": "cb7f84a6",
   "metadata": {},
   "outputs": [],
   "source": [
    "\n",
    "\n",
    "\n"
   ]
  },
  {
   "cell_type": "markdown",
   "id": "0904c5b7",
   "metadata": {},
   "source": [
    "c) In an experiment, students were given words to memorize, then were randomly assigned to either take a 90 minute nap or take a caffeine pill.  A couple hours later, they were tested on their recall ability.  We wish to test to see if the sample provides evidence that there is a difference in mean number of words people can recall depending on whether they take a nap or have some caffeine.  \n",
    "\n"
   ]
  },
  {
   "cell_type": "code",
   "execution_count": null,
   "id": "331e684b",
   "metadata": {},
   "outputs": [],
   "source": [
    "\n",
    "\n"
   ]
  },
  {
   "cell_type": "markdown",
   "id": "45e034c4",
   "metadata": {},
   "source": [
    "d) At a small college, the percent of students who major in STEM, business and behavioal sciences were 12%, 40% and 48%, respectively. A student delegate is made of 2 STEM students, 10 business majors and 25 behavioral science majors. Does the student delegate representative of the student population at the college? "
   ]
  },
  {
   "cell_type": "markdown",
   "id": "f2e7a3d5",
   "metadata": {},
   "source": []
  },
  {
   "cell_type": "markdown",
   "id": "fabf5e43",
   "metadata": {},
   "source": [
    "### Errors in Decisions\n",
    "\n",
    "For the scenario (a) in the problem above, discuss what wrong conclusions (decisions error) are possible. You may refer to Section 11.4 of the textbook: [Error Probabilities](https://inferentialthinking.com/chapters/11/4/Error_Probabilities.html) for a review. This [web applet](https://www.geogebra.org/m/ce66mcqb) illustrates the two types of errors that occur in vaccine trials. \n"
   ]
  },
  {
   "cell_type": "code",
   "execution_count": 1,
   "id": "81f73c8b",
   "metadata": {},
   "outputs": [
    {
     "data": {
      "text/html": [
       "<table border=\"1\" class=\"dataframe\">\n",
       "    <thead>\n",
       "        <tr>\n",
       "            <th>Unnamed: 0</th> <th>Test Favors the Null</th> <th>Test Favors the Alternative</th>\n",
       "        </tr>\n",
       "    </thead>\n",
       "    <tbody>\n",
       "        <tr>\n",
       "            <td>Null is True       </td> <td>Correct result      </td> <td>Error                      </td>\n",
       "        </tr>\n",
       "        <tr>\n",
       "            <td>Alternative is True</td> <td>Error               </td> <td>Correct result             </td>\n",
       "        </tr>\n",
       "    </tbody>\n",
       "</table>"
      ],
      "text/plain": [
       "Unnamed: 0          | Test Favors the Null | Test Favors the Alternative\n",
       "Null is True        | Correct result       | Error\n",
       "Alternative is True | Error                | Correct result"
      ]
     },
     "execution_count": 1,
     "metadata": {},
     "output_type": "execute_result"
    }
   ],
   "source": [
    "from datascience import *\n",
    "Table.read_table('decision_errors.csv')"
   ]
  },
  {
   "cell_type": "code",
   "execution_count": null,
   "id": "01f6e075",
   "metadata": {},
   "outputs": [
    {
     "data": {
      "text/plain": [
       "645.8"
      ]
     },
     "execution_count": 5,
     "metadata": {},
     "output_type": "execute_result"
    }
   ],
   "source": []
  },
  {
   "cell_type": "markdown",
   "id": "4ceed32d",
   "metadata": {},
   "source": [
    "### Finding P-value from Sampling Distributions\n",
    "\n",
    "In the experiment (c) mentioned above, the test statistic was set to be the difference in the mean number of words recalled by people who take a nap ($\\bar{x}_1$) and the ones by those who took a caffeine pill ($\\bar{x}_2$). Similar to the example used in the A/B testing lecture, here the null hypothesis assumes that the two groups have the same population mean. \n",
    "\n",
    "<img src=\"two_means_diff_1000samples.GIF\" alt=\"drawing\" width=\"600\"/>\n"
   ]
  },
  {
   "cell_type": "markdown",
   "id": "366335c5",
   "metadata": {},
   "source": [
    "What is the P-value if the observed difference in the original sample is 3.5 words? "
   ]
  },
  {
   "cell_type": "code",
   "execution_count": null,
   "id": "14422597",
   "metadata": {},
   "outputs": [],
   "source": [
    "\n",
    "\n"
   ]
  },
  {
   "cell_type": "markdown",
   "id": "8cdb1fc1",
   "metadata": {},
   "source": [
    "What is the P-value if the observed difference in the original sample is 3.0 words? "
   ]
  },
  {
   "cell_type": "code",
   "execution_count": null,
   "id": "6570b96d",
   "metadata": {},
   "outputs": [],
   "source": [
    "\n",
    "\n"
   ]
  },
  {
   "cell_type": "markdown",
   "id": "adcc3c64",
   "metadata": {},
   "source": [
    "The following sampling distribution shows the empirical distribution of Total Variation Distance generated from the null hypothesis from experiment (d) above. What is the p-value if the student delegate is made of 2 STEM students, 10 business majors and 25 behavioral science majors? "
   ]
  },
  {
   "cell_type": "code",
   "execution_count": null,
   "id": "66710c38",
   "metadata": {},
   "outputs": [],
   "source": [
    "data = make_array(2, 10, 25)\n",
    "size = np.sum(data)\n",
    "\n",
    "def tvd(dist1, dist2):\n",
    "    return sum(abs(dist1 - dist2))/2\n",
    "\n",
    "null_model = make_array(0.12, 0.4, 0.48)\n",
    "\n",
    "results = make_array()\n",
    "for i in np.arange(10000):\n",
    "    test_stat = tvd(sample_proportions(size, null_model), null_model)\n",
    "    results = np.append(results, test_stat)\n",
    "Table().with_column('TVD', results).hist()\n"
   ]
  },
  {
   "cell_type": "markdown",
   "id": "54b97954",
   "metadata": {},
   "source": [
    "### Shuffling Labels for Categorical Data: Comparing Two Proportions\n",
    "\n",
    "The following data records an experiment on whether Lithium was effective in preventing cocaine users from relapsing. In the column labeled \"Result\", 1 represents relapse (returning to cocaine use), and 0 presents no relapse. \n",
    "\n",
    "Calculate the total number of patients who experience relapse and no relapse in both the Lithium and Placebo groups by using ```table.pivot```\n"
   ]
  },
  {
   "cell_type": "code",
   "execution_count": 32,
   "id": "5f2cecdd",
   "metadata": {},
   "outputs": [
    {
     "data": {
      "text/html": [
       "<table border=\"1\" class=\"dataframe\">\n",
       "    <thead>\n",
       "        <tr>\n",
       "            <th>Group</th> <th>0</th> <th>1</th>\n",
       "        </tr>\n",
       "    </thead>\n",
       "    <tbody>\n",
       "        <tr>\n",
       "            <td>Lithium</td> <td>10  </td> <td>14  </td>\n",
       "        </tr>\n",
       "        <tr>\n",
       "            <td>Placebo</td> <td>7   </td> <td>20  </td>\n",
       "        </tr>\n",
       "    </tbody>\n",
       "</table>"
      ],
      "text/plain": [
       "Group   | 0    | 1\n",
       "Lithium | 10   | 14\n",
       "Placebo | 7    | 20"
      ]
     },
     "execution_count": 32,
     "metadata": {},
     "output_type": "execute_result"
    }
   ],
   "source": [
    "coke = Table().read_table('cocaine_lithium.csv')\n",
    "coke.pivot('Result', 'Group')"
   ]
  },
  {
   "cell_type": "markdown",
   "id": "b20be0fc",
   "metadata": {},
   "source": [
    "In the lecture, the following `distance` function was used to calculate the absolute value of the difference in proportions of relapses between the two groups. Based on values shown in the pivot table shown above, can you write an arithmetic expression that generates the same output as the `distance` function? "
   ]
  },
  {
   "cell_type": "code",
   "execution_count": null,
   "id": "16f0f091",
   "metadata": {},
   "outputs": [],
   "source": [
    "def distance(table, group_label):\n",
    "    reduced = table.select('Result', group_label)\n",
    "    proportions = reduced.group(group_label, np.average).column(1)\n",
    "    print(proportions)\n",
    "    return abs(proportions.item(1) - proportions.item(0))\n",
    "\n",
    "distance(coke, 'Group')"
   ]
  },
  {
   "cell_type": "code",
   "execution_count": null,
   "id": "9833f5b8",
   "metadata": {},
   "outputs": [],
   "source": [
    "# your expression that uses the values in the pivot table to generate the same number as above\n",
    "\n",
    "\n"
   ]
  },
  {
   "cell_type": "markdown",
   "id": "ca59fe04",
   "metadata": {},
   "source": [
    "Why does the use of ```np.average``` result in the proportions of relapses among the subjects? "
   ]
  },
  {
   "cell_type": "markdown",
   "id": "1e2aeb0e",
   "metadata": {},
   "source": []
  },
  {
   "cell_type": "markdown",
   "id": "d68b749e",
   "metadata": {},
   "source": [
    "The code below uses a similar technique as in Lecture 20: Causality to determine to shuffle the labels under \"Group\" to produce another sample under the null hypothesis (Lithium and Placebo has the same rate of relapse). Run the code a few times and describe what happens after each shuffle. "
   ]
  },
  {
   "cell_type": "code",
   "execution_count": null,
   "id": "c90b6018",
   "metadata": {},
   "outputs": [],
   "source": [
    "def one_shuffle(table):\n",
    "    shuffled_labels = table.sample(with_replacement = False).column('Group')\n",
    "    shuffled_table = table.select('Group', 'Result').with_column(\n",
    "        'Shuffled', shuffled_labels)\n",
    "    return shuffled_table\n",
    "\n",
    "coke_shuffled = one_shuffle(coke)\n",
    "coke_shuffled.pivot('Result','Shuffled')"
   ]
  },
  {
   "cell_type": "code",
   "execution_count": null,
   "id": "f5d093b9",
   "metadata": {},
   "outputs": [],
   "source": [
    "\n",
    "\n",
    "\n",
    "\n"
   ]
  },
  {
   "cell_type": "markdown",
   "id": "083c7872",
   "metadata": {},
   "source": [
    "Now run the `distance` function again on the shuffled list, and verify that your expression above again produces the same output. "
   ]
  },
  {
   "cell_type": "code",
   "execution_count": null,
   "id": "116226fb",
   "metadata": {},
   "outputs": [],
   "source": [
    "def distance(table, group_label):\n",
    "    reduced = table.select('Result', group_label)\n",
    "    proportions = reduced.group(group_label, np.average).column(1)\n",
    "    return abs(proportions.item(1) - proportions.item(0))\n",
    "\n",
    "distance(coke_shuffled, 'Shuffled')"
   ]
  },
  {
   "cell_type": "code",
   "execution_count": 2,
   "id": "38f458bb",
   "metadata": {},
   "outputs": [],
   "source": [
    "# test your expression here to see if it results in the same value \n"
   ]
  },
  {
   "cell_type": "markdown",
   "id": "4493ce92",
   "metadata": {},
   "source": [
    "Here we will proceed to simulate 1000 values of the test statistic based on the `distance` function defined above. "
   ]
  },
  {
   "cell_type": "code",
   "execution_count": null,
   "id": "ade35cb1",
   "metadata": {},
   "outputs": [],
   "source": [
    "stats = make_array()\n",
    "\n",
    "for i in np.arange(1000):\n",
    "    stats = np.append(stats, distance(one_shuffle(coke), 'Shuffled'))\n",
    "\n",
    "Table().with_column('Test statistic', stats).hist()"
   ]
  },
  {
   "cell_type": "markdown",
   "id": "a20d89ce",
   "metadata": {},
   "source": [
    "Idenfify on the graph which areas correspond to the p-value. Then write a single line of code the evaluates this p-value. "
   ]
  },
  {
   "cell_type": "code",
   "execution_count": null,
   "id": "66e1003e",
   "metadata": {},
   "outputs": [],
   "source": []
  },
  {
   "cell_type": "markdown",
   "id": "10ff63b5",
   "metadata": {},
   "source": [
    "What should be the conclusion of this test? If you were a doctor, would you recommend the Lithium treatment to your patients? "
   ]
  },
  {
   "cell_type": "code",
   "execution_count": null,
   "id": "25fc70ef",
   "metadata": {},
   "outputs": [],
   "source": [
    "\n",
    "\n"
   ]
  },
  {
   "cell_type": "markdown",
   "id": "93816993",
   "metadata": {},
   "source": [
    "### Real World Example #1: Deflategate \n",
    "\n",
    "The Deflategate scandal was a National Football League (NFL) controversy in the United States involving the allegation that New England Patriots quarterback Tom Brady ordered the deliberate deflation of footballs that were used in the Patriots' victory against the Indianapolis Colts during the 2014 AFC Championship Game on January 18, 2015. "
   ]
  },
  {
   "cell_type": "code",
   "execution_count": 14,
   "id": "4791fa9c",
   "metadata": {},
   "outputs": [
    {
     "data": {
      "text/html": [
       "<table border=\"1\" class=\"dataframe\">\n",
       "    <thead>\n",
       "        <tr>\n",
       "            <th>Team</th> <th>Combined</th> <th>Pressure Drop</th>\n",
       "        </tr>\n",
       "    </thead>\n",
       "    <tbody>\n",
       "        <tr>\n",
       "            <td>Patriots</td> <td>11.65   </td> <td>0.85         </td>\n",
       "        </tr>\n",
       "        <tr>\n",
       "            <td>Patriots</td> <td>11.025  </td> <td>1.475        </td>\n",
       "        </tr>\n",
       "        <tr>\n",
       "            <td>Patriots</td> <td>11.325  </td> <td>1.175        </td>\n",
       "        </tr>\n",
       "        <tr>\n",
       "            <td>Patriots</td> <td>10.85   </td> <td>1.65         </td>\n",
       "        </tr>\n",
       "        <tr>\n",
       "            <td>Patriots</td> <td>11.275  </td> <td>1.225        </td>\n",
       "        </tr>\n",
       "        <tr>\n",
       "            <td>Patriots</td> <td>11.775  </td> <td>0.725        </td>\n",
       "        </tr>\n",
       "        <tr>\n",
       "            <td>Patriots</td> <td>12.075  </td> <td>0.425        </td>\n",
       "        </tr>\n",
       "        <tr>\n",
       "            <td>Patriots</td> <td>11.325  </td> <td>1.175        </td>\n",
       "        </tr>\n",
       "        <tr>\n",
       "            <td>Patriots</td> <td>11.15   </td> <td>1.35         </td>\n",
       "        </tr>\n",
       "        <tr>\n",
       "            <td>Patriots</td> <td>10.7    </td> <td>1.8          </td>\n",
       "        </tr>\n",
       "    </tbody>\n",
       "</table>\n",
       "<p>... (5 rows omitted)</p>"
      ],
      "text/plain": [
       "Team     | Combined | Pressure Drop\n",
       "Patriots | 11.65    | 0.85\n",
       "Patriots | 11.025   | 1.475\n",
       "Patriots | 11.325   | 1.175\n",
       "Patriots | 10.85    | 1.65\n",
       "Patriots | 11.275   | 1.225\n",
       "Patriots | 11.775   | 0.725\n",
       "Patriots | 12.075   | 0.425\n",
       "Patriots | 11.325   | 1.175\n",
       "Patriots | 11.15    | 1.35\n",
       "Patriots | 10.7     | 1.8\n",
       "... (5 rows omitted)"
      ]
     },
     "execution_count": 14,
     "metadata": {},
     "output_type": "execute_result"
    }
   ],
   "source": [
    "deflate = Table.read_table('deflate.csv')\n",
    "deflate"
   ]
  },
  {
   "cell_type": "markdown",
   "id": "6939eaf3",
   "metadata": {},
   "source": [
    "The drop in pressure for each football is the difference between the starting pressure and the combined pressure measurement by two referees. It looks as though the Patriots’ drops were larger than the Colts’. Use the same random shuffling strategy as in the A/B test to conduct a hypothesis test for the theory that Patriot's pressure drops were on average larger than the Colts'. "
   ]
  },
  {
   "cell_type": "code",
   "execution_count": null,
   "id": "6411ddd3",
   "metadata": {},
   "outputs": [],
   "source": []
  },
  {
   "cell_type": "markdown",
   "id": "b1c40bd1",
   "metadata": {},
   "source": [
    "### Real World Example #2: Mendel's Peas\n",
    "\n",
    "The way in which traits are passed from one generation to the next-and sometimes skip generations-was first explained by Gregor Mendel. By experimenting with pea plant breeding, Mendel developed three principles of inheritance that described the transmission of genetic traits, before anyone knew genes existed. Mendel's insight greatly expanded the understanding of genetic inheritance, and led to the development of new experimental methods.\n",
    "\n",
    "Part of Mendel's experiment produced the following data after crossing plants with different characteristics: \n",
    "- 315 plants with round, yellow seeds\n",
    "- 108 plants with round, green seeds\n",
    "- 101 plants with wrinkled, yellow seeds\n",
    "- 32 plants with wrinkled, green seeds\n",
    "\n",
    "Mendel's predicted that ratio of Rounded to Wrinkled peas should be 3:1, and the Yellow to Green peas should also be 3:1. Can you conduct a hypothesis test to check whether Mendel's data is consistent with his theory? Use the TVD as a test statistic. \n",
    "\n"
   ]
  },
  {
   "cell_type": "markdown",
   "id": "0700afbb",
   "metadata": {},
   "source": []
  },
  {
   "cell_type": "code",
   "execution_count": null,
   "id": "397d65f4",
   "metadata": {},
   "outputs": [],
   "source": []
  },
  {
   "cell_type": "markdown",
   "id": "1854347d",
   "metadata": {},
   "source": []
  }
 ],
 "metadata": {
  "kernelspec": {
   "display_name": ".venv",
   "language": "python",
   "name": "python3"
  },
  "language_info": {
   "codemirror_mode": {
    "name": "ipython",
    "version": 3
   },
   "file_extension": ".py",
   "mimetype": "text/x-python",
   "name": "python",
   "nbconvert_exporter": "python",
   "pygments_lexer": "ipython3",
   "version": "3.12.3"
  }
 },
 "nbformat": 4,
 "nbformat_minor": 5
}
