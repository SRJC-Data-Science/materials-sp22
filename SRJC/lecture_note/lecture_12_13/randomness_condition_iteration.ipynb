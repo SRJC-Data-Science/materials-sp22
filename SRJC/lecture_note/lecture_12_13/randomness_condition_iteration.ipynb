{
 "cells": [
  {
   "cell_type": "markdown",
   "id": "46712aa3",
   "metadata": {},
   "source": [
    "## Lecture Notes - Randomness, Conditional Statements & Iteration ##\n",
    "\n",
    "**Helpful Resource:**\n",
    "- [Python Reference](http://data8.org/sp22/python-reference.html): Cheat sheet of helpful array & table methods used in Data 8!\n",
    "\n",
    "**Recommended Readings:**\n",
    "- [Randomness](https://inferentialthinking.com/chapters/09/Randomness.html)\n",
    "- [Conditional Statements](https://inferentialthinking.com/chapters/09/1/Conditional_Statements.html)\n",
    "- [Iteration](https://inferentialthinking.com/chapters/09/2/Iteration.html)\n"
   ]
  },
  {
   "cell_type": "code",
   "execution_count": 85,
   "id": "33e6a0f1",
   "metadata": {},
   "outputs": [],
   "source": [
    "# import modules to be used in this notebook\n",
    "\n",
    "from datascience import *\n",
    "import numpy as np\n",
    "\n",
    "%matplotlib inline\n",
    "import matplotlib.pyplot as plots\n",
    "plots.style.use('fivethirtyeight')\n",
    "import warnings\n",
    "warnings.simplefilter(action='ignore',category=np.VisibleDeprecationWarning)"
   ]
  },
  {
   "cell_type": "markdown",
   "id": "f447bb8b",
   "metadata": {},
   "source": [
    "### Randomness ###\n",
    "\n",
    "Randomness means not intentionally to choose a particular items from a pool of things. Cherry pick is the opposite to randomness.\n",
    "\n",
    "Randomness is an important concept in data science and many research settings.\n",
    "\n",
    "#### `np.random.choice()` is a numpy function to simulate randomness settings ####\n",
    "\n",
    "To use numpy functions, we need to import numpy module. `np.random.choice()` takes an array argument and simulate a random effect among the elements in the array."
   ]
  },
  {
   "cell_type": "code",
   "execution_count": 86,
   "id": "d8d91d59",
   "metadata": {},
   "outputs": [
    {
     "data": {
      "text/plain": [
       "'sunday'"
      ]
     },
     "execution_count": 86,
     "metadata": {},
     "output_type": "execute_result"
    }
   ],
   "source": [
    "import numpy as np\n",
    "\n",
    "# create an array\n",
    "weekday = make_array(\"monday\", \"tuesday\", \"wednesday\", \"thursday\", \"friday\", \"saturday\", \"sunday\")\n",
    "\n",
    "# randomly pick a week day in the week array\n",
    "# np.random.choice(week) will produce different output each time it's executed\n",
    "#    and each element in the array has equal chance to be selected\n",
    "#    e.g. each weekday in the week array will have 1/7 of chance to be selected\n",
    "np.random.choice(weekday)\n"
   ]
  },
  {
   "cell_type": "code",
   "execution_count": 87,
   "id": "c73d01b5",
   "metadata": {
    "scrolled": false
   },
   "outputs": [
    {
     "data": {
      "text/plain": [
       "array(['saturday', 'sunday', 'friday', 'thursday', 'saturday'],\n",
       "      dtype='<U9')"
      ]
     },
     "execution_count": 87,
     "metadata": {},
     "output_type": "execute_result"
    }
   ],
   "source": [
    "# repeat the selection process 5 times\n",
    "np.random.choice(weekday, 5)"
   ]
  },
  {
   "cell_type": "code",
   "execution_count": 88,
   "id": "49256634",
   "metadata": {},
   "outputs": [
    {
     "data": {
      "text/plain": [
       "array(['wednesday', 'tuesday', 'friday', 'saturday', 'monday'],\n",
       "      dtype='<U9')"
      ]
     },
     "execution_count": 88,
     "metadata": {},
     "output_type": "execute_result"
    }
   ],
   "source": [
    "# repeat the selection process 5 times again\n",
    "#   the result will be different from last 5 times\n",
    "np.random.choice(weekday, 5)"
   ]
  },
  {
   "cell_type": "code",
   "execution_count": 178,
   "id": "10f0d5bc",
   "metadata": {},
   "outputs": [
    {
     "data": {
      "text/plain": [
       "2"
      ]
     },
     "execution_count": 178,
     "metadata": {},
     "output_type": "execute_result"
    }
   ],
   "source": [
    "# example of randomness simulation - roll a dice\n",
    "\n",
    "# create an array with 6 faces\n",
    "dice = np.arange(1, 7)\n",
    "\n",
    "# simulate the random selection\n",
    "np.random.choice(dice)"
   ]
  },
  {
   "cell_type": "markdown",
   "id": "f5b318a0",
   "metadata": {},
   "source": [
    "### Comparsion & Logical Operators ###"
   ]
  },
  {
   "cell_type": "markdown",
   "id": "66cb29ed",
   "metadata": {},
   "source": [
    "<img src=\"logical-operators.png\" style=\"width: 500px\" />"
   ]
  },
  {
   "cell_type": "markdown",
   "id": "e197e800",
   "metadata": {},
   "source": [
    "### Compare Constant Values ###"
   ]
  },
  {
   "cell_type": "code",
   "execution_count": 132,
   "id": "48e05eaf",
   "metadata": {},
   "outputs": [
    {
     "data": {
      "text/plain": [
       "True"
      ]
     },
     "execution_count": 132,
     "metadata": {},
     "output_type": "execute_result"
    }
   ],
   "source": [
    "7 == 3.0"
   ]
  },
  {
   "cell_type": "code",
   "execution_count": 164,
   "id": "a8da723c",
   "metadata": {
    "scrolled": false
   },
   "outputs": [
    {
     "ename": "SyntaxError",
     "evalue": "cannot assign to literal here. Maybe you meant '==' instead of '='? (1399794410.py, line 3)",
     "output_type": "error",
     "traceback": [
      "\u001b[0;36m  Cell \u001b[0;32mIn[164], line 3\u001b[0;36m\u001b[0m\n\u001b[0;31m    7 = 7.0\u001b[0m\n\u001b[0m    ^\u001b[0m\n\u001b[0;31mSyntaxError\u001b[0m\u001b[0;31m:\u001b[0m cannot assign to literal here. Maybe you meant '==' instead of '='?\n"
     ]
    }
   ],
   "source": [
    "# Error: SyntaxError: cannot assign to literal here. Maybe you meant '==' instead of '='?\n",
    "\n",
    "7 = 7.0"
   ]
  },
  {
   "cell_type": "code",
   "execution_count": 135,
   "id": "3fbff7a4",
   "metadata": {
    "scrolled": true
   },
   "outputs": [
    {
     "data": {
      "text/plain": [
       "False"
      ]
     },
     "execution_count": 135,
     "metadata": {},
     "output_type": "execute_result"
    }
   ],
   "source": [
    "a = 2\n",
    "b = 7\n",
    "\n",
    "a >= 7"
   ]
  },
  {
   "cell_type": "code",
   "execution_count": 136,
   "id": "d5e35820",
   "metadata": {},
   "outputs": [
    {
     "data": {
      "text/plain": [
       "True"
      ]
     },
     "execution_count": 136,
     "metadata": {},
     "output_type": "execute_result"
    }
   ],
   "source": [
    "6 > a < b"
   ]
  },
  {
   "cell_type": "code",
   "execution_count": 137,
   "id": "cf374171",
   "metadata": {},
   "outputs": [
    {
     "data": {
      "text/plain": [
       "True"
      ]
     },
     "execution_count": 137,
     "metadata": {},
     "output_type": "execute_result"
    }
   ],
   "source": [
    "6 > a and a < b"
   ]
  },
  {
   "cell_type": "code",
   "execution_count": 140,
   "id": "eeff4fe9",
   "metadata": {},
   "outputs": [
    {
     "data": {
      "text/plain": [
       "False"
      ]
     },
     "execution_count": 140,
     "metadata": {},
     "output_type": "execute_result"
    }
   ],
   "source": [
    "9 < a * b < b - a"
   ]
  },
  {
   "cell_type": "code",
   "execution_count": 145,
   "id": "2618b73c",
   "metadata": {},
   "outputs": [
    {
     "data": {
      "text/plain": [
       "True"
      ]
     },
     "execution_count": 145,
     "metadata": {},
     "output_type": "execute_result"
    }
   ],
   "source": [
    "# using logical operator == to check the random selection result\n",
    "\n",
    "# create an array\n",
    "weekday = make_array(\"monday\", \"tuesday\", \"wednesday\", \"thursday\", \"friday\", \"saturday\", \"sunday\")\n",
    "\n",
    "np.random.choice(weekday) == \"saturday\""
   ]
  },
  {
   "cell_type": "code",
   "execution_count": 146,
   "id": "e559c877",
   "metadata": {},
   "outputs": [
    {
     "data": {
      "text/plain": [
       "('friday', False)"
      ]
     },
     "execution_count": 146,
     "metadata": {},
     "output_type": "execute_result"
    }
   ],
   "source": [
    "day = np.random.choice(weekday)\n",
    "day, day == \"saturday\""
   ]
  },
  {
   "cell_type": "code",
   "execution_count": 93,
   "id": "1b5f760f",
   "metadata": {},
   "outputs": [
    {
     "data": {
      "text/plain": [
       "True"
      ]
     },
     "execution_count": 93,
     "metadata": {},
     "output_type": "execute_result"
    }
   ],
   "source": [
    "# using logical operator > to check the random selection result\n",
    "np.random.choice(weekday) > \"saturday\""
   ]
  },
  {
   "cell_type": "code",
   "execution_count": 96,
   "id": "c7014869",
   "metadata": {},
   "outputs": [
    {
     "data": {
      "text/plain": [
       "('sunday', True)"
      ]
     },
     "execution_count": 96,
     "metadata": {},
     "output_type": "execute_result"
    }
   ],
   "source": [
    "day = np.random.choice(weekday)\n",
    "day, day > \"saturday\""
   ]
  },
  {
   "cell_type": "code",
   "execution_count": 78,
   "id": "56ae2292",
   "metadata": {},
   "outputs": [
    {
     "data": {
      "text/plain": [
       "array([False, False, False, False, False], dtype=bool)"
      ]
     },
     "execution_count": 78,
     "metadata": {},
     "output_type": "execute_result"
    }
   ],
   "source": [
    "months = make_array(\"April\", \"May\", \"June\", \"July\", \"August\")\n",
    "months == \"September\""
   ]
  },
  {
   "cell_type": "code",
   "execution_count": 79,
   "id": "02827042",
   "metadata": {},
   "outputs": [
    {
     "data": {
      "text/plain": [
       "array([False, False,  True, False, False], dtype=bool)"
      ]
     },
     "execution_count": 79,
     "metadata": {},
     "output_type": "execute_result"
    }
   ],
   "source": [
    "months == \"June\""
   ]
  },
  {
   "cell_type": "code",
   "execution_count": 147,
   "id": "ea55396e",
   "metadata": {
    "scrolled": true
   },
   "outputs": [
    {
     "data": {
      "text/plain": [
       "array([ True, False, False,  True, False,  True], dtype=bool)"
      ]
     },
     "execution_count": 147,
     "metadata": {},
     "output_type": "execute_result"
    }
   ],
   "source": [
    "fruits = make_array(\"apple\", \"banana\", \"cranberry\", \"apple\", \"cranberry\", \"apple\")\n",
    "fruits == \"apple\""
   ]
  },
  {
   "cell_type": "code",
   "execution_count": 148,
   "id": "5d1e3ef0",
   "metadata": {
    "scrolled": false
   },
   "outputs": [
    {
     "data": {
      "text/plain": [
       "3"
      ]
     },
     "execution_count": 148,
     "metadata": {},
     "output_type": "execute_result"
    }
   ],
   "source": [
    "sum(fruits == \"apple\")"
   ]
  },
  {
   "cell_type": "code",
   "execution_count": 149,
   "id": "87f75d7d",
   "metadata": {},
   "outputs": [
    {
     "data": {
      "text/plain": [
       "3"
      ]
     },
     "execution_count": 149,
     "metadata": {},
     "output_type": "execute_result"
    }
   ],
   "source": [
    "np.count_nonzero(fruits == \"apple\")"
   ]
  },
  {
   "cell_type": "code",
   "execution_count": 150,
   "id": "e8e79999",
   "metadata": {},
   "outputs": [
    {
     "data": {
      "text/plain": [
       "0"
      ]
     },
     "execution_count": 150,
     "metadata": {},
     "output_type": "execute_result"
    }
   ],
   "source": [
    "np.count_nonzero(fruits == \"orange\")"
   ]
  },
  {
   "cell_type": "code",
   "execution_count": 151,
   "id": "b46f85f0",
   "metadata": {},
   "outputs": [
    {
     "data": {
      "text/plain": [
       "array([False, False, False, False, False, False], dtype=bool)"
      ]
     },
     "execution_count": 151,
     "metadata": {},
     "output_type": "execute_result"
    }
   ],
   "source": [
    "fruits == \"orange\""
   ]
  },
  {
   "cell_type": "markdown",
   "id": "f195ad51",
   "metadata": {},
   "source": [
    "### Conditional Statements ###\n",
    "\n",
    "Conditional statements are constructed with logical operators."
   ]
  },
  {
   "cell_type": "markdown",
   "id": "6c9e2dbe",
   "metadata": {},
   "source": [
    "#### `if` Statement ####"
   ]
  },
  {
   "cell_type": "code",
   "execution_count": 153,
   "id": "26a01e59",
   "metadata": {},
   "outputs": [
    {
     "name": "stdout",
     "output_type": "stream",
     "text": [
      "You can drive\n"
     ]
    }
   ],
   "source": [
    "age = 16\n",
    "if age >= 16:\n",
    "    print(\"You can drive\")"
   ]
  },
  {
   "cell_type": "code",
   "execution_count": 154,
   "id": "730cded7",
   "metadata": {},
   "outputs": [
    {
     "name": "stdout",
     "output_type": "stream",
     "text": [
      "You can drink\n"
     ]
    }
   ],
   "source": [
    "age = 21\n",
    "if age >= 21:\n",
    "    print(\"You can drink\")"
   ]
  },
  {
   "cell_type": "markdown",
   "id": "05e20808",
   "metadata": {},
   "source": [
    "#### `if-else` Statement ####"
   ]
  },
  {
   "cell_type": "code",
   "execution_count": 157,
   "id": "d6594012",
   "metadata": {},
   "outputs": [
    {
     "name": "stdout",
     "output_type": "stream",
     "text": [
      "You can do nothing yet!\n"
     ]
    }
   ],
   "source": [
    "age = 10\n",
    "if age >= 21:\n",
    "    print(\"You can drive and drink\")\n",
    "elif age >= 16:\n",
    "    print(\"You can drive\")\n",
    "else:\n",
    "    print(\"You can do nothing yet!\")"
   ]
  },
  {
   "cell_type": "code",
   "execution_count": 127,
   "id": "a159ef8a",
   "metadata": {},
   "outputs": [
    {
     "name": "stdout",
     "output_type": "stream",
     "text": [
      "false\n"
     ]
    }
   ],
   "source": [
    "x = 2\n",
    "if x > 8:\n",
    "    print(\"true\")\n",
    "else:\n",
    "    print(\"false\")"
   ]
  },
  {
   "cell_type": "code",
   "execution_count": 159,
   "id": "f04c855f",
   "metadata": {},
   "outputs": [],
   "source": [
    "def colorMatch(color):\n",
    "    if color == \"blue\":\n",
    "        return \"Sky\"\n",
    "    elif color == \"green\":\n",
    "        return \"Apple\"\n",
    "    else:\n",
    "        return color;"
   ]
  },
  {
   "cell_type": "code",
   "execution_count": 161,
   "id": "1addb06e",
   "metadata": {},
   "outputs": [
    {
     "data": {
      "text/plain": [
       "'Apple'"
      ]
     },
     "execution_count": 161,
     "metadata": {},
     "output_type": "execute_result"
    }
   ],
   "source": [
    "colorMatch(\"green\")"
   ]
  },
  {
   "cell_type": "code",
   "execution_count": 162,
   "id": "07acaf7b",
   "metadata": {},
   "outputs": [
    {
     "data": {
      "text/plain": [
       "'yellow'"
      ]
     },
     "execution_count": 162,
     "metadata": {},
     "output_type": "execute_result"
    }
   ],
   "source": [
    "colorMatch(\"yellow\")"
   ]
  },
  {
   "cell_type": "code",
   "execution_count": 113,
   "id": "440738f1",
   "metadata": {
    "scrolled": false
   },
   "outputs": [
    {
     "data": {
      "text/plain": [
       "7"
      ]
     },
     "execution_count": 113,
     "metadata": {},
     "output_type": "execute_result"
    }
   ],
   "source": [
    "colorMatch(7)"
   ]
  },
  {
   "cell_type": "code",
   "execution_count": 124,
   "id": "ab540ae0",
   "metadata": {},
   "outputs": [],
   "source": [
    "def larger(arg1, arg2):\n",
    "    if arg1 == arg2:\n",
    "        return arg1\n",
    "    elif arg1 > arg2:\n",
    "        return arg1\n",
    "    else:\n",
    "        return arg2;"
   ]
  },
  {
   "cell_type": "code",
   "execution_count": 126,
   "id": "bcd85e32",
   "metadata": {},
   "outputs": [
    {
     "data": {
      "text/plain": [
       "8"
      ]
     },
     "execution_count": 126,
     "metadata": {},
     "output_type": "execute_result"
    }
   ],
   "source": [
    "larger(5, 8)"
   ]
  },
  {
   "cell_type": "code",
   "execution_count": 125,
   "id": "5f03fa96",
   "metadata": {
    "scrolled": true
   },
   "outputs": [
    {
     "data": {
      "text/plain": [
       "'red'"
      ]
     },
     "execution_count": 125,
     "metadata": {},
     "output_type": "execute_result"
    }
   ],
   "source": [
    "larger(\"red\", \"blue\")"
   ]
  },
  {
   "cell_type": "code",
   "execution_count": 128,
   "id": "6d145b0a",
   "metadata": {
    "scrolled": true
   },
   "outputs": [
    {
     "data": {
      "text/plain": [
       "8.7"
      ]
     },
     "execution_count": 128,
     "metadata": {},
     "output_type": "execute_result"
    }
   ],
   "source": [
    "larger(4.5, 8.7)"
   ]
  },
  {
   "cell_type": "code",
   "execution_count": 130,
   "id": "282850bf",
   "metadata": {},
   "outputs": [
    {
     "data": {
      "text/plain": [
       "6.8"
      ]
     },
     "execution_count": 130,
     "metadata": {},
     "output_type": "execute_result"
    }
   ],
   "source": [
    "larger(6, 6.8)"
   ]
  },
  {
   "cell_type": "code",
   "execution_count": 163,
   "id": "e6fa9169",
   "metadata": {},
   "outputs": [
    {
     "ename": "TypeError",
     "evalue": "'>' not supported between instances of 'str' and 'int'",
     "output_type": "error",
     "traceback": [
      "\u001b[0;31m---------------------------------------------------------------------------\u001b[0m",
      "\u001b[0;31mTypeError\u001b[0m                                 Traceback (most recent call last)",
      "Cell \u001b[0;32mIn[163], line 3\u001b[0m\n\u001b[1;32m      1\u001b[0m \u001b[38;5;66;03m# Error: TypeError: '>' not supported between instances of 'str' and 'int'\u001b[39;00m\n\u001b[0;32m----> 3\u001b[0m larger(\u001b[38;5;124m\"\u001b[39m\u001b[38;5;124msally\u001b[39m\u001b[38;5;124m\"\u001b[39m, \u001b[38;5;241m10\u001b[39m)\n",
      "Cell \u001b[0;32mIn[124], line 4\u001b[0m, in \u001b[0;36mlarger\u001b[0;34m(arg1, arg2)\u001b[0m\n\u001b[1;32m      2\u001b[0m \u001b[38;5;28;01mif\u001b[39;00m arg1 \u001b[38;5;241m==\u001b[39m arg2:\n\u001b[1;32m      3\u001b[0m     \u001b[38;5;28;01mreturn\u001b[39;00m arg1\n\u001b[0;32m----> 4\u001b[0m \u001b[38;5;28;01melif\u001b[39;00m arg1 \u001b[38;5;241m>\u001b[39m arg2:\n\u001b[1;32m      5\u001b[0m     \u001b[38;5;28;01mreturn\u001b[39;00m arg1\n\u001b[1;32m      6\u001b[0m \u001b[38;5;28;01melse\u001b[39;00m:\n",
      "\u001b[0;31mTypeError\u001b[0m: '>' not supported between instances of 'str' and 'int'"
     ]
    }
   ],
   "source": [
    "# Error: TypeError: '>' not supported between instances of 'str' and 'int'\n",
    "\n",
    "larger(\"sally\", 10)"
   ]
  },
  {
   "cell_type": "markdown",
   "id": "442fff80",
   "metadata": {},
   "source": [
    "### Iteration ###\n",
    "\n",
    "Repeat a process multiple times automatically."
   ]
  },
  {
   "cell_type": "code",
   "execution_count": 167,
   "id": "00f53266",
   "metadata": {},
   "outputs": [],
   "source": [
    "# create an array of fruit names\n",
    "fruits = make_array(\"apple\", \"banana\", \"cranberry\", \"apple\", \"cranberry\", \"apple\")"
   ]
  },
  {
   "cell_type": "code",
   "execution_count": 171,
   "id": "99c25b24",
   "metadata": {},
   "outputs": [
    {
     "name": "stdout",
     "output_type": "stream",
     "text": [
      "apple\n",
      "banana\n",
      "cranberry\n",
      "apple\n",
      "cranberry\n",
      "apple\n"
     ]
    }
   ],
   "source": [
    "# print out each fruit using array.item() function\n",
    "\n",
    "print(fruits.item(0))\n",
    "print(fruits.item(1))\n",
    "print(fruits.item(2))\n",
    "print(fruits.item(3))\n",
    "print(fruits.item(4))\n",
    "print(fruits.item(5))"
   ]
  },
  {
   "cell_type": "code",
   "execution_count": 166,
   "id": "6304dbc1",
   "metadata": {},
   "outputs": [
    {
     "name": "stdout",
     "output_type": "stream",
     "text": [
      "apple\n",
      "banana\n",
      "cranberry\n",
      "apple\n",
      "cranberry\n",
      "apple\n"
     ]
    }
   ],
   "source": [
    "# print out each fruit in a for-loop\n",
    "\n",
    "for my_fruit in fruits:\n",
    "    print(my_fruit)"
   ]
  },
  {
   "cell_type": "code",
   "execution_count": 173,
   "id": "a8ce1c70",
   "metadata": {},
   "outputs": [
    {
     "data": {
      "text/plain": [
       "array([ 0.,  1.,  2.,  3.,  4.,  5.,  6.,  7.,  8.,  9.])"
      ]
     },
     "execution_count": 173,
     "metadata": {},
     "output_type": "execute_result"
    }
   ],
   "source": [
    "# fill up an array in a for-loop\n",
    "\n",
    "my_numbers = make_array()\n",
    "\n",
    "for number in np.arange(10):\n",
    "    my_numbers = np.append(my_numbers, number)\n",
    "    \n",
    "my_numbers"
   ]
  },
  {
   "cell_type": "code",
   "execution_count": 179,
   "id": "e1d83417",
   "metadata": {},
   "outputs": [
    {
     "data": {
      "text/plain": [
       "5"
      ]
     },
     "execution_count": 179,
     "metadata": {},
     "output_type": "execute_result"
    }
   ],
   "source": [
    "# example of randomness simulation - roll a dice\n",
    "\n",
    "# create an array with 6 faces\n",
    "dice = np.arange(1, 7)\n",
    "\n",
    "# simulate the random selection\n",
    "np.random.choice(dice)"
   ]
  },
  {
   "cell_type": "code",
   "execution_count": 185,
   "id": "d95c3a5f",
   "metadata": {
    "scrolled": true
   },
   "outputs": [
    {
     "name": "stdout",
     "output_type": "stream",
     "text": [
      "2\n",
      "1\n",
      "6\n",
      "2\n",
      "6\n",
      "4\n",
      "1\n",
      "2\n",
      "6\n",
      "5\n"
     ]
    }
   ],
   "source": [
    "for time in np.arange(10):\n",
    "    print(np.random.choice(dice))"
   ]
  },
  {
   "cell_type": "code",
   "execution_count": 186,
   "id": "5d9419be",
   "metadata": {},
   "outputs": [
    {
     "data": {
      "text/plain": [
       "array([ 6.,  4.,  6.,  5.,  4.,  3.,  6.,  3.,  5.,  2.])"
      ]
     },
     "execution_count": 186,
     "metadata": {},
     "output_type": "execute_result"
    }
   ],
   "source": [
    "roll_result = make_array()\n",
    "\n",
    "for time in np.arange(10):\n",
    "    roll_result = np.append(roll_result, np.random.choice(dice))\n",
    "    \n",
    "roll_result"
   ]
  },
  {
   "cell_type": "code",
   "execution_count": null,
   "id": "a0168e73",
   "metadata": {},
   "outputs": [],
   "source": []
  },
  {
   "cell_type": "code",
   "execution_count": null,
   "id": "1123e82b",
   "metadata": {},
   "outputs": [],
   "source": []
  }
 ],
 "metadata": {
  "kernelspec": {
   "display_name": "Python 3 (ipykernel)",
   "language": "python",
   "name": "python3"
  },
  "language_info": {
   "codemirror_mode": {
    "name": "ipython",
    "version": 3
   },
   "file_extension": ".py",
   "mimetype": "text/x-python",
   "name": "python",
   "nbconvert_exporter": "python",
   "pygments_lexer": "ipython3",
   "version": "3.11.5"
  }
 },
 "nbformat": 4,
 "nbformat_minor": 5
}
