{
 "cells": [
  {
   "cell_type": "markdown",
   "id": "46712aa3",
   "metadata": {},
   "source": [
    "## Lecture Notes - Randomness, Conditional Statements & Iteration ##\n",
    "\n",
    "**Helpful Resource:**\n",
    "- [Python Reference](http://data8.org/sp22/python-reference.html): Cheat sheet of helpful array & table methods used in Data 8!\n",
    "\n",
    "**Recommended Readings:**\n",
    "- [Randomness](https://inferentialthinking.com/chapters/09/Randomness.html)\n",
    "- [Conditional Statements](https://inferentialthinking.com/chapters/09/1/Conditional_Statements.html)\n",
    "- [Iteration](https://inferentialthinking.com/chapters/09/2/Iteration.html)\n"
   ]
  },
  {
   "cell_type": "code",
   "execution_count": 1,
   "id": "33e6a0f1",
   "metadata": {},
   "outputs": [],
   "source": [
    "# import modules to be used in this notebook\n",
    "\n",
    "from datascience import *\n",
    "import numpy as np\n",
    "\n",
    "%matplotlib inline\n",
    "import matplotlib.pyplot as plots\n",
    "plots.style.use('fivethirtyeight')\n",
    "import warnings\n",
    "warnings.simplefilter(action='ignore',category=np.VisibleDeprecationWarning)"
   ]
  },
  {
   "cell_type": "markdown",
   "id": "584f3220",
   "metadata": {},
   "source": [
    "### Randomness ###\n",
    "\n",
    "Randomness means not intentionally to choose a particular items from a pool of things. Cherry picking is the opposite to randomness.\n",
    "\n",
    "Randomness is an important concept in data science and many research settings.\n",
    "\n",
    "#### `np.random.choice()` is a numpy function to simulate randomness settings ####\n",
    "\n",
    "To use numpy functions, we need to import `numpy` module. `np.random.choice()` takes an array argument and simulate a random effect among the elements in the array."
   ]
  },
  {
   "cell_type": "code",
   "execution_count": 2,
   "id": "d8d91d59",
   "metadata": {},
   "outputs": [
    {
     "data": {
      "text/plain": [
       "'tuesday'"
      ]
     },
     "execution_count": 2,
     "metadata": {},
     "output_type": "execute_result"
    }
   ],
   "source": [
    "import numpy as np\n",
    "\n",
    "# create an array\n",
    "weekday = make_array(\"monday\", \"tuesday\", \"wednesday\", \"thursday\", \"friday\", \"saturday\", \"sunday\")\n",
    "\n",
    "# randomly pick a week day in the week array\n",
    "# np.random.choice(week) will produce different output each time it's executed\n",
    "#    and each element in the array has equal chance to be selected\n",
    "#    e.g. each weekday in the week array will have 1/7 of chance to be selected\n",
    "\n",
    "np.random.choice(weekday)"
   ]
  },
  {
   "cell_type": "code",
   "execution_count": 3,
   "id": "d031bbb4",
   "metadata": {
    "scrolled": false
   },
   "outputs": [
    {
     "data": {
      "text/plain": [
       "array(['wednesday', 'friday', 'monday', 'tuesday', 'monday'],\n",
       "      dtype='<U9')"
      ]
     },
     "execution_count": 3,
     "metadata": {},
     "output_type": "execute_result"
    }
   ],
   "source": [
    "# repeat the selection process 5 times and return the results in an array\n",
    "\n",
    "np.random.choice(weekday, 5)"
   ]
  },
  {
   "cell_type": "code",
   "execution_count": 4,
   "id": "57fa8bec",
   "metadata": {},
   "outputs": [
    {
     "data": {
      "text/plain": [
       "array(['friday', 'monday', 'sunday', 'wednesday', 'tuesday'],\n",
       "      dtype='<U9')"
      ]
     },
     "execution_count": 4,
     "metadata": {},
     "output_type": "execute_result"
    }
   ],
   "source": [
    "# repeat the selection process 5 times again\n",
    "#   the result will be different from last 5 times\n",
    "\n",
    "np.random.choice(weekday, 5)"
   ]
  },
  {
   "cell_type": "code",
   "execution_count": 5,
   "id": "53428d84",
   "metadata": {},
   "outputs": [
    {
     "data": {
      "text/plain": [
       "2"
      ]
     },
     "execution_count": 5,
     "metadata": {},
     "output_type": "execute_result"
    }
   ],
   "source": [
    "# example of randomness simulation - roll a dice\n",
    "\n",
    "# create an array with 6 faces to represent a dice\n",
    "dice = np.arange(1, 7)\n",
    "\n",
    "# simulate the random selection\n",
    "np.random.choice(dice)"
   ]
  },
  {
   "cell_type": "markdown",
   "id": "db96a511",
   "metadata": {},
   "source": [
    "### Comparsion & Logical Operators ###"
   ]
  },
  {
   "cell_type": "markdown",
   "id": "d1b70af4",
   "metadata": {},
   "source": [
    "<img src=\"logical-operators.png\" style=\"width: 500px\" />"
   ]
  },
  {
   "cell_type": "markdown",
   "id": "0c1ec197",
   "metadata": {},
   "source": [
    "### Compare Constant Values ###"
   ]
  },
  {
   "cell_type": "code",
   "execution_count": 6,
   "id": "2ec8a739",
   "metadata": {},
   "outputs": [
    {
     "data": {
      "text/plain": [
       "False"
      ]
     },
     "execution_count": 6,
     "metadata": {},
     "output_type": "execute_result"
    }
   ],
   "source": [
    "7 == 3.0"
   ]
  },
  {
   "cell_type": "code",
   "execution_count": 7,
   "id": "ac2095f7",
   "metadata": {
    "scrolled": false
   },
   "outputs": [
    {
     "ename": "SyntaxError",
     "evalue": "cannot assign to literal here. Maybe you meant '==' instead of '='? (761358458.py, line 5)",
     "output_type": "error",
     "traceback": [
      "\u001b[0;36m  Cell \u001b[0;32mIn[7], line 5\u001b[0;36m\u001b[0m\n\u001b[0;31m    7 = 7.0\u001b[0m\n\u001b[0m    ^\u001b[0m\n\u001b[0;31mSyntaxError\u001b[0m\u001b[0;31m:\u001b[0m cannot assign to literal here. Maybe you meant '==' instead of '='?\n"
     ]
    }
   ],
   "source": [
    "# Error: SyntaxError: \n",
    "#  cannot assign to literal here. Maybe you meant '==' instead of '='?\n",
    "# Also, name/variable cannot be started with a constant number\n",
    "\n",
    "7 = 7.0"
   ]
  },
  {
   "cell_type": "code",
   "execution_count": 8,
   "id": "11ed24e7",
   "metadata": {},
   "outputs": [],
   "source": [
    "# variable name can contain a constant number \n",
    "#   but not in the first character\n",
    "\n",
    "magic_7 = 7.0"
   ]
  },
  {
   "cell_type": "code",
   "execution_count": 9,
   "id": "70cd6ef2",
   "metadata": {
    "scrolled": true
   },
   "outputs": [
    {
     "data": {
      "text/plain": [
       "False"
      ]
     },
     "execution_count": 9,
     "metadata": {},
     "output_type": "execute_result"
    }
   ],
   "source": [
    "a = 2\n",
    "b = 7\n",
    "\n",
    "a >= 7"
   ]
  },
  {
   "cell_type": "code",
   "execution_count": null,
   "id": "1d07fd56",
   "metadata": {},
   "outputs": [],
   "source": [
    "# both `6 > a < b` and `6 > a and a < b` are syntaxically valid in Python\n",
    "\n",
    "6 > a < b"
   ]
  },
  {
   "cell_type": "code",
   "execution_count": null,
   "id": "b4f2e945",
   "metadata": {},
   "outputs": [],
   "source": [
    "# both `6 > a < b` and `6 > a and a < b` are syntaxically valid in Python\n",
    "\n",
    "6 > a and a < b"
   ]
  },
  {
   "cell_type": "code",
   "execution_count": null,
   "id": "ec6ebb0c",
   "metadata": {},
   "outputs": [],
   "source": [
    "# both `9 < a * b < b - a` and `9 < a * b and a * b < b - a` are syntaxically valid in Python\n",
    "\n",
    "9 < a * b < b - a"
   ]
  },
  {
   "cell_type": "code",
   "execution_count": null,
   "id": "6c317439",
   "metadata": {
    "scrolled": true
   },
   "outputs": [],
   "source": [
    "9 < a * b and a * b < b - a"
   ]
  },
  {
   "cell_type": "code",
   "execution_count": null,
   "id": "c866124e",
   "metadata": {},
   "outputs": [],
   "source": [
    "# return true for either `9 < a * b` or `a * b < b - a` is true\n",
    "9 < a * b or a * b < b - a"
   ]
  },
  {
   "cell_type": "code",
   "execution_count": null,
   "id": "e17443d1",
   "metadata": {},
   "outputs": [],
   "source": [
    "# using logical operator `==` to check the random selection result\n",
    "#  the return value could be `True` or `False`\n",
    "\n",
    "# create an array\n",
    "weekday = make_array(\"monday\", \"tuesday\", \"wednesday\", \"thursday\", \"friday\", \"saturday\", \"sunday\")\n",
    "\n",
    "np.random.choice(weekday) == \"saturday\""
   ]
  },
  {
   "cell_type": "code",
   "execution_count": null,
   "id": "fc67e1b9",
   "metadata": {},
   "outputs": [],
   "source": [
    "# keep track of the random selection result\n",
    "day = np.random.choice(weekday)\n",
    "\n",
    "# check the logical comparsion value \n",
    "day, day == \"saturday\""
   ]
  },
  {
   "cell_type": "code",
   "execution_count": null,
   "id": "fb45f475",
   "metadata": {},
   "outputs": [],
   "source": [
    "# using logical operator > to check the random selection result\n",
    "np.random.choice(weekday) > \"saturday\""
   ]
  },
  {
   "cell_type": "code",
   "execution_count": null,
   "id": "d592f832",
   "metadata": {},
   "outputs": [],
   "source": [
    "day = np.random.choice(weekday)\n",
    "day, day > \"saturday\""
   ]
  },
  {
   "cell_type": "code",
   "execution_count": null,
   "id": "b47cce6e",
   "metadata": {},
   "outputs": [],
   "source": [
    "months = make_array(\"April\", \"May\", \"June\", \"July\", \"August\")\n",
    "\n",
    "# compare \"September\" with each item in the array `months` and\n",
    "#   return an array of boolean values, True or False\n",
    "months == \"September\""
   ]
  },
  {
   "cell_type": "code",
   "execution_count": null,
   "id": "a7857b7e",
   "metadata": {},
   "outputs": [],
   "source": [
    "months == \"June\""
   ]
  },
  {
   "cell_type": "code",
   "execution_count": null,
   "id": "ce25d0c0",
   "metadata": {
    "scrolled": true
   },
   "outputs": [],
   "source": [
    "fruits = make_array(\"apple\", \"banana\", \"cranberry\", \"apple\", \"cranberry\", \"apple\")\n",
    "fruits == \"apple\""
   ]
  },
  {
   "cell_type": "markdown",
   "id": "54ba6578",
   "metadata": {},
   "source": [
    "In Python, True has a value of 1 and False has a value of 0. We can use `sum()` to add up numbers or True values in an array."
   ]
  },
  {
   "cell_type": "code",
   "execution_count": null,
   "id": "e188c9a7",
   "metadata": {
    "scrolled": false
   },
   "outputs": [],
   "source": [
    "sum(fruits == \"apple\")"
   ]
  },
  {
   "cell_type": "markdown",
   "id": "30b5a3f6",
   "metadata": {},
   "source": [
    "Similarly, `numpy` has `count_nonzero()` function to count numbers of non zero values in an array."
   ]
  },
  {
   "cell_type": "code",
   "execution_count": null,
   "id": "5b9b684e",
   "metadata": {},
   "outputs": [],
   "source": [
    "np.count_nonzero(fruits == \"apple\")"
   ]
  },
  {
   "cell_type": "code",
   "execution_count": null,
   "id": "bc95fca1",
   "metadata": {},
   "outputs": [],
   "source": [
    "np.count_nonzero(fruits == \"orange\")"
   ]
  },
  {
   "cell_type": "code",
   "execution_count": null,
   "id": "4f400066",
   "metadata": {},
   "outputs": [],
   "source": [
    "fruits == \"orange\""
   ]
  },
  {
   "cell_type": "markdown",
   "id": "f1f33739",
   "metadata": {},
   "source": [
    "### Conditional Statements ###\n",
    "\n",
    "Conditional statements are constructed with logical operators.\n",
    "\n",
    "`if` is a conditional statement in Python."
   ]
  },
  {
   "cell_type": "markdown",
   "id": "3c403a36",
   "metadata": {},
   "source": [
    "#### `if` Statement ####\n",
    "\n",
    "`if` statement can contain 1 or multiple statements and those statements must be indented right below the `if` statement.\n",
    "\n",
    "We don't put `return` statement in `if` statement unless the `if` statement is used in a function."
   ]
  },
  {
   "cell_type": "code",
   "execution_count": null,
   "id": "28f5f9fa",
   "metadata": {},
   "outputs": [],
   "source": [
    "age = 16\n",
    "if age >= 16:\n",
    "    print(\"You can drive\")"
   ]
  },
  {
   "cell_type": "code",
   "execution_count": null,
   "id": "4a7fd746",
   "metadata": {},
   "outputs": [],
   "source": [
    "age = 21\n",
    "if age >= 21:\n",
    "    print(\"You can drink\")"
   ]
  },
  {
   "cell_type": "code",
   "execution_count": null,
   "id": "da4a4db8",
   "metadata": {},
   "outputs": [],
   "source": [
    "# Error: SyntaxError: 'return' outside function\n",
    "\n",
    "age = 21\n",
    "if age >= 21:\n",
    "    return \"You can drink\""
   ]
  },
  {
   "cell_type": "markdown",
   "id": "2795a465",
   "metadata": {},
   "source": [
    "#### `if-else` Statement ####"
   ]
  },
  {
   "cell_type": "code",
   "execution_count": null,
   "id": "a9798b60",
   "metadata": {},
   "outputs": [],
   "source": [
    "age = 10\n",
    "if age >= 21:\n",
    "    print(\"You can drive and drink\")\n",
    "elif age >= 16:\n",
    "    print(\"You can drive\")\n",
    "else:\n",
    "    print(\"You can do nothing yet!\")"
   ]
  },
  {
   "cell_type": "code",
   "execution_count": null,
   "id": "a5c85f4f",
   "metadata": {},
   "outputs": [],
   "source": [
    "x = 2\n",
    "if x > 8:\n",
    "    print(\"true\")\n",
    "else:\n",
    "    print(\"false\")"
   ]
  },
  {
   "cell_type": "markdown",
   "id": "2da39782",
   "metadata": {},
   "source": [
    "Example of using `if` statement in a function. In this example, we can put `return` statement in `if` statement because the `if` statement is used in a function."
   ]
  },
  {
   "cell_type": "code",
   "execution_count": null,
   "id": "30e323c7",
   "metadata": {},
   "outputs": [],
   "source": [
    "def colorMatch(color):\n",
    "    if color == \"blue\":\n",
    "        return \"Sky\"\n",
    "    elif color == \"green\":\n",
    "        return \"Apple\"\n",
    "    else:\n",
    "        return color;"
   ]
  },
  {
   "cell_type": "code",
   "execution_count": null,
   "id": "5f25d0f7",
   "metadata": {},
   "outputs": [],
   "source": [
    "colorMatch(\"green\")"
   ]
  },
  {
   "cell_type": "code",
   "execution_count": null,
   "id": "85d22876",
   "metadata": {},
   "outputs": [],
   "source": [
    "colorMatch(\"yellow\")"
   ]
  },
  {
   "cell_type": "code",
   "execution_count": null,
   "id": "a2c48dd4",
   "metadata": {
    "scrolled": false
   },
   "outputs": [],
   "source": [
    "colorMatch(7)"
   ]
  },
  {
   "cell_type": "code",
   "execution_count": null,
   "id": "bbc10fc8",
   "metadata": {},
   "outputs": [],
   "source": [
    "def larger(arg1, arg2):\n",
    "    if arg1 == arg2:\n",
    "        return arg1\n",
    "    elif arg1 > arg2:\n",
    "        return arg1\n",
    "    else:\n",
    "        return arg2;"
   ]
  },
  {
   "cell_type": "code",
   "execution_count": null,
   "id": "74b73839",
   "metadata": {},
   "outputs": [],
   "source": [
    "larger(5, 8)"
   ]
  },
  {
   "cell_type": "code",
   "execution_count": null,
   "id": "b5bb42b8",
   "metadata": {
    "scrolled": true
   },
   "outputs": [],
   "source": [
    "larger(\"red\", \"blue\")"
   ]
  },
  {
   "cell_type": "code",
   "execution_count": null,
   "id": "acca5788",
   "metadata": {
    "scrolled": true
   },
   "outputs": [],
   "source": [
    "larger(4.5, 8.7)"
   ]
  },
  {
   "cell_type": "code",
   "execution_count": null,
   "id": "784a916a",
   "metadata": {},
   "outputs": [],
   "source": [
    "larger(6, 6.8)"
   ]
  },
  {
   "cell_type": "code",
   "execution_count": null,
   "id": "0d2ca44f",
   "metadata": {},
   "outputs": [],
   "source": [
    "# Error: TypeError: '>' not supported between instances of 'str' and 'int'\n",
    "\n",
    "larger(\"sally\", 10)"
   ]
  },
  {
   "cell_type": "markdown",
   "id": "a3f6ab7a",
   "metadata": {},
   "source": [
    "### Iteration `for` Loop ###\n",
    "\n",
    "Repeat a process multiple times automatically."
   ]
  },
  {
   "cell_type": "code",
   "execution_count": null,
   "id": "e40b4e32",
   "metadata": {},
   "outputs": [],
   "source": [
    "# create an array of fruit names\n",
    "fruits = make_array(\"apple\", \"banana\", \"cranberry\", \"apple\", \"cranberry\", \"apple\")"
   ]
  },
  {
   "cell_type": "markdown",
   "id": "a87723f6",
   "metadata": {},
   "source": [
    "If we want to print out every item in the `fruits` array, we first need to know numbers of items in the array, then we have to run `print` statement the numbers of times. In this case, we need to run `print` 6 times"
   ]
  },
  {
   "cell_type": "code",
   "execution_count": null,
   "id": "5927059b",
   "metadata": {},
   "outputs": [],
   "source": [
    "# print out each fruit using array.item() function\n",
    "\n",
    "print(fruits.item(0))\n",
    "print(fruits.item(1))\n",
    "print(fruits.item(2))\n",
    "print(fruits.item(3))\n",
    "print(fruits.item(4))\n",
    "print(fruits.item(5))"
   ]
  },
  {
   "cell_type": "markdown",
   "id": "30bc7b63",
   "metadata": {},
   "source": [
    "#### `for` Loop ####\n",
    "\n",
    "`for` loop will automate the same process multiple times. \n",
    "\n",
    "`for my_fruit in fruits:` in English means for every my_fruit item in the fruits array. `my_fruit` refers to each item in the `fruit` array. `my_fruit` is a name/variable and can be replaced by any name you want."
   ]
  },
  {
   "cell_type": "code",
   "execution_count": null,
   "id": "99d6f78e",
   "metadata": {
    "scrolled": true
   },
   "outputs": [],
   "source": [
    "# print out each fruit in a for-loop\n",
    "\n",
    "for my_fruit in fruits:\n",
    "    print(my_fruit)"
   ]
  },
  {
   "cell_type": "code",
   "execution_count": null,
   "id": "fd93a82f",
   "metadata": {},
   "outputs": [],
   "source": [
    "# `my_fruit` is a name/variable and can be replaced by any name you want\n",
    "#    and the `for` loop will work as the same way in the previous cell.\n",
    "\n",
    "for y in fruits:\n",
    "    print(y)"
   ]
  },
  {
   "cell_type": "code",
   "execution_count": null,
   "id": "dc70e3c7",
   "metadata": {},
   "outputs": [],
   "source": [
    "# fill up an array in a for-loop\n",
    "\n",
    "# step 1: create an empty array\n",
    "my_numbers_array = make_array()\n",
    "\n",
    "# Note: by default, make_array() creates an empty array and \n",
    "#       its data type is float\n",
    "\n",
    "# step 2: \n",
    "#   np.arange() to create an array of a range of numbers,\n",
    "#   `for number in np.arange(10):`\n",
    "#   -- np.arange(10) creates a 10-number array\n",
    "#   -- the `for` loop runs 10 times\n",
    "#   `my_numbers = np.append(my_numbers, number)`\n",
    "#   -- each time the `for` loop runs, \n",
    "#      an item in the 10-number array is appended to \n",
    "#      the empty array `my_numbers_array` created in step 1\n",
    "\n",
    "for number in np.arange(10):\n",
    "    my_numbers_array = np.append(my_numbers_array, number)\n",
    "    \n",
    "my_numbers_array"
   ]
  },
  {
   "cell_type": "code",
   "execution_count": null,
   "id": "b0f5c78e",
   "metadata": {},
   "outputs": [],
   "source": [
    "# Note: by default, make_array() creates an empty array and \n",
    "#       its data type is float\n",
    "\n",
    "np.append(make_array(), np.arange(10))"
   ]
  },
  {
   "cell_type": "code",
   "execution_count": null,
   "id": "9071f858",
   "metadata": {},
   "outputs": [],
   "source": [
    "# to create an empty array with integer data type, we use astype()\n",
    "\n",
    "np.append(make_array().astype(int), np.arange(10))"
   ]
  },
  {
   "cell_type": "code",
   "execution_count": null,
   "id": "dd5d130e",
   "metadata": {},
   "outputs": [],
   "source": [
    "# example of randomness simulation - roll a dice\n",
    "\n",
    "# create an array with 6 faces\n",
    "dice = np.arange(1, 7)\n",
    "\n",
    "# simulate the random selection\n",
    "#   randomly select a number in the `dice` array created above\n",
    "np.random.choice(dice)"
   ]
  },
  {
   "cell_type": "code",
   "execution_count": null,
   "id": "7fce2742",
   "metadata": {
    "scrolled": true
   },
   "outputs": [],
   "source": [
    "# use `for` loop to simulate roll a dice 10 times\n",
    "#   each time randomly produce different result\n",
    "\n",
    "for time in np.arange(10):\n",
    "    print(np.random.choice(dice))"
   ]
  },
  {
   "cell_type": "code",
   "execution_count": null,
   "id": "7684c73f",
   "metadata": {},
   "outputs": [],
   "source": [
    "# Example of using `for` loop, random selection function `np.random.choice()\n",
    "#   to collect 10 results roll a dice and store the results in an array\n",
    "\n",
    "roll_result = make_array()\n",
    "\n",
    "for time in np.arange(10):\n",
    "    roll_result = np.append(roll_result, np.random.choice(dice))\n",
    "    \n",
    "roll_result"
   ]
  },
  {
   "cell_type": "code",
   "execution_count": null,
   "id": "95901bdd",
   "metadata": {},
   "outputs": [],
   "source": []
  },
  {
   "cell_type": "code",
   "execution_count": null,
   "id": "6f91533a",
   "metadata": {},
   "outputs": [],
   "source": []
  },
  {
   "cell_type": "code",
   "execution_count": null,
   "id": "d1b3a41d",
   "metadata": {},
   "outputs": [],
   "source": []
  },
  {
   "cell_type": "code",
   "execution_count": null,
   "id": "65991a13",
   "metadata": {},
   "outputs": [],
   "source": []
  }
 ],
 "metadata": {
  "kernelspec": {
   "display_name": "Python 3 (ipykernel)",
   "language": "python",
   "name": "python3"
  },
  "language_info": {
   "codemirror_mode": {
    "name": "ipython",
    "version": 3
   },
   "file_extension": ".py",
   "mimetype": "text/x-python",
   "name": "python",
   "nbconvert_exporter": "python",
   "pygments_lexer": "ipython3",
   "version": "3.11.5"
  }
 },
 "nbformat": 4,
 "nbformat_minor": 5
}
