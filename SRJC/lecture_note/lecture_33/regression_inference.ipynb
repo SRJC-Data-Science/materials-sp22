{
 "cells": [
  {
   "cell_type": "markdown",
   "id": "05d8996d",
   "metadata": {},
   "source": [
    "# Inference for Regression: Boostrapping\n",
    "\n",
    "Complete this problem set with your group (up to 4 students). You can either hand-write your work and submit a hard copy, or go to File -> Download as HTML to generate an HTML file, then either submit it online or as a hard copy. Each group only needs to submit one copy and will receive the same grade. \n",
    "\n",
    "This team homework is based on Lecture 33: Regression Inference. "
   ]
  },
  {
   "cell_type": "markdown",
   "id": "27cabfdf",
   "metadata": {},
   "source": [
    "**Helpful Resource:**\n",
    "- [Python Reference](http://data8.org/sp22/python-reference.html): Cheat sheet of helpful array & table methods used in Data 8!\n",
    "\n",
    "**Recommended Readings**: \n",
    "- [Regression Inference](https://inferentialthinking.com/chapters/16/Inference_for_Regression.html)\n"
   ]
  },
  {
   "cell_type": "code",
   "execution_count": 1,
   "id": "cb0b7535",
   "metadata": {},
   "outputs": [],
   "source": [
    "from datascience import *\n",
    "%matplotlib inline\n",
    "import matplotlib.pyplot as plots\n",
    "plots.style.use('fivethirtyeight')\n",
    "import numpy as np\n",
    "from math import ceil"
   ]
  },
  {
   "cell_type": "markdown",
   "id": "33135de8",
   "metadata": {},
   "source": [
    "We'll combine two ideas from previous chapters: inference through bootstrapping, and the least square regression model. Read and run the following code, and describe what is used to create the plot shown below. How can the regression lines be useful for making predictions? "
   ]
  },
  {
   "cell_type": "code",
   "execution_count": 15,
   "id": "fbe4d2e9",
   "metadata": {},
   "outputs": [],
   "source": [
    "def standard_units(any_numbers):\n",
    "    return (any_numbers - np.mean(any_numbers))/np.std(any_numbers)  \n",
    "\n",
    "def correlation(t, xlabel, ylabel):\n",
    "    return np.mean(standard_units(t.column(xlabel))*standard_units(t.column(ylabel)))\n",
    "\n",
    "def slope(t, label_x, label_y):\n",
    "    r = correlation(t, label_x, label_y)\n",
    "    return r*np.std(t.column(label_y))/np.std(t.column(label_x))\n",
    "\n",
    "def intercept(t, label_x, label_y):\n",
    "    return np.mean(t.column(label_y)) - slope(t, label_x, label_y)*np.mean(t.column(label_x))\n",
    "\n",
    "def scatter_bootstrap_regression(table, nsamples, xlabel, ylabel):\n",
    "    xmin = np.min(table.column(xlabel))\n",
    "    xmax = np.max(table.column(xlabel))\n",
    "    xlimits = np.array([xmin, xmax])    \n",
    "    table.scatter(xlabel, ylabel)\n",
    "    for i in np.arange(nsamples):\n",
    "        resampled_table = table.sample() # default is the same size\n",
    "        m = slope(resampled_table, xlabel, ylabel) \n",
    "        b = intercept(resampled_table, xlabel, ylabel)\n",
    "        plots.plot(xlimits, m*xlimits + b, lw=0.5)\n",
    "    \n",
    "cars = Table().read_table('Cars2015.csv')"
   ]
  },
  {
   "cell_type": "markdown",
   "id": "af173593",
   "metadata": {},
   "source": [
    "Now choose a pair of variables that had a weak corrleation, and run the bootstrapping to obtain a set of regression lines similar to the ones shown above. How did the $R$ value affect the regression lines found through bootstrapping, as well as the predictions based on these regression lines? "
   ]
  },
  {
   "cell_type": "code",
   "execution_count": null,
   "id": "6f10fd95",
   "metadata": {},
   "outputs": [],
   "source": []
  },
  {
   "cell_type": "markdown",
   "id": "67f82f28",
   "metadata": {},
   "source": [
    "### Bootstrapping Inference for Slope\n",
    "\n",
    "157 customers at a restaurant participated in a survey. The amount of the bill and the tip percentage (defined as amount of tip divided by the total bill) were shown in the scatter plot on the top right. 5000 bootstrap samples were taken from the original data, and the slopes of the least square lines were shown in the dot plot on the left. \n",
    "\n",
    "<img src = \"boostrap_slope.GIF\" width=800>\n",
    "\n",
    "Based on these bootstrap slopes, the 2nd percentile was found to be 0.004, and 3rd percentil was 0.008. Can you use these figures and the graph to produce a 95% confidence interval for the slope? "
   ]
  },
  {
   "cell_type": "code",
   "execution_count": null,
   "id": "b1ba9b0c",
   "metadata": {},
   "outputs": [],
   "source": []
  },
  {
   "cell_type": "markdown",
   "id": "a3dee954",
   "metadata": {},
   "source": [
    "Based on your confidence interval, is there evidence to suggest that you can predict the tip percentage from the total amount of the bill? "
   ]
  },
  {
   "cell_type": "code",
   "execution_count": null,
   "id": "9c329f69",
   "metadata": {},
   "outputs": [],
   "source": []
  },
  {
   "cell_type": "markdown",
   "id": "6354615b",
   "metadata": {},
   "source": [
    "#### Bootstrap Prediction Interval Based on Regresion Lines\n",
    "\n",
    "If we use the same bootstrapping procedure above to obtain many regression lines, and use each one to make prediction based on a new X value, this will yield a set of predicted Y values. If we use the same procedure to find the confidence interval from the boostrapped predictions, this will yield a boostrap prediction interval. \n",
    "\n",
    "Use the following code to generate a 95% prediction interval for vehicles that are 2000, 3000, 4000 and 5000 lbs. Which interval is likely to be most precise? (smallest width)"
   ]
  },
  {
   "cell_type": "code",
   "execution_count": 14,
   "id": "9b135a86",
   "metadata": {},
   "outputs": [],
   "source": [
    "def bootstrap_prediction(x, table, nsamples, xlabel, ylabel):\n",
    "    predictions = make_array()\n",
    "    for i in np.arange(nsamples):\n",
    "        resampled_table = table.sample() # default is the same size\n",
    "        m = slope(resampled_table, xlabel, ylabel) \n",
    "        b = intercept(resampled_table, xlabel, ylabel)\n",
    "        predictions = np.append(predictions, m*x+b)\n",
    "    return predictions\n",
    "    "
   ]
  },
  {
   "cell_type": "markdown",
   "id": "4edb28b3",
   "metadata": {},
   "source": [
    "What would the 90% prediction interval for vehicles that are 7000 lbs? What happens as the vehicle's weight increases? "
   ]
  },
  {
   "cell_type": "code",
   "execution_count": null,
   "id": "3153d4f1",
   "metadata": {},
   "outputs": [],
   "source": []
  },
  {
   "cell_type": "code",
   "execution_count": null,
   "id": "117f7c0b",
   "metadata": {},
   "outputs": [],
   "source": []
  }
 ],
 "metadata": {
  "kernelspec": {
   "display_name": ".venv",
   "language": "python",
   "name": "python3"
  },
  "language_info": {
   "codemirror_mode": {
    "name": "ipython",
    "version": 3
   },
   "file_extension": ".py",
   "mimetype": "text/x-python",
   "name": "python",
   "nbconvert_exporter": "python",
   "pygments_lexer": "ipython3",
   "version": "3.12.3"
  }
 },
 "nbformat": 4,
 "nbformat_minor": 5
}
