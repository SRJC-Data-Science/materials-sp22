{
 "cells": [
  {
   "cell_type": "markdown",
   "metadata": {},
   "source": [
    "### Lecture Notes: Sampling, Models and Statistic\n",
    "\n",
    "**Helpful Resource:**\n",
    "- [Python Reference](http://data8.org/sp22/python-reference.html)\n",
    "\n",
    "**Recommended Readings:**\n",
    "- [Sampling](https://www.inferentialthinking.com/chapters/10/Sampling_and_Empirical_Distributions.html)\n",
    "- [Distribution of a Statistic](https://www.inferentialthinking.com/chapters/10/3/Empirical_Distribution_of_a_Statistic.html)\n",
    "- [Random Sampling in Python](https://www.inferentialthinking.com/chapters/10/4/Random_Sampling_in_Python.html)"
   ]
  },
  {
   "cell_type": "code",
   "execution_count": 25,
   "metadata": {},
   "outputs": [],
   "source": [
    "# import modules to be used in this notebook\n",
    "\n",
    "from datascience import *\n",
    "import numpy as np\n",
    "\n",
    "%matplotlib inline\n",
    "import matplotlib.pyplot as plots\n",
    "plots.style.use('fivethirtyeight')\n"
   ]
  },
  {
   "cell_type": "code",
   "execution_count": 24,
   "metadata": {},
   "outputs": [
    {
     "data": {
      "text/plain": [
       "(array([888, 888, 100,  18,  10,  30]), array([ 30, 100,   8,   0,  10,   2]))"
      ]
     },
     "execution_count": 24,
     "metadata": {},
     "output_type": "execute_result"
    }
   ],
   "source": [
    "prize_list = make_array(0, 2, 4, 8, 10, 18, 30, 88, 100, 888)\n",
    "np.random.choice(prize_list, 6), np.random.choice(prize_list, 6, replace=False)"
   ]
  },
  {
   "cell_type": "markdown",
   "metadata": {},
   "source": [
    "Assume that you are sampling from 10 values with replacement. What is the chance that you happen to draw a sample of distinct values? "
   ]
  },
  {
   "cell_type": "markdown",
   "metadata": {},
   "source": [
    "\n"
   ]
  },
  {
   "cell_type": "markdown",
   "metadata": {},
   "source": [
    "Similarly, `table.sample` can also be used to draw samples with or without replacement. "
   ]
  },
  {
   "cell_type": "code",
   "execution_count": null,
   "metadata": {},
   "outputs": [],
   "source": [
    "students = Table().read_table('student_data.csv')\n",
    "students"
   ]
  },
  {
   "cell_type": "code",
   "execution_count": null,
   "metadata": {},
   "outputs": [],
   "source": [
    "students.sample(10)"
   ]
  },
  {
   "cell_type": "code",
   "execution_count": null,
   "metadata": {},
   "outputs": [],
   "source": [
    "students.sample(10, with_replacement=False)"
   ]
  },
  {
   "cell_type": "markdown",
   "metadata": {},
   "source": [
    "### Sampling Distribution of Means\n",
    "\n",
    "Consider a population that is made of 3 values: 1, 2, 5. How many samples of 2 are possible if it is taken with replacement? List these samples. "
   ]
  },
  {
   "cell_type": "markdown",
   "metadata": {},
   "source": []
  },
  {
   "cell_type": "markdown",
   "metadata": {},
   "source": [
    "What are all the possible sample means based on these samples? "
   ]
  },
  {
   "cell_type": "markdown",
   "metadata": {},
   "source": []
  },
  {
   "cell_type": "markdown",
   "metadata": {},
   "source": [
    "If we take the mean of all these sample means, what will it be? Compare your result with the simulation. "
   ]
  },
  {
   "cell_type": "code",
   "execution_count": null,
   "metadata": {},
   "outputs": [],
   "source": [
    "pop = make_array(1, 2, 5)\n",
    "n = 2\n",
    "iter = 1000\n",
    "results = make_array()\n",
    "for i in np.arange(iter):\n",
    "    sample = np.random.choice(pop, 2)\n",
    "    statistic = np.average(sample)\n",
    "    results = np.append(results, statistic)\n",
    "\n",
    "results"
   ]
  },
  {
   "cell_type": "markdown",
   "metadata": {},
   "source": [
    "### Sampling from Tables \n",
    "\n",
    "By treating the student data as the population, we draw many samples of 2 and compute the sample mean from each sample. "
   ]
  },
  {
   "cell_type": "code",
   "execution_count": null,
   "metadata": {},
   "outputs": [],
   "source": [
    "n = 2\n",
    "iter = 10000\n",
    "results = make_array()\n",
    "for i in np.arange(iter):\n",
    "    statistic = np.average(students.sample(n).column('HEIGHT'))\n",
    "    results = np.append(results, statistic)\n",
    "\n",
    "results"
   ]
  },
  {
   "cell_type": "markdown",
   "metadata": {},
   "source": [
    "To be able to vary the sample size and the variable, we use the following function to sample from the student data. "
   ]
  },
  {
   "cell_type": "code",
   "execution_count": null,
   "metadata": {},
   "outputs": [],
   "source": [
    "def sampling_distribution(n, col):\n",
    "    iter = 10000\n",
    "    results = make_array()\n",
    "    for i in np.arange(iter):\n",
    "        statistic = np.average(students.sample(n).column(col))\n",
    "        results = np.append(results, statistic)\n",
    "    return results"
   ]
  },
  {
   "cell_type": "code",
   "execution_count": null,
   "metadata": {},
   "outputs": [],
   "source": [
    "sample_5 = sampling_distribution(5, 'HEIGHT')"
   ]
  },
  {
   "cell_type": "code",
   "execution_count": null,
   "metadata": {},
   "outputs": [],
   "source": [
    "sample_10 = sampling_distribution(20, 'HEIGHT')"
   ]
  },
  {
   "cell_type": "code",
   "execution_count": null,
   "metadata": {},
   "outputs": [],
   "source": [
    "sample_50 = sampling_distribution(50, 'HEIGHT')"
   ]
  },
  {
   "cell_type": "code",
   "execution_count": null,
   "metadata": {},
   "outputs": [],
   "source": [
    "sampling_distributions = Table().with_columns('n=5', sample_5, 'n=10', sample_10, 'n=50', sample_50)"
   ]
  },
  {
   "cell_type": "code",
   "execution_count": null,
   "metadata": {},
   "outputs": [],
   "source": [
    "sampling_distributions.hist(bins = np.arange(62, 72, 0.5))"
   ]
  },
  {
   "cell_type": "markdown",
   "metadata": {},
   "source": [
    "### Sampling Distribution of Proportions \n",
    "\n",
    "Consider the same population that is made of 3 values: 1, 2, 5. For each of the sample of 2, calculate the proportion of 1's within the sample. The following code simulates the sampling distribution of proportions based on these samples. "
   ]
  },
  {
   "cell_type": "code",
   "execution_count": null,
   "metadata": {},
   "outputs": [],
   "source": [
    "pop = make_array(1, 2, 5)\n",
    "n = 2\n",
    "iter = 1000\n",
    "results = make_array()\n",
    "for i in np.arange(iter):\n",
    "    sample = np.random.choice(pop, 2)\n",
    "    statistic = np.count_nonzero(sample==1) / 2 \n",
    "    results = np.append(results, statistic)"
   ]
  },
  {
   "cell_type": "markdown",
   "metadata": {},
   "source": [
    "### Swain v.s. Alabama\n",
    "\n",
    "The lecture cites the Supreme Court case of [Swain v.s Alabama (1965)](https://supreme.justia.com/cases/federal/us/380/202/). Instead of using `np.random.choice`, the `datascience` package uses the following function to draw a sample and use it to calculate sample proportions. For example, assuming that 26% of the eligible jurors are black, then the follow code simulates one sample of 100 jurors, and returns an array that contains `(proportion_of_black_jurors, proportion_of_non-black_jurors)`"
   ]
  },
  {
   "cell_type": "code",
   "execution_count": null,
   "metadata": {},
   "outputs": [],
   "source": [
    "sample_proportions(100, make_array(0.26, 0.74))"
   ]
  },
  {
   "cell_type": "markdown",
   "metadata": {},
   "source": [
    "Based on the `sample_proportions` function, we can generate the sampling distribution of the proportion of black jurors for all juries of 100. "
   ]
  },
  {
   "cell_type": "code",
   "execution_count": null,
   "metadata": {},
   "outputs": [],
   "source": [
    "def sampling_distribution_black(n, prop):\n",
    "    results = [] \n",
    "    proportions = make_array(prop, 1-prop)   \n",
    "    for i in np.arange(100000):\n",
    "        results = np.append(results, sample_proportions(n, proportions).item(0)*100)\n",
    "    return results"
   ]
  },
  {
   "cell_type": "code",
   "execution_count": null,
   "metadata": {},
   "outputs": [],
   "source": [
    "results = sampling_distribution_black(100, 0.26)\n",
    "Table().with_column('NUmber of black jurors', results).hist()\n",
    "np.count_nonzero(results < 10)"
   ]
  },
  {
   "cell_type": "code",
   "execution_count": null,
   "metadata": {},
   "outputs": [],
   "source": []
  }
 ],
 "metadata": {
  "kernelspec": {
   "display_name": ".venv",
   "language": "python",
   "name": "python3"
  },
  "language_info": {
   "codemirror_mode": {
    "name": "ipython",
    "version": 3
   },
   "file_extension": ".py",
   "mimetype": "text/x-python",
   "name": "python",
   "nbconvert_exporter": "python",
   "pygments_lexer": "ipython3",
   "version": "3.12.3"
  }
 },
 "nbformat": 4,
 "nbformat_minor": 2
}
