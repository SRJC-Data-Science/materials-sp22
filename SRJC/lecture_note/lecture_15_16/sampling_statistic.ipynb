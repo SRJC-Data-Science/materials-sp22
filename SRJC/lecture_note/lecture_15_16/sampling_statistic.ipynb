{
 "cells": [
  {
   "cell_type": "markdown",
   "metadata": {},
   "source": [
    "### Lecture Notes: Sampling, Models and Statistic\n",
    "\n",
    "**Helpful Resource:**\n",
    "- [Python Reference](http://data8.org/sp22/python-reference.html)\n",
    "\n",
    "**Recommended Readings:**\n",
    "- [Sampling](https://www.inferentialthinking.com/chapters/10/Sampling_and_Empirical_Distributions.html)\n",
    "- [Distribution of a Statistic](https://www.inferentialthinking.com/chapters/10/3/Empirical_Distribution_of_a_Statistic.html)\n",
    "- [Random Sampling in Python](https://www.inferentialthinking.com/chapters/10/4/Random_Sampling_in_Python.html)"
   ]
  },
  {
   "cell_type": "code",
   "execution_count": 2,
   "metadata": {},
   "outputs": [],
   "source": [
    "# import modules to be used in this notebook\n",
    "\n",
    "from datascience import *\n",
    "import numpy as np\n",
    "\n",
    "%matplotlib inline\n",
    "import matplotlib.pyplot as plots\n",
    "plots.style.use('fivethirtyeight')\n"
   ]
  },
  {
   "cell_type": "code",
   "execution_count": 4,
   "metadata": {},
   "outputs": [],
   "source": [
    "students = Table().read_table('student_data.csv')"
   ]
  },
  {
   "cell_type": "code",
   "execution_count": 5,
   "metadata": {},
   "outputs": [
    {
     "data": {
      "text/html": [
       "<table border=\"1\" class=\"dataframe\">\n",
       "    <thead>\n",
       "        <tr>\n",
       "            <th>SEX</th> <th>COLOR</th> <th>ZIP</th> <th>MATH</th> <th>PAPER</th> <th>CAR</th> <th>SHOE</th> <th>AGE</th> <th>HEIGHT</th> <th>PETS</th> <th>SOCIAL</th>\n",
       "        </tr>\n",
       "    </thead>\n",
       "    <tbody>\n",
       "        <tr>\n",
       "            <td>Female</td> <td>Green </td> <td>95404</td> <td>2   </td> <td>3    </td> <td>1999</td> <td>7   </td> <td>22  </td> <td>64    </td> <td>1   </td> <td>Yes   </td>\n",
       "        </tr>\n",
       "        <tr>\n",
       "            <td>Female</td> <td>Blue  </td> <td>95476</td> <td>3   </td> <td>3    </td> <td>2016</td> <td>10  </td> <td>49  </td> <td>69    </td> <td>3   </td> <td>Yes   </td>\n",
       "        </tr>\n",
       "        <tr>\n",
       "            <td>Male  </td> <td>Blue  </td> <td>95407</td> <td>3   </td> <td>5    </td> <td>2005</td> <td>7   </td> <td>25  </td> <td>68    </td> <td>2   </td> <td>No    </td>\n",
       "        </tr>\n",
       "        <tr>\n",
       "            <td>Female</td> <td>Black </td> <td>95472</td> <td>3   </td> <td>3    </td> <td>nan </td> <td>8   </td> <td>19  </td> <td>62    </td> <td>2   </td> <td>Yes   </td>\n",
       "        </tr>\n",
       "        <tr>\n",
       "            <td>Male  </td> <td>Purple</td> <td>95492</td> <td>4   </td> <td>4    </td> <td>2001</td> <td>7   </td> <td>18  </td> <td>67    </td> <td>1   </td> <td>No    </td>\n",
       "        </tr>\n",
       "        <tr>\n",
       "            <td>Female</td> <td>Blue  </td> <td>95401</td> <td>5   </td> <td>4    </td> <td>2003</td> <td>8   </td> <td>17  </td> <td>63    </td> <td>5   </td> <td>Yes   </td>\n",
       "        </tr>\n",
       "        <tr>\n",
       "            <td>Female</td> <td>Green </td> <td>95407</td> <td>1   </td> <td>3    </td> <td>nan </td> <td>9   </td> <td>22  </td> <td>68    </td> <td>4   </td> <td>Yes   </td>\n",
       "        </tr>\n",
       "        <tr>\n",
       "            <td>Female</td> <td>Blue  </td> <td>95492</td> <td>1   </td> <td>3    </td> <td>2014</td> <td>8   </td> <td>24  </td> <td>65    </td> <td>1   </td> <td>No    </td>\n",
       "        </tr>\n",
       "        <tr>\n",
       "            <td>Female</td> <td>Pink  </td> <td>95401</td> <td>3   </td> <td>1    </td> <td>2017</td> <td>6   </td> <td>19  </td> <td>66    </td> <td>3   </td> <td>Yes   </td>\n",
       "        </tr>\n",
       "        <tr>\n",
       "            <td>Female</td> <td>Yellow</td> <td>95492</td> <td>3   </td> <td>4    </td> <td>2004</td> <td>8.5 </td> <td>18  </td> <td>65    </td> <td>2   </td> <td>Yes   </td>\n",
       "        </tr>\n",
       "    </tbody>\n",
       "</table>"
      ],
      "text/plain": [
       "SEX    | COLOR  | ZIP   | MATH | PAPER | CAR  | SHOE | AGE  | HEIGHT | PETS | SOCIAL\n",
       "Female | Green  | 95404 | 2    | 3     | 1999 | 7    | 22   | 64     | 1    | Yes\n",
       "Female | Blue   | 95476 | 3    | 3     | 2016 | 10   | 49   | 69     | 3    | Yes\n",
       "Male   | Blue   | 95407 | 3    | 5     | 2005 | 7    | 25   | 68     | 2    | No\n",
       "Female | Black  | 95472 | 3    | 3     | nan  | 8    | 19   | 62     | 2    | Yes\n",
       "Male   | Purple | 95492 | 4    | 4     | 2001 | 7    | 18   | 67     | 1    | No\n",
       "Female | Blue   | 95401 | 5    | 4     | 2003 | 8    | 17   | 63     | 5    | Yes\n",
       "Female | Green  | 95407 | 1    | 3     | nan  | 9    | 22   | 68     | 4    | Yes\n",
       "Female | Blue   | 95492 | 1    | 3     | 2014 | 8    | 24   | 65     | 1    | No\n",
       "Female | Pink   | 95401 | 3    | 1     | 2017 | 6    | 19   | 66     | 3    | Yes\n",
       "Female | Yellow | 95492 | 3    | 4     | 2004 | 8.5  | 18   | 65     | 2    | Yes"
      ]
     },
     "execution_count": 5,
     "metadata": {},
     "output_type": "execute_result"
    }
   ],
   "source": [
    "students.sample(10)"
   ]
  },
  {
   "cell_type": "code",
   "execution_count": 7,
   "metadata": {},
   "outputs": [
    {
     "data": {
      "text/plain": [
       "array([ 68.5,  66.5,  66. , ...,  65.5,  69. ,  64.5])"
      ]
     },
     "execution_count": 7,
     "metadata": {},
     "output_type": "execute_result"
    }
   ],
   "source": [
    "n = 2\n",
    "iter = 10000\n",
    "results = make_array()\n",
    "for i in np.arange(iter):\n",
    "    statistic = np.average(students.sample(n).column('HEIGHT'))\n",
    "    results = np.append(results, statistic)\n",
    "\n",
    "results"
   ]
  },
  {
   "cell_type": "code",
   "execution_count": 10,
   "metadata": {},
   "outputs": [],
   "source": [
    "def sampling_distribution(n, col):\n",
    "    iter = 10000\n",
    "    results = make_array()\n",
    "    for i in np.arange(iter):\n",
    "        statistic = np.average(students.sample(n).column(col))\n",
    "        results = np.append(results, statistic)\n",
    "    return results"
   ]
  },
  {
   "cell_type": "code",
   "execution_count": 13,
   "metadata": {},
   "outputs": [],
   "source": [
    "sample_5 = sampling_distribution(5, 'HEIGHT')"
   ]
  },
  {
   "cell_type": "code",
   "execution_count": 14,
   "metadata": {},
   "outputs": [],
   "source": [
    "sample_10 = sampling_distribution(20, 'HEIGHT')"
   ]
  },
  {
   "cell_type": "code",
   "execution_count": 15,
   "metadata": {},
   "outputs": [],
   "source": [
    "sample_50 = sampling_distribution(50, 'HEIGHT')"
   ]
  },
  {
   "cell_type": "code",
   "execution_count": 16,
   "metadata": {},
   "outputs": [],
   "source": [
    "sampling_distributions = Table().with_columns('n=5', sample_5, 'n=10', sample_10, 'n=50', sample_50)"
   ]
  },
  {
   "cell_type": "code",
   "execution_count": 19,
   "metadata": {},
   "outputs": [
    {
     "data": {
      "image/png": "[encoded data removed]",
      "text/plain": [
       "<Figure size 600x400 with 1 Axes>"
      ]
     },
     "metadata": {},
     "output_type": "display_data"
    }
   ],
   "source": [
    "sampling_distributions.hist(bins = np.arange(62, 72, 0.5))"
   ]
  },
  {
   "cell_type": "code",
   "execution_count": 25,
   "metadata": {},
   "outputs": [
    {
     "data": {
      "text/plain": [
       "array([ 0.21,  0.79])"
      ]
     },
     "execution_count": 25,
     "metadata": {},
     "output_type": "execute_result"
    }
   ],
   "source": [
    "sample_proportions(100, make_array(0.26, 0.74))"
   ]
  },
  {
   "cell_type": "code",
   "execution_count": 37,
   "metadata": {},
   "outputs": [],
   "source": [
    "def sampling_distribution_black(n, prop):\n",
    "    results = [] \n",
    "    proportions = make_array(prop, 1-prop)   \n",
    "    for i in np.arange(100000):\n",
    "        results = np.append(results, sample_proportions(n, proportions).item(0)*100)\n",
    "    return results"
   ]
  },
  {
   "cell_type": "code",
   "execution_count": 40,
   "metadata": {},
   "outputs": [
    {
     "data": {
      "text/plain": [
       "1"
      ]
     },
     "execution_count": 40,
     "metadata": {},
     "output_type": "execute_result"
    },
    {
     "data": {
      "image/png": "[encoded data removed]",
      "text/plain": [
       "<Figure size 600x400 with 1 Axes>"
      ]
     },
     "metadata": {},
     "output_type": "display_data"
    }
   ],
   "source": [
    "results = sampling_distribution_black(100, 0.26)\n",
    "Table().with_column('NUmber of black jurors', results).hist()\n",
    "np.count_nonzero(results < 10)"
   ]
  },
  {
   "cell_type": "code",
   "execution_count": null,
   "metadata": {},
   "outputs": [],
   "source": []
  }
 ],
 "metadata": {
  "kernelspec": {
   "display_name": ".venv",
   "language": "python",
   "name": "python3"
  },
  "language_info": {
   "codemirror_mode": {
    "name": "ipython",
    "version": 3
   },
   "file_extension": ".py",
   "mimetype": "text/x-python",
   "name": "python",
   "nbconvert_exporter": "python",
   "pygments_lexer": "ipython3",
   "version": "3.12.3"
  }
 },
 "nbformat": 4,
 "nbformat_minor": 2
}
