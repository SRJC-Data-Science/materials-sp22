{
 "cells": [
  {
   "cell_type": "markdown",
   "id": "05d8996d",
   "metadata": {},
   "source": [
    "# Center, Spread, Normal Distribution\n",
    "\n",
    "Complete this problem set with your group (up to 4 students). You can either hand-write your work and submit a hard copy, or go to File -> Download as HTML to generate an HTML file, then either submit it online or as a hard copy. Each group only needs to submit one copy and will receive the same grade. \n",
    "\n",
    "This team homework is based on Lecture 25: Center and Spread, Lecture 26: Normal Distribution and Lecture 27: Sample Means. \n",
    "\n",
    "**Helpful Resource:**\n",
    "- [Python Reference](http://data8.org/sp22/python-reference.html): Cheat sheet of helpful array & table methods used in Data 8!\n",
    "\n",
    "**Recommended Readings**: \n",
    "- [Mean and Median](https://inferentialthinking.com/chapters/14/1/Properties_of_the_Mean.html#)\n",
    "- [Standard Deviation](https://inferentialthinking.com/chapters/14/2/Variability.html)\n",
    "- [Central Limit Theorem for proportions](https://inferentialthinking.com/chapters/14/4/Central_Limit_Theorem.html)\n",
    "- [Central Limit Theorem for Sample Means](https://inferentialthinking.com/chapters/14/5/Variability_of_the_Sample_Mean.html)"
   ]
  },
  {
   "cell_type": "code",
   "execution_count": 1,
   "id": "fa8e17b8",
   "metadata": {},
   "outputs": [],
   "source": [
    "# These lines import the Numpy and Datascience modules.\n",
    "import numpy as np\n",
    "from datascience import *\n",
    "from scipy import stats\n",
    "\n",
    "# These lines do some fancy plotting magic.\n",
    "import matplotlib\n",
    "%matplotlib inline\n",
    "import matplotlib.pyplot as plots\n",
    "plots.style.use('fivethirtyeight')\n",
    "import warnings\n",
    "warnings.simplefilter('ignore')"
   ]
  },
  {
   "cell_type": "markdown",
   "id": "09a0f2f0",
   "metadata": {},
   "source": [
    "### Mean, Median, Standard Deviation\n",
    "\n",
    "Find the mean, median and standard deviation of the following data set: 19, 19, 20, 22. Do your work either on paper or using the Python command line *without* the use of `np` package. "
   ]
  },
  {
   "cell_type": "code",
   "execution_count": null,
   "id": "055e82b7",
   "metadata": {},
   "outputs": [],
   "source": [
    "\n",
    "\n",
    "\n"
   ]
  },
  {
   "cell_type": "markdown",
   "id": "58d06ad4",
   "metadata": {},
   "source": [
    "Use the student data and `np` functions (`np.average`, `np.median`, `np.std`) to answer questions about the center and spread. "
   ]
  },
  {
   "cell_type": "code",
   "execution_count": null,
   "id": "dff59249",
   "metadata": {},
   "outputs": [],
   "source": [
    "students = Table().read_table('student_data.csv')\n",
    "students.hist('HEIGHT', group='SEX')"
   ]
  },
  {
   "cell_type": "markdown",
   "id": "826d5d24",
   "metadata": {},
   "source": [
    "Find the mean, median and the standard deviation of female and male students, respectively. "
   ]
  },
  {
   "cell_type": "code",
   "execution_count": null,
   "id": "96e5a2a2",
   "metadata": {},
   "outputs": [],
   "source": []
  },
  {
   "cell_type": "markdown",
   "id": "2f7c236b",
   "metadata": {},
   "source": [
    "Examine the tallest female student and the tallest male student. Relatively speaking, who is taller in terms of the standard units (z score)? "
   ]
  },
  {
   "cell_type": "code",
   "execution_count": null,
   "id": "1335de19",
   "metadata": {},
   "outputs": [],
   "source": []
  },
  {
   "cell_type": "markdown",
   "id": "d785a503",
   "metadata": {},
   "source": [
    "### Estimating Standard Deviation \n",
    "\n",
    "In addition to observing the inflection point on the histogram, another method of estimating standard deviation from the histogram is to use the interval [a, b] that identifies the middle 95% of the total area, and use $std \\approx \\frac{(b-a)}{4}$. This works best when the distribution was approximately bell shaped and symmetric. \n",
    "\n",
    "Use this method to estimate the standard deviation from the following distributions. \n",
    "\n",
    "<img src=\"bootstrap_mean.GIF\" width=600>\n",
    "<img src=\"bootstrap_proportion.png\" width=600>"
   ]
  },
  {
   "cell_type": "code",
   "execution_count": null,
   "id": "4f6e4324",
   "metadata": {},
   "outputs": [],
   "source": [
    "# Enter your estimate of the standard deviation \n",
    "\n",
    "\n"
   ]
  },
  {
   "cell_type": "markdown",
   "id": "2efb3360",
   "metadata": {},
   "source": [
    "Using the histograms for student height data above, estimate the standard deviation of female and male height, respectively. How does your results compare with `np.std`?"
   ]
  },
  {
   "cell_type": "code",
   "execution_count": null,
   "id": "abad4440",
   "metadata": {},
   "outputs": [],
   "source": [
    "\n",
    "\n",
    "\n"
   ]
  },
  {
   "cell_type": "markdown",
   "id": "88eacba8",
   "metadata": {},
   "source": [
    "### Normal Distribution \n",
    "\n",
    "Be sure to import the `scipy.stats` package done in the beginning of the notebook. We will use `plot_normal_cdf` and the `stats.norm.cdf` functions together."
   ]
  },
  {
   "cell_type": "code",
   "execution_count": null,
   "id": "5a3af265",
   "metadata": {},
   "outputs": [],
   "source": [
    "plot_normal_cdf(lbound = -1, rbound = 1)"
   ]
  },
  {
   "cell_type": "markdown",
   "id": "bd30ee1f",
   "metadata": {},
   "source": [
    "Use `stats.norm.cdf` to find the area between z = -1.5 and 0.5 "
   ]
  },
  {
   "cell_type": "code",
   "execution_count": null,
   "id": "5bae08fd",
   "metadata": {},
   "outputs": [],
   "source": []
  },
  {
   "cell_type": "markdown",
   "id": "a1812e7b",
   "metadata": {},
   "source": [
    "Find the area to the right of z = 3"
   ]
  },
  {
   "cell_type": "code",
   "execution_count": null,
   "id": "3d1875af",
   "metadata": {},
   "outputs": [],
   "source": []
  },
  {
   "cell_type": "markdown",
   "id": "0964ac8b",
   "metadata": {},
   "source": [
    "Use the mean and standard deviation of the male and female students and use ```plot_normal_cdf(rbound, lbound, mean, sd)``` to create a similar graph as the one shown for $P(-1<z<1)$, but in different scales. "
   ]
  },
  {
   "cell_type": "code",
   "execution_count": null,
   "id": "10a84c75",
   "metadata": {},
   "outputs": [],
   "source": []
  },
  {
   "cell_type": "markdown",
   "id": "75e279d4",
   "metadata": {},
   "source": [
    "Examine the following code. What does the `stats.norm.ppf` function do? Describe it in your own words. "
   ]
  },
  {
   "cell_type": "code",
   "execution_count": null,
   "id": "1c3b0429",
   "metadata": {},
   "outputs": [],
   "source": [
    "a = stats.norm.ppf(0.05)\n",
    "b = stats.norm.ppf(0.95)\n",
    "stats.norm.cdf(b) - stats.norm.cdf(a)"
   ]
  },
  {
   "cell_type": "code",
   "execution_count": null,
   "id": "1b960ac1",
   "metadata": {},
   "outputs": [],
   "source": []
  },
  {
   "cell_type": "markdown",
   "id": "909551dc",
   "metadata": {},
   "source": [
    "Use `stats.norm.ppf` to identify z-scores that identify the middle 50% of the area under the standard normal distribution. "
   ]
  },
  {
   "cell_type": "code",
   "execution_count": null,
   "id": "d776690d",
   "metadata": {},
   "outputs": [],
   "source": []
  },
  {
   "cell_type": "markdown",
   "id": "d6aad7d8",
   "metadata": {},
   "source": [
    "Using the same height data, we can draw two normal curves with the respective mean and standard deviation of male and female students and superimpose them on the original histogram. "
   ]
  },
  {
   "cell_type": "code",
   "execution_count": null,
   "id": "aef7c304",
   "metadata": {},
   "outputs": [],
   "source": [
    "students = Table().read_table('student_data.csv')\n",
    "students.hist('HEIGHT', group='SEX')\n",
    "\n",
    "# keep these x ranges \n",
    "x = np.arange(60, 75, 0.1)\n",
    "# replace the mean and standard deviation with the values found above.  \n",
    "yf = stats.norm.pdf(x, 62, 1)\n",
    "ym = stats.norm.pdf(x, 72, 4)\n",
    "\n",
    "plots.plot(x, yf, x, ym)"
   ]
  },
  {
   "cell_type": "markdown",
   "id": "e8bec9fd",
   "metadata": {},
   "source": [
    "### Central Limit Theorem for Sample Means\n",
    "\n",
    "Treat the student data as the population, and simulate drawing samples of 4 from the population. Be sure to use sampling with replacement. Show the histogram of your sample means and find its mean and standard deviation. "
   ]
  },
  {
   "cell_type": "code",
   "execution_count": null,
   "id": "57e5a685",
   "metadata": {},
   "outputs": [],
   "source": [
    "students.hist('AGE')\n",
    "all_ages = students.column('AGE')\n",
    "np.average(all_ages), np.std(all_ages)"
   ]
  },
  {
   "cell_type": "code",
   "execution_count": null,
   "id": "e01e4cbd",
   "metadata": {},
   "outputs": [],
   "source": [
    "students.sample(4)"
   ]
  },
  {
   "cell_type": "markdown",
   "id": "7fa6718f",
   "metadata": {},
   "source": [
    "Now repeat your experiment by increasing the sample size to 16. What happened to the mean and standard deviation? "
   ]
  },
  {
   "cell_type": "code",
   "execution_count": null,
   "id": "55c1c757",
   "metadata": {},
   "outputs": [],
   "source": []
  },
  {
   "cell_type": "markdown",
   "id": "7988908d",
   "metadata": {},
   "source": [
    "How does your finding compare with the predictions of [Central Limit Theorem](https://inferentialthinking.com/chapters/14/5/Variability_of_the_Sample_Mean.html) ? You can add the following code to your histogram in order to compare the normal curve with the histogram. "
   ]
  },
  {
   "cell_type": "code",
   "execution_count": null,
   "id": "ae241ad8",
   "metadata": {},
   "outputs": [],
   "source": [
    "mean = 22.3\n",
    "stdev = 6.5\n",
    "x = np.arange(15, 50, 0.1)\n",
    "y = stats.norm.pdf(x, mean, stdev)\n",
    "plots.plot(x, y)"
   ]
  },
  {
   "cell_type": "markdown",
   "id": "0ed9805e",
   "metadata": {},
   "source": [
    "### Central Limit Theorem for Sample Proportions\n",
    "\n",
    "The sample proportions can be seen as the mean of a binary variable, where $X=1$ represents the heads of a coin toss, and $X=0$ otherwise. This variable is automatically created when you use np.```count_nonzero```. So in the Alabama jury example, we can use the underlying "
   ]
  },
  {
   "cell_type": "code",
   "execution_count": null,
   "id": "c371133b",
   "metadata": {},
   "outputs": [],
   "source": [
    "p = 0.26\n"
   ]
  },
  {
   "cell_type": "markdown",
   "id": "04bcf2e9",
   "metadata": {},
   "source": []
  }
 ],
 "metadata": {
  "kernelspec": {
   "display_name": ".venv",
   "language": "python",
   "name": "python3"
  },
  "language_info": {
   "codemirror_mode": {
    "name": "ipython",
    "version": 3
   },
   "file_extension": ".py",
   "mimetype": "text/x-python",
   "name": "python",
   "nbconvert_exporter": "python",
   "pygments_lexer": "ipython3",
   "version": "3.12.3"
  }
 },
 "nbformat": 4,
 "nbformat_minor": 5
}
