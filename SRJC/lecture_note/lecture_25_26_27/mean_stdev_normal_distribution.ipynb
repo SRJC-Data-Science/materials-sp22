{
 "cells": [
  {
   "cell_type": "markdown",
   "id": "05d8996d",
   "metadata": {},
   "source": [
    "# Center, Spread, Normal Distribution\n",
    "\n",
    "Complete this problem set with your group (up to 4 students). You can either hand-write your work and submit a hard copy, or go to File -> Download as HTML to generate an HTML file, then either submit it online or as a hard copy. Each group only needs to submit one copy and will receive the same grade. \n",
    "\n",
    "This team homework is based on Lecture 25: Center and Spread, Lecture 26: Normal Distribution and Lecture 27: Sample Means. \n",
    "\n",
    "**Helpful Resource:**\n",
    "- [Python Reference](http://data8.org/sp22/python-reference.html): Cheat sheet of helpful array & table methods used in Data 8!\n",
    "\n",
    "**Recommended Readings**: \n",
    "- [Mean and Median](https://inferentialthinking.com/chapters/14/1/Properties_of_the_Mean.html#)\n",
    "- [Standard Deviation](https://inferentialthinking.com/chapters/14/2/Variability.html)\n",
    "- [Central Limit Theorem for proportions](https://inferentialthinking.com/chapters/14/4/Central_Limit_Theorem.html)\n",
    "- [Central Limit Theorem for Sample Means](https://inferentialthinking.com/chapters/14/5/Variability_of_the_Sample_Mean.html)"
   ]
  },
  {
   "cell_type": "code",
   "execution_count": null,
   "id": "fa8e17b8",
   "metadata": {},
   "outputs": [],
   "source": [
    "# These lines import the Numpy and Datascience modules.\n",
    "import numpy as np\n",
    "from datascience import *\n",
    "from scipy import stats\n",
    "from numpy import sqrt\n",
    "# These lines do some fancy plotting magic.\n",
    "import matplotlib\n",
    "%matplotlib inline\n",
    "import matplotlib.pyplot as plots\n",
    "plots.style.use('fivethirtyeight')\n",
    "import warnings\n",
    "warnings.simplefilter('ignore')"
   ]
  },
  {
   "cell_type": "markdown",
   "id": "09a0f2f0",
   "metadata": {},
   "source": [
    "### Mean, Median, Standard Deviation\n",
    "\n",
    "Find the mean, median and standard deviation of the following data set: 19, 19, 20, 22. Do your work either on paper or using the Python command line *without* the use of ```np.median``` and ```np.sd``` \n",
    "\n",
    "Note: the formula for standard deviation is $SD = \\sqrt{\\frac{\\sum_i (x_i - \\bar{x})^2}{n}}$"
   ]
  },
  {
   "cell_type": "code",
   "execution_count": null,
   "id": "055e82b7",
   "metadata": {},
   "outputs": [],
   "source": [
    "\n"
   ]
  },
  {
   "cell_type": "markdown",
   "id": "bd102c96",
   "metadata": {},
   "source": [
    "How would the addition of an extreme value affect the mean, median and standard deviation? (the statistic is said to be either _sensitive_ or _resistant_ to outliers)"
   ]
  },
  {
   "cell_type": "code",
   "execution_count": null,
   "id": "e82cbd6c",
   "metadata": {},
   "outputs": [],
   "source": []
  },
  {
   "cell_type": "markdown",
   "id": "58d06ad4",
   "metadata": {},
   "source": [
    "Use the student data and `np` functions (`np.average`, `np.median`, `np.std`) to answer questions about the center and spread. "
   ]
  },
  {
   "cell_type": "code",
   "execution_count": null,
   "id": "dff59249",
   "metadata": {},
   "outputs": [],
   "source": [
    "students = Table().read_table('student_data.csv')\n",
    "students.hist('HEIGHT', group='SEX')"
   ]
  },
  {
   "cell_type": "markdown",
   "id": "826d5d24",
   "metadata": {},
   "source": [
    "Find the mean, median and the standard deviation of female and male students, respectively. "
   ]
  },
  {
   "cell_type": "code",
   "execution_count": null,
   "id": "96e5a2a2",
   "metadata": {},
   "outputs": [],
   "source": []
  },
  {
   "cell_type": "markdown",
   "id": "2f7c236b",
   "metadata": {},
   "source": [
    "Examine the tallest female student and the tallest male student. Relatively speaking, who is taller in terms of the standard units (z score)? "
   ]
  },
  {
   "cell_type": "code",
   "execution_count": null,
   "id": "53e06078",
   "metadata": {},
   "outputs": [],
   "source": [
    "\n"
   ]
  },
  {
   "cell_type": "markdown",
   "id": "1335de19",
   "metadata": {},
   "source": [
    "Identify two variables, one showing a left-skewed distribution, and the other a right-skewed distribution. What will be the result from the following command? "
   ]
  },
  {
   "cell_type": "code",
   "execution_count": null,
   "id": "e71e7483",
   "metadata": {},
   "outputs": [],
   "source": [
    "# Identify a left or right-skewed disribution from the student data\n",
    "x = students.column(...)\n",
    "(np.count_nonzero(x > np.average(x)) / len(x)) > 0.5\n"
   ]
  },
  {
   "cell_type": "markdown",
   "id": "71fb1bb4",
   "metadata": {},
   "source": []
  },
  {
   "cell_type": "markdown",
   "id": "d785a503",
   "metadata": {},
   "source": [
    "### Estimating Standard Deviation \n",
    "\n",
    "In addition to observing the inflection point on the histogram, another method of estimating standard deviation from the histogram is to use the interval [a, b] that identifies the middle 95% of the total area, and use $SD \\approx \\frac{(b-a)}{4}$. This works best when the distribution was approximately bell shaped and symmetric. \n",
    "\n",
    "Use this method to estimate the standard deviation from the following distributions. \n",
    "\n",
    "<img src=\"bootstrap_mean.GIF\" width=600>\n",
    "<img src=\"bootstrap_proportion.png\" width=600>"
   ]
  },
  {
   "cell_type": "code",
   "execution_count": null,
   "id": "4f6e4324",
   "metadata": {},
   "outputs": [],
   "source": [
    "# Enter your estimate of the standard deviation \n",
    "\n",
    "\n"
   ]
  },
  {
   "cell_type": "markdown",
   "id": "2efb3360",
   "metadata": {},
   "source": [
    "Based on the ```percentile``` function and the estimation formula $SD \\approx \\frac{(b-a)}{4}$, estimate the standard deviation of female and male height, respectively. How does your results compare with `np.std`?"
   ]
  },
  {
   "cell_type": "code",
   "execution_count": null,
   "id": "abad4440",
   "metadata": {},
   "outputs": [],
   "source": [
    "\n",
    "\n",
    "\n"
   ]
  },
  {
   "cell_type": "markdown",
   "id": "88eacba8",
   "metadata": {},
   "source": [
    "### Normal Distribution \n",
    "\n",
    "Be sure to import the `scipy.stats` package done in the beginning of the notebook. We will use `plot_normal_cdf` and the `stats.norm.cdf` functions together."
   ]
  },
  {
   "cell_type": "code",
   "execution_count": null,
   "id": "5a3af265",
   "metadata": {},
   "outputs": [],
   "source": [
    "plot_normal_cdf(lbound = -1, rbound = 1)"
   ]
  },
  {
   "cell_type": "markdown",
   "id": "922c8498",
   "metadata": {},
   "source": [
    "You can also draw the curve manually by using the explicit function: "
   ]
  },
  {
   "cell_type": "code",
   "execution_count": null,
   "id": "1cc65a00",
   "metadata": {},
   "outputs": [],
   "source": [
    "from numpy import exp, pi\n",
    "x = np.arange(-3, 3, 0.1)\n",
    "y = (1/sqrt(2*pi))*exp(-(x**2)/(2))\n",
    "plots.plot(x,y)"
   ]
  },
  {
   "cell_type": "markdown",
   "id": "bd30ee1f",
   "metadata": {},
   "source": [
    "Use `stats.norm.cdf` to find the area between z = -1.5 and 0.5 "
   ]
  },
  {
   "cell_type": "code",
   "execution_count": null,
   "id": "5bae08fd",
   "metadata": {},
   "outputs": [],
   "source": []
  },
  {
   "cell_type": "markdown",
   "id": "a1812e7b",
   "metadata": {},
   "source": [
    "Find the area to the right of z = 3"
   ]
  },
  {
   "cell_type": "code",
   "execution_count": null,
   "id": "3d1875af",
   "metadata": {},
   "outputs": [],
   "source": []
  },
  {
   "cell_type": "markdown",
   "id": "0964ac8b",
   "metadata": {},
   "source": [
    "Use the mean and standard deviation of the female students and use ```plot_normal_cdf(rbound, lbound, mean, sd)``` to create a similar graph as the one shown for $P(-1<Z<1)$, but in different scales. "
   ]
  },
  {
   "cell_type": "code",
   "execution_count": null,
   "id": "10a84c75",
   "metadata": {},
   "outputs": [],
   "source": []
  },
  {
   "cell_type": "markdown",
   "id": "75e279d4",
   "metadata": {},
   "source": [
    "Examine the following code. What does the `stats.norm.ppf` function do? Describe it in your own words. "
   ]
  },
  {
   "cell_type": "code",
   "execution_count": null,
   "id": "1c3b0429",
   "metadata": {},
   "outputs": [],
   "source": [
    "a = stats.norm.ppf(0.05)\n",
    "b = stats.norm.ppf(0.95)\n",
    "stats.norm.cdf(b) - stats.norm.cdf(a)"
   ]
  },
  {
   "cell_type": "markdown",
   "id": "909551dc",
   "metadata": {},
   "source": [
    "Use `stats.norm.ppf` to identify z-scores that mark the middle 95% of the area (e.g. $P(-a < Z < a) = 0.95$)) under the standard normal distribution. How are they related to the formula for estimating the standard deviation? "
   ]
  },
  {
   "cell_type": "code",
   "execution_count": null,
   "id": "d776690d",
   "metadata": {},
   "outputs": [],
   "source": []
  },
  {
   "cell_type": "markdown",
   "id": "d6aad7d8",
   "metadata": {},
   "source": [
    "Using the same height data, we can draw two normal curves with the respective mean and standard deviation of male and female students and superimpose them on the original histogram. "
   ]
  },
  {
   "cell_type": "code",
   "execution_count": null,
   "id": "aef7c304",
   "metadata": {},
   "outputs": [],
   "source": [
    "students = Table().read_table('student_data.csv')\n",
    "students.hist('HEIGHT', group='SEX')\n",
    "\n",
    "# keep these x ranges \n",
    "x = np.arange(60, 75, 0.1)\n",
    "# replace the means and standard deviations with the values found from Table.group() \n",
    "yf = stats.norm.pdf(x, 62, 1)\n",
    "ym = stats.norm.pdf(x, 72, 4)\n",
    "\n",
    "plots.plot(x, yf, x, ym)"
   ]
  },
  {
   "cell_type": "markdown",
   "id": "e8bec9fd",
   "metadata": {},
   "source": [
    "### Central Limit Theorem for Sample Means\n",
    "\n",
    "Treat the student data as the population, and simulate drawing samples of 4 from the population. Be sure to use sampling with replacement. Show the histogram of your sample means and find its mean and standard deviation. "
   ]
  },
  {
   "cell_type": "code",
   "execution_count": null,
   "id": "57e5a685",
   "metadata": {},
   "outputs": [],
   "source": [
    "students.hist('AGE')\n",
    "all_ages = students.column('AGE')\n",
    "x = np.arange(min(all_ages), max(all_ages), 0.1)\n",
    "y = stats.norm.pdf(x, np.average(all_ages), np.std(all_ages))\n",
    "plots.plot(x, y)"
   ]
  },
  {
   "cell_type": "code",
   "execution_count": null,
   "id": "e01e4cbd",
   "metadata": {},
   "outputs": [],
   "source": [
    "# this draws the sample of 4 with replacement. \n",
    "# Now construct a sampling distribution of means by repeating sampling \n",
    "students.sample(4)"
   ]
  },
  {
   "cell_type": "markdown",
   "id": "7fa6718f",
   "metadata": {},
   "source": [
    "Now repeat your experiment by increasing the sample size to 16. What happened to the mean and standard deviation of these sample means? \n",
    "\n",
    "The following code helps us compare the sampling distribution from different sample sizes (n) "
   ]
  },
  {
   "cell_type": "code",
   "execution_count": null,
   "id": "55c1c757",
   "metadata": {},
   "outputs": [],
   "source": [
    "def sampling_distribution_means(table, col_label, n, iter):\n",
    "    results = make_array()\n",
    "    for i in np.arange(iter):\n",
    "        sample_mean = np.average(table.sample(n).column(col_label))\n",
    "        results = np.append(results, sample_mean)\n",
    "    print(\"Mean of Sample Means of n=\", n, \":\", np.average(results))\n",
    "    print(\"StDev of Sample Means of n=\", n, \":\", np.std(results))\n",
    "    return results\n",
    "\n",
    "def CLT_demo(table, col_label):\n",
    "    nreps = 5000\n",
    "    results_n1 = sampling_distribution_means(table, col_label, 1, nreps)\n",
    "    results_n4 = sampling_distribution_means(table, col_label, 4, nreps)\n",
    "    results_n16 = sampling_distribution_means(table, col_label, 16, nreps)\n",
    "    nsize = np.concatenate((np.ones(nreps), np.ones(nreps)*4, np.ones(nreps)*16))\n",
    "    results = np.concatenate((results_n1, results_n4, results_n16))\n",
    "    results_table = Table().with_columns(\"Sample Size\", nsize, \"Sample Means\", results)\n",
    "    return results_table\n",
    "\n",
    "results_table = CLT_demo(students, 'AGE')\n",
    "results_table.hist(group=\"Sample Size\")\n",
    "\n",
    "means_table = results_table.group('Sample Size', np.average)\n",
    "sd_table = results_table.group('Sample Size', np.std)\n",
    "\n",
    "means_table, sd_table\n",
    "x = np.arange(15, 50, 0.1)\n",
    "y1 = stats.norm.pdf(x, means_table.column(1).item(0), sd_table.column(1).item(0))\n",
    "\n",
    "y4 = stats.norm.pdf(x, means_table.column(1).item(1), sd_table.column(1).item(1))\n",
    "y16 = stats.norm.pdf(x, means_table.column(1).item(2), sd_table.column(1).item(2))\n",
    "\n",
    "plots.plot(x, y1, x, y4, x, y16)"
   ]
  },
  {
   "cell_type": "markdown",
   "id": "7988908d",
   "metadata": {},
   "source": [
    "How does your finding compare with the predictions of [Central Limit Theorem](https://inferentialthinking.com/chapters/14/5/Variability_of_the_Sample_Mean.html) ? \n",
    "\n",
    "Three elements of the Central Limit Theorem: \n",
    "- For a fixed sample size (larger is better), the distribution of all sample means is approximately normal. \n",
    "- $\\text{Mean of all possible sample means} = \\text{Population Mean}$\n",
    "- $\\text{SD of all possible sample means} = \\frac{\\text{Population SD}}{\\sqrt{\\text{sample size}}}$"
   ]
  },
  {
   "cell_type": "code",
   "execution_count": null,
   "id": "ae241ad8",
   "metadata": {},
   "outputs": [],
   "source": []
  },
  {
   "cell_type": "markdown",
   "id": "0ed9805e",
   "metadata": {},
   "source": [
    "### Central Limit Theorem for Sample Proportions\n",
    "\n",
    "The sample proportions can be seen as the mean of a binary variable (coin toss), where $X=1$ represents the heads of a coin toss, and $X=0$ otherwise. It can be shown that if $P(X=1)=p$, then the mean and SD for the binary variable is $p$ and $\\sqrt{p(1-p)}$, respectively. We can verify these formulas through the simulation below. "
   ]
  },
  {
   "cell_type": "code",
   "execution_count": null,
   "id": "a6ae4a7e",
   "metadata": {},
   "outputs": [],
   "source": [
    "p = 0.26\n",
    "model = make_array(p, 1-p)\n",
    "results = make_array()\n",
    "# we can simulate tossing 1 coin through sample_proportions by using n=1\n",
    "for i in np.arange(10000):\n",
    "    prop = sample_proportions(1, model).item(0)\n",
    "    results = np.append(results, prop)\n",
    "# the mean and SD of this binary variable is p and sqrt(p*(1-p)), respectively. \n",
    "print('Predicted mean=', p, ', SD=', sqrt(p*(1-p)))\n",
    "np.average(results), np.std(results)"
   ]
  },
  {
   "cell_type": "markdown",
   "id": "057baa1c",
   "metadata": {},
   "source": [
    "\n",
    "Returning to the Alabama jury example, we can use the underlying parameter $p$ to generate a sampling distribution of sample proportions based on sample size $n$. Since each sample proportion can be seen as the mean of $n$ binary variables, Central Limit Theorem here predicts that: \n",
    "\n",
    "$$ \\text{Mean of Sample Proportions} = \\text{Mean of Coin Toss} = p$$\n",
    "$$ \\text{SD of Sample Proportions} = \\frac{\\text{SD of Coin Toss}}{\\sqrt{n}} = \\frac{\\sqrt{p(1-p)}}{\\sqrt{n}} = \\sqrt{\\frac{p(1-p)}{n}}$$"
   ]
  },
  {
   "cell_type": "code",
   "execution_count": null,
   "id": "c371133b",
   "metadata": {},
   "outputs": [],
   "source": [
    "# here we repeat the simulation of sampling 100 jurors from the population where p=0.26\n",
    "p = 0.26\n",
    "model = make_array(p, 1-p)\n",
    "n = 100\n",
    "results = make_array()\n",
    "# here we use the sample proportion as the statistic to make it comparable to CLT\n",
    "for i in np.arange(10000):\n",
    "    prop = sample_proportions(n, model).item(0)\n",
    "    results = np.append(results, prop)"
   ]
  },
  {
   "cell_type": "markdown",
   "id": "1bde5732",
   "metadata": {},
   "source": [
    "Now we can compare the empirical distribution of sample proportion with the prediction of the Central Limit Theorem. "
   ]
  },
  {
   "cell_type": "code",
   "execution_count": null,
   "id": "48af4b63",
   "metadata": {},
   "outputs": [],
   "source": [
    "from math import sqrt\n",
    "#computing the SD for the sample proportion according to CLT\n",
    "sigma = sqrt(p*(1-p)/n)\n",
    "x = np.arange(p-4*sigma, p+4*sigma, sigma/10)\n",
    "#The mean of the sample proportion is p, and SD was sqrt(p*(1-p)/n)\n",
    "y = stats.norm.pdf(x, p, sigma)\n",
    "Table().with_column('Sample proportions', results).hist()\n",
    "plots.plot(x, y)"
   ]
  },
  {
   "cell_type": "markdown",
   "id": "04bcf2e9",
   "metadata": {},
   "source": [
    "The normal curve provides the exact p-value based on the Central Limit Theorem. To see an example, based on the null hypothesis that the jury panel accurrately represents the juror population, compare the p-value for a jury panel that contains 15% black jurors obtained through simulation, and one that is based on the normal curve. (Note: you need to convert the test statistic to a Z-score, and use ```plot_normal_cdf``` above to compute the exact p-value.)"
   ]
  },
  {
   "cell_type": "code",
   "execution_count": null,
   "id": "e78554d1",
   "metadata": {},
   "outputs": [],
   "source": [
    "# approximate p-value by simulation\n",
    "\n",
    "\n",
    "# exact p-value by CLT\n",
    "\n"
   ]
  },
  {
   "cell_type": "markdown",
   "id": "d5bf5312",
   "metadata": {},
   "source": [
    "Here we see that what we have done previously in hypothesis testing was a simulation that was supported by the Central Limit Theorem, and the approximate p-value gets better as the number of simulations increases. "
   ]
  },
  {
   "cell_type": "markdown",
   "id": "d451d87b",
   "metadata": {},
   "source": []
  }
 ],
 "metadata": {
  "kernelspec": {
   "display_name": ".venv",
   "language": "python",
   "name": "python3"
  },
  "language_info": {
   "codemirror_mode": {
    "name": "ipython",
    "version": 3
   },
   "file_extension": ".py",
   "mimetype": "text/x-python",
   "name": "python",
   "nbconvert_exporter": "python",
   "pygments_lexer": "ipython3",
   "version": "3.12.3"
  }
 },
 "nbformat": 4,
 "nbformat_minor": 5
}
