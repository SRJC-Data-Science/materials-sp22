{
 "cells": [
  {
   "cell_type": "markdown",
   "id": "05d8996d",
   "metadata": {},
   "source": [
    "# Percentils, Bootstrapping and Confidence Intervals\n",
    "\n",
    "Complete this problem set with your group (up to 4 students). You can either hand-write your work and submit a hard copy, or go to File -> Download as HTML to generate an HTML file, then either submit it online or as a hard copy. Each group only needs to submit one copy and will receive the same grade. \n",
    "\n",
    "This team homework reviews Lecture 23: Confidence Intervals and Lecture 24: Interpreting Confidence. \n",
    "\n",
    "**Helpful Resource:**\n",
    "- [Python Reference](http://data8.org/sp22/python-reference.html): Cheat sheet of helpful array & table methods used in Data 8!\n",
    "\n",
    "**Recommended Readings**: \n",
    "- [Percentiles](https://inferentialthinking.com/chapters/13/1/Percentiles.html)\n",
    "- [Bootstrap](https://inferentialthinking.com/chapters/13/2/Bootstrap.html)\n",
    "- [Confidence Intervals](https://inferentialthinking.com/chapters/13/3/Confidence_Intervals.html)"
   ]
  },
  {
   "cell_type": "code",
   "execution_count": 1,
   "id": "085d3bd7",
   "metadata": {},
   "outputs": [],
   "source": [
    "from datascience import *\n",
    "%matplotlib inline\n",
    "path_data = '../../../assets/data/'\n",
    "import matplotlib.pyplot as plots\n",
    "plots.style.use('fivethirtyeight')\n",
    "import numpy as np\n",
    "from math import ceil"
   ]
  },
  {
   "cell_type": "markdown",
   "id": "11ca5ed8",
   "metadata": {},
   "source": [
    "### Percentiles\n",
    "\n",
    "Use the student data to identify the 20th, 40th, 60th, and 80th quartile of the height. Calculate your answers in two ways: once using the `percentile` function provided by the `datascience` package, and a second time by using the definition of percentiles. The position $L$ in a sorted list for the k-th percentile is given by: \n",
    "\n",
    "$L = \\frac{k}{100} * n$\n",
    "\n",
    "If L is not an integer, you can use the `ceil` function in the `math` package to round $L$ up to the next greater integer. "
   ]
  },
  {
   "cell_type": "code",
   "execution_count": 2,
   "id": "93501703",
   "metadata": {},
   "outputs": [],
   "source": [
    "students = Table.read_table('student_data.csv')\n",
    "hgt = students.column('HEIGHT')\n",
    "hgt.sort()\n"
   ]
  },
  {
   "cell_type": "markdown",
   "id": "05bfea38",
   "metadata": {},
   "source": [
    "The `boxplot` shows some of the important percentiles from a given set of data. Run the following code to examine the boxplot of the student height data. How do your percentiles compare with these? "
   ]
  },
  {
   "cell_type": "code",
   "execution_count": 3,
   "id": "fbc822d2",
   "metadata": {},
   "outputs": [
    {
     "data": {
      "image/png": "[encoded data removed]",
      "text/plain": [
       "<Figure size 640x480 with 1 Axes>"
      ]
     },
     "metadata": {},
     "output_type": "display_data"
    }
   ],
   "source": [
    "students.select('HEIGHT').boxplot()"
   ]
  },
  {
   "cell_type": "markdown",
   "id": "9039dc6c",
   "metadata": {},
   "source": [
    "### Bootstrapping\n",
    "\n",
    "Prices of 10 textbooks are shown below. "
   ]
  },
  {
   "cell_type": "code",
   "execution_count": 5,
   "id": "47b6f2f9",
   "metadata": {},
   "outputs": [],
   "source": [
    "ten_books = make_array(35, 83, 102, 58, 91, 155, 205, 220, 120, 67, 99)"
   ]
  },
  {
   "cell_type": "markdown",
   "id": "405192a7",
   "metadata": {},
   "source": [
    "Find the sample mean. "
   ]
  },
  {
   "cell_type": "code",
   "execution_count": null,
   "id": "d1f69c65",
   "metadata": {},
   "outputs": [],
   "source": []
  },
  {
   "cell_type": "markdown",
   "id": "0f1ad95e",
   "metadata": {},
   "source": [
    "Use `sample` to create a bootstrap sample. Does your sample contain any repeated values? Is this a problem? "
   ]
  },
  {
   "cell_type": "code",
   "execution_count": null,
   "id": "cf9baa8b",
   "metadata": {},
   "outputs": [],
   "source": []
  },
  {
   "cell_type": "markdown",
   "id": "eb485035",
   "metadata": {},
   "source": [
    "Find the mean of this bootstrap sample. "
   ]
  },
  {
   "cell_type": "code",
   "execution_count": null,
   "id": "d289eaa6",
   "metadata": {},
   "outputs": [],
   "source": []
  },
  {
   "cell_type": "markdown",
   "id": "6a50e1cd",
   "metadata": {},
   "source": [
    "If we generate many means from all the bootstrap samples, where will this bootstrap distribution be centered?  "
   ]
  },
  {
   "cell_type": "code",
   "execution_count": null,
   "id": "3fb41aaa",
   "metadata": {},
   "outputs": [],
   "source": []
  },
  {
   "cell_type": "markdown",
   "id": "8c8234f7",
   "metadata": {},
   "source": [
    "### Confidence Intervals from Previous Simulations\n",
    "\n",
    "What percentage of Americans believe in global warming?  A survey on 2,251 randomly selected individuals conducted in October 2020 found that 1,328 answered Yes to the question “Is there solid evidence of global warming?”   A bootstrap distribution for this data is shown.  \n",
    "\n",
    "<img src=\"bootstrap_proportion.png\" width=600>"
   ]
  },
  {
   "cell_type": "markdown",
   "id": "67318cf2",
   "metadata": {},
   "source": [
    "What does each value represent in this graph? "
   ]
  },
  {
   "cell_type": "code",
   "execution_count": null,
   "id": "ac2388dd",
   "metadata": {},
   "outputs": [],
   "source": [
    "\n"
   ]
  },
  {
   "cell_type": "markdown",
   "id": "6e0268ca",
   "metadata": {},
   "source": [
    "Use the information in the graph to give and interpret a 95% CI for the proportion of Americans who believe there is solid evidence of global warming. (Note: you can use the closest values on the X-axis to approximate the middle 95% of the total area) "
   ]
  },
  {
   "cell_type": "code",
   "execution_count": null,
   "id": "ef1fff79",
   "metadata": {},
   "outputs": [],
   "source": []
  },
  {
   "cell_type": "markdown",
   "id": "a62d92a6",
   "metadata": {},
   "source": [
    "A survey of 50 four-year colleges in the U.S. shows their tuition in 2020. Based on this sample, bootstrapping was used to resample from the 50 colleges and the distribution of the bootstrap sample means is shown below. \n",
    "<img src=\"bootstrap_mean.GIF\" width=800>"
   ]
  },
  {
   "cell_type": "markdown",
   "id": "6f3189e4",
   "metadata": {},
   "source": [
    "Use this graph to derive the 95% confidence interval of the mean tuition cost in U.S. 4-year colleges. "
   ]
  },
  {
   "cell_type": "code",
   "execution_count": null,
   "id": "85aecc2b",
   "metadata": {},
   "outputs": [],
   "source": [
    "\n",
    "\n",
    "\n"
   ]
  },
  {
   "cell_type": "markdown",
   "id": "48a8622c",
   "metadata": {},
   "source": [
    "### Constructing a Confidence Interval \n",
    "\n",
    "The following code uses the student data to create a bootstrap confidence interval for the average age. In the usage of ```table.sample```, is it doing sampling with or without replacement?  What would happen otherwise?   "
   ]
  },
  {
   "cell_type": "code",
   "execution_count": 18,
   "id": "859cb981",
   "metadata": {},
   "outputs": [
    {
     "data": {
      "image/png": "[encoded data removed]",
      "text/plain": [
       "<Figure size 600x400 with 1 Axes>"
      ]
     },
     "metadata": {},
     "output_type": "display_data"
    }
   ],
   "source": [
    "bootstrap_means = make_array()\n",
    "for i in np.arange(5000):\n",
    "    resampled_mean = np.average(students.sample().column('AGE'))\n",
    "    bootstrap_means = np.append(bootstrap_means, resampled_mean)\n",
    "\n",
    "Table().with_column('bootstrap means', bootstrap_means).hist()"
   ]
  },
  {
   "cell_type": "markdown",
   "id": "705bc163",
   "metadata": {},
   "source": [
    "Use the `bootstrap_means` array and `percentile` function to compute the 90%, 95% and 99% confidence intervals for the average age. "
   ]
  },
  {
   "cell_type": "code",
   "execution_count": null,
   "id": "d5a34ee6",
   "metadata": {},
   "outputs": [],
   "source": [
    "# you can draw the interval on the histogram by using plots.plot([left, right], [0, 0], color='red', lw=8);\n",
    "# 90% confidence interval\n",
    "\n",
    "\n",
    "# 95% C.I.\n",
    "\n",
    "\n",
    "# 99% C.I.\n"
   ]
  },
  {
   "cell_type": "markdown",
   "id": "9f34802d",
   "metadata": {},
   "source": [
    "Using the NBA data to construct a 95% confidence interval for the average salary of players in 2020 and compare it with the 2010 season.  "
   ]
  },
  {
   "cell_type": "code",
   "execution_count": 57,
   "id": "e3fec75d",
   "metadata": {},
   "outputs": [],
   "source": [
    "nba = Table.read_table('nba_salaries.csv')\n",
    "nba20 = nba.where('season', are.equal_to(2020))\n",
    "nba10 = nba.where('season', are.equal_to(2010))"
   ]
  },
  {
   "cell_type": "code",
   "execution_count": 55,
   "id": "5eb19c07",
   "metadata": {},
   "outputs": [],
   "source": [
    "def average_salary_bootstrap(table):\n",
    "    bootstrap_means = make_array()\n",
    "    for i in np.arange(5000):\n",
    "        resampled_mean = np.average(table.sample().column('salary'))\n",
    "        bootstrap_means = np.append(bootstrap_means, resampled_mean)\n",
    "    return bootstrap_means\n",
    "\n",
    "means20 = average_salary_bootstrap(nba20)\n",
    "means10 = average_salary_bootstrap(nba10)"
   ]
  },
  {
   "cell_type": "markdown",
   "id": "3830eb4d",
   "metadata": {},
   "source": [
    "Use the NBA data, can you find how many percent of all the players play the Center (C) position in 2020 v.s. 2010?"
   ]
  },
  {
   "cell_type": "code",
   "execution_count": null,
   "id": "689a7da7",
   "metadata": {},
   "outputs": [],
   "source": []
  },
  {
   "cell_type": "markdown",
   "id": "f193176a",
   "metadata": {},
   "source": [
    "Use the same data to produce 95% confidence intervals for the proportion of centers in 2020 v.s. 2010."
   ]
  },
  {
   "cell_type": "code",
   "execution_count": 58,
   "id": "b04b6dbd",
   "metadata": {},
   "outputs": [],
   "source": [
    "def prop_center_bootstrap(table):\n",
    "    bootstrap_props = make_array()\n",
    "    for i in np.arange(5000):\n",
    "        resampled_prop = np.count_nonzero(table.sample().column('position') == 'C') / table.num_rows\n",
    "        bootstrap_props = np.append(bootstrap_props, resampled_prop)\n",
    "    return bootstrap_props\n"
   ]
  },
  {
   "cell_type": "markdown",
   "id": "1b0a7785",
   "metadata": {},
   "source": [
    "Based on these confidence intervals, is there an evidence that the percentage of centers in NBA changed significantly from 2010 to 2020? "
   ]
  },
  {
   "cell_type": "markdown",
   "id": "7f181916",
   "metadata": {},
   "source": []
  }
 ],
 "metadata": {
  "kernelspec": {
   "display_name": "Python 3 (ipykernel)",
   "language": "python",
   "name": "python3"
  },
  "language_info": {
   "codemirror_mode": {
    "name": "ipython",
    "version": 3
   },
   "file_extension": ".py",
   "mimetype": "text/x-python",
   "name": "python",
   "nbconvert_exporter": "python",
   "pygments_lexer": "ipython3",
   "version": "3.12.3"
  }
 },
 "nbformat": 4,
 "nbformat_minor": 5
}
