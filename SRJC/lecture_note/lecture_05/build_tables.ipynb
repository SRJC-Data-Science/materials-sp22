{
 "cells": [
  {
   "cell_type": "markdown",
   "id": "46712aa3",
   "metadata": {},
   "source": [
    "## Lecture Notes - Build Tables ##\n",
    "\n",
    "**Helpful Resource:**\n",
    "- [Python Reference](http://data8.org/sp22/python-reference.html): Cheat sheet of helpful array & table methods used in Data 8!\n",
    "\n",
    "**Recommended Readings:**\n",
    "- [Tables](https://inferentialthinking.com/chapters/06/Tables.html)\n",
    "- [Arrays](https://inferentialthinking.com/chapters/05/1/Arrays.html)\n",
    "- [Programming in Python](http://www.inferentialthinking.com/chapters/03/programming-in-python.html)\n",
    "- [Data Types](https://inferentialthinking.com/chapters/04/Data_Types.html)"
   ]
  },
  {
   "cell_type": "markdown",
   "id": "a86abb44",
   "metadata": {},
   "source": [
    "## Building a Table ##\n",
    "\n",
    "Two ways to build a table:\n",
    "\n",
    "1. Read from a data file (we covered it last lecture)\n",
    "2. Create a table from scratch - by making arrays for table columns `make_array()`"
   ]
  },
  {
   "cell_type": "markdown",
   "id": "1f04453a",
   "metadata": {},
   "source": [
    "### Reading a Table from a Data File (Recap) ###\n",
    "\n",
    "Python reference for CS88\n",
    "1. import `datascience` module\n",
    "2. Read a data file to a table format"
   ]
  },
  {
   "cell_type": "code",
   "execution_count": 1,
   "id": "4055e511",
   "metadata": {
    "scrolled": true
   },
   "outputs": [
    {
     "data": {
      "text/html": [
       "<table border=\"1\" class=\"dataframe\">\n",
       "    <thead>\n",
       "        <tr>\n",
       "            <th>Track</th> <th>Album Name</th> <th>Artist</th> <th>Release Date</th> <th>ISRC</th> <th>All Time Rank</th> <th>Track Score</th> <th>Spotify Streams</th> <th>Spotify Playlist Count</th> <th>Spotify Playlist Reach</th> <th>Spotify Popularity</th> <th>YouTube Views</th> <th>YouTube Likes</th> <th>TikTok Posts</th> <th>TikTok Likes</th> <th>TikTok Views</th> <th>YouTube Playlist Reach</th> <th>Apple Music Playlist Count</th> <th>AirPlay Spins</th> <th>SiriusXM Spins</th> <th>Deezer Playlist Count</th> <th>Deezer Playlist Reach</th> <th>Amazon Playlist Count</th> <th>Pandora Streams</th> <th>Pandora Track Stations</th> <th>Soundcloud Streams</th> <th>Shazam Counts</th> <th>TIDAL Popularity</th> <th>Explicit Track</th>\n",
       "        </tr>\n",
       "    </thead>\n",
       "    <tbody>\n",
       "        <tr>\n",
       "            <td>MILLION DOLLAR BABY       </td> <td>Million Dollar Baby - Single                </td> <td>Tommy Richman </td> <td>4/26/2024   </td> <td>QM24S2402528</td> <td>1            </td> <td>725.4      </td> <td>390,470,936    </td> <td>30,716                </td> <td>196,631,588           </td> <td>92                </td> <td>84,274,754   </td> <td>1,713,126    </td> <td>5,767,700   </td> <td>651,565,900  </td> <td>5,332,281,936 </td> <td>150,597,040           </td> <td>210                       </td> <td>40,975       </td> <td>684           </td> <td>62                   </td> <td>17,598,718           </td> <td>114                  </td> <td>18,004,655     </td> <td>22,931                </td> <td>4,818,457         </td> <td>2,669,262    </td> <td>nan             </td> <td>0             </td>\n",
       "        </tr>\n",
       "        <tr>\n",
       "            <td>Not Like Us               </td> <td>Not Like Us                                 </td> <td>Kendrick Lamar</td> <td>5/4/2024    </td> <td>USUG12400910</td> <td>2            </td> <td>545.9      </td> <td>323,703,884    </td> <td>28,113                </td> <td>174,597,137           </td> <td>92                </td> <td>116,347,040  </td> <td>3,486,739    </td> <td>674,700     </td> <td>35,223,547   </td> <td>208,339,025   </td> <td>156,380,351           </td> <td>188                       </td> <td>40,778       </td> <td>3             </td> <td>67                   </td> <td>10,422,430           </td> <td>111                  </td> <td>7,780,028      </td> <td>28,444                </td> <td>6,623,075         </td> <td>1,118,279    </td> <td>nan             </td> <td>1             </td>\n",
       "        </tr>\n",
       "        <tr>\n",
       "            <td>i like the way you kiss me</td> <td>I like the way you kiss me                  </td> <td>Artemas       </td> <td>3/19/2024   </td> <td>QZJ842400387</td> <td>3            </td> <td>538.4      </td> <td>601,309,283    </td> <td>54,331                </td> <td>211,607,669           </td> <td>92                </td> <td>122,599,116  </td> <td>2,228,730    </td> <td>3,025,400   </td> <td>275,154,237  </td> <td>3,369,120,610 </td> <td>373,784,955           </td> <td>190                       </td> <td>74,333       </td> <td>536           </td> <td>136                  </td> <td>36,321,847           </td> <td>172                  </td> <td>5,022,621      </td> <td>5,639                 </td> <td>7,208,651         </td> <td>5,285,340    </td> <td>nan             </td> <td>0             </td>\n",
       "        </tr>\n",
       "        <tr>\n",
       "            <td>Flowers                   </td> <td>Flowers - Single                            </td> <td>Miley Cyrus   </td> <td>1/12/2023   </td> <td>USSM12209777</td> <td>4            </td> <td>444.9      </td> <td>2,031,280,633  </td> <td>269,802               </td> <td>136,569,078           </td> <td>85                </td> <td>1,096,100,899</td> <td>10,629,796   </td> <td>7,189,811   </td> <td>1,078,757,968</td> <td>14,603,725,994</td> <td>3,351,188,582         </td> <td>394                       </td> <td>1,474,799    </td> <td>2,182         </td> <td>264                  </td> <td>24,684,248           </td> <td>210                  </td> <td>190,260,277    </td> <td>203,384               </td> <td>nan               </td> <td>11,822,942   </td> <td>nan             </td> <td>0             </td>\n",
       "        </tr>\n",
       "        <tr>\n",
       "            <td>Houdini                   </td> <td>Houdini                                     </td> <td>Eminem        </td> <td>5/31/2024   </td> <td>USUG12403398</td> <td>5            </td> <td>423.3      </td> <td>107,034,922    </td> <td>7,223                 </td> <td>151,469,874           </td> <td>88                </td> <td>77,373,957   </td> <td>3,670,188    </td> <td>16,400      </td> <td>nan          </td> <td>nan           </td> <td>112,763,851           </td> <td>182                       </td> <td>12,185       </td> <td>1             </td> <td>82                   </td> <td>17,660,624           </td> <td>105                  </td> <td>4,493,884      </td> <td>7,006                 </td> <td>207,179           </td> <td>457,017      </td> <td>nan             </td> <td>1             </td>\n",
       "        </tr>\n",
       "        <tr>\n",
       "            <td>Lovin On Me               </td> <td>Lovin On Me                                 </td> <td>Jack Harlow   </td> <td>11/10/2023  </td> <td>USAT22311371</td> <td>6            </td> <td>410.1      </td> <td>670,665,438    </td> <td>105,892               </td> <td>175,421,034           </td> <td>83                </td> <td>131,148,091  </td> <td>1,392,593    </td> <td>4,202,367   </td> <td>214,943,489  </td> <td>2,938,686,633 </td> <td>2,867,222,632         </td> <td>138                       </td> <td>522,042      </td> <td>4,654         </td> <td>86                   </td> <td>17,167,254           </td> <td>152                  </td> <td>138,529,362    </td> <td>50,982                </td> <td>9,438,601         </td> <td>4,517,131    </td> <td>nan             </td> <td>1             </td>\n",
       "        </tr>\n",
       "        <tr>\n",
       "            <td>Beautiful Things          </td> <td>Beautiful Things                            </td> <td>Benson Boone  </td> <td>1/18/2024   </td> <td>USWB12307016</td> <td>7            </td> <td>407.2      </td> <td>900,158,751    </td> <td>73,118                </td> <td>201,585,714           </td> <td>86                </td> <td>308,723,145  </td> <td>4,120,760    </td> <td>nan         </td> <td>29,584,940   </td> <td>534,915,313   </td> <td>4,601,579,812         </td> <td>280                       </td> <td>383,478      </td> <td>429           </td> <td>168                  </td> <td>48,197,850           </td> <td>154                  </td> <td>65,447,476     </td> <td>57,372                </td> <td>nan               </td> <td>9,990,302    </td> <td>nan             </td> <td>0             </td>\n",
       "        </tr>\n",
       "        <tr>\n",
       "            <td>Gata Only                 </td> <td>Gata Only                                   </td> <td>FloyyMenor    </td> <td>2/2/2024    </td> <td>QZL382406049</td> <td>8            </td> <td>375.8      </td> <td>675,079,153    </td> <td>40,094                </td> <td>211,236,940           </td> <td>92                </td> <td>228,382,568  </td> <td>1,439,495    </td> <td>3,500,000   </td> <td>338,546,668  </td> <td>3,804,584,163 </td> <td>2,112,581,620         </td> <td>160                       </td> <td>17,221       </td> <td>30            </td> <td>87                   </td> <td>33,245,595           </td> <td>53                   </td> <td>3,372,428      </td> <td>5,762                 </td> <td>nan               </td> <td>6,063,523    </td> <td>nan             </td> <td>1             </td>\n",
       "        </tr>\n",
       "        <tr>\n",
       "            <td>Danza Kuduro - Cover      </td> <td>��������������������� - ������������������ -</td> <td>MUSIC LAB JPN </td> <td>6/9/2024    </td> <td>TCJPA2463708</td> <td>9            </td> <td>355.7      </td> <td>1,653,018,119  </td> <td>1                     </td> <td>15                    </td> <td>nan               </td> <td>nan          </td> <td>nan          </td> <td>nan         </td> <td>nan          </td> <td>nan           </td> <td>nan                   </td> <td>nan                       </td> <td>nan          </td> <td>nan           </td> <td>nan                  </td> <td>nan                  </td> <td>nan                  </td> <td>nan            </td> <td>nan                   </td> <td>nan               </td> <td>nan          </td> <td>nan             </td> <td>1             </td>\n",
       "        </tr>\n",
       "        <tr>\n",
       "            <td>BAND4BAND (feat. Lil Baby)</td> <td>BAND4BAND (feat. Lil Baby)                  </td> <td>Central Cee   </td> <td>5/23/2024   </td> <td>USSM12404354</td> <td>10           </td> <td>330.6      </td> <td>90,676,573     </td> <td>10,400                </td> <td>184,199,419           </td> <td>86                </td> <td>32,735,244   </td> <td>988,682      </td> <td>325,800     </td> <td>121,574,500  </td> <td>974,656,200   </td> <td>174,706,874           </td> <td>191                       </td> <td>3,823        </td> <td>117           </td> <td>78                   </td> <td>10,800,098           </td> <td>92                   </td> <td>1,005,626      </td> <td>842                   </td> <td>3,679,709         </td> <td>666,302      </td> <td>nan             </td> <td>1             </td>\n",
       "        </tr>\n",
       "    </tbody>\n",
       "</table>\n",
       "<p>... (4590 rows omitted)</p>"
      ],
      "text/plain": [
       "Track                      | Album Name                                   | Artist         | Release Date | ISRC         | All Time Rank | Track Score | Spotify Streams | Spotify Playlist Count | Spotify Playlist Reach | Spotify Popularity | YouTube Views | YouTube Likes | TikTok Posts | TikTok Likes  | TikTok Views   | YouTube Playlist Reach | Apple Music Playlist Count | AirPlay Spins | SiriusXM Spins | Deezer Playlist Count | Deezer Playlist Reach | Amazon Playlist Count | Pandora Streams | Pandora Track Stations | Soundcloud Streams | Shazam Counts | TIDAL Popularity | Explicit Track\n",
       "MILLION DOLLAR BABY        | Million Dollar Baby - Single                 | Tommy Richman  | 4/26/2024    | QM24S2402528 | 1             | 725.4       | 390,470,936     | 30,716                 | 196,631,588            | 92                 | 84,274,754    | 1,713,126     | 5,767,700    | 651,565,900   | 5,332,281,936  | 150,597,040            | 210                        | 40,975        | 684            | 62                    | 17,598,718            | 114                   | 18,004,655      | 22,931                 | 4,818,457          | 2,669,262     | nan              | 0\n",
       "Not Like Us                | Not Like Us                                  | Kendrick Lamar | 5/4/2024     | USUG12400910 | 2             | 545.9       | 323,703,884     | 28,113                 | 174,597,137            | 92                 | 116,347,040   | 3,486,739     | 674,700      | 35,223,547    | 208,339,025    | 156,380,351            | 188                        | 40,778        | 3              | 67                    | 10,422,430            | 111                   | 7,780,028       | 28,444                 | 6,623,075          | 1,118,279     | nan              | 1\n",
       "i like the way you kiss me | I like the way you kiss me                   | Artemas        | 3/19/2024    | QZJ842400387 | 3             | 538.4       | 601,309,283     | 54,331                 | 211,607,669            | 92                 | 122,599,116   | 2,228,730     | 3,025,400    | 275,154,237   | 3,369,120,610  | 373,784,955            | 190                        | 74,333        | 536            | 136                   | 36,321,847            | 172                   | 5,022,621       | 5,639                  | 7,208,651          | 5,285,340     | nan              | 0\n",
       "Flowers                    | Flowers - Single                             | Miley Cyrus    | 1/12/2023    | USSM12209777 | 4             | 444.9       | 2,031,280,633   | 269,802                | 136,569,078            | 85                 | 1,096,100,899 | 10,629,796    | 7,189,811    | 1,078,757,968 | 14,603,725,994 | 3,351,188,582          | 394                        | 1,474,799     | 2,182          | 264                   | 24,684,248            | 210                   | 190,260,277     | 203,384                | nan                | 11,822,942    | nan              | 0\n",
       "Houdini                    | Houdini                                      | Eminem         | 5/31/2024    | USUG12403398 | 5             | 423.3       | 107,034,922     | 7,223                  | 151,469,874            | 88                 | 77,373,957    | 3,670,188     | 16,400       | nan           | nan            | 112,763,851            | 182                        | 12,185        | 1              | 82                    | 17,660,624            | 105                   | 4,493,884       | 7,006                  | 207,179            | 457,017       | nan              | 1\n",
       "Lovin On Me                | Lovin On Me                                  | Jack Harlow    | 11/10/2023   | USAT22311371 | 6             | 410.1       | 670,665,438     | 105,892                | 175,421,034            | 83                 | 131,148,091   | 1,392,593     | 4,202,367    | 214,943,489   | 2,938,686,633  | 2,867,222,632          | 138                        | 522,042       | 4,654          | 86                    | 17,167,254            | 152                   | 138,529,362     | 50,982                 | 9,438,601          | 4,517,131     | nan              | 1\n",
       "Beautiful Things           | Beautiful Things                             | Benson Boone   | 1/18/2024    | USWB12307016 | 7             | 407.2       | 900,158,751     | 73,118                 | 201,585,714            | 86                 | 308,723,145   | 4,120,760     | nan          | 29,584,940    | 534,915,313    | 4,601,579,812          | 280                        | 383,478       | 429            | 168                   | 48,197,850            | 154                   | 65,447,476      | 57,372                 | nan                | 9,990,302     | nan              | 0\n",
       "Gata Only                  | Gata Only                                    | FloyyMenor     | 2/2/2024     | QZL382406049 | 8             | 375.8       | 675,079,153     | 40,094                 | 211,236,940            | 92                 | 228,382,568   | 1,439,495     | 3,500,000    | 338,546,668   | 3,804,584,163  | 2,112,581,620          | 160                        | 17,221        | 30             | 87                    | 33,245,595            | 53                    | 3,372,428       | 5,762                  | nan                | 6,063,523     | nan              | 1\n",
       "Danza Kuduro - Cover       | ��������������������� - ������������������ - | MUSIC LAB JPN  | 6/9/2024     | TCJPA2463708 | 9             | 355.7       | 1,653,018,119   | 1                      | 15                     | nan                | nan           | nan           | nan          | nan           | nan            | nan                    | nan                        | nan           | nan            | nan                   | nan                   | nan                   | nan             | nan                    | nan                | nan           | nan              | 1\n",
       "BAND4BAND (feat. Lil Baby) | BAND4BAND (feat. Lil Baby)                   | Central Cee    | 5/23/2024    | USSM12404354 | 10            | 330.6       | 90,676,573      | 10,400                 | 184,199,419            | 86                 | 32,735,244    | 988,682       | 325,800      | 121,574,500   | 974,656,200    | 174,706,874            | 191                        | 3,823         | 117            | 78                    | 10,800,098            | 92                    | 1,005,626       | 842                    | 3,679,709          | 666,302       | nan              | 1\n",
       "... (4590 rows omitted)"
      ]
     },
     "execution_count": 1,
     "metadata": {},
     "output_type": "execute_result"
    }
   ],
   "source": [
    "from datascience import *\n",
    "Table.read_table(\"spotify.csv\")\n"
   ]
  },
  {
   "cell_type": "markdown",
   "id": "e6dd206c",
   "metadata": {},
   "source": [
    "### View the Table Column Names `tbl.labels` ###\n",
    "\n",
    "`tbl.labels` output the column names\n",
    "\n",
    "The data file may have too many columns to be shown all in one screen.  We can print out only column names without the data, and decide what columns to use for analysis.\n",
    "\n",
    "Then, we can use `tbl.select()` to select or use `tbl.drop()` to remove certain columns fromt the table and assign it to a new table variable.\n"
   ]
  },
  {
   "cell_type": "code",
   "execution_count": 2,
   "id": "bfb60337",
   "metadata": {},
   "outputs": [
    {
     "data": {
      "text/plain": [
       "('Track',\n",
       " 'Album Name',\n",
       " 'Artist',\n",
       " 'Release Date',\n",
       " 'ISRC',\n",
       " 'All Time Rank',\n",
       " 'Track Score',\n",
       " 'Spotify Streams',\n",
       " 'Spotify Playlist Count',\n",
       " 'Spotify Playlist Reach',\n",
       " 'Spotify Popularity',\n",
       " 'YouTube Views',\n",
       " 'YouTube Likes',\n",
       " 'TikTok Posts',\n",
       " 'TikTok Likes',\n",
       " 'TikTok Views',\n",
       " 'YouTube Playlist Reach',\n",
       " 'Apple Music Playlist Count',\n",
       " 'AirPlay Spins',\n",
       " 'SiriusXM Spins',\n",
       " 'Deezer Playlist Count',\n",
       " 'Deezer Playlist Reach',\n",
       " 'Amazon Playlist Count',\n",
       " 'Pandora Streams',\n",
       " 'Pandora Track Stations',\n",
       " 'Soundcloud Streams',\n",
       " 'Shazam Counts',\n",
       " 'TIDAL Popularity',\n",
       " 'Explicit Track')"
      ]
     },
     "execution_count": 2,
     "metadata": {},
     "output_type": "execute_result"
    }
   ],
   "source": [
    "# We want to view only the column label\n",
    "\n",
    "# Option 1: chain methods in one line\n",
    "Table.read_table(\"spotify.csv\").labels\n",
    "\n",
    "# Option 2: use variables / names\n",
    "#raw_spotify = Table.read_table(\"spotify.csv\")\n",
    "#raw_spotify.labels"
   ]
  },
  {
   "cell_type": "code",
   "execution_count": 3,
   "id": "1f75b55e",
   "metadata": {},
   "outputs": [],
   "source": [
    "# We want to look at only the Spotify data\n",
    "#   use `tbl.select()` to select the columns we need and\n",
    "#   assign the table view to a variable.\n",
    "\n",
    "# We can also use `tbl.drop()` to remove the columns we don't need,\n",
    "#   but there are more columns to remove than to select,\n",
    "#   so `tbl.select()` is more effective in the case.\n",
    "\n",
    "raw_spotify = Table.read_table(\"spotify.csv\")\n",
    "\n",
    "spotify = raw_spotify.select(\"Track\", \"Album Name\", \"Artist\", \"Release Date\", \"Spotify Streams\", \"Spotify Playlist Count\", \"Spotify Playlist Reach\", \"Spotify Popularity\")"
   ]
  },
  {
   "cell_type": "markdown",
   "id": "6535c7a0",
   "metadata": {},
   "source": [
    "### `tbl.relabeled()` ###\n",
    "\n",
    "Rename the column names"
   ]
  },
  {
   "cell_type": "code",
   "execution_count": 4,
   "id": "fcce8038",
   "metadata": {
    "scrolled": true
   },
   "outputs": [
    {
     "data": {
      "text/html": [
       "<table border=\"1\" class=\"dataframe\">\n",
       "    <thead>\n",
       "        <tr>\n",
       "            <th>Track</th> <th>Album Name</th> <th>Artist</th> <th>Release Date</th> <th>Streams</th> <th>Spotify Playlist Count</th> <th>Spotify Playlist Reach</th> <th>Spotify Popularity</th>\n",
       "        </tr>\n",
       "    </thead>\n",
       "    <tbody>\n",
       "        <tr>\n",
       "            <td>MILLION DOLLAR BABY       </td> <td>Million Dollar Baby - Single                </td> <td>Tommy Richman </td> <td>4/26/2024   </td> <td>390,470,936  </td> <td>30,716                </td> <td>196,631,588           </td> <td>92                </td>\n",
       "        </tr>\n",
       "        <tr>\n",
       "            <td>Not Like Us               </td> <td>Not Like Us                                 </td> <td>Kendrick Lamar</td> <td>5/4/2024    </td> <td>323,703,884  </td> <td>28,113                </td> <td>174,597,137           </td> <td>92                </td>\n",
       "        </tr>\n",
       "        <tr>\n",
       "            <td>i like the way you kiss me</td> <td>I like the way you kiss me                  </td> <td>Artemas       </td> <td>3/19/2024   </td> <td>601,309,283  </td> <td>54,331                </td> <td>211,607,669           </td> <td>92                </td>\n",
       "        </tr>\n",
       "        <tr>\n",
       "            <td>Flowers                   </td> <td>Flowers - Single                            </td> <td>Miley Cyrus   </td> <td>1/12/2023   </td> <td>2,031,280,633</td> <td>269,802               </td> <td>136,569,078           </td> <td>85                </td>\n",
       "        </tr>\n",
       "        <tr>\n",
       "            <td>Houdini                   </td> <td>Houdini                                     </td> <td>Eminem        </td> <td>5/31/2024   </td> <td>107,034,922  </td> <td>7,223                 </td> <td>151,469,874           </td> <td>88                </td>\n",
       "        </tr>\n",
       "        <tr>\n",
       "            <td>Lovin On Me               </td> <td>Lovin On Me                                 </td> <td>Jack Harlow   </td> <td>11/10/2023  </td> <td>670,665,438  </td> <td>105,892               </td> <td>175,421,034           </td> <td>83                </td>\n",
       "        </tr>\n",
       "        <tr>\n",
       "            <td>Beautiful Things          </td> <td>Beautiful Things                            </td> <td>Benson Boone  </td> <td>1/18/2024   </td> <td>900,158,751  </td> <td>73,118                </td> <td>201,585,714           </td> <td>86                </td>\n",
       "        </tr>\n",
       "        <tr>\n",
       "            <td>Gata Only                 </td> <td>Gata Only                                   </td> <td>FloyyMenor    </td> <td>2/2/2024    </td> <td>675,079,153  </td> <td>40,094                </td> <td>211,236,940           </td> <td>92                </td>\n",
       "        </tr>\n",
       "        <tr>\n",
       "            <td>Danza Kuduro - Cover      </td> <td>��������������������� - ������������������ -</td> <td>MUSIC LAB JPN </td> <td>6/9/2024    </td> <td>1,653,018,119</td> <td>1                     </td> <td>15                    </td> <td>nan               </td>\n",
       "        </tr>\n",
       "        <tr>\n",
       "            <td>BAND4BAND (feat. Lil Baby)</td> <td>BAND4BAND (feat. Lil Baby)                  </td> <td>Central Cee   </td> <td>5/23/2024   </td> <td>90,676,573   </td> <td>10,400                </td> <td>184,199,419           </td> <td>86                </td>\n",
       "        </tr>\n",
       "    </tbody>\n",
       "</table>\n",
       "<p>... (4590 rows omitted)</p>"
      ],
      "text/plain": [
       "Track                      | Album Name                                   | Artist         | Release Date | Streams       | Spotify Playlist Count | Spotify Playlist Reach | Spotify Popularity\n",
       "MILLION DOLLAR BABY        | Million Dollar Baby - Single                 | Tommy Richman  | 4/26/2024    | 390,470,936   | 30,716                 | 196,631,588            | 92\n",
       "Not Like Us                | Not Like Us                                  | Kendrick Lamar | 5/4/2024     | 323,703,884   | 28,113                 | 174,597,137            | 92\n",
       "i like the way you kiss me | I like the way you kiss me                   | Artemas        | 3/19/2024    | 601,309,283   | 54,331                 | 211,607,669            | 92\n",
       "Flowers                    | Flowers - Single                             | Miley Cyrus    | 1/12/2023    | 2,031,280,633 | 269,802                | 136,569,078            | 85\n",
       "Houdini                    | Houdini                                      | Eminem         | 5/31/2024    | 107,034,922   | 7,223                  | 151,469,874            | 88\n",
       "Lovin On Me                | Lovin On Me                                  | Jack Harlow    | 11/10/2023   | 670,665,438   | 105,892                | 175,421,034            | 83\n",
       "Beautiful Things           | Beautiful Things                             | Benson Boone   | 1/18/2024    | 900,158,751   | 73,118                 | 201,585,714            | 86\n",
       "Gata Only                  | Gata Only                                    | FloyyMenor     | 2/2/2024     | 675,079,153   | 40,094                 | 211,236,940            | 92\n",
       "Danza Kuduro - Cover       | ��������������������� - ������������������ - | MUSIC LAB JPN  | 6/9/2024     | 1,653,018,119 | 1                      | 15                     | nan\n",
       "BAND4BAND (feat. Lil Baby) | BAND4BAND (feat. Lil Baby)                   | Central Cee    | 5/23/2024    | 90,676,573    | 10,400                 | 184,199,419            | 86\n",
       "... (4590 rows omitted)"
      ]
     },
     "execution_count": 4,
     "metadata": {},
     "output_type": "execute_result"
    }
   ],
   "source": [
    "spotify.relabeled(\"Spotify Streams\", \"Streams\")"
   ]
  },
  {
   "cell_type": "markdown",
   "id": "e02f0862",
   "metadata": {},
   "source": [
    "### Chain Method Calls ###\n",
    "\n",
    "`tbl.relabeled()` allows to rename only one column at a time, so we need to chain the `relabeled()` to rename multiple columns at once."
   ]
  },
  {
   "cell_type": "code",
   "execution_count": 5,
   "id": "68683379",
   "metadata": {
    "scrolled": true
   },
   "outputs": [],
   "source": [
    "# We focus on Spotify data, then we probably don't need to repeat \n",
    "#   the word 'Spotify' in the column names.\n",
    "# Use `tbl.relabeled()` to rename the columns\n",
    "\n",
    "renamed_spotify = spotify.relabeled(\"Spotify Streams\", \"Streams\").relabeled(\"Spotify Playlist Count\", \"Count\").relabeled(\"Spotify Playlist Reach\", \"Reach\").relabeled(\"Spotify Popularity\", \"Popularity\")\n",
    "#renamed_spotify"
   ]
  },
  {
   "cell_type": "markdown",
   "id": "e0e9d45d",
   "metadata": {},
   "source": [
    "#### Chain Method Calls in Multiple Lines ####\n",
    "\n",
    "Method chaining could be very long. To make it easy to read, we can break it down into multiple lines.\n",
    "\n",
    "##### Option 1: #####\n",
    "\n",
    "Enclosing the chaining in a parentheses `()`.\n",
    "\n",
    "##### Option 2: #####\n",
    "\n",
    "Appending a backslash `\\` at the end a line.\n"
   ]
  },
  {
   "cell_type": "code",
   "execution_count": 6,
   "id": "14937228",
   "metadata": {},
   "outputs": [
    {
     "data": {
      "text/html": [
       "<table border=\"1\" class=\"dataframe\">\n",
       "    <thead>\n",
       "        <tr>\n",
       "            <th>Track</th> <th>Album Name</th> <th>Artist</th> <th>Release Date</th> <th>Streams</th> <th>Count</th> <th>Reach</th> <th>Popularity</th>\n",
       "        </tr>\n",
       "    </thead>\n",
       "    <tbody>\n",
       "        <tr>\n",
       "            <td>MILLION DOLLAR BABY       </td> <td>Million Dollar Baby - Single                </td> <td>Tommy Richman </td> <td>4/26/2024   </td> <td>390,470,936  </td> <td>30,716 </td> <td>196,631,588</td> <td>92        </td>\n",
       "        </tr>\n",
       "        <tr>\n",
       "            <td>Not Like Us               </td> <td>Not Like Us                                 </td> <td>Kendrick Lamar</td> <td>5/4/2024    </td> <td>323,703,884  </td> <td>28,113 </td> <td>174,597,137</td> <td>92        </td>\n",
       "        </tr>\n",
       "        <tr>\n",
       "            <td>i like the way you kiss me</td> <td>I like the way you kiss me                  </td> <td>Artemas       </td> <td>3/19/2024   </td> <td>601,309,283  </td> <td>54,331 </td> <td>211,607,669</td> <td>92        </td>\n",
       "        </tr>\n",
       "        <tr>\n",
       "            <td>Flowers                   </td> <td>Flowers - Single                            </td> <td>Miley Cyrus   </td> <td>1/12/2023   </td> <td>2,031,280,633</td> <td>269,802</td> <td>136,569,078</td> <td>85        </td>\n",
       "        </tr>\n",
       "        <tr>\n",
       "            <td>Houdini                   </td> <td>Houdini                                     </td> <td>Eminem        </td> <td>5/31/2024   </td> <td>107,034,922  </td> <td>7,223  </td> <td>151,469,874</td> <td>88        </td>\n",
       "        </tr>\n",
       "        <tr>\n",
       "            <td>Lovin On Me               </td> <td>Lovin On Me                                 </td> <td>Jack Harlow   </td> <td>11/10/2023  </td> <td>670,665,438  </td> <td>105,892</td> <td>175,421,034</td> <td>83        </td>\n",
       "        </tr>\n",
       "        <tr>\n",
       "            <td>Beautiful Things          </td> <td>Beautiful Things                            </td> <td>Benson Boone  </td> <td>1/18/2024   </td> <td>900,158,751  </td> <td>73,118 </td> <td>201,585,714</td> <td>86        </td>\n",
       "        </tr>\n",
       "        <tr>\n",
       "            <td>Gata Only                 </td> <td>Gata Only                                   </td> <td>FloyyMenor    </td> <td>2/2/2024    </td> <td>675,079,153  </td> <td>40,094 </td> <td>211,236,940</td> <td>92        </td>\n",
       "        </tr>\n",
       "        <tr>\n",
       "            <td>Danza Kuduro - Cover      </td> <td>��������������������� - ������������������ -</td> <td>MUSIC LAB JPN </td> <td>6/9/2024    </td> <td>1,653,018,119</td> <td>1      </td> <td>15         </td> <td>nan       </td>\n",
       "        </tr>\n",
       "        <tr>\n",
       "            <td>BAND4BAND (feat. Lil Baby)</td> <td>BAND4BAND (feat. Lil Baby)                  </td> <td>Central Cee   </td> <td>5/23/2024   </td> <td>90,676,573   </td> <td>10,400 </td> <td>184,199,419</td> <td>86        </td>\n",
       "        </tr>\n",
       "    </tbody>\n",
       "</table>\n",
       "<p>... (4590 rows omitted)</p>"
      ],
      "text/plain": [
       "Track                      | Album Name                                   | Artist         | Release Date | Streams       | Count   | Reach       | Popularity\n",
       "MILLION DOLLAR BABY        | Million Dollar Baby - Single                 | Tommy Richman  | 4/26/2024    | 390,470,936   | 30,716  | 196,631,588 | 92\n",
       "Not Like Us                | Not Like Us                                  | Kendrick Lamar | 5/4/2024     | 323,703,884   | 28,113  | 174,597,137 | 92\n",
       "i like the way you kiss me | I like the way you kiss me                   | Artemas        | 3/19/2024    | 601,309,283   | 54,331  | 211,607,669 | 92\n",
       "Flowers                    | Flowers - Single                             | Miley Cyrus    | 1/12/2023    | 2,031,280,633 | 269,802 | 136,569,078 | 85\n",
       "Houdini                    | Houdini                                      | Eminem         | 5/31/2024    | 107,034,922   | 7,223   | 151,469,874 | 88\n",
       "Lovin On Me                | Lovin On Me                                  | Jack Harlow    | 11/10/2023   | 670,665,438   | 105,892 | 175,421,034 | 83\n",
       "Beautiful Things           | Beautiful Things                             | Benson Boone   | 1/18/2024    | 900,158,751   | 73,118  | 201,585,714 | 86\n",
       "Gata Only                  | Gata Only                                    | FloyyMenor     | 2/2/2024     | 675,079,153   | 40,094  | 211,236,940 | 92\n",
       "Danza Kuduro - Cover       | ��������������������� - ������������������ - | MUSIC LAB JPN  | 6/9/2024     | 1,653,018,119 | 1       | 15          | nan\n",
       "BAND4BAND (feat. Lil Baby) | BAND4BAND (feat. Lil Baby)                   | Central Cee    | 5/23/2024    | 90,676,573    | 10,400  | 184,199,419 | 86\n",
       "... (4590 rows omitted)"
      ]
     },
     "execution_count": 6,
     "metadata": {},
     "output_type": "execute_result"
    }
   ],
   "source": [
    "# using parentheses '()'\n",
    "\n",
    "(spotify.relabeled(\"Spotify Streams\", \"Streams\")\n",
    "                   .relabeled(\"Spotify Playlist Count\", \"Count\")\n",
    "                   .relabeled(\"Spotify Playlist Reach\", \"Reach\")\n",
    "                   .relabeled(\"Spotify Popularity\", \"Popularity\"))\n",
    "\n",
    "# or\n",
    "\n",
    "#renamed_spotify = (spotify.relabeled(\"Spotify Streams\", \"Streams\")\n",
    "#                   .relabeled(\"Spotify Playlist Count\", \"Count\")\n",
    "#                   .relabeled(\"Spotify Playlist Reach\", \"Reach\")\n",
    "#                   .relabeled(\"Spotify Popularity\", \"Popularity\"))\n",
    "#renamed_spotify"
   ]
  },
  {
   "cell_type": "code",
   "execution_count": 7,
   "id": "14f77be7",
   "metadata": {
    "scrolled": true
   },
   "outputs": [
    {
     "data": {
      "text/html": [
       "<table border=\"1\" class=\"dataframe\">\n",
       "    <thead>\n",
       "        <tr>\n",
       "            <th>Track</th> <th>Album Name</th> <th>Artist</th> <th>Release Date</th> <th>Streams</th> <th>Count</th> <th>Reach</th> <th>Popularity</th>\n",
       "        </tr>\n",
       "    </thead>\n",
       "    <tbody>\n",
       "        <tr>\n",
       "            <td>MILLION DOLLAR BABY       </td> <td>Million Dollar Baby - Single                </td> <td>Tommy Richman </td> <td>4/26/2024   </td> <td>390,470,936  </td> <td>30,716 </td> <td>196,631,588</td> <td>92        </td>\n",
       "        </tr>\n",
       "        <tr>\n",
       "            <td>Not Like Us               </td> <td>Not Like Us                                 </td> <td>Kendrick Lamar</td> <td>5/4/2024    </td> <td>323,703,884  </td> <td>28,113 </td> <td>174,597,137</td> <td>92        </td>\n",
       "        </tr>\n",
       "        <tr>\n",
       "            <td>i like the way you kiss me</td> <td>I like the way you kiss me                  </td> <td>Artemas       </td> <td>3/19/2024   </td> <td>601,309,283  </td> <td>54,331 </td> <td>211,607,669</td> <td>92        </td>\n",
       "        </tr>\n",
       "        <tr>\n",
       "            <td>Flowers                   </td> <td>Flowers - Single                            </td> <td>Miley Cyrus   </td> <td>1/12/2023   </td> <td>2,031,280,633</td> <td>269,802</td> <td>136,569,078</td> <td>85        </td>\n",
       "        </tr>\n",
       "        <tr>\n",
       "            <td>Houdini                   </td> <td>Houdini                                     </td> <td>Eminem        </td> <td>5/31/2024   </td> <td>107,034,922  </td> <td>7,223  </td> <td>151,469,874</td> <td>88        </td>\n",
       "        </tr>\n",
       "        <tr>\n",
       "            <td>Lovin On Me               </td> <td>Lovin On Me                                 </td> <td>Jack Harlow   </td> <td>11/10/2023  </td> <td>670,665,438  </td> <td>105,892</td> <td>175,421,034</td> <td>83        </td>\n",
       "        </tr>\n",
       "        <tr>\n",
       "            <td>Beautiful Things          </td> <td>Beautiful Things                            </td> <td>Benson Boone  </td> <td>1/18/2024   </td> <td>900,158,751  </td> <td>73,118 </td> <td>201,585,714</td> <td>86        </td>\n",
       "        </tr>\n",
       "        <tr>\n",
       "            <td>Gata Only                 </td> <td>Gata Only                                   </td> <td>FloyyMenor    </td> <td>2/2/2024    </td> <td>675,079,153  </td> <td>40,094 </td> <td>211,236,940</td> <td>92        </td>\n",
       "        </tr>\n",
       "        <tr>\n",
       "            <td>Danza Kuduro - Cover      </td> <td>��������������������� - ������������������ -</td> <td>MUSIC LAB JPN </td> <td>6/9/2024    </td> <td>1,653,018,119</td> <td>1      </td> <td>15         </td> <td>nan       </td>\n",
       "        </tr>\n",
       "        <tr>\n",
       "            <td>BAND4BAND (feat. Lil Baby)</td> <td>BAND4BAND (feat. Lil Baby)                  </td> <td>Central Cee   </td> <td>5/23/2024   </td> <td>90,676,573   </td> <td>10,400 </td> <td>184,199,419</td> <td>86        </td>\n",
       "        </tr>\n",
       "    </tbody>\n",
       "</table>\n",
       "<p>... (4590 rows omitted)</p>"
      ],
      "text/plain": [
       "Track                      | Album Name                                   | Artist         | Release Date | Streams       | Count   | Reach       | Popularity\n",
       "MILLION DOLLAR BABY        | Million Dollar Baby - Single                 | Tommy Richman  | 4/26/2024    | 390,470,936   | 30,716  | 196,631,588 | 92\n",
       "Not Like Us                | Not Like Us                                  | Kendrick Lamar | 5/4/2024     | 323,703,884   | 28,113  | 174,597,137 | 92\n",
       "i like the way you kiss me | I like the way you kiss me                   | Artemas        | 3/19/2024    | 601,309,283   | 54,331  | 211,607,669 | 92\n",
       "Flowers                    | Flowers - Single                             | Miley Cyrus    | 1/12/2023    | 2,031,280,633 | 269,802 | 136,569,078 | 85\n",
       "Houdini                    | Houdini                                      | Eminem         | 5/31/2024    | 107,034,922   | 7,223   | 151,469,874 | 88\n",
       "Lovin On Me                | Lovin On Me                                  | Jack Harlow    | 11/10/2023   | 670,665,438   | 105,892 | 175,421,034 | 83\n",
       "Beautiful Things           | Beautiful Things                             | Benson Boone   | 1/18/2024    | 900,158,751   | 73,118  | 201,585,714 | 86\n",
       "Gata Only                  | Gata Only                                    | FloyyMenor     | 2/2/2024     | 675,079,153   | 40,094  | 211,236,940 | 92\n",
       "Danza Kuduro - Cover       | ��������������������� - ������������������ - | MUSIC LAB JPN  | 6/9/2024     | 1,653,018,119 | 1       | 15          | nan\n",
       "BAND4BAND (feat. Lil Baby) | BAND4BAND (feat. Lil Baby)                   | Central Cee    | 5/23/2024    | 90,676,573    | 10,400  | 184,199,419 | 86\n",
       "... (4590 rows omitted)"
      ]
     },
     "execution_count": 7,
     "metadata": {},
     "output_type": "execute_result"
    }
   ],
   "source": [
    "# using backslash '\\'\n",
    "spotify.relabeled(\"Spotify Streams\", \"Streams\") \\\n",
    "                   .relabeled(\"Spotify Playlist Count\", \"Count\") \\\n",
    "                   .relabeled(\"Spotify Playlist Reach\", \"Reach\") \\\n",
    "                   .relabeled(\"Spotify Popularity\", \"Popularity\")"
   ]
  },
  {
   "cell_type": "markdown",
   "id": "e5a28409",
   "metadata": {},
   "source": [
    "Now we have set up a reasonable clean table to operate.  We can use `tbl.drop()`, `tbl.sort()`, `tbl.show()`, `tbl.where()` and `tbl.select()`, etc to operate the table.\n"
   ]
  },
  {
   "cell_type": "markdown",
   "id": "8a941676",
   "metadata": {},
   "source": [
    "### Example 1 ###\n",
    "\n",
    "Search for the artist Taylor Swift. \n",
    "\n",
    "When we are not sure the format of the artist's name stored in the data file, we can use a predictor in `tbl.where()`, e.g. `are.containing()`"
   ]
  },
  {
   "cell_type": "code",
   "execution_count": 8,
   "id": "53e94e2a",
   "metadata": {
    "scrolled": true
   },
   "outputs": [
    {
     "data": {
      "text/html": [
       "<table border=\"1\" class=\"dataframe\">\n",
       "    <thead>\n",
       "        <tr>\n",
       "            <th>Track</th> <th>Album Name</th> <th>Artist</th> <th>Release Date</th> <th>Streams</th> <th>Count</th> <th>Reach</th> <th>Popularity</th>\n",
       "        </tr>\n",
       "    </thead>\n",
       "    <tbody>\n",
       "        <tr>\n",
       "            <td>Fortnight (feat. Post Malone)                      </td> <td>THE TORTURED POETS DEPARTMENT</td> <td>Taylor Swift</td> <td>4/18/2024   </td> <td>395,433,400  </td> <td>12,784 </td> <td>177,932,568</td> <td>89        </td>\n",
       "        </tr>\n",
       "        <tr>\n",
       "            <td>Anti-Hero                                          </td> <td>Midnights                    </td> <td>Taylor Swift</td> <td>10/21/2022  </td> <td>1,563,224,246</td> <td>117,005</td> <td>97,456,780 </td> <td>80        </td>\n",
       "        </tr>\n",
       "        <tr>\n",
       "            <td>Is It Over Now? (Taylor's Version) (From The Vault)</td> <td>1989 (Taylor's Version)      </td> <td>Taylor Swift</td> <td>10/26/2023  </td> <td>406,821,432  </td> <td>20,404 </td> <td>26,073,555 </td> <td>nan       </td>\n",
       "        </tr>\n",
       "        <tr>\n",
       "            <td>I Can Do It With a Broken Heart                    </td> <td>THE TORTURED POETS DEPARTMENT</td> <td>Taylor Swift</td> <td>4/18/2024   </td> <td>250,430,303  </td> <td>7,079  </td> <td>134,357,870</td> <td>84        </td>\n",
       "        </tr>\n",
       "        <tr>\n",
       "            <td>Cruel Summer                                       </td> <td>Lover                        </td> <td>Taylor Swift</td> <td>8/23/2019   </td> <td>2,188,247,133</td> <td>121,479</td> <td>201,964,859</td> <td>88        </td>\n",
       "        </tr>\n",
       "        <tr>\n",
       "            <td>Blank Space                                        </td> <td>1989 (Deluxe)                </td> <td>Taylor Swift</td> <td>1/1/2014    </td> <td>1,829,733,410</td> <td>157,465</td> <td>49,558,504 </td> <td>76        </td>\n",
       "        </tr>\n",
       "        <tr>\n",
       "            <td>Down Bad                                           </td> <td>THE TORTURED POETS DEPARTMENT</td> <td>Taylor Swift</td> <td>4/18/2024   </td> <td>210,385,853  </td> <td>5,179  </td> <td>38,317,286 </td> <td>80        </td>\n",
       "        </tr>\n",
       "        <tr>\n",
       "            <td>Shake It Off                                       </td> <td>1989 (Deluxe)                </td> <td>Taylor Swift</td> <td>1/1/2014    </td> <td>1,409,692,678</td> <td>162,649</td> <td>73,697,294 </td> <td>74        </td>\n",
       "        </tr>\n",
       "        <tr>\n",
       "            <td>Who���s Afraid of Little O                         </td> <td>THE TORTURED POETS DEPARTMENT</td> <td>Taylor Swift</td> <td>4/18/2024   </td> <td>166,168,092  </td> <td>5,004  </td> <td>25,607,992 </td> <td>78        </td>\n",
       "        </tr>\n",
       "        <tr>\n",
       "            <td>Look What You Made Me Do                           </td> <td>Look What You Made Me Do     </td> <td>Taylor Swift</td> <td>8/24/2017   </td> <td>1,152,346,128</td> <td>93,178 </td> <td>62,880,711 </td> <td>75        </td>\n",
       "        </tr>\n",
       "    </tbody>\n",
       "</table>\n",
       "<p>... (53 rows omitted)</p>"
      ],
      "text/plain": [
       "Track                                               | Album Name                    | Artist       | Release Date | Streams       | Count   | Reach       | Popularity\n",
       "Fortnight (feat. Post Malone)                       | THE TORTURED POETS DEPARTMENT | Taylor Swift | 4/18/2024    | 395,433,400   | 12,784  | 177,932,568 | 89\n",
       "Anti-Hero                                           | Midnights                     | Taylor Swift | 10/21/2022   | 1,563,224,246 | 117,005 | 97,456,780  | 80\n",
       "Is It Over Now? (Taylor's Version) (From The Vault) | 1989 (Taylor's Version)       | Taylor Swift | 10/26/2023   | 406,821,432   | 20,404  | 26,073,555  | nan\n",
       "I Can Do It With a Broken Heart                     | THE TORTURED POETS DEPARTMENT | Taylor Swift | 4/18/2024    | 250,430,303   | 7,079   | 134,357,870 | 84\n",
       "Cruel Summer                                        | Lover                         | Taylor Swift | 8/23/2019    | 2,188,247,133 | 121,479 | 201,964,859 | 88\n",
       "Blank Space                                         | 1989 (Deluxe)                 | Taylor Swift | 1/1/2014     | 1,829,733,410 | 157,465 | 49,558,504  | 76\n",
       "Down Bad                                            | THE TORTURED POETS DEPARTMENT | Taylor Swift | 4/18/2024    | 210,385,853   | 5,179   | 38,317,286  | 80\n",
       "Shake It Off                                        | 1989 (Deluxe)                 | Taylor Swift | 1/1/2014     | 1,409,692,678 | 162,649 | 73,697,294  | 74\n",
       "Who���s Afraid of Little O                          | THE TORTURED POETS DEPARTMENT | Taylor Swift | 4/18/2024    | 166,168,092   | 5,004   | 25,607,992  | 78\n",
       "Look What You Made Me Do                            | Look What You Made Me Do      | Taylor Swift | 8/24/2017    | 1,152,346,128 | 93,178  | 62,880,711  | 75\n",
       "... (53 rows omitted)"
      ]
     },
     "execution_count": 8,
     "metadata": {},
     "output_type": "execute_result"
    }
   ],
   "source": [
    "# Remember: names and data in Python are case-sensitive.\n",
    "#           using predictors could be effective.\n",
    "\n",
    "# not exist\n",
    "taylor = renamed_spotify.where(\"Artist\", are.containing(\"taylor\"))\n",
    "# not exist\n",
    "#taylor = renamed_spotify.where(\"Artist\", are.containing(\"swift\"))\n",
    "\n",
    "# part of the artist's name\n",
    "#taylor = renamed_spotify.where(\"Artist\", are.containing(\"Taylor\"))\n",
    "\n",
    "# part of the artist's name\n",
    "taylor = renamed_spotify.where(\"Artist\", are.containing(\"Swift\"))\n",
    "\n",
    "taylor"
   ]
  },
  {
   "cell_type": "markdown",
   "id": "4ae74694",
   "metadata": {},
   "source": [
    "#### Check the Max and Min Popularity ####\n",
    "\n",
    "Steps:\n",
    "\n",
    "1. Use table column method `tbl.column()` to create an array by retrieving a column from the table\n",
    "2. Use `max()` and `min()` to find the maxiumn and miniium values in the array\n"
   ]
  },
  {
   "cell_type": "code",
   "execution_count": 9,
   "id": "13950941",
   "metadata": {},
   "outputs": [
    {
     "data": {
      "text/plain": [
       "array([ 89.,  80.,  nan,  84.,  88.,  76.,  80.,  74.,  78.,  75.,  nan,\n",
       "        84.,  73.,  83.,  nan,  78.,  76.,  75.,  80.,  81.,  nan,  67.,\n",
       "        74.,  nan,  75.,  72.,  nan,  74.,  87.,  nan,  47.,  nan,  71.,\n",
       "        69.,  72.,  nan,  70.,  72.,  nan,  75.,  nan,  nan,  nan,  79.,\n",
       "        64.,  67.,  74.,  nan,  nan,  69.,  72.,  72.,  nan,  66.,  75.,\n",
       "        nan,  nan,  nan,  nan,  nan,  nan,  76.,  nan])"
      ]
     },
     "execution_count": 9,
     "metadata": {},
     "output_type": "execute_result"
    }
   ],
   "source": [
    "# Step 1: create an array from a table column\n",
    "\n",
    "taylor.column(\"Popularity\")\n",
    "\n",
    "# or\n",
    "\n",
    "#taylor_pop = taylor.column(\"Popularity\")\n",
    "#taylor_pop"
   ]
  },
  {
   "cell_type": "code",
   "execution_count": 10,
   "id": "24020fb9",
   "metadata": {
    "scrolled": true
   },
   "outputs": [
    {
     "data": {
      "text/plain": [
       "(89.0, 47.0)"
      ]
     },
     "execution_count": 10,
     "metadata": {},
     "output_type": "execute_result"
    }
   ],
   "source": [
    "# Step 2: find the maxiumn and miniium values in the array\n",
    "\n",
    "max_value = max(taylor.column(\"Popularity\"))\n",
    "\n",
    "min_value = min(taylor.column(\"Popularity\"))\n",
    "\n",
    "# or\n",
    "\n",
    "#max_value = max(taylor_pop)\n",
    "#min_value = min(taylor_pop)\n",
    "\n",
    "max_value, min_value"
   ]
  },
  {
   "cell_type": "code",
   "execution_count": 11,
   "id": "5d0f7097",
   "metadata": {
    "scrolled": true
   },
   "outputs": [
    {
     "data": {
      "text/plain": [
       "array(['I Knew You Were Trouble.',\n",
       "       'We Are Never Ever Getting Back Together'],\n",
       "      dtype='<U114')"
      ]
     },
     "execution_count": 11,
     "metadata": {},
     "output_type": "execute_result"
    }
   ],
   "source": [
    "# Create an array that contains Taylor Swiff's tracks which \n",
    "#.   were release in 2012\n",
    "\n",
    "(taylor.where(\"Release Date\", are.containing(\"2012\"))\n",
    "         .column(\"Track\"))\n",
    "\n",
    "# or\n",
    "\n",
    "#taylor.where(\"Release Date\", are.containing(\"2012\")) \\\n",
    "#      .column(\"Track\")"
   ]
  },
  {
   "cell_type": "code",
   "execution_count": 14,
   "id": "7f4c1418",
   "metadata": {},
   "outputs": [],
   "source": [
    "#taylor.column(\"Track\")\n",
    "#make_array('I Knew You Were Trouble.', 'We Are Never Ever Getting Back Together')"
   ]
  },
  {
   "cell_type": "code",
   "execution_count": 15,
   "id": "b12ecddc",
   "metadata": {},
   "outputs": [
    {
     "data": {
      "text/plain": [
       "array(['I Knew You Were Trouble.',\n",
       "       'We Are Never Ever Getting Back Together'],\n",
       "      dtype='<U39')"
      ]
     },
     "execution_count": 15,
     "metadata": {},
     "output_type": "execute_result"
    }
   ],
   "source": [
    "make_array('I Knew You Were Trouble.', 'We Are Never Ever Getting Back Together')"
   ]
  },
  {
   "cell_type": "code",
   "execution_count": null,
   "id": "cd7db8f7",
   "metadata": {},
   "outputs": [],
   "source": [
    "# Create a table view that contains Taylor Swift's tracks, album name and\n",
    "#    release data, and the albums were release on 2012\n",
    "\n",
    "(taylor.where(\"Release Date\", are.containing(\"2012\"))\n",
    "       .select(\"Track\", \"Album Name\", \"Release Date\"))\n",
    "\n",
    "# or \n",
    "\n",
    "#taylor.where(\"Release Date\", are.containing(\"2012\")) \\\n",
    "#       .select(\"Track\", \"Album Name\", \"Release Date\")"
   ]
  },
  {
   "cell_type": "markdown",
   "id": "57ea1db2",
   "metadata": {},
   "source": [
    "### Create a Table from Scratch `make_array() ` ###\n",
    "\n",
    "Let's create a table of 3 columns, and the columun names are `Student`, `Score` and `Grade`\n",
    "\n",
    "Steps:\n",
    "1. Create an array that contains 3 names and assign it to a variable `name_array`\n",
    "2. Create an array that contains 3 numbers that represent score value and assign it to a variable `score_array`\n",
    "3. Create an array that contains 3 grade letters and assign it a variable `grade_array`\n",
    "4. Use `tbl.with_columns()` method to create a table with 3 columns, namely `STUDENT`, `SCORE` and `GRADE`, then assign the table to a variable `grade_book`"
   ]
  },
  {
   "cell_type": "code",
   "execution_count": null,
   "id": "5a3c683f",
   "metadata": {
    "scrolled": true
   },
   "outputs": [],
   "source": [
    "# Step 1, 2 & 3:\n",
    "\n",
    "name_array = make_array(\"Snoopy\", \"Lucy\", \"Sally\")\n",
    "score_array = make_array(78, 90, 82)\n",
    "grade_array = make_array(\"C\", \"A\", \"B\")"
   ]
  },
  {
   "cell_type": "code",
   "execution_count": null,
   "id": "8cae2854",
   "metadata": {},
   "outputs": [],
   "source": [
    "# Step 4:\n",
    "\n",
    "grade_book = Table().with_columns(\n",
    "        \"STUDENT\", name_array,\n",
    "        \"SCORE\", score_array,\n",
    "        \"GRADE\", grade_array)\n",
    "\n",
    "grade_book"
   ]
  },
  {
   "cell_type": "code",
   "execution_count": null,
   "id": "919aad39",
   "metadata": {},
   "outputs": [],
   "source": [
    "# Option 2:\n",
    "\n",
    "grade_book = Table().with_columns(\n",
    "        \"STUDENT\", make_array(\"Snoopy\", \"Lucy\", \"Sally\"),\n",
    "        \"SCORE\", make_array(78, 90, 82),\n",
    "        \"GRADE\", make_array(\"C\", \"A\", \"B\"))\n",
    "\n",
    "grade_book"
   ]
  },
  {
   "cell_type": "code",
   "execution_count": null,
   "id": "10d34860",
   "metadata": {},
   "outputs": [],
   "source": [
    "# Get a column from the table\n",
    "\n",
    "grade_book.column(\"SCORE\")"
   ]
  },
  {
   "cell_type": "code",
   "execution_count": null,
   "id": "c5d8f2fe",
   "metadata": {},
   "outputs": [],
   "source": [
    "grade_book.num_rows"
   ]
  },
  {
   "cell_type": "code",
   "execution_count": null,
   "id": "d7ab2643",
   "metadata": {},
   "outputs": [],
   "source": []
  },
  {
   "cell_type": "code",
   "execution_count": null,
   "id": "ab0d1343",
   "metadata": {},
   "outputs": [],
   "source": []
  }
 ],
 "metadata": {
  "kernelspec": {
   "display_name": "Python 3 (ipykernel)",
   "language": "python",
   "name": "python3"
  },
  "language_info": {
   "codemirror_mode": {
    "name": "ipython",
    "version": 3
   },
   "file_extension": ".py",
   "mimetype": "text/x-python",
   "name": "python",
   "nbconvert_exporter": "python",
   "pygments_lexer": "ipython3",
   "version": "3.11.5"
  }
 },
 "nbformat": 4,
 "nbformat_minor": 5
}
