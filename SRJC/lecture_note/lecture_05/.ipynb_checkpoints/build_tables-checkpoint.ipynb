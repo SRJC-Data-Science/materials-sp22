{
 "cells": [
  {
   "cell_type": "markdown",
   "id": "46712aa3",
   "metadata": {},
   "source": [
    "## Lecture Notes - Build Tables ##\n",
    "\n",
    "**Helpful Resource:**\n",
    "- [Python Reference](http://data8.org/sp22/python-reference.html): Cheat sheet of helpful array & table methods used in Data 8!\n",
    "\n",
    "**Recommended Readings:**\n",
    "- [Tables](https://inferentialthinking.com/chapters/06/Tables.html)\n",
    "- [Arrays](https://inferentialthinking.com/chapters/05/1/Arrays.html)\n",
    "- [Programming in Python](http://www.inferentialthinking.com/chapters/03/programming-in-python.html)\n",
    "- [Data Types](https://inferentialthinking.com/chapters/04/Data_Types.html)"
   ]
  },
  {
   "cell_type": "markdown",
   "id": "a86abb44",
   "metadata": {},
   "source": [
    "## Building a Table ##\n",
    "\n",
    "Two ways to build a table:\n",
    "\n",
    "1. Read from a data file (we covered it last lecture)\n",
    "2. Create a table from scratch - by making arrays for table columns `make_array()`"
   ]
  },
  {
   "cell_type": "markdown",
   "id": "1f04453a",
   "metadata": {},
   "source": [
    "### Reading a Table from a Data File (Recap) ###\n",
    "\n",
    "Python reference for CS88\n",
    "1. import `datascience` module\n",
    "2. Read a data file to a table format"
   ]
  },
  {
   "cell_type": "code",
   "execution_count": null,
   "id": "4055e511",
   "metadata": {
    "scrolled": true
   },
   "outputs": [],
   "source": [
    "from datascience import *\n",
    "Table.read_table(\"spotify.csv\")\n"
   ]
  },
  {
   "cell_type": "markdown",
   "id": "e6dd206c",
   "metadata": {},
   "source": [
    "### View the Table Column Names `tbl.labels` ###\n",
    "\n",
    "`tbl.labels` output the column names\n",
    "\n",
    "The data file may have too many columns to be shown all in one screen.  We can print out only column names without the data, and decide what columns to use for analysis.\n",
    "\n",
    "Then, we can use `tbl.select()` to select or use `tbl.drop()` to remove certain columns fromt the table and assign it to a new table variable.\n"
   ]
  },
  {
   "cell_type": "code",
   "execution_count": null,
   "id": "bfb60337",
   "metadata": {},
   "outputs": [],
   "source": [
    "# We want to view only the column label\n",
    "\n",
    "# Option 1: chain methods in one line\n",
    "Table.read_table(\"spotify.csv\").labels\n",
    "\n",
    "# Option 2: use variables / names\n",
    "#raw_spotify = Table.read_table(\"spotify.csv\")\n",
    "#raw_spotify.labels"
   ]
  },
  {
   "cell_type": "code",
   "execution_count": null,
   "id": "1f75b55e",
   "metadata": {},
   "outputs": [],
   "source": [
    "# We want to look at only the Spotify data\n",
    "#   use `tbl.select()` to select the columns we need and\n",
    "#   assign the table view to a variable.\n",
    "\n",
    "# We can also use `tbl.drop()` to remove the columns we don't need,\n",
    "#   but there are more columns to remove than to select,\n",
    "#   so `tbl.select()` is more effective in the case.\n",
    "\n",
    "raw_spotify = Table.read_table(\"spotify.csv\")\n",
    "\n",
    "spotify = raw_spotify.select(\"Track\", \"Album Name\", \"Artist\", \"Release Date\", \"Spotify Streams\", \"Spotify Playlist Count\", \"Spotify Playlist Reach\", \"Spotify Popularity\")"
   ]
  },
  {
   "cell_type": "markdown",
   "id": "6535c7a0",
   "metadata": {},
   "source": [
    "### `tbl.relabeled()` ###\n",
    "\n",
    "Rename the column names"
   ]
  },
  {
   "cell_type": "code",
   "execution_count": null,
   "id": "fcce8038",
   "metadata": {
    "scrolled": true
   },
   "outputs": [],
   "source": [
    "spotify.relabeled(\"Spotify Streams\", \"Streams\")"
   ]
  },
  {
   "cell_type": "markdown",
   "id": "e02f0862",
   "metadata": {},
   "source": [
    "### Chain Method Calls ###\n",
    "\n",
    "`tbl.relabeled()` allows to rename only one column at a time, so we need to chain the `relabeled()` to rename multiple columns at once."
   ]
  },
  {
   "cell_type": "code",
   "execution_count": null,
   "id": "68683379",
   "metadata": {
    "scrolled": true
   },
   "outputs": [],
   "source": [
    "# We focus on Spotify data, then we probably don't need to repeat \n",
    "#   the word 'Spotify' in the column names.\n",
    "# Use `tbl.relabeled()` to rename the columns\n",
    "\n",
    "renamed_spotify = spotify.relabeled(\"Spotify Streams\", \"Streams\").relabeled(\"Spotify Playlist Count\", \"Count\").relabeled(\"Spotify Playlist Reach\", \"Reach\").relabeled(\"Spotify Popularity\", \"Popularity\")\n",
    "#renamed_spotify"
   ]
  },
  {
   "cell_type": "markdown",
   "id": "e0e9d45d",
   "metadata": {},
   "source": [
    "#### Chain Method Calls in Multiple Lines ####\n",
    "\n",
    "Method chaining could be very long. To make it easy to read, we can break it down into multiple lines.\n",
    "\n",
    "##### Option 1: #####\n",
    "\n",
    "Enclosing the chaining in a parentheses `()`.\n",
    "\n",
    "##### Option 2: #####\n",
    "\n",
    "Appending a backslash `\\` at the end a line.\n"
   ]
  },
  {
   "cell_type": "code",
   "execution_count": null,
   "id": "14937228",
   "metadata": {},
   "outputs": [],
   "source": [
    "# using parentheses '()'\n",
    "\n",
    "(spotify.relabeled(\"Spotify Streams\", \"Streams\")\n",
    "                   .relabeled(\"Spotify Playlist Count\", \"Count\")\n",
    "                   .relabeled(\"Spotify Playlist Reach\", \"Reach\")\n",
    "                   .relabeled(\"Spotify Popularity\", \"Popularity\"))\n",
    "\n",
    "# or\n",
    "\n",
    "#renamed_spotify = (spotify.relabeled(\"Spotify Streams\", \"Streams\")\n",
    "#                   .relabeled(\"Spotify Playlist Count\", \"Count\")\n",
    "#                   .relabeled(\"Spotify Playlist Reach\", \"Reach\")\n",
    "#                   .relabeled(\"Spotify Popularity\", \"Popularity\"))\n",
    "#renamed_spotify"
   ]
  },
  {
   "cell_type": "code",
   "execution_count": null,
   "id": "14f77be7",
   "metadata": {
    "scrolled": true
   },
   "outputs": [],
   "source": [
    "# using backslash '\\'\n",
    "spotify.relabeled(\"Spotify Streams\", \"Streams\") \\\n",
    "                   .relabeled(\"Spotify Playlist Count\", \"Count\") \\\n",
    "                   .relabeled(\"Spotify Playlist Reach\", \"Reach\") \\\n",
    "                   .relabeled(\"Spotify Popularity\", \"Popularity\")"
   ]
  },
  {
   "cell_type": "markdown",
   "id": "e5a28409",
   "metadata": {},
   "source": [
    "Now we have set up a reasonable clean table to operate.  We can use `tbl.drop()`, `tbl.sort()`, `tbl.show()`, `tbl.where()` and `tbl.select()`, etc to operate the table.\n"
   ]
  },
  {
   "cell_type": "markdown",
   "id": "8a941676",
   "metadata": {},
   "source": [
    "### Example 1 ###\n",
    "\n",
    "Search for the artist Taylor Swift. \n",
    "\n",
    "When we are not sure the format of the artist's name stored in the data file, we can use a predictor in `tbl.where()`, e.g. `are.containing()`"
   ]
  },
  {
   "cell_type": "code",
   "execution_count": null,
   "id": "53e94e2a",
   "metadata": {
    "scrolled": true
   },
   "outputs": [],
   "source": [
    "# Remember: names and data in Python are case-sensitive.\n",
    "#           using predictors could be effective.\n",
    "\n",
    "# not exist\n",
    "taylor = renamed_spotify.where(\"Artist\", are.containing(\"taylor\"))\n",
    "# not exist\n",
    "#taylor = renamed_spotify.where(\"Artist\", are.containing(\"swift\"))\n",
    "\n",
    "# part of the artist's name\n",
    "#taylor = renamed_spotify.where(\"Artist\", are.containing(\"Taylor\"))\n",
    "\n",
    "# part of the artist's name\n",
    "taylor = renamed_spotify.where(\"Artist\", are.containing(\"Swift\"))\n",
    "\n",
    "taylor"
   ]
  },
  {
   "cell_type": "markdown",
   "id": "4ae74694",
   "metadata": {},
   "source": [
    "#### Check the Max and Min Popularity ####\n",
    "\n",
    "Steps:\n",
    "\n",
    "1. Use table column method `tbl.column()` to create an array by retrieving a column from the table\n",
    "2. Use `max()` and `min()` to find the maxiumn and miniium values in the array\n"
   ]
  },
  {
   "cell_type": "code",
   "execution_count": null,
   "id": "13950941",
   "metadata": {},
   "outputs": [],
   "source": [
    "# Step 1: create an array from a table column\n",
    "\n",
    "taylor.column(\"Popularity\")\n",
    "\n",
    "# or\n",
    "\n",
    "#taylor_pop = taylor.column(\"Popularity\")\n",
    "#taylor_pop"
   ]
  },
  {
   "cell_type": "code",
   "execution_count": null,
   "id": "24020fb9",
   "metadata": {
    "scrolled": true
   },
   "outputs": [],
   "source": [
    "# Step 2: find the maxiumn and miniium values in the array\n",
    "\n",
    "max_value = max(taylor.column(\"Popularity\"))\n",
    "\n",
    "min_value = min(taylor.column(\"Popularity\"))\n",
    "\n",
    "# or\n",
    "\n",
    "#max_value = max(taylor_pop)\n",
    "#min_value = min(taylor_pop)\n",
    "\n",
    "max_value, min_value"
   ]
  },
  {
   "cell_type": "code",
   "execution_count": null,
   "id": "5d0f7097",
   "metadata": {
    "scrolled": true
   },
   "outputs": [],
   "source": [
    "# Create an array that contains Taylor Swiff's tracks which \n",
    "#.   were release in 2012\n",
    "\n",
    "(taylor.where(\"Release Date\", are.containing(\"2012\"))\n",
    "         .column(\"Track\"))\n",
    "\n",
    "# or\n",
    "\n",
    "#taylor.where(\"Release Date\", are.containing(\"2012\")) \\\n",
    "#      .column(\"Track\")"
   ]
  },
  {
   "cell_type": "code",
   "execution_count": null,
   "id": "7f4c1418",
   "metadata": {},
   "outputs": [],
   "source": [
    "#taylor.column(\"Track\")\n",
    "#make_array('I Knew You Were Trouble.', 'We Are Never Ever Getting Back Together')"
   ]
  },
  {
   "cell_type": "code",
   "execution_count": null,
   "id": "b12ecddc",
   "metadata": {},
   "outputs": [],
   "source": [
    "make_array('I Knew You Were Trouble.', 'We Are Never Ever Getting Back Together')"
   ]
  },
  {
   "cell_type": "code",
   "execution_count": null,
   "id": "cd7db8f7",
   "metadata": {},
   "outputs": [],
   "source": [
    "# Create a table view that contains Taylor Swift's tracks, album name and\n",
    "#    release data, and the albums were release on 2012\n",
    "\n",
    "(taylor.where(\"Release Date\", are.containing(\"2012\"))\n",
    "       .select(\"Track\", \"Album Name\", \"Release Date\"))\n",
    "\n",
    "# or \n",
    "\n",
    "#taylor.where(\"Release Date\", are.containing(\"2012\")) \\\n",
    "#       .select(\"Track\", \"Album Name\", \"Release Date\")"
   ]
  },
  {
   "cell_type": "markdown",
   "id": "57ea1db2",
   "metadata": {},
   "source": [
    "### Create a Table from Scratch `make_array() ` ###\n",
    "\n",
    "Let's create a table of 3 columns, and the columun names are `Student`, `Score` and `Grade`\n",
    "\n",
    "Steps:\n",
    "1. Create an array that contains 3 names and assign it to a variable `name_array`\n",
    "2. Create an array that contains 3 numbers that represent score value and assign it to a variable `score_array`\n",
    "3. Create an array that contains 3 grade letters and assign it a variable `grade_array`\n",
    "4. Use `tbl.with_columns()` method to create a table with 3 columns, namely `STUDENT`, `SCORE` and `GRADE`, then assign the table to a variable `grade_book`"
   ]
  },
  {
   "cell_type": "code",
   "execution_count": null,
   "id": "5a3c683f",
   "metadata": {
    "scrolled": true
   },
   "outputs": [],
   "source": [
    "# Step 1, 2 & 3:\n",
    "\n",
    "name_array = make_array(\"Snoopy\", \"Lucy\", \"Sally\")\n",
    "score_array = make_array(78, 90, 82)\n",
    "grade_array = make_array(\"C\", \"A\", \"B\")"
   ]
  },
  {
   "cell_type": "code",
   "execution_count": null,
   "id": "8cae2854",
   "metadata": {},
   "outputs": [],
   "source": [
    "# Step 4:\n",
    "\n",
    "grade_book = Table().with_columns(\n",
    "        \"STUDENT\", name_array,\n",
    "        \"SCORE\", score_array,\n",
    "        \"GRADE\", grade_array)\n",
    "\n",
    "grade_book"
   ]
  },
  {
   "cell_type": "code",
   "execution_count": null,
   "id": "919aad39",
   "metadata": {},
   "outputs": [],
   "source": [
    "# Option 2:\n",
    "\n",
    "grade_book = Table().with_columns(\n",
    "        \"STUDENT\", make_array(\"Snoopy\", \"Lucy\", \"Sally\"),\n",
    "        \"SCORE\", make_array(78, 90, 82),\n",
    "        \"GRADE\", make_array(\"C\", \"A\", \"B\"))\n",
    "\n",
    "grade_book"
   ]
  },
  {
   "cell_type": "code",
   "execution_count": null,
   "id": "10d34860",
   "metadata": {},
   "outputs": [],
   "source": [
    "# Get a column from the table\n",
    "\n",
    "grade_book.column(\"SCORE\")"
   ]
  },
  {
   "cell_type": "code",
   "execution_count": null,
   "id": "c5d8f2fe",
   "metadata": {},
   "outputs": [],
   "source": [
    "grade_book.num_rows"
   ]
  },
  {
   "cell_type": "code",
   "execution_count": null,
   "id": "d7ab2643",
   "metadata": {},
   "outputs": [],
   "source": []
  },
  {
   "cell_type": "code",
   "execution_count": null,
   "id": "ab0d1343",
   "metadata": {},
   "outputs": [],
   "source": []
  }
 ],
 "metadata": {
  "kernelspec": {
   "display_name": "Python 3 (ipykernel)",
   "language": "python",
   "name": "python3"
  },
  "language_info": {
   "codemirror_mode": {
    "name": "ipython",
    "version": 3
   },
   "file_extension": ".py",
   "mimetype": "text/x-python",
   "name": "python",
   "nbconvert_exporter": "python",
   "pygments_lexer": "ipython3",
   "version": "3.11.5"
  }
 },
 "nbformat": 4,
 "nbformat_minor": 5
}
