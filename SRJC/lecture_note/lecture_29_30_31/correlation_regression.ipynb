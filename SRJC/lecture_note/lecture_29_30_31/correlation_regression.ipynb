{
 "cells": [
  {
   "cell_type": "markdown",
   "id": "05d8996d",
   "metadata": {},
   "source": [
    "# Correlation and Regression\n",
    "\n",
    "Complete this problem set with your group (up to 4 students). You can either hand-write your work and submit a hard copy, or go to File -> Download as HTML to generate an HTML file, then either submit it online or as a hard copy. Each group only needs to submit one copy and will receive the same grade. \n",
    "\n",
    "This team homework is based on Lecture 29: Correlation, Lecture 30: Regression and Lecture 31: Least Squares. \n",
    "\n",
    "**Helpful Resource:**\n",
    "- [Python Reference](http://data8.org/sp22/python-reference.html): Cheat sheet of helpful array & table methods used in Data 8!\n",
    "\n",
    "**Recommended Readings**: \n",
    "- [Correlation](https://inferentialthinking.com/chapters/15/1/Correlation.html)\n",
    "- [Regression Line](https://inferentialthinking.com/chapters/15/2/Regression_Line.html)\n",
    "- [Least Squares](https://inferentialthinking.com/chapters/15/4/Least_Squares_Regression.html)"
   ]
  },
  {
   "cell_type": "code",
   "execution_count": 3,
   "id": "cb0b7535",
   "metadata": {},
   "outputs": [],
   "source": [
    "from datascience import *\n",
    "%matplotlib inline\n",
    "import matplotlib.pyplot as plots\n",
    "plots.style.use('fivethirtyeight')\n",
    "import numpy as np\n",
    "from math import ceil"
   ]
  },
  {
   "cell_type": "markdown",
   "id": "9510ddc0",
   "metadata": {},
   "source": [
    "### Scatterplots\n",
    "\n",
    "Consider the car data given in the file. An explanation of some of the varibles:\n",
    "\n",
    "\tWeight\t= Weight of the car (in pounds)\n",
    "\tCityMPG = EPA's estimated miles per gallon for city driving\n",
    "\tFuelCap\t= Size of the gas tank (in gallons)\n",
    "\tQtrMile\t= Time (in seconds) to go 1/4 mile from a standing start\n",
    "\tAcc060\t= Time (in seconds) to accelerate from zero to 60 mph\n",
    "\tPageNum\t= Page number on which the car appears in the buying guide\n",
    "\n",
    "\n",
    "Use `cars.scatter` to find pairs of variables that show\n",
    "\n",
    "1. a strong positive association\n",
    "2. a strong negative association\n",
    "3. a strong negative association\n",
    "4. a weak negative association\n",
    "5. almost no association "
   ]
  },
  {
   "cell_type": "code",
   "execution_count": 4,
   "id": "fbe4d2e9",
   "metadata": {},
   "outputs": [
    {
     "data": {
      "image/png": "[encoded data removed]",
      "text/plain": [
       "<Figure size 500x500 with 1 Axes>"
      ]
     },
     "metadata": {},
     "output_type": "display_data"
    }
   ],
   "source": [
    "cars = Table().read_table('Cars2015.csv')\n",
    "cars.scatter('CityMPG', 'HwyMPG') # example of a strong positive correlation"
   ]
  },
  {
   "cell_type": "markdown",
   "id": "3c3e6b66",
   "metadata": {},
   "source": [
    "### Correlation \n",
    "\n",
    "The following code was taken from the textbook [15.1: Correlation](https://inferentialthinking.com/chapters/15/1/Correlation.html). It calculates the r value for each pair of variables by first converting the X and Y values to standard units. Using mathematical notation this means: \n",
    "\n",
    "$r = \\frac{\\sum Z_x \\cdot Z_y}{n}$"
   ]
  },
  {
   "cell_type": "code",
   "execution_count": 5,
   "id": "ad79cf0e",
   "metadata": {},
   "outputs": [],
   "source": [
    "def standard_units(any_numbers):\n",
    "    return (any_numbers - np.mean(any_numbers))/np.std(any_numbers)  \n",
    "\n",
    "def correlation(t, xlabel, ylabel):\n",
    "    return np.mean(standard_units(t.column(xlabel))*standard_units(t.column(ylabel)))\n"
   ]
  },
  {
   "cell_type": "code",
   "execution_count": 6,
   "id": "d1706e9b",
   "metadata": {},
   "outputs": [
    {
     "data": {
      "text/plain": [
       "0.93406435294851331"
      ]
     },
     "execution_count": 6,
     "metadata": {},
     "output_type": "execute_result"
    }
   ],
   "source": [
    "correlation(cars, 'CityMPG', 'HwyMPG')"
   ]
  },
  {
   "cell_type": "markdown",
   "id": "05e7804a",
   "metadata": {},
   "source": [
    "Use `correlation` function to compute $r$ for each pair of variables you listed above. Using the numbering (1-5) above, list these five pairs in ascending order. "
   ]
  },
  {
   "cell_type": "code",
   "execution_count": null,
   "id": "9a8f8e5e",
   "metadata": {},
   "outputs": [],
   "source": []
  },
  {
   "cell_type": "markdown",
   "id": "33504a88",
   "metadata": {},
   "source": [
    "### Regression \n",
    "\n",
    "Based on the `correlation` function described above, the following code computes the slope and intercept of the regression line. "
   ]
  },
  {
   "cell_type": "code",
   "execution_count": 7,
   "id": "86211506",
   "metadata": {},
   "outputs": [],
   "source": [
    "def slope(t, label_x, label_y):\n",
    "    r = correlation(t, label_x, label_y)\n",
    "    return r*np.std(t.column(label_y))/np.std(t.column(label_x))\n",
    "\n",
    "def intercept(t, label_x, label_y):\n",
    "    return np.mean(t.column(label_y)) - slope(t, label_x, label_y)*np.mean(t.column(label_x))"
   ]
  },
  {
   "cell_type": "markdown",
   "id": "3383c415",
   "metadata": {},
   "source": [
    "Based on the slope and intercept, the following code plots the regression line with the scatter plot. "
   ]
  },
  {
   "cell_type": "code",
   "execution_count": 9,
   "id": "3b7acf69",
   "metadata": {},
   "outputs": [],
   "source": [
    "def scatter_with_regression_line(table, xlabel, ylabel):\n",
    "    m = slope(table, xlabel, ylabel) \n",
    "    b = intercept(table, xlabel, ylabel)\n",
    "    table.scatter(xlabel, ylabel)\n",
    "    xmin = np.min(table.column(xlabel))\n",
    "    xmax = np.max(table.column(xlabel))\n",
    "    xlimits = np.array([xmin, xmax])\n",
    "    plots.plot(xlimits, m*xlimits + b)\n"
   ]
  },
  {
   "cell_type": "markdown",
   "id": "9a529daa",
   "metadata": {},
   "source": [
    "Use the code provided above to compute the regression line that predicts the CityMPG (Y) from the Weight (X) of the vehicle. "
   ]
  },
  {
   "cell_type": "code",
   "execution_count": null,
   "id": "daf2c623",
   "metadata": {},
   "outputs": [],
   "source": []
  },
  {
   "cell_type": "markdown",
   "id": "ce1fd94f",
   "metadata": {},
   "source": [
    "Identify two cars from the scatter plot that appear to have the largest prediction errors (also called the *residual*) in absolute value. What are their make and model? You may want to review `Table.where` and the predicates in the [Python Reference](https://www.data8.org/sp22/python-reference.html) "
   ]
  },
  {
   "cell_type": "code",
   "execution_count": null,
   "id": "fb715e8b",
   "metadata": {},
   "outputs": [],
   "source": []
  },
  {
   "cell_type": "markdown",
   "id": "896aeb4e",
   "metadata": {},
   "source": [
    "Using the Weight of the vehicle as the X-coordinate, and residual as the Y-coordinate, create the so-called ```residual plot``` for the same problem of predicting City MPG from Weight of the vehicle. Where are the two cars that you found above in the residual plot? "
   ]
  },
  {
   "cell_type": "code",
   "execution_count": null,
   "id": "ae4cc5a1",
   "metadata": {},
   "outputs": [],
   "source": []
  },
  {
   "cell_type": "markdown",
   "id": "60654491",
   "metadata": {},
   "source": [
    "### Model Fitting by using `minimize`\n",
    "\n",
    "The following code demonstrates how to use the `minimize` function to fit models to a set of data. It accepts a loss function as input, and outputs the parameters that result in the minimum loss for the function. For example, in the code shown below, `linear_fit` computes the loss of a linear function $y=mx+b$ fitted to the set of 5 points. Passing it as input to `minimize` returns the two parameters $m$ and $b$ necessary to specify the linear function. "
   ]
  },
  {
   "cell_type": "code",
   "execution_count": 10,
   "id": "13d01a25",
   "metadata": {},
   "outputs": [],
   "source": [
    "five_points = Table().with_columns('x', [1,2,3,4,5], 'y',[1, 1, 3, 2, 6])"
   ]
  },
  {
   "cell_type": "code",
   "execution_count": 23,
   "id": "5dd9d7ac",
   "metadata": {},
   "outputs": [
    {
     "data": {
      "text/plain": [
       "(1.1037943711302989, -0.7554848944584851)"
      ]
     },
     "execution_count": 23,
     "metadata": {},
     "output_type": "execute_result"
    }
   ],
   "source": [
    "def linear_fit(m, b):\n",
    "    errors = five_points.column('y') - (m*five_points.column('x') + b)\n",
    "    return np.sum((errors)**2)\n",
    "\n",
    "m, b = minimize(linear_fit)\n",
    "m, b"
   ]
  },
  {
   "cell_type": "code",
   "execution_count": 21,
   "id": "9efc6ef3",
   "metadata": {},
   "outputs": [
    {
     "data": {
      "text/plain": [
       "[<matplotlib.lines.Line2D at 0x155caf5a930>]"
      ]
     },
     "execution_count": 21,
     "metadata": {},
     "output_type": "execute_result"
    },
    {
     "data": {
      "image/png": "[encoded data removed]",
      "text/plain": [
       "<Figure size 500x500 with 1 Axes>"
      ]
     },
     "metadata": {},
     "output_type": "display_data"
    }
   ],
   "source": [
    "five_points.scatter('x', 'y')\n",
    "xlimits = np.array([1, 5])\n",
    "plots.plot(xlimits, m*xlimits + b)"
   ]
  },
  {
   "cell_type": "markdown",
   "id": "57210774",
   "metadata": {},
   "source": [
    "Change the code so that the loss function calculates the square root of the sum of errors. Did this change the fitted model in any way? "
   ]
  },
  {
   "cell_type": "code",
   "execution_count": null,
   "id": "9115d508",
   "metadata": {},
   "outputs": [],
   "source": []
  },
  {
   "cell_type": "markdown",
   "id": "60e3406d",
   "metadata": {},
   "source": [
    "Change the code again so that the loss function calculates the sum of absolute values of errors. Did this change the model? "
   ]
  },
  {
   "cell_type": "code",
   "execution_count": null,
   "id": "c9ff33d3",
   "metadata": {},
   "outputs": [],
   "source": []
  },
  {
   "cell_type": "markdown",
   "id": "9ff74c94",
   "metadata": {},
   "source": [
    "A quadratic model uses 3 parameters to fit the data: $y = ax^2 + bx + c$. Run the following code and evaluate the residual of the model returned by `minimize`. How does this residual compare with the least squares linear model? "
   ]
  },
  {
   "cell_type": "code",
   "execution_count": 12,
   "id": "eba8d78c",
   "metadata": {},
   "outputs": [
    {
     "data": {
      "text/plain": [
       "(0.35714285912175547, -1.0428571552466637, 1.8000000234091262)"
      ]
     },
     "execution_count": 12,
     "metadata": {},
     "output_type": "execute_result"
    },
    {
     "data": {
      "image/png": "[encoded data removed]",
      "text/plain": [
       "<Figure size 500x500 with 1 Axes>"
      ]
     },
     "metadata": {},
     "output_type": "display_data"
    }
   ],
   "source": [
    "def quadratic_fit(a, b, c):\n",
    "    x = five_points.column('x')\n",
    "    errors = five_points.column('y') - (a*(x**2) + b*x + c)\n",
    "    return np.sum(errors**2)\n",
    "\n",
    "a, b, c = minimize(quadratic_fit)\n",
    "five_points.scatter('x', 'y')\n",
    "xlimits = np.arange(1, 5.1, 0.1)\n",
    "plots.plot(xlimits, a*xlimits**2 + b*xlimits + c)\n",
    "a, b, c"
   ]
  },
  {
   "cell_type": "markdown",
   "id": "ca8a03e6",
   "metadata": {},
   "source": [
    "Modify the code so that it fits a cubic model which uses 4 parameters: $ y = ax^3 + bx^2 + cx + d$. How does the residual of the cubic model compare with the quadratic one? "
   ]
  },
  {
   "cell_type": "code",
   "execution_count": 24,
   "id": "b1cc302c",
   "metadata": {},
   "outputs": [],
   "source": [
    "def cubic_fit(a, b, c, d):\n",
    "    ..."
   ]
  },
  {
   "cell_type": "markdown",
   "id": "c20e0d44",
   "metadata": {},
   "source": [
    "In mathematics, quadratic and cubic models are members of the general polynomial family. What happens to the residual of the best fit model if you keep increasing the number of parameters? Show this through an experiment. Is this a good idea? "
   ]
  },
  {
   "cell_type": "code",
   "execution_count": null,
   "id": "b1ba9b0c",
   "metadata": {},
   "outputs": [],
   "source": []
  }
 ],
 "metadata": {
  "kernelspec": {
   "display_name": ".venv",
   "language": "python",
   "name": "python3"
  },
  "language_info": {
   "codemirror_mode": {
    "name": "ipython",
    "version": 3
   },
   "file_extension": ".py",
   "mimetype": "text/x-python",
   "name": "python",
   "nbconvert_exporter": "python",
   "pygments_lexer": "ipython3",
   "version": "3.12.3"
  }
 },
 "nbformat": 4,
 "nbformat_minor": 5
}
