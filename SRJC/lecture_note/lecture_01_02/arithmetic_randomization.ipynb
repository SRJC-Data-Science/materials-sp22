{
 "cells": [
  {
   "cell_type": "markdown",
   "id": "05d8996d",
   "metadata": {},
   "source": [
    "### Lecture Notes: Introduction, Causality\n",
    "\n",
    "**Recommended Reading**: \n",
    "- [Introduction](https://inferentialthinking.com/chapters/01/1/intro.html)"
   ]
  },
  {
   "cell_type": "markdown",
   "id": "126ec56e",
   "metadata": {},
   "source": [
    "### Python as Calculator\n",
    "\n",
    "Use Python to evaluate the following expressions. \n",
    "\n",
    "$\\displaystyle{3}-{4}{\\left({2}+{\\left(-{5}\\right)}\\right)}$"
   ]
  },
  {
   "cell_type": "code",
   "execution_count": null,
   "id": "6bb2e6b4-a494-4066-acdd-3cccb617c977",
   "metadata": {},
   "outputs": [],
   "source": []
  },
  {
   "cell_type": "markdown",
   "id": "e783f866",
   "metadata": {},
   "source": [
    "$\\displaystyle-{7}{\\left[{\\left(-{7}\\right)}+{8}{\\left({4}+{7}\\right)}\\right]}-2^{2}$"
   ]
  },
  {
   "cell_type": "code",
   "execution_count": null,
   "id": "368505d1",
   "metadata": {},
   "outputs": [],
   "source": []
  },
  {
   "cell_type": "markdown",
   "id": "1fc616fd",
   "metadata": {},
   "source": [
    "$\\displaystyle\\frac{{-{\\left({4}-{7}\\right)}^{2}}}{{{9}-{4}\\cdot{3}}}$"
   ]
  },
  {
   "cell_type": "code",
   "execution_count": null,
   "id": "65b513ab",
   "metadata": {},
   "outputs": [],
   "source": []
  },
  {
   "cell_type": "markdown",
   "id": "cc0979b8",
   "metadata": {},
   "source": [
    "$1^3 + 2^3 + 3^3 + 4^3 + \\cdots + 8^3 + 9^3$ \n",
    "\n",
    "$(1 + 2 + 3 + \\cdots + 8 + 9)^2$"
   ]
  },
  {
   "cell_type": "markdown",
   "id": "00ab0c9c",
   "metadata": {},
   "source": [
    "\n"
   ]
  },
  {
   "cell_type": "markdown",
   "id": "2de112d3",
   "metadata": {},
   "source": [
    "### Translate Formulas to Code\n",
    "\n",
    "Evaluate the expression with variables (lower and upper case, variables with multiple characters)\n",
    "\n",
    "$R = \\frac{1}{\\frac{1}{R_1} + \\frac{1}{R_2}}$\n",
    "\n",
    "Where $R_1=1.5$ and $R_2=2$. "
   ]
  },
  {
   "cell_type": "code",
   "execution_count": null,
   "id": "06634d9d",
   "metadata": {},
   "outputs": [],
   "source": []
  },
  {
   "cell_type": "markdown",
   "id": "4584cdbd",
   "metadata": {},
   "source": [
    "$\\displaystyle{A}={P}{\\left({1}+\\frac{r}{{n}}\\right)}^{{{n}{t}}}$\n",
    "\n",
    "$ I = A - P$\n",
    "\n",
    "Given $P=4800$ dollars, $t = 8$ years, $r = 0.10$, and $n = 12$, find the value of $I$."
   ]
  },
  {
   "cell_type": "code",
   "execution_count": null,
   "id": "4d4d73ca",
   "metadata": {},
   "outputs": [],
   "source": []
  },
  {
   "cell_type": "markdown",
   "id": "c0dbd89d",
   "metadata": {},
   "source": [
    "Evaluate the following expressions involving absolute value. First on paper, then in Python. Enter one line of code for each expression:  \n",
    "\n",
    "$\\left|-12-7 \\right|- \\left|3+10\\right| = $\n",
    "\n",
    "$\\displaystyle{\\left|{-{12}-{7}-{\\left|{{3}+{10}}\\right|}}\\right|}=$\n",
    "\n",
    "$\\displaystyle{\\left|{-{12}-{7}{\\left|{-{3}+{10}}\\right|}}\\right|}=$"
   ]
  },
  {
   "cell_type": "code",
   "execution_count": null,
   "id": "9ea64a77",
   "metadata": {},
   "outputs": [],
   "source": []
  },
  {
   "cell_type": "markdown",
   "id": "f469929f",
   "metadata": {},
   "source": [
    "Using the quadratic formula $$x = \\frac {-b \\pm \\sqrt{b^2 -4ac}} {2a}$$ find the solutions the equation: $2x^2 - 3x + 4 = 0$.  Note: the square root $\\sqrt{x} = x^{1/2}$"
   ]
  },
  {
   "cell_type": "code",
   "execution_count": null,
   "id": "6952063e",
   "metadata": {},
   "outputs": [],
   "source": []
  },
  {
   "cell_type": "markdown",
   "id": "919534d8",
   "metadata": {},
   "source": [
    "### Translate English to Code\n",
    "\n",
    "Translate the following statements into Python expressions. Feel free to name your own variables. \n",
    "\n",
    "The sample mean is the average of the numbers. Find the sample mean for: 48, 50, 52, 61, 45"
   ]
  },
  {
   "cell_type": "code",
   "execution_count": null,
   "id": "b638decc",
   "metadata": {},
   "outputs": [],
   "source": []
  },
  {
   "cell_type": "markdown",
   "id": "723112a2",
   "metadata": {},
   "source": [
    "Rita's score is 11 more than double Mike's score."
   ]
  },
  {
   "cell_type": "code",
   "execution_count": null,
   "id": "5c09162a",
   "metadata": {},
   "outputs": [],
   "source": []
  },
  {
   "cell_type": "markdown",
   "id": "08975c38",
   "metadata": {},
   "source": [
    "The circumference of a rectangle is twice the sum of the width and length. "
   ]
  },
  {
   "cell_type": "code",
   "execution_count": null,
   "id": "902246a2",
   "metadata": {},
   "outputs": [],
   "source": []
  },
  {
   "cell_type": "markdown",
   "id": "3cef8716",
   "metadata": {},
   "source": [
    "Dave's salary in Year 2 increased 5% over the first year, and decreased 5% from Year 2 to Year 3. "
   ]
  },
  {
   "cell_type": "code",
   "execution_count": null,
   "id": "e351690b",
   "metadata": {},
   "outputs": [],
   "source": []
  },
  {
   "cell_type": "markdown",
   "id": "b9de95c6",
   "metadata": {},
   "source": [
    "### Confounding Variables and Randomized Controlled Experiments\n",
    "\n",
    "Three examples of an association are described below.  In each case, indicate\n",
    "\n",
    "* Whether the statement wording implies causation or association only.\n",
    "\n",
    "* A possible confounding variable\n",
    "\n",
    "a.\tMore sales of sunscreen tend to occur when more sunglasses are sold."
   ]
  },
  {
   "cell_type": "markdown",
   "id": "90abf761",
   "metadata": {},
   "source": []
  },
  {
   "cell_type": "markdown",
   "id": "7283a871",
   "metadata": {},
   "source": [
    "\n",
    "b.\t“Exercise reduces risk of Alzheimers” claims a headline reporting on a study of elderly people that recorded how much each exercised at age 70 and then whether the person got Alzheimer’s disease.\n",
    "\n"
   ]
  },
  {
   "cell_type": "markdown",
   "id": "310a5ff4",
   "metadata": {},
   "source": []
  },
  {
   "cell_type": "markdown",
   "id": "ef6a42bb",
   "metadata": {},
   "source": [
    "c.\tIn elementary school, students that weigh more tend to run faster.\n"
   ]
  },
  {
   "cell_type": "markdown",
   "id": "6fa5dff8",
   "metadata": {},
   "source": []
  },
  {
   "cell_type": "markdown",
   "id": "7292962e",
   "metadata": {},
   "source": [
    "\n",
    "In each case below, we describe a study to determine whether exercise helps increase certain mood enhancing chemicals in the brain.   Indicate whether each describes an experiment or an observational study. Identify a possible confounding variable that is not controlled in the observational study. \n",
    "\n",
    "a.\tWe contact a random sample of 100 people and record how much each person exercises and also measure the chemicals in the brain for each person. \n",
    "\n",
    "\n",
    "b.\tUsing a random sample of 100 people, we randomly assign half of them to participate in a regular exercise program for a six-week period while the other half makes no changes.  At the end of the time period, we measure the brain chemicals. \n"
   ]
  },
  {
   "cell_type": "markdown",
   "id": "cab0dabf",
   "metadata": {},
   "source": []
  },
  {
   "cell_type": "markdown",
   "id": "02fa8256",
   "metadata": {},
   "source": [
    "Suppose you wish to determine whether getting enough sleep the night before helps short-term memory for SRJC students.  You have the budget to recruit 40 people to participate the study and the study will take place over one month.  \n",
    "* What is the explanatory variable? What is the response variable? What might be a possible confounding variable? \n",
    "* Design a randomized controlled trial. \n",
    "\n"
   ]
  },
  {
   "cell_type": "markdown",
   "id": "95bc5d60",
   "metadata": {},
   "source": []
  },
  {
   "cell_type": "markdown",
   "id": "b6a27bc4",
   "metadata": {},
   "source": [
    "### Course Logistics\n",
    "\n",
    "How do you know you have answered all the questions in the Lab and Homework?"
   ]
  },
  {
   "cell_type": "code",
   "execution_count": null,
   "id": "e4e2a4fb",
   "metadata": {},
   "outputs": [],
   "source": []
  },
  {
   "cell_type": "markdown",
   "id": "93184d90",
   "metadata": {},
   "source": [
    "Where do you submit the lab and homework after you have completed it? "
   ]
  },
  {
   "cell_type": "code",
   "execution_count": null,
   "id": "789645f3",
   "metadata": {},
   "outputs": [],
   "source": []
  }
 ],
 "metadata": {
  "kernelspec": {
   "display_name": ".venv",
   "language": "python",
   "name": "python3"
  },
  "language_info": {
   "codemirror_mode": {
    "name": "ipython",
    "version": 3
   },
   "file_extension": ".py",
   "mimetype": "text/x-python",
   "name": "python",
   "nbconvert_exporter": "python",
   "pygments_lexer": "ipython3",
   "version": "3.12.3"
  }
 },
 "nbformat": 4,
 "nbformat_minor": 5
}
