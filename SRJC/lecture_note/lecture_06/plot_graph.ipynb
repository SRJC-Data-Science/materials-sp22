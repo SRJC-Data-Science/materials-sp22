{
 "cells": [
  {
   "cell_type": "markdown",
   "id": "46712aa3",
   "metadata": {},
   "source": [
    "## Lecture Notes - Scatter Plots & Line Graphs ##\n",
    "\n",
    "**Helpful Resource:**\n",
    "- [Python Reference](http://data8.org/sp22/python-reference.html): Cheat sheet of helpful array & table methods used in Data 8!\n",
    "\n",
    "**Recommended Readings:**\n",
    "- [Tables](https://inferentialthinking.com/chapters/06/Tables.html)\n",
    "- [Arrays](https://inferentialthinking.com/chapters/05/1/Arrays.html)\n",
    "- [Programming in Python](http://www.inferentialthinking.com/chapters/03/programming-in-python.html)\n",
    "- [Data Types](https://inferentialthinking.com/chapters/04/Data_Types.html)\n",
    "- [Visualization](https://inferentialthinking.com/chapters/07/Visualization.html)"
   ]
  },
  {
   "cell_type": "markdown",
   "id": "1f04453a",
   "metadata": {},
   "source": [
    "### Reading a Table from a Data File (Recap) ###\n",
    "\n",
    "Python reference for CS88\n",
    "1. import `datascience` module\n",
    "2. Read a data file to a table format"
   ]
  },
  {
   "cell_type": "code",
   "execution_count": null,
   "id": "4055e511",
   "metadata": {
    "scrolled": true
   },
   "outputs": [],
   "source": [
    "from datascience import *\n",
    "Table.read_table(\"spotify.csv\")\n"
   ]
  },
  {
   "cell_type": "code",
   "execution_count": null,
   "id": "bfb60337",
   "metadata": {},
   "outputs": [],
   "source": [
    "# We want to view only the column label\n",
    "\n",
    "# Option 1: chain methods in one line\n",
    "Table.read_table(\"spotify.csv\").labels\n",
    "\n",
    "# Option 2: use variables / names\n",
    "raw_spotify = Table.read_table(\"spotify.csv\")\n",
    "#raw_spotify.labels"
   ]
  },
  {
   "cell_type": "markdown",
   "id": "69552b23",
   "metadata": {},
   "source": [
    "### Example 1 ###\n",
    "\n",
    "Search for the artist Taylor Swift. \n",
    "\n",
    "When we are not sure the format of the artist's name stored in the data file, we can use a predictor in `tbl.where()`, e.g. `are.containing()`"
   ]
  },
  {
   "cell_type": "code",
   "execution_count": null,
   "id": "53e94e2a",
   "metadata": {
    "scrolled": true
   },
   "outputs": [],
   "source": [
    "# Remember: names and data in Python are case-sensitive.\n",
    "#           using predictors could be effective.\n",
    "\n",
    "# not exist\n",
    "taylor = raw_spotify.where(\"Artist\", are.containing(\"taylor\"))\n",
    "# not exist\n",
    "taylor = raw_spotify.where(\"Artist\", are.containing(\"swift\"))\n",
    "\n",
    "# part of the artist's name\n",
    "taylor = raw_spotify.where(\"Artist\", are.containing(\"Taylor\"))\n",
    "# part of the artist's name\n",
    "taylor = raw_spotify.where(\"Artist\", are.containing(\"Swift\"))\n",
    "\n",
    "taylor.show()\n"
   ]
  },
  {
   "cell_type": "code",
   "execution_count": null,
   "id": "f77f6c8b",
   "metadata": {},
   "outputs": [],
   "source": [
    "taylor.num_rows"
   ]
  },
  {
   "cell_type": "markdown",
   "id": "07deddb6",
   "metadata": {},
   "source": [
    "## Line Graphs and Scatter Plots ##\n",
    "\n",
    "We need to import matpolotlib library to draw line graphs and scatter plots."
   ]
  },
  {
   "cell_type": "code",
   "execution_count": null,
   "id": "f86d4a95",
   "metadata": {},
   "outputs": [],
   "source": [
    "import matplotlib\n",
    "%matplotlib inline\n",
    "import matplotlib.pyplot as plots\n",
    "plots.style.use('fivethirtyeight')"
   ]
  },
  {
   "cell_type": "markdown",
   "id": "637c10b7",
   "metadata": {},
   "source": [
    "### Line Graphs ###"
   ]
  },
  {
   "cell_type": "code",
   "execution_count": null,
   "id": "1c89488b",
   "metadata": {
    "scrolled": true
   },
   "outputs": [],
   "source": [
    "taylor.plot(\"Apple Music Playlist Count\", \"Amazon Playlist Count\")"
   ]
  },
  {
   "cell_type": "markdown",
   "id": "f86657b9",
   "metadata": {},
   "source": [
    "### Scatter Plots ###"
   ]
  },
  {
   "cell_type": "code",
   "execution_count": null,
   "id": "ac4e3e9f",
   "metadata": {},
   "outputs": [],
   "source": [
    "taylor.scatter(\"Apple Music Playlist Count\", \"Amazon Playlist Count\")"
   ]
  },
  {
   "cell_type": "code",
   "execution_count": null,
   "id": "c3961428",
   "metadata": {},
   "outputs": [],
   "source": []
  },
  {
   "cell_type": "code",
   "execution_count": null,
   "id": "f96605e8",
   "metadata": {},
   "outputs": [],
   "source": []
  }
 ],
 "metadata": {
  "kernelspec": {
   "display_name": "Python 3 (ipykernel)",
   "language": "python",
   "name": "python3"
  },
  "language_info": {
   "codemirror_mode": {
    "name": "ipython",
    "version": 3
   },
   "file_extension": ".py",
   "mimetype": "text/x-python",
   "name": "python",
   "nbconvert_exporter": "python",
   "pygments_lexer": "ipython3",
   "version": "3.10.11"
  }
 },
 "nbformat": 4,
 "nbformat_minor": 5
}
