{
 "cells": [
  {
   "cell_type": "markdown",
   "id": "46712aa3",
   "metadata": {},
   "source": [
    "## Lecture Notes - Census: Review Table Methods and Visualization ##\n",
    "\n",
    "**Helpful Resource:**\n",
    "- [Python Reference](http://data8.org/sp22/python-reference.html): Cheat sheet of helpful array & table methods used in Data 8!\n",
    "\n",
    "**Recommended Readings:**\n",
    "- [Sex Ratios](https://inferentialthinking.com/chapters/06/4/Example_Sex_Ratios.html)\n",
    "- [Population Trends](https://inferentialthinking.com/chapters/06/3/Example_Population_Trends.html)\n",
    "- [Tables](https://inferentialthinking.com/chapters/06/Tables.html)\n",
    "- [Arrays](https://inferentialthinking.com/chapters/05/1/Arrays.html)\n",
    "- [Programming in Python](http://www.inferentialthinking.com/chapters/03/programming-in-python.html)\n",
    "- [Data Types](https://inferentialthinking.com/chapters/04/Data_Types.html)"
   ]
  },
  {
   "cell_type": "markdown",
   "id": "3e62426d",
   "metadata": {},
   "source": [
    "## Table Methods ##\n",
    "\n",
    "- Creating tables: `Table.read_table` \n",
    "- Extending tables: `Table().with_columns`\n",
    "- Finding numbers of rows in a table: `num_rows`\n",
    "- Finding numbers of columns in a table: `num_columns`\n",
    "- Referring to columns: by labels or indices: column indices start at 0\n",
    "- Accessing data in a column: `column` takes a label or index and returns an array\n",
    "- Using array methods to work with data in columns: `item`, `sum`, `min`, `max`, and so on\n",
    "- Creating new tables containing some of the original columns: `select`, `drop`"
   ]
  },
  {
   "cell_type": "markdown",
   "id": "a86abb44",
   "metadata": {},
   "source": [
    "## Manipulating Rows ##\n",
    "\n",
    "- `tbl.sort(column)` sorts the rows in increasing order\n",
    "- `tbl.sort(column, descending=True)` sorts the rows in decreasing order\n",
    "- `tbl.take(row_numbers)` keeps the numbered rows and each row has an index, starting at 0\n",
    "- `tbl.where(column, condition)` where *condition* can be a value or a predictor, keeps all rows for which a column's value satisfies a condition.  \n",
    "\n",
    "    For example:\n",
    "    \n",
    "    ```tbl.where(column, are.equal_to(value))``` keeps all rows for which a column's value equals some particular value, shorter form: `tbl.where(column, value)`"
   ]
  },
  {
   "cell_type": "markdown",
   "id": "1f04453a",
   "metadata": {},
   "source": [
    "### Reading a Table from a Data File (Recap) ###\n",
    "\n",
    "Python reference for CS88\n",
    "1. import `datascience` module\n",
    "2. Read a data file to a table format"
   ]
  },
  {
   "cell_type": "code",
   "execution_count": null,
   "id": "01abfc72",
   "metadata": {},
   "outputs": [],
   "source": [
    "# Just run the cell to import the required module\n",
    "\n",
    "from datascience import *\n",
    "import numpy as np\n",
    "import warnings\n",
    "warnings.simplefilter('ignore', FutureWarning)\n",
    "\n",
    "# These lines do some fancy plotting magic.\\n\",\n",
    "import matplotlib\n",
    "%matplotlib inline\n",
    "import matplotlib.pyplot as plots\n",
    "plots.style.use('fivethirtyeight')"
   ]
  },
  {
   "cell_type": "code",
   "execution_count": null,
   "id": "4055e511",
   "metadata": {
    "scrolled": false
   },
   "outputs": [],
   "source": [
    "cars = Table.read_table(\"Cars2015_v1.csv\")\n",
    "cars.show(5)"
   ]
  },
  {
   "cell_type": "code",
   "execution_count": null,
   "id": "304f276c",
   "metadata": {},
   "outputs": [],
   "source": [
    "cars.num_rows"
   ]
  },
  {
   "cell_type": "code",
   "execution_count": null,
   "id": "fab6a951",
   "metadata": {},
   "outputs": [],
   "source": [
    "cars.num_columns"
   ]
  },
  {
   "cell_type": "markdown",
   "id": "ba278893",
   "metadata": {},
   "source": [
    "#### Sort the table `cars` by the column `LowPrice` in ascending order, then assign the sorted table to `sort_by_low_price`"
   ]
  },
  {
   "cell_type": "code",
   "execution_count": null,
   "id": "f5fe1188",
   "metadata": {},
   "outputs": [],
   "source": [
    "sort_by_low_price = cars.sort(\"LowPrice\", descending=False)\n",
    "sort_by_low_price"
   ]
  },
  {
   "cell_type": "markdown",
   "id": "e6dd206c",
   "metadata": {},
   "source": [
    "#### Make a table containing the cheapest 7 cars, then assign the table to `lowest_7`.\n",
    "\n",
    "*Hint: Use table `take` method. Check out the Array Functions and Methods section on [Python Reference](http://data8.org/sp22/python-reference.html): Cheat sheet of helpful array & table methods used in this course.*\n",
    "\n",
    "`tbl.take(row_indices)` method where `row_indices` can be:\n",
    "\n",
    "1. a series of row indices that may or may not be in a sequence, for exmamples: 10, 11, 12, 13 or 6, 24, 90, 56\n",
    "2. a range of row indices that is in a sequence of numbers, for example: 0, 1, 2, 3.\n",
    "\n"
   ]
  },
  {
   "cell_type": "code",
   "execution_count": null,
   "id": "bfb60337",
   "metadata": {
    "scrolled": false
   },
   "outputs": [],
   "source": [
    "# make a new table with a series of row indices\n",
    "lowest_7 = sort_by_low_price.take(0, 1, 2, 3, 4, 5, 6)\n",
    "\n",
    "# or\n",
    "# use np.arange() method to get a range of rows \n",
    "#lowest_7 = sort_by_low_price.take(np.arange(7))\n",
    "\n",
    "# or\n",
    "#lowest_7 = sort_by_low_price.take(np.arange(0, 7))\n",
    "lowest_7"
   ]
  },
  {
   "cell_type": "code",
   "execution_count": null,
   "id": "b06bc1a3",
   "metadata": {},
   "outputs": [],
   "source": [
    "random_7 = sort_by_low_price.take(6, 24, 90, 56, 88, 17, 7)\n",
    "random_7"
   ]
  },
  {
   "cell_type": "markdown",
   "id": "ad48bf84",
   "metadata": {},
   "source": [
    "#### Compute an array containing the minimum size of a garage for each car in the table `cars`, then assign the array to `storage_spaces`.\n",
    "\n",
    "*Hint: if you want to put a car in a huge gift box, how you would measure the dimensions and volumn of the box to wrap the car in it. Same way as computing the volumn of a cubic rectangle - width x length x height*.\n",
    "\n",
    "Steps:\n",
    "1. Use `tbl.column(column_name_or_index)` convert a table column to an array\n",
    "2. Compute the storage space for each car"
   ]
  },
  {
   "cell_type": "code",
   "execution_count": null,
   "id": "fcce8038",
   "metadata": {
    "scrolled": true
   },
   "outputs": [],
   "source": [
    "storage_spaces = cars.column(\"Width\") * cars.column(\"Length\") * cars.column(\"Height\")\n",
    "\n",
    "# or break the long assignment statement into multiple lines\n",
    "#width = cars.column(\"Width\")\n",
    "#length = cars.column(\"Length\")\n",
    "#height = cars.column(\"Height\")\n",
    "#storage_spaces = width * length * height\n",
    "\n",
    "storage_spaces"
   ]
  },
  {
   "cell_type": "markdown",
   "id": "e02f0862",
   "metadata": {},
   "source": [
    "#### Create a table with a new column\n",
    "\n",
    "1. Add the array `storage_spaces` as a column to the table `cars`\n",
    "2. Name the column as `Cargo Vol`\n",
    "3. Sort the resulting table by that column `Cargo Vol` in ascending order\n",
    "4. Assign the resulting table to `sort_by_cargo_vol`.\n",
    "\n",
    "*Hint: you have already created the array `storage_spaces` in a question above.*\n",
    "\n",
    "Steps:\n",
    "1. Use `tbl.with_columns(name, values)` to append a new column to the table\n",
    "    `tbl.with_columns(name, values)` can take multiple pairs of name and values\n",
    "2. Use `tbl.sort(column_name_or_index)` to sort the table\n",
    "    By default, `tbl.sort(column_name_or_index)` sort by ascending order"
   ]
  },
  {
   "cell_type": "code",
   "execution_count": null,
   "id": "68683379",
   "metadata": {
    "scrolled": true
   },
   "outputs": [],
   "source": [
    "sort_by_cargo_vol = cars.with_columns(\"Cargo Vol\", storage_spaces).sort(\"Cargo Vol\")\n",
    "\n",
    "# or break the long assignment statement into multiple lines\n",
    "cars_with_cargo_vol = cars.with_columns(\"Cargo Vol\", storage_spaces)\n",
    "sort_by_cargo_vol = cars_with_cargo_vol.sort(\"Cargo Vol\")\n",
    "\n",
    "sort_by_cargo_vol"
   ]
  },
  {
   "cell_type": "code",
   "execution_count": null,
   "id": "194026f6",
   "metadata": {},
   "outputs": [],
   "source": [
    "# To sort the table by descending order, we need to explicitly set it\n",
    "\n",
    "sort_by_descending = cars_with_cargo_vol.sort(\"Cargo Vol\", descending=True)\n",
    "sort_by_descending"
   ]
  },
  {
   "cell_type": "markdown",
   "id": "db311719",
   "metadata": {},
   "source": [
    "### Visualization ###\n",
    "\n",
    "1. `tbl.plot(x_column, y_column)`\n",
    "2. `tbl.scatter(x_column, y_column)`"
   ]
  },
  {
   "cell_type": "markdown",
   "id": "e0e9d45d",
   "metadata": {},
   "source": [
    "#### Example 1: Create a line plot of `Cargo Vol` over `Weight` ####\n",
    "\n",
    "Instead of looking at the table, we want to visualize it on a plot.\n",
    "\n",
    "Use `tbl.plot(x_column, y_column)`\n"
   ]
  },
  {
   "cell_type": "code",
   "execution_count": null,
   "id": "14937228",
   "metadata": {
    "scrolled": true
   },
   "outputs": [],
   "source": [
    "# Cargo volumn over weight\n",
    "\n",
    "sort_by_cargo_vol.plot(\"Weight\", \"Cargo Vol\")\n"
   ]
  },
  {
   "cell_type": "markdown",
   "id": "331d81b5",
   "metadata": {},
   "source": [
    "#### What pattern do you see from the plot you created above? ####"
   ]
  },
  {
   "cell_type": "markdown",
   "id": "cd5328e9",
   "metadata": {},
   "source": [
    "*Your obseration here...*"
   ]
  },
  {
   "cell_type": "markdown",
   "id": "1bd7bebb",
   "metadata": {},
   "source": [
    "#### Example 2: We can also draw two overlaid line plots, showing the fuel capacity for city and highway miles per gallon  ####\n",
    "\n",
    "Steps:\n",
    "1. Create a new table that only contains the data we need to draw a plot, in this example, use `tbl.select(col1, col2, ...)` to make a table with the columns of `CityMPG`, `HwyMPG` and `FuelCap`\n",
    "2. Use Use `tbl.plot(x_column)` to draw a plot"
   ]
  },
  {
   "cell_type": "code",
   "execution_count": null,
   "id": "d10a6c2d",
   "metadata": {
    "scrolled": true
   },
   "outputs": [],
   "source": [
    "# use the column indices\n",
    "sort_by_cargo_vol.select(6, 7, 8).plot(\"FuelCap\")\n",
    "\n",
    "# or use the column names/labels\n",
    "\n",
    "#sort_by_cargo_vol.select(\"CityMPG\", \"HwyMPG\", \"FuelCap\").plot(\"FuelCap\")"
   ]
  },
  {
   "cell_type": "markdown",
   "id": "f0c0b956",
   "metadata": {},
   "source": [
    "#### What pattern do you see from the plot you created above? ####"
   ]
  },
  {
   "cell_type": "markdown",
   "id": "981652a9",
   "metadata": {},
   "source": [
    "*Your obseration here...*"
   ]
  },
  {
   "cell_type": "code",
   "execution_count": null,
   "id": "1103d9db",
   "metadata": {},
   "outputs": [],
   "source": [
    "sort_by_cargo_vol.select(6, 7, 8).sort(\"FuelCap\")"
   ]
  },
  {
   "cell_type": "markdown",
   "id": "e9c19d6b",
   "metadata": {},
   "source": [
    "#### Example 3: Create a scatter plot to visualize the association of the Weight and its corresponding CityMPG ####"
   ]
  },
  {
   "cell_type": "code",
   "execution_count": null,
   "id": "5f8dbc8b",
   "metadata": {
    "scrolled": true
   },
   "outputs": [],
   "source": [
    "cars.scatter(\"Weight\", \"CityMPG\")"
   ]
  },
  {
   "cell_type": "markdown",
   "id": "ffe31083",
   "metadata": {},
   "source": [
    "#### Visualization: create a scatter plot to visualize the association of the Weight and its corresponding Fuel Capacity ####\n"
   ]
  },
  {
   "cell_type": "code",
   "execution_count": null,
   "id": "89c9b47d",
   "metadata": {
    "scrolled": true
   },
   "outputs": [],
   "source": [
    "cars.scatter(\"Weight\", \"FuelCap\")"
   ]
  },
  {
   "cell_type": "code",
   "execution_count": null,
   "id": "f176dbf3",
   "metadata": {},
   "outputs": [],
   "source": []
  }
 ],
 "metadata": {
  "kernelspec": {
   "display_name": "Python 3 (ipykernel)",
   "language": "python",
   "name": "python3"
  },
  "language_info": {
   "codemirror_mode": {
    "name": "ipython",
    "version": 3
   },
   "file_extension": ".py",
   "mimetype": "text/x-python",
   "name": "python",
   "nbconvert_exporter": "python",
   "pygments_lexer": "ipython3",
   "version": "3.11.5"
  }
 },
 "nbformat": 4,
 "nbformat_minor": 5
}
