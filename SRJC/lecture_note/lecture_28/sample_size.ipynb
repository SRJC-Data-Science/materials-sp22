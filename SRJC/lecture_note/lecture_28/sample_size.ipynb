{
 "cells": [
  {
   "cell_type": "markdown",
   "id": "05d8996d",
   "metadata": {},
   "source": [
    "# Chebyshev's Theorem, Sample Size\n",
    "\n",
    "Complete this problem set with your group (up to 4 students). You can either hand-write your work and submit a hard copy, or go to File -> Download as HTML to generate an HTML file, then either submit it online or as a hard copy. Each group only needs to submit one copy and will receive the same grade. \n",
    "\n",
    "This team homework is based on Lecture 28: Designing Experiments and related to Homework 9: Sample Sizes and Confidence Intervals. \n",
    "\n",
    "**Helpful Resource:**\n",
    "- [Python Reference](http://data8.org/sp22/python-reference.html): Cheat sheet of helpful array & table methods used in Data 8!\n",
    "\n",
    "**Recommended Readings**: \n",
    "- [Sample Size](https://inferentialthinking.com/chapters/14/6/Choosing_a_Sample_Size.html)\n"
   ]
  },
  {
   "cell_type": "code",
   "execution_count": 1,
   "id": "cb0b7535",
   "metadata": {},
   "outputs": [],
   "source": [
    "from datascience import *\n",
    "%matplotlib inline\n",
    "path_data = '../../../assets/data/'\n",
    "import matplotlib.pyplot as plots\n",
    "plots.style.use('fivethirtyeight')\n",
    "import numpy as np\n",
    "from math import ceil"
   ]
  },
  {
   "cell_type": "markdown",
   "id": "332b8907",
   "metadata": {},
   "source": [
    "### Chebychev's Bounds\n",
    "\n",
    "Chevychev's theorem states that regardless of the distribution, the proportion of data values that are within $z$ standard deviations of the mean, i.e. within the range $mean \\pm z\\cdot  SDs$ is at least $1 -\\frac{1}{z^2}$, where $z>1$. In mathematical notation, this is equivalent to:\n",
    "\n",
    "$P(\\frac{|X - \\mu|}{SD} < z) \\ge 1 -\\frac{1}{z^2}$\n",
    "\n",
    "The following example compares Chebychev's bounds with results from a right-skewed distribution. "
   ]
  },
  {
   "cell_type": "code",
   "execution_count": 2,
   "id": "4d9279df",
   "metadata": {},
   "outputs": [
    {
     "data": {
      "text/plain": [
       "0.9054054054054054"
      ]
     },
     "execution_count": 2,
     "metadata": {},
     "output_type": "execute_result"
    },
    {
     "data": {
      "image/png": "[encoded data removed]",
      "text/plain": [
       "<Figure size 600x400 with 1 Axes>"
      ]
     },
     "metadata": {},
     "output_type": "display_data"
    }
   ],
   "source": [
    "students = Table().read_table('student_data.csv')\n",
    "students.hist('PETS')\n",
    "pets = students.column('PETS')\n",
    "m = np.average(pets)\n",
    "s = np.std(pets)\n",
    "# this is how you combine two conditions in np.count_nonzero\n",
    "np.count_nonzero(np.logical_and(pets <= m+1.5*s, pets >= m-1.5*s)) / len(pets)"
   ]
  },
  {
   "cell_type": "markdown",
   "id": "66915d10",
   "metadata": {},
   "source": [
    "At least what proportion should be within 1.5 standard deviation of the mean, according to the Chebychev's theorem? (Note: this number should be less than what's calculated above)"
   ]
  },
  {
   "cell_type": "code",
   "execution_count": null,
   "id": "8fba2d56",
   "metadata": {},
   "outputs": [],
   "source": []
  },
  {
   "cell_type": "markdown",
   "id": "56527b08",
   "metadata": {},
   "source": [
    "Do a similar comparison for $z=2$ and $z=3$. In each case, show the actual proportion from the data and the lower bound from Chevychev's theorem. "
   ]
  },
  {
   "cell_type": "code",
   "execution_count": null,
   "id": "0ad4bfc1",
   "metadata": {},
   "outputs": [],
   "source": []
  },
  {
   "cell_type": "markdown",
   "id": "ae8561bc",
   "metadata": {},
   "source": [
    "### Sample Size for Estimating Means\n",
    "\n",
    "The relationship between the sample size and the width of the confiden interval was shown to be \n",
    "\n",
    "$ width = 4\\cdot \\frac{SD}{\\sqrt{\\texttt{n}}}$, where $n$ is the sample size. \n",
    "\n",
    "If you solve for $n$ from the formula above, what is the equation that gives you the sample size based on the width of the interval? "
   ]
  },
  {
   "cell_type": "code",
   "execution_count": null,
   "id": "28ab88c0",
   "metadata": {},
   "outputs": [],
   "source": []
  },
  {
   "cell_type": "markdown",
   "id": "4bc29ddb",
   "metadata": {},
   "source": [
    "Earlier in the semester, we used the student data to construct a 95% confidence interval for the average age, with a width of the interval being 2.96 years. Using the SD of the student data as an approximation for the population standard deviation, calculate the sample size required to bring the width of the 95% confidence interval down to 1 year. "
   ]
  },
  {
   "cell_type": "code",
   "execution_count": 10,
   "id": "fe523fac",
   "metadata": {},
   "outputs": [],
   "source": [
    "# calculate the sample size based on your formula\n",
    " \n",
    "n = ..."
   ]
  },
  {
   "cell_type": "markdown",
   "id": "aa8bcefb",
   "metadata": {},
   "source": [
    "Now test whether your sample size was sufficient by re-doing bootstrapping, this time by setting the sample size to be larger than the original sample size in `students.sample(n)` . Show the histogram of bootstrap means. "
   ]
  },
  {
   "cell_type": "code",
   "execution_count": null,
   "id": "7aa11547",
   "metadata": {},
   "outputs": [],
   "source": []
  },
  {
   "cell_type": "markdown",
   "id": "4cd2aa0c",
   "metadata": {},
   "source": [
    "What is the 95% confidence interval based on the bootstrap means? Does it have the desired width? Test it below by using the `percentile` function. "
   ]
  },
  {
   "cell_type": "code",
   "execution_count": null,
   "id": "894a8088",
   "metadata": {},
   "outputs": [],
   "source": []
  },
  {
   "cell_type": "markdown",
   "id": "9afb0982",
   "metadata": {},
   "source": [
    "### Sample Size for Estimating Proportions\n",
    "\n",
    "Recall that given a population of binary values, the proportion of 1's can be seen as a mean of 0's and 1's. The following code randomly generates a population of 0's and 1's. Run it a few times and see what the standard deviation will be. "
   ]
  },
  {
   "cell_type": "code",
   "execution_count": 15,
   "id": "b5d718e7",
   "metadata": {},
   "outputs": [
    {
     "data": {
      "text/plain": [
       "0.40587682860690638"
      ]
     },
     "execution_count": 15,
     "metadata": {},
     "output_type": "execute_result"
    }
   ],
   "source": [
    "p0 = 0.2\n",
    "n = 1000\n",
    "binary_population = np.random.binomial(1, p0, n)\n",
    "np.std(binary_population)"
   ]
  },
  {
   "cell_type": "code",
   "execution_count": null,
   "id": "26d66d29",
   "metadata": {},
   "outputs": [],
   "source": []
  }
 ],
 "metadata": {
  "kernelspec": {
   "display_name": ".venv",
   "language": "python",
   "name": "python3"
  },
  "language_info": {
   "codemirror_mode": {
    "name": "ipython",
    "version": 3
   },
   "file_extension": ".py",
   "mimetype": "text/x-python",
   "name": "python",
   "nbconvert_exporter": "python",
   "pygments_lexer": "ipython3",
   "version": "3.12.3"
  }
 },
 "nbformat": 4,
 "nbformat_minor": 5
}
