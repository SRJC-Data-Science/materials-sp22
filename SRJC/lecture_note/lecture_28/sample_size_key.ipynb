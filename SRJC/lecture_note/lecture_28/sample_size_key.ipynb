{
 "cells": [
  {
   "cell_type": "markdown",
   "id": "05d8996d",
   "metadata": {},
   "source": [
    "# Chebyshev's Theorem, Sample Size\n",
    "\n",
    "Complete this problem set with your group (up to 4 students). You can either hand-write your work and submit a hard copy, or go to File -> Download as HTML to generate an HTML file, then either submit it online or as a hard copy. Each group only needs to submit one copy and will receive the same grade. \n",
    "\n",
    "This team homework is based on Lecture 28: Designing Experiments and related to Homework 9: Sample Sizes and Confidence Intervals. \n",
    "\n",
    "**Helpful Resource:**\n",
    "- [Python Reference](http://data8.org/sp22/python-reference.html): Cheat sheet of helpful array & table methods used in Data 8!\n",
    "\n",
    "**Recommended Readings**: \n",
    "- [Sample Size](https://inferentialthinking.com/chapters/14/6/Choosing_a_Sample_Size.html)\n"
   ]
  },
  {
   "cell_type": "code",
   "execution_count": 64,
   "id": "cb0b7535",
   "metadata": {},
   "outputs": [],
   "source": [
    "from datascience import *\n",
    "%matplotlib inline\n",
    "path_data = '../../../assets/data/'\n",
    "import matplotlib.pyplot as plots\n",
    "plots.style.use('fivethirtyeight')\n",
    "import numpy as np\n",
    "from math import ceil"
   ]
  },
  {
   "cell_type": "markdown",
   "id": "332b8907",
   "metadata": {},
   "source": [
    "### Chebychev's Bounds\n",
    "\n",
    "Chevychev's theorem states that regardless of the distribution, the proportion of data values that are within $z$ standard deviations of the mean, i.e. within the range $mean \\pm z\\cdot  SDs$ is at least $1 -\\frac{1}{z^2}$, where $z>1$. In mathematical notation, this is equivalent to:\n",
    "\n",
    "$P(\\frac{|X - \\mu|}{SD} < z) \\ge 1 -\\frac{1}{z^2}$\n",
    "\n",
    "The following example compares Chebychev's bounds with results from a right-skewed distribution. "
   ]
  },
  {
   "cell_type": "code",
   "execution_count": 2,
   "id": "4d9279df",
   "metadata": {},
   "outputs": [
    {
     "name": "stdout",
     "output_type": "stream",
     "text": [
      "0.9864864864864865\n"
     ]
    },
    {
     "data": {
      "text/plain": [
       "0.84"
      ]
     },
     "execution_count": 2,
     "metadata": {},
     "output_type": "execute_result"
    },
    {
     "data": {
      "image/png": "[encoded data removed]",
      "text/plain": [
       "<Figure size 600x400 with 1 Axes>"
      ]
     },
     "metadata": {},
     "output_type": "display_data"
    }
   ],
   "source": [
    "students = Table().read_table('student_data.csv')\n",
    "students.hist('PETS')\n",
    "pets = students.column('PETS')\n",
    "m = np.average(pets)\n",
    "s = np.std(pets)\n",
    "# this is how you combine two conditions in np.count_nonzero\n",
    "print(np.count_nonzero(np.logical_and(pets <= m+2.5*s, pets >= m-2.5*s)) / len(pets))\n",
    "1 - 1/2.5**2"
   ]
  },
  {
   "cell_type": "markdown",
   "id": "66915d10",
   "metadata": {},
   "source": [
    "At least what proportion should be within 1.5 standard deviation of the mean, according to the Chebychev's theorem? (Note: this number should be less than what's calculated above)"
   ]
  },
  {
   "cell_type": "code",
   "execution_count": 5,
   "id": "8fba2d56",
   "metadata": {},
   "outputs": [
    {
     "name": "stdout",
     "output_type": "stream",
     "text": [
      "0.9054054054054054\n"
     ]
    },
    {
     "data": {
      "text/plain": [
       "0.5555555555555556"
      ]
     },
     "execution_count": 5,
     "metadata": {},
     "output_type": "execute_result"
    }
   ],
   "source": [
    "print(np.count_nonzero(np.logical_and(pets <= m+1.5*s, pets >= m-1.5*s)) / len(pets))\n",
    "1 - 1/1.5**2"
   ]
  },
  {
   "cell_type": "markdown",
   "id": "56527b08",
   "metadata": {},
   "source": [
    "Do a similar comparison for $z=2$ and $z=3$. In each case, show the actual proportion from the data and the lower bound from Chevychev's theorem. "
   ]
  },
  {
   "cell_type": "code",
   "execution_count": 6,
   "id": "0ad4bfc1",
   "metadata": {},
   "outputs": [
    {
     "name": "stdout",
     "output_type": "stream",
     "text": [
      "1.0\n"
     ]
    },
    {
     "data": {
      "text/plain": [
       "0.8888888888888888"
      ]
     },
     "execution_count": 6,
     "metadata": {},
     "output_type": "execute_result"
    }
   ],
   "source": [
    "print(np.count_nonzero(np.logical_and(pets <= m+3*s, pets >= m-3*s)) / len(pets))\n",
    "1 - 1/3**2"
   ]
  },
  {
   "cell_type": "markdown",
   "id": "ae8561bc",
   "metadata": {},
   "source": [
    "### Sample Size for Estimating Means\n",
    "\n",
    "The relationship between the sample size and the width of the confiden interval was shown to be \n",
    "\n",
    "$ width = 4\\cdot \\frac{SD}{\\sqrt{\\texttt{n}}}$, where $n$ is the sample size. \n",
    "\n",
    "If you solve for $n$ from the formula above, what is the equation that gives you the sample size based on the width of the interval? "
   ]
  },
  {
   "cell_type": "code",
   "execution_count": 24,
   "id": "28ab88c0",
   "metadata": {},
   "outputs": [
    {
     "data": {
      "text/plain": [
       "683.8626734842951"
      ]
     },
     "execution_count": 24,
     "metadata": {},
     "output_type": "execute_result"
    }
   ],
   "source": [
    "# n = (4*SD/width)**2\n",
    "\n",
    "# SD is estimated by sample standard deviation \n",
    "# width is given by the user, e.g. 2*error\n",
    "\n",
    "# calculate the sample size based on your formula\n",
    " \n",
    "SD = np.std(students.column('AGE'))\n",
    "n = (4*SD/1)**2\n",
    "n"
   ]
  },
  {
   "cell_type": "markdown",
   "id": "4bc29ddb",
   "metadata": {},
   "source": [
    "Earlier in the semester, we used the student data to construct a 95% confidence interval for the average age, with a width of the interval being 2.96 years. Using the SD of the student data as an approximation for the population standard deviation, calculate the sample size required to bring the width of the 95% confidence interval down to 1 year. "
   ]
  },
  {
   "cell_type": "code",
   "execution_count": 7,
   "id": "fe523fac",
   "metadata": {},
   "outputs": [],
   "source": [
    "bootstrap_means = make_array()\n",
    "for i in np.arange(10000):\n",
    "    bootstrap_means = np.append(bootstrap_means, np.average(students.sample().column('AGE')))\n",
    "\n",
    "\n"
   ]
  },
  {
   "cell_type": "code",
   "execution_count": 20,
   "id": "138742d0",
   "metadata": {},
   "outputs": [
    {
     "data": {
      "text/plain": [
       "(21.0, 23.945945945945947)"
      ]
     },
     "execution_count": 20,
     "metadata": {},
     "output_type": "execute_result"
    }
   ],
   "source": [
    "#Table().with_column('bootstrap means', bootstrap_means).hist()\n",
    "#students.num_rows\n",
    "percentile(2.5, bootstrap_means), percentile(97.5, bootstrap_means)\n",
    "#percentile(97.5, bootstrap_means) - percentile(2.5, bootstrap_means)\n",
    "#from math import sqrt\n",
    "#print(np.std(students.column('AGE')) / sqrt(74))"
   ]
  },
  {
   "cell_type": "markdown",
   "id": "aa8bcefb",
   "metadata": {},
   "source": [
    "Now test whether your sample size was sufficient by re-doing bootstrapping, this time by setting the sample size to be larger than the original sample size in `students.sample(n)` . Show the histogram of bootstrap means. "
   ]
  },
  {
   "cell_type": "code",
   "execution_count": null,
   "id": "7aa11547",
   "metadata": {},
   "outputs": [],
   "source": []
  },
  {
   "cell_type": "markdown",
   "id": "4cd2aa0c",
   "metadata": {},
   "source": [
    "What is the 95% confidence interval based on the bootstrap means? Does it have the desired width? Test it below by using the `percentile` function. "
   ]
  },
  {
   "cell_type": "code",
   "execution_count": null,
   "id": "894a8088",
   "metadata": {},
   "outputs": [],
   "source": []
  },
  {
   "cell_type": "markdown",
   "id": "9afb0982",
   "metadata": {},
   "source": [
    "### Sample Size for Estimating Proportions\n",
    "\n",
    "Recall that given a population of binary values (also known as a ```Bernoulli``` distribution), the proportion of 1's can be seen as a mean of 0's and 1's. The following code randomly generates a population of 0's and 1's. Run it a few times and see what the standard deviation will be. "
   ]
  },
  {
   "cell_type": "code",
   "execution_count": 35,
   "id": "b5d718e7",
   "metadata": {},
   "outputs": [
    {
     "data": {
      "text/plain": [
       "0.49996399870390662"
      ]
     },
     "execution_count": 35,
     "metadata": {},
     "output_type": "execute_result"
    }
   ],
   "source": [
    "p0 = 0.5\n",
    "n = 1000\n",
    "binary_population = np.random.binomial(1, p0, n)\n",
    "np.std(binary_population)"
   ]
  },
  {
   "cell_type": "markdown",
   "id": "26d66d29",
   "metadata": {},
   "source": [
    "What is the largest possible standard deviation for a binary distribution? Based on the formula $width = 4\\cdot \\frac{SD}{\\sqrt{\\texttt{n}}}$, if we would like to keep the width of the confidence interval within 4%, how large a sample should we include? "
   ]
  },
  {
   "cell_type": "code",
   "execution_count": 38,
   "id": "63ba9ffc",
   "metadata": {},
   "outputs": [
    {
     "data": {
      "text/plain": [
       "2.5758293035489004"
      ]
     },
     "execution_count": 38,
     "metadata": {},
     "output_type": "execute_result"
    }
   ],
   "source": [
    "from scipy import stats\n",
    "stats.norm.ppf(0.995)"
   ]
  },
  {
   "cell_type": "markdown",
   "id": "ea4dbe28",
   "metadata": {},
   "source": [
    "largest std deviation of binary distribution is 0.5 (achieved when prop = 0.5)\n",
    "\n",
    "for 95% confidence level, and width = 0.04, the sample size was (4*0.5/0.04)^2  = 2500\n",
    "\n",
    "for 99% confidence level and width = 0.04, the sample size was (2*2.58*0.5/0.04)^2 = 4160"
   ]
  },
  {
   "cell_type": "markdown",
   "id": "7c76fbc1",
   "metadata": {},
   "source": [
    "Now use the code above to generate a binary distribution by setting ```n``` to the sample size you found above. Construct bootstrap confidence intervals from the population. What is the actual width of the confidence interval through bootstrapping? "
   ]
  },
  {
   "cell_type": "code",
   "execution_count": 58,
   "id": "4f896244",
   "metadata": {},
   "outputs": [
    {
     "data": {
      "text/plain": [
       "datetime.time(19, 6, 51, 581139)"
      ]
     },
     "execution_count": 58,
     "metadata": {},
     "output_type": "execute_result"
    }
   ],
   "source": [
    "np.count_nonzero(students.sample(2500).column('SOCIAL')=='Yes') / 2500\n",
    "import datetime\n"
   ]
  },
  {
   "cell_type": "code",
   "execution_count": 59,
   "id": "7dbf5c64",
   "metadata": {},
   "outputs": [
    {
     "name": "stdout",
     "output_type": "stream",
     "text": [
      "0:03:33.731016\n"
     ]
    }
   ],
   "source": [
    "import datetime\n",
    "start_time = datetime.datetime.now()\n",
    "bootstrap_props = make_array()\n",
    "for i in np.arange(10000):\n",
    "    bootstrap_props = np.append(bootstrap_props, np.count_nonzero(students.sample(2500).column('SOCIAL')=='Yes') / 2500)\n",
    "print(datetime.datetime.now()-start_time)"
   ]
  },
  {
   "cell_type": "code",
   "execution_count": 48,
   "id": "d7189a54",
   "metadata": {},
   "outputs": [
    {
     "data": {
      "image/png": "[encoded data removed]",
      "text/plain": [
       "<Figure size 600x400 with 1 Axes>"
      ]
     },
     "metadata": {},
     "output_type": "display_data"
    }
   ],
   "source": [
    "Table().with_column('bootstrap proportions', bootstrap_props).hist()"
   ]
  },
  {
   "cell_type": "code",
   "execution_count": 49,
   "id": "e1ce187d",
   "metadata": {},
   "outputs": [
    {
     "data": {
      "text/plain": [
       "0.035200000000000009"
      ]
     },
     "execution_count": 49,
     "metadata": {},
     "output_type": "execute_result"
    }
   ],
   "source": [
    "percentile(97.5, bootstrap_props) - percentile(2.5, bootstrap_props)"
   ]
  },
  {
   "cell_type": "code",
   "execution_count": null,
   "id": "89ba8f36",
   "metadata": {},
   "outputs": [],
   "source": []
  }
 ],
 "metadata": {
  "kernelspec": {
   "display_name": "Python 3 (ipykernel)",
   "language": "python",
   "name": "python3"
  },
  "language_info": {
   "codemirror_mode": {
    "name": "ipython",
    "version": 3
   },
   "file_extension": ".py",
   "mimetype": "text/x-python",
   "name": "python",
   "nbconvert_exporter": "python",
   "pygments_lexer": "ipython3",
   "version": "3.10.11"
  }
 },
 "nbformat": 4,
 "nbformat_minor": 5
}
