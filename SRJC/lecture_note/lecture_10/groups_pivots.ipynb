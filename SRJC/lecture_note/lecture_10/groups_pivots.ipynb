{
 "cells": [
  {
   "cell_type": "markdown",
   "id": "46712aa3",
   "metadata": {},
   "source": [
    "## Lecture Notes - Groups and Pivot Tables ##\n",
    "\n",
    "**Helpful Resource:**\n",
    "- [Python Reference](http://data8.org/sp22/python-reference.html): Cheat sheet of helpful array & table methods used in Data 8!\n",
    "\n",
    "**Recommended Readings:**\n",
    "- [Classifying by One Variable](https://inferentialthinking.com/chapters/08/2/Classifying_by_One_Variable.html)\n",
    "- [Cross-Classifying by More than One Variable](https://inferentialthinking.com/chapters/08/3/Cross-Classifying_by_More_than_One_Variable.html)"
   ]
  },
  {
   "cell_type": "code",
   "execution_count": 59,
   "id": "33e6a0f1",
   "metadata": {},
   "outputs": [],
   "source": [
    "# import modules to be used in this notebook\n",
    "\n",
    "from datascience import *\n",
    "import numpy as np\n",
    "\n",
    "%matplotlib inline\n",
    "import matplotlib.pyplot as plots\n",
    "plots.style.use('fivethirtyeight')\n",
    "import warnings\n",
    "warnings.simplefilter(action='ignore',category=np.VisibleDeprecationWarning)"
   ]
  },
  {
   "cell_type": "code",
   "execution_count": 60,
   "id": "ebaf72f8",
   "metadata": {
    "scrolled": false
   },
   "outputs": [
    {
     "data": {
      "text/html": [
       "<table border=\"1\" class=\"dataframe\">\n",
       "    <thead>\n",
       "        <tr>\n",
       "            <th>Name</th> <th>Price</th>\n",
       "        </tr>\n",
       "    </thead>\n",
       "    <tbody>\n",
       "        <tr>\n",
       "            <td>apple    </td> <td>1.2  </td>\n",
       "        </tr>\n",
       "        <tr>\n",
       "            <td>banana   </td> <td>0.29 </td>\n",
       "        </tr>\n",
       "        <tr>\n",
       "            <td>cranberry</td> <td>3.2  </td>\n",
       "        </tr>\n",
       "        <tr>\n",
       "            <td>apple    </td> <td>0.9  </td>\n",
       "        </tr>\n",
       "        <tr>\n",
       "            <td>cranberry</td> <td>4.2  </td>\n",
       "        </tr>\n",
       "        <tr>\n",
       "            <td>apple    </td> <td>1.25 </td>\n",
       "        </tr>\n",
       "    </tbody>\n",
       "</table>"
      ],
      "text/plain": [
       "Name      | Price\n",
       "apple     | 1.2\n",
       "banana    | 0.29\n",
       "cranberry | 3.2\n",
       "apple     | 0.9\n",
       "cranberry | 4.2\n",
       "apple     | 1.25"
      ]
     },
     "execution_count": 60,
     "metadata": {},
     "output_type": "execute_result"
    }
   ],
   "source": [
    "# Create a table from scratch with arrays and columns \n",
    "#   using Table().with_columns()\n",
    "\n",
    "names = make_array(\"apple\", \"banana\", \"cranberry\", \"apple\", \"cranberry\", \"apple\")\n",
    "prices = make_array(1.2, 0.29, 3.2, 0.90, 4.2, 1.25)\n",
    "\n",
    "fruits = Table().with_columns(\n",
    "        \"Name\", names,\n",
    "        \"Price\", prices\n",
    ")\n",
    "\n",
    "fruits"
   ]
  },
  {
   "cell_type": "markdown",
   "id": "c7467b6d",
   "metadata": {},
   "source": [
    "## Groups - `tbl.group()` ##\n",
    "\n",
    "### Classifying by One Variable ###\n",
    "\n",
    "Count the number in each category in a table"
   ]
  },
  {
   "cell_type": "code",
   "execution_count": 61,
   "id": "553edebc",
   "metadata": {
    "scrolled": true
   },
   "outputs": [
    {
     "data": {
      "text/html": [
       "<table border=\"1\" class=\"dataframe\">\n",
       "    <thead>\n",
       "        <tr>\n",
       "            <th>Name</th> <th>count</th>\n",
       "        </tr>\n",
       "    </thead>\n",
       "    <tbody>\n",
       "        <tr>\n",
       "            <td>apple    </td> <td>3    </td>\n",
       "        </tr>\n",
       "        <tr>\n",
       "            <td>banana   </td> <td>1    </td>\n",
       "        </tr>\n",
       "        <tr>\n",
       "            <td>cranberry</td> <td>2    </td>\n",
       "        </tr>\n",
       "    </tbody>\n",
       "</table>"
      ],
      "text/plain": [
       "Name      | count\n",
       "apple     | 3\n",
       "banana    | 1\n",
       "cranberry | 2"
      ]
     },
     "execution_count": 61,
     "metadata": {},
     "output_type": "execute_result"
    }
   ],
   "source": [
    "# return a table view with a count of row of each category\n",
    "\n",
    "fruits.group(\"Name\")"
   ]
  },
  {
   "cell_type": "code",
   "execution_count": 62,
   "id": "9e7a5f07",
   "metadata": {
    "scrolled": false
   },
   "outputs": [
    {
     "data": {
      "text/html": [
       "<table border=\"1\" class=\"dataframe\">\n",
       "    <thead>\n",
       "        <tr>\n",
       "            <th>Name</th> <th>Price average</th>\n",
       "        </tr>\n",
       "    </thead>\n",
       "    <tbody>\n",
       "        <tr>\n",
       "            <td>apple    </td> <td>1.11667      </td>\n",
       "        </tr>\n",
       "        <tr>\n",
       "            <td>banana   </td> <td>0.29         </td>\n",
       "        </tr>\n",
       "        <tr>\n",
       "            <td>cranberry</td> <td>3.7          </td>\n",
       "        </tr>\n",
       "    </tbody>\n",
       "</table>"
      ],
      "text/plain": [
       "Name      | Price average\n",
       "apple     | 1.11667\n",
       "banana    | 0.29\n",
       "cranberry | 3.7"
      ]
     },
     "execution_count": 62,
     "metadata": {},
     "output_type": "execute_result"
    }
   ],
   "source": [
    "# use the optional 2nd argument to average the price of each category\n",
    "\n",
    "fruits.group(\"Name\", np.average)"
   ]
  },
  {
   "cell_type": "code",
   "execution_count": 63,
   "id": "be4d0731",
   "metadata": {
    "scrolled": true
   },
   "outputs": [
    {
     "data": {
      "text/html": [
       "<table border=\"1\" class=\"dataframe\">\n",
       "    <thead>\n",
       "        <tr>\n",
       "            <th>Name</th> <th>Price halfPrice</th>\n",
       "        </tr>\n",
       "    </thead>\n",
       "    <tbody>\n",
       "        <tr>\n",
       "            <td>apple    </td> <td>[ 0.6    0.45   0.625]</td>\n",
       "        </tr>\n",
       "        <tr>\n",
       "            <td>banana   </td> <td>[ 0.145]              </td>\n",
       "        </tr>\n",
       "        <tr>\n",
       "            <td>cranberry</td> <td>[ 1.6  2.1]           </td>\n",
       "        </tr>\n",
       "    </tbody>\n",
       "</table>"
      ],
      "text/plain": [
       "Name      | Price halfPrice\n",
       "apple     | [ 0.6    0.45   0.625]\n",
       "banana    | [ 0.145]\n",
       "cranberry | [ 1.6  2.1]"
      ]
     },
     "execution_count": 63,
     "metadata": {},
     "output_type": "execute_result"
    }
   ],
   "source": [
    "# we learned how to define and use function in Python,\n",
    "#   so we can define our own function and use it in group\n",
    "# let's reduce the price by 50%\n",
    "\n",
    "# return an array of reduced prices of each category\n",
    "\n",
    "def halfPrice(price):\n",
    "    \"\"\" reduce the price by 50% \"\"\"\n",
    "    return price * 0.5\n",
    "\n",
    "fruits.group(\"Name\", halfPrice)"
   ]
  },
  {
   "cell_type": "code",
   "execution_count": 64,
   "id": "5e27f44b",
   "metadata": {},
   "outputs": [
    {
     "data": {
      "text/plain": [
       "array([ 0.6  ,  0.145,  1.6  ,  0.45 ,  2.1  ,  0.625])"
      ]
     },
     "execution_count": 64,
     "metadata": {},
     "output_type": "execute_result"
    }
   ],
   "source": [
    "# when use tbl.apply() a function to table column,\n",
    "#.  it returns an array of reduced prices\n",
    "\n",
    "fruits.apply(halfPrice, \"Price\")"
   ]
  },
  {
   "cell_type": "code",
   "execution_count": 65,
   "id": "30989962",
   "metadata": {
    "scrolled": true
   },
   "outputs": [
    {
     "data": {
      "text/html": [
       "<table border=\"1\" class=\"dataframe\">\n",
       "    <thead>\n",
       "        <tr>\n",
       "            <th>Name</th> <th>Price</th> <th>Location</th>\n",
       "        </tr>\n",
       "    </thead>\n",
       "    <tbody>\n",
       "        <tr>\n",
       "            <td>apple    </td> <td>1.2  </td> <td>Santa Rosa  </td>\n",
       "        </tr>\n",
       "        <tr>\n",
       "            <td>banana   </td> <td>0.29 </td> <td>Petaluma    </td>\n",
       "        </tr>\n",
       "        <tr>\n",
       "            <td>cranberry</td> <td>3.2  </td> <td>Redwood City</td>\n",
       "        </tr>\n",
       "        <tr>\n",
       "            <td>apple    </td> <td>0.9  </td> <td>Santa Rosa  </td>\n",
       "        </tr>\n",
       "        <tr>\n",
       "            <td>cranberry</td> <td>4.2  </td> <td>Redwood City</td>\n",
       "        </tr>\n",
       "        <tr>\n",
       "            <td>apple    </td> <td>1.25 </td> <td>Palo Alto   </td>\n",
       "        </tr>\n",
       "    </tbody>\n",
       "</table>"
      ],
      "text/plain": [
       "Name      | Price | Location\n",
       "apple     | 1.2   | Santa Rosa\n",
       "banana    | 0.29  | Petaluma\n",
       "cranberry | 3.2   | Redwood City\n",
       "apple     | 0.9   | Santa Rosa\n",
       "cranberry | 4.2   | Redwood City\n",
       "apple     | 1.25  | Palo Alto"
      ]
     },
     "execution_count": 65,
     "metadata": {},
     "output_type": "execute_result"
    }
   ],
   "source": [
    "# create an array of location corresponding to each row\n",
    "locations = make_array(\"Santa Rosa\", \"Petaluma\", \"Redwood City\", \"Santa Rosa\", \"Redwood City\", \"Palo Alto\")\n",
    "\n",
    "# append the location array to table fruits and assign the table view to fruits_loc\n",
    "fruits_loc = fruits.with_columns(\"Location\", locations)\n",
    "fruits_loc"
   ]
  },
  {
   "cell_type": "code",
   "execution_count": 66,
   "id": "05bcd45b",
   "metadata": {
    "scrolled": true
   },
   "outputs": [
    {
     "data": {
      "text/html": [
       "<table border=\"1\" class=\"dataframe\">\n",
       "    <thead>\n",
       "        <tr>\n",
       "            <th>Name</th> <th>Price average</th> <th>Location average</th>\n",
       "        </tr>\n",
       "    </thead>\n",
       "    <tbody>\n",
       "        <tr>\n",
       "            <td>apple    </td> <td>1.11667      </td> <td>                </td>\n",
       "        </tr>\n",
       "        <tr>\n",
       "            <td>banana   </td> <td>0.29         </td> <td>                </td>\n",
       "        </tr>\n",
       "        <tr>\n",
       "            <td>cranberry</td> <td>3.7          </td> <td>                </td>\n",
       "        </tr>\n",
       "    </tbody>\n",
       "</table>"
      ],
      "text/plain": [
       "Name      | Price average | Location average\n",
       "apple     | 1.11667       |\n",
       "banana    | 0.29          |\n",
       "cranberry | 3.7           |"
      ]
     },
     "execution_count": 66,
     "metadata": {},
     "output_type": "execute_result"
    }
   ],
   "source": [
    "# group the table by \"Name\" column and average the price of each category\n",
    "fruits_loc.group(\"Name\", np.average)"
   ]
  },
  {
   "cell_type": "code",
   "execution_count": 67,
   "id": "a11aad8b",
   "metadata": {},
   "outputs": [
    {
     "data": {
      "text/html": [
       "<table border=\"1\" class=\"dataframe\">\n",
       "    <thead>\n",
       "        <tr>\n",
       "            <th>Name</th> <th>Price halfPrice</th> <th>Location halfPrice</th>\n",
       "        </tr>\n",
       "    </thead>\n",
       "    <tbody>\n",
       "        <tr>\n",
       "            <td>apple    </td> <td>[ 0.6    0.45   0.625]</td> <td>                  </td>\n",
       "        </tr>\n",
       "        <tr>\n",
       "            <td>banana   </td> <td>[ 0.145]              </td> <td>                  </td>\n",
       "        </tr>\n",
       "        <tr>\n",
       "            <td>cranberry</td> <td>[ 1.6  2.1]           </td> <td>                  </td>\n",
       "        </tr>\n",
       "    </tbody>\n",
       "</table>"
      ],
      "text/plain": [
       "Name      | Price halfPrice        | Location halfPrice\n",
       "apple     | [ 0.6    0.45   0.625] |\n",
       "banana    | [ 0.145]               |\n",
       "cranberry | [ 1.6  2.1]            |"
      ]
     },
     "execution_count": 67,
     "metadata": {},
     "output_type": "execute_result"
    }
   ],
   "source": [
    "fruits_loc.group(\"Name\", halfPrice)"
   ]
  },
  {
   "cell_type": "markdown",
   "id": "196b7096",
   "metadata": {},
   "source": [
    "##### When `tbl.group()` calls a function in the 2nd argument, the function will apply to all columns of the table.  If the function cannot operate on the column, it may display nothing or something weird.\n",
    "\n",
    "Use `tbl.select()` to select the columns to be displayed"
   ]
  },
  {
   "cell_type": "code",
   "execution_count": 68,
   "id": "cec5cddf",
   "metadata": {
    "scrolled": false
   },
   "outputs": [
    {
     "data": {
      "text/html": [
       "<table border=\"1\" class=\"dataframe\">\n",
       "    <thead>\n",
       "        <tr>\n",
       "            <th>Name</th> <th>Price average</th>\n",
       "        </tr>\n",
       "    </thead>\n",
       "    <tbody>\n",
       "        <tr>\n",
       "            <td>apple    </td> <td>1.11667      </td>\n",
       "        </tr>\n",
       "        <tr>\n",
       "            <td>banana   </td> <td>0.29         </td>\n",
       "        </tr>\n",
       "        <tr>\n",
       "            <td>cranberry</td> <td>3.7          </td>\n",
       "        </tr>\n",
       "    </tbody>\n",
       "</table>"
      ],
      "text/plain": [
       "Name      | Price average\n",
       "apple     | 1.11667\n",
       "banana    | 0.29\n",
       "cranberry | 3.7"
      ]
     },
     "execution_count": 68,
     "metadata": {},
     "output_type": "execute_result"
    }
   ],
   "source": [
    "fruits_loc.group(\"Name\", np.average).select(\"Name\", 1)"
   ]
  },
  {
   "cell_type": "code",
   "execution_count": 69,
   "id": "70e8e49b",
   "metadata": {},
   "outputs": [
    {
     "data": {
      "text/html": [
       "<table border=\"1\" class=\"dataframe\">\n",
       "    <thead>\n",
       "        <tr>\n",
       "            <th>Name</th> <th>Price sum</th>\n",
       "        </tr>\n",
       "    </thead>\n",
       "    <tbody>\n",
       "        <tr>\n",
       "            <td>apple    </td> <td>3.35     </td>\n",
       "        </tr>\n",
       "        <tr>\n",
       "            <td>banana   </td> <td>0.29     </td>\n",
       "        </tr>\n",
       "        <tr>\n",
       "            <td>cranberry</td> <td>7.4      </td>\n",
       "        </tr>\n",
       "    </tbody>\n",
       "</table>"
      ],
      "text/plain": [
       "Name      | Price sum\n",
       "apple     | 3.35\n",
       "banana    | 0.29\n",
       "cranberry | 7.4"
      ]
     },
     "execution_count": 69,
     "metadata": {},
     "output_type": "execute_result"
    }
   ],
   "source": [
    "fruits_loc.group(\"Name\", np.sum).select(\"Name\", 1)"
   ]
  },
  {
   "cell_type": "markdown",
   "id": "1e858146",
   "metadata": {},
   "source": [
    "## Groups - `tbl.group()` & Pivots - `tbl.pivot()` ##\n",
    "\n",
    "### Classifying by Two Variables ###"
   ]
  },
  {
   "cell_type": "code",
   "execution_count": 70,
   "id": "b4a514ff",
   "metadata": {},
   "outputs": [
    {
     "data": {
      "text/html": [
       "<table border=\"1\" class=\"dataframe\">\n",
       "    <thead>\n",
       "        <tr>\n",
       "            <th>Name</th> <th>count</th>\n",
       "        </tr>\n",
       "    </thead>\n",
       "    <tbody>\n",
       "        <tr>\n",
       "            <td>apple    </td> <td>3    </td>\n",
       "        </tr>\n",
       "        <tr>\n",
       "            <td>banana   </td> <td>1    </td>\n",
       "        </tr>\n",
       "        <tr>\n",
       "            <td>cranberry</td> <td>2    </td>\n",
       "        </tr>\n",
       "    </tbody>\n",
       "</table>"
      ],
      "text/plain": [
       "Name      | count\n",
       "apple     | 3\n",
       "banana    | 1\n",
       "cranberry | 2"
      ]
     },
     "execution_count": 70,
     "metadata": {},
     "output_type": "execute_result"
    }
   ],
   "source": [
    "fruits_loc.group(\"Name\")"
   ]
  },
  {
   "cell_type": "code",
   "execution_count": 71,
   "id": "d3a23fc2",
   "metadata": {
    "scrolled": true
   },
   "outputs": [
    {
     "data": {
      "text/html": [
       "<table border=\"1\" class=\"dataframe\">\n",
       "    <thead>\n",
       "        <tr>\n",
       "            <th>Location</th> <th>count</th>\n",
       "        </tr>\n",
       "    </thead>\n",
       "    <tbody>\n",
       "        <tr>\n",
       "            <td>Palo Alto   </td> <td>1    </td>\n",
       "        </tr>\n",
       "        <tr>\n",
       "            <td>Petaluma    </td> <td>1    </td>\n",
       "        </tr>\n",
       "        <tr>\n",
       "            <td>Redwood City</td> <td>2    </td>\n",
       "        </tr>\n",
       "        <tr>\n",
       "            <td>Santa Rosa  </td> <td>2    </td>\n",
       "        </tr>\n",
       "    </tbody>\n",
       "</table>"
      ],
      "text/plain": [
       "Location     | count\n",
       "Palo Alto    | 1\n",
       "Petaluma     | 1\n",
       "Redwood City | 2\n",
       "Santa Rosa   | 2"
      ]
     },
     "execution_count": 71,
     "metadata": {},
     "output_type": "execute_result"
    }
   ],
   "source": [
    "fruits_loc.group(\"Location\")"
   ]
  },
  {
   "cell_type": "code",
   "execution_count": 72,
   "id": "dde08389",
   "metadata": {
    "scrolled": true
   },
   "outputs": [
    {
     "data": {
      "text/html": [
       "<table border=\"1\" class=\"dataframe\">\n",
       "    <thead>\n",
       "        <tr>\n",
       "            <th>Name</th> <th>Location</th> <th>count</th>\n",
       "        </tr>\n",
       "    </thead>\n",
       "    <tbody>\n",
       "        <tr>\n",
       "            <td>apple    </td> <td>Palo Alto   </td> <td>1    </td>\n",
       "        </tr>\n",
       "        <tr>\n",
       "            <td>apple    </td> <td>Santa Rosa  </td> <td>2    </td>\n",
       "        </tr>\n",
       "        <tr>\n",
       "            <td>banana   </td> <td>Petaluma    </td> <td>1    </td>\n",
       "        </tr>\n",
       "        <tr>\n",
       "            <td>cranberry</td> <td>Redwood City</td> <td>2    </td>\n",
       "        </tr>\n",
       "    </tbody>\n",
       "</table>"
      ],
      "text/plain": [
       "Name      | Location     | count\n",
       "apple     | Palo Alto    | 1\n",
       "apple     | Santa Rosa   | 2\n",
       "banana    | Petaluma     | 1\n",
       "cranberry | Redwood City | 2"
      ]
     },
     "execution_count": 72,
     "metadata": {},
     "output_type": "execute_result"
    }
   ],
   "source": [
    "fruits_loc.group([\"Name\", \"Location\"])"
   ]
  },
  {
   "cell_type": "code",
   "execution_count": 73,
   "id": "01366e08",
   "metadata": {
    "scrolled": false
   },
   "outputs": [
    {
     "data": {
      "text/html": [
       "<table border=\"1\" class=\"dataframe\">\n",
       "    <thead>\n",
       "        <tr>\n",
       "            <th>Name</th> <th>Location</th> <th>Price average</th>\n",
       "        </tr>\n",
       "    </thead>\n",
       "    <tbody>\n",
       "        <tr>\n",
       "            <td>apple    </td> <td>Palo Alto   </td> <td>1.25         </td>\n",
       "        </tr>\n",
       "        <tr>\n",
       "            <td>apple    </td> <td>Santa Rosa  </td> <td>1.05         </td>\n",
       "        </tr>\n",
       "        <tr>\n",
       "            <td>banana   </td> <td>Petaluma    </td> <td>0.29         </td>\n",
       "        </tr>\n",
       "        <tr>\n",
       "            <td>cranberry</td> <td>Redwood City</td> <td>3.7          </td>\n",
       "        </tr>\n",
       "    </tbody>\n",
       "</table>"
      ],
      "text/plain": [
       "Name      | Location     | Price average\n",
       "apple     | Palo Alto    | 1.25\n",
       "apple     | Santa Rosa   | 1.05\n",
       "banana    | Petaluma     | 0.29\n",
       "cranberry | Redwood City | 3.7"
      ]
     },
     "execution_count": 73,
     "metadata": {},
     "output_type": "execute_result"
    }
   ],
   "source": [
    "fruits_loc.group([\"Name\", \"Location\"], np.average)"
   ]
  },
  {
   "cell_type": "code",
   "execution_count": 74,
   "id": "92ad3325",
   "metadata": {},
   "outputs": [
    {
     "data": {
      "text/html": [
       "<table border=\"1\" class=\"dataframe\">\n",
       "    <thead>\n",
       "        <tr>\n",
       "            <th>Name</th> <th>Price</th> <th>Location</th>\n",
       "        </tr>\n",
       "    </thead>\n",
       "    <tbody>\n",
       "        <tr>\n",
       "            <td>apple    </td> <td>1.2  </td> <td>Santa Rosa  </td>\n",
       "        </tr>\n",
       "        <tr>\n",
       "            <td>banana   </td> <td>0.29 </td> <td>Petaluma    </td>\n",
       "        </tr>\n",
       "        <tr>\n",
       "            <td>cranberry</td> <td>3.2  </td> <td>Redwood City</td>\n",
       "        </tr>\n",
       "        <tr>\n",
       "            <td>apple    </td> <td>0.9  </td> <td>Santa Rosa  </td>\n",
       "        </tr>\n",
       "        <tr>\n",
       "            <td>cranberry</td> <td>4.2  </td> <td>Redwood City</td>\n",
       "        </tr>\n",
       "        <tr>\n",
       "            <td>apple    </td> <td>1.25 </td> <td>Palo Alto   </td>\n",
       "        </tr>\n",
       "    </tbody>\n",
       "</table>"
      ],
      "text/plain": [
       "Name      | Price | Location\n",
       "apple     | 1.2   | Santa Rosa\n",
       "banana    | 0.29  | Petaluma\n",
       "cranberry | 3.2   | Redwood City\n",
       "apple     | 0.9   | Santa Rosa\n",
       "cranberry | 4.2   | Redwood City\n",
       "apple     | 1.25  | Palo Alto"
      ]
     },
     "execution_count": 74,
     "metadata": {},
     "output_type": "execute_result"
    }
   ],
   "source": [
    "fruits_loc"
   ]
  },
  {
   "cell_type": "code",
   "execution_count": 75,
   "id": "028738c2",
   "metadata": {},
   "outputs": [
    {
     "data": {
      "text/html": [
       "<table border=\"1\" class=\"dataframe\">\n",
       "    <thead>\n",
       "        <tr>\n",
       "            <th>Name</th> <th>Palo Alto</th> <th>Petaluma</th> <th>Redwood City</th> <th>Santa Rosa</th>\n",
       "        </tr>\n",
       "    </thead>\n",
       "    <tbody>\n",
       "        <tr>\n",
       "            <td>apple    </td> <td>1        </td> <td>0       </td> <td>0           </td> <td>2         </td>\n",
       "        </tr>\n",
       "        <tr>\n",
       "            <td>banana   </td> <td>0        </td> <td>1       </td> <td>0           </td> <td>0         </td>\n",
       "        </tr>\n",
       "        <tr>\n",
       "            <td>cranberry</td> <td>0        </td> <td>0       </td> <td>2           </td> <td>0         </td>\n",
       "        </tr>\n",
       "    </tbody>\n",
       "</table>"
      ],
      "text/plain": [
       "Name      | Palo Alto | Petaluma | Redwood City | Santa Rosa\n",
       "apple     | 1         | 0        | 0            | 2\n",
       "banana    | 0         | 1        | 0            | 0\n",
       "cranberry | 0         | 0        | 2            | 0"
      ]
     },
     "execution_count": 75,
     "metadata": {},
     "output_type": "execute_result"
    }
   ],
   "source": [
    "fruits_loc.pivot(\"Location\", \"Name\")"
   ]
  },
  {
   "cell_type": "code",
   "execution_count": 76,
   "id": "fa3cc375",
   "metadata": {},
   "outputs": [
    {
     "data": {
      "text/html": [
       "<table border=\"1\" class=\"dataframe\">\n",
       "    <thead>\n",
       "        <tr>\n",
       "            <th>Name</th> <th>Palo Alto</th> <th>Petaluma</th> <th>Redwood City</th> <th>Santa Rosa</th>\n",
       "        </tr>\n",
       "    </thead>\n",
       "    <tbody>\n",
       "        <tr>\n",
       "            <td>apple    </td> <td>1.25     </td> <td>0       </td> <td>0           </td> <td>1.05      </td>\n",
       "        </tr>\n",
       "        <tr>\n",
       "            <td>banana   </td> <td>0        </td> <td>0.29    </td> <td>0           </td> <td>0         </td>\n",
       "        </tr>\n",
       "        <tr>\n",
       "            <td>cranberry</td> <td>0        </td> <td>0       </td> <td>3.7         </td> <td>0         </td>\n",
       "        </tr>\n",
       "    </tbody>\n",
       "</table>"
      ],
      "text/plain": [
       "Name      | Palo Alto | Petaluma | Redwood City | Santa Rosa\n",
       "apple     | 1.25      | 0        | 0            | 1.05\n",
       "banana    | 0         | 0.29     | 0            | 0\n",
       "cranberry | 0         | 0        | 3.7          | 0"
      ]
     },
     "execution_count": 76,
     "metadata": {},
     "output_type": "execute_result"
    }
   ],
   "source": [
    "fruits_loc.pivot(\"Location\", \"Name\", values=\"Price\", collect=np.average)"
   ]
  },
  {
   "cell_type": "code",
   "execution_count": 79,
   "id": "d460a5d8",
   "metadata": {
    "scrolled": false
   },
   "outputs": [
    {
     "data": {
      "text/html": [
       "<table border=\"1\" class=\"dataframe\">\n",
       "    <thead>\n",
       "        <tr>\n",
       "            <th>Location</th> <th>apple</th> <th>banana</th> <th>cranberry</th>\n",
       "        </tr>\n",
       "    </thead>\n",
       "    <tbody>\n",
       "        <tr>\n",
       "            <td>Palo Alto   </td> <td>1.25 </td> <td>0     </td> <td>0        </td>\n",
       "        </tr>\n",
       "        <tr>\n",
       "            <td>Petaluma    </td> <td>0    </td> <td>0.29  </td> <td>0        </td>\n",
       "        </tr>\n",
       "        <tr>\n",
       "            <td>Redwood City</td> <td>0    </td> <td>0     </td> <td>3.7      </td>\n",
       "        </tr>\n",
       "        <tr>\n",
       "            <td>Santa Rosa  </td> <td>1.05 </td> <td>0     </td> <td>0        </td>\n",
       "        </tr>\n",
       "    </tbody>\n",
       "</table>"
      ],
      "text/plain": [
       "Location     | apple | banana | cranberry\n",
       "Palo Alto    | 1.25  | 0      | 0\n",
       "Petaluma     | 0     | 0.29   | 0\n",
       "Redwood City | 0     | 0      | 3.7\n",
       "Santa Rosa   | 1.05  | 0      | 0"
      ]
     },
     "execution_count": 79,
     "metadata": {},
     "output_type": "execute_result"
    }
   ],
   "source": [
    "fruits_loc.pivot(\"Name\", \"Location\", \"Price\", np.average)"
   ]
  },
  {
   "cell_type": "code",
   "execution_count": null,
   "id": "d8d91d59",
   "metadata": {},
   "outputs": [],
   "source": []
  },
  {
   "cell_type": "code",
   "execution_count": null,
   "id": "1e346cc6",
   "metadata": {},
   "outputs": [],
   "source": []
  },
  {
   "cell_type": "code",
   "execution_count": null,
   "id": "86312a17",
   "metadata": {},
   "outputs": [],
   "source": []
  }
 ],
 "metadata": {
  "kernelspec": {
   "display_name": "Python 3 (ipykernel)",
   "language": "python",
   "name": "python3"
  },
  "language_info": {
   "codemirror_mode": {
    "name": "ipython",
    "version": 3
   },
   "file_extension": ".py",
   "mimetype": "text/x-python",
   "name": "python",
   "nbconvert_exporter": "python",
   "pygments_lexer": "ipython3",
   "version": "3.11.5"
  }
 },
 "nbformat": 4,
 "nbformat_minor": 5
}
