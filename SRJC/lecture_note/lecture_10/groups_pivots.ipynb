{
 "cells": [
  {
   "cell_type": "markdown",
   "id": "46712aa3",
   "metadata": {},
   "source": [
    "## Lecture Notes - Groups and Pivot Tables ##\n",
    "\n",
    "**Helpful Resource:**\n",
    "- [Python Reference](http://data8.org/sp22/python-reference.html): Cheat sheet of helpful array & table methods used in Data 8!\n",
    "\n",
    "**Recommended Readings:**\n",
    "- [Classifying by One Variable](https://inferentialthinking.com/chapters/08/2/Classifying_by_One_Variable.html)\n",
    "- [Cross-Classifying by More than One Variable](https://inferentialthinking.com/chapters/08/3/Cross-Classifying_by_More_than_One_Variable.html)"
   ]
  },
  {
   "cell_type": "code",
   "execution_count": null,
   "id": "33e6a0f1",
   "metadata": {},
   "outputs": [],
   "source": [
    "# import modules to be used in this notebook\n",
    "\n",
    "from datascience import *\n",
    "import numpy as np\n",
    "\n",
    "%matplotlib inline\n",
    "import matplotlib.pyplot as plots\n",
    "plots.style.use('fivethirtyeight')\n",
    "import warnings\n",
    "warnings.simplefilter(action='ignore',category=np.VisibleDeprecationWarning)"
   ]
  },
  {
   "cell_type": "code",
   "execution_count": null,
   "id": "ebaf72f8",
   "metadata": {
    "scrolled": false
   },
   "outputs": [],
   "source": [
    "# Create a table from scratch with arrays and columns \n",
    "#   using Table().with_columns()\n",
    "\n",
    "names = make_array(\"apple\", \"banana\", \"cranberry\", \"apple\", \"cranberry\", \"apple\")\n",
    "prices = make_array(1.2, 0.29, 3.2, 0.90, 4.2, 1.25)\n",
    "\n",
    "fruits = Table().with_columns(\n",
    "        \"Name\", names,\n",
    "        \"Price\", prices\n",
    ")\n",
    "\n",
    "fruits"
   ]
  },
  {
   "cell_type": "markdown",
   "id": "c7467b6d",
   "metadata": {},
   "source": [
    "## Groups - `tbl.group()` ##\n",
    "\n",
    "### Classifying by One Variable ###\n",
    "\n",
    "Count the number in each category in a table"
   ]
  },
  {
   "cell_type": "code",
   "execution_count": null,
   "id": "553edebc",
   "metadata": {
    "scrolled": true
   },
   "outputs": [],
   "source": [
    "# return a table view with a count of row of each category\n",
    "\n",
    "fruits.group(\"Name\")"
   ]
  },
  {
   "cell_type": "code",
   "execution_count": null,
   "id": "9e7a5f07",
   "metadata": {
    "scrolled": false
   },
   "outputs": [],
   "source": [
    "# use the optional 2nd argument to average the price of each category\n",
    "\n",
    "fruits.group(\"Name\", np.average)"
   ]
  },
  {
   "cell_type": "code",
   "execution_count": null,
   "id": "be4d0731",
   "metadata": {
    "scrolled": true
   },
   "outputs": [],
   "source": [
    "# we learned how to define and use function in Python,\n",
    "#   so we can define our own function and use it in group\n",
    "# let's reduce the price by 50%\n",
    "\n",
    "# return an array of reduced prices of each category\n",
    "\n",
    "def halfPrice(price):\n",
    "    \"\"\" reduce the price by 50% \"\"\"\n",
    "    return price * 0.5\n",
    "\n",
    "fruits.group(\"Name\", halfPrice)"
   ]
  },
  {
   "cell_type": "code",
   "execution_count": null,
   "id": "5e27f44b",
   "metadata": {},
   "outputs": [],
   "source": [
    "# when use tbl.apply() a function to table column,\n",
    "#.  it returns an array of reduced prices\n",
    "\n",
    "fruits.apply(halfPrice, \"Price\")"
   ]
  },
  {
   "cell_type": "code",
   "execution_count": null,
   "id": "30989962",
   "metadata": {
    "scrolled": true
   },
   "outputs": [],
   "source": [
    "# create an array of location corresponding to each row\n",
    "locations = make_array(\"Santa Rosa\", \"Petaluma\", \"Redwood City\", \"Santa Rosa\", \"Redwood City\", \"Palo Alto\")\n",
    "\n",
    "# append the location array to table fruits and assign the table view to fruits_loc\n",
    "fruits_loc = fruits.with_columns(\"Location\", locations)\n",
    "fruits_loc"
   ]
  },
  {
   "cell_type": "code",
   "execution_count": null,
   "id": "05bcd45b",
   "metadata": {
    "scrolled": true
   },
   "outputs": [],
   "source": [
    "# group the table by \"Name\" column and average the price of each category\n",
    "fruits_loc.group(\"Name\", np.average)"
   ]
  },
  {
   "cell_type": "code",
   "execution_count": null,
   "id": "a11aad8b",
   "metadata": {},
   "outputs": [],
   "source": [
    "fruits_loc.group(\"Name\", halfPrice)"
   ]
  },
  {
   "cell_type": "markdown",
   "id": "196b7096",
   "metadata": {},
   "source": [
    "##### When `tbl.group()` calls a function in the 2nd argument, the function will apply to all columns of the table.  If the function cannot operate on the column, it may display nothing or something weird.\n",
    "\n",
    "Use `tbl.select()` to select the columns to be displayed"
   ]
  },
  {
   "cell_type": "code",
   "execution_count": null,
   "id": "cec5cddf",
   "metadata": {
    "scrolled": false
   },
   "outputs": [],
   "source": [
    "fruits_loc.group(\"Name\", np.average).select(\"Name\", 1)"
   ]
  },
  {
   "cell_type": "code",
   "execution_count": null,
   "id": "70e8e49b",
   "metadata": {},
   "outputs": [],
   "source": [
    "fruits_loc.group(\"Name\", np.sum).select(\"Name\", 1)"
   ]
  },
  {
   "cell_type": "markdown",
   "id": "1e858146",
   "metadata": {},
   "source": [
    "## Groups - `tbl.group()` & Pivots - `tbl.pivot()` ##\n",
    "\n",
    "### Classifying by Two Variables ###"
   ]
  },
  {
   "cell_type": "code",
   "execution_count": null,
   "id": "b4a514ff",
   "metadata": {},
   "outputs": [],
   "source": [
    "fruits_loc.group(\"Name\")"
   ]
  },
  {
   "cell_type": "code",
   "execution_count": null,
   "id": "d3a23fc2",
   "metadata": {
    "scrolled": true
   },
   "outputs": [],
   "source": [
    "fruits_loc.group(\"Location\")"
   ]
  },
  {
   "cell_type": "code",
   "execution_count": null,
   "id": "dde08389",
   "metadata": {
    "scrolled": true
   },
   "outputs": [],
   "source": [
    "fruits_loc.group([\"Name\", \"Location\"])"
   ]
  },
  {
   "cell_type": "code",
   "execution_count": null,
   "id": "01366e08",
   "metadata": {
    "scrolled": false
   },
   "outputs": [],
   "source": [
    "fruits_loc.group([\"Name\", \"Location\"], np.average)"
   ]
  },
  {
   "cell_type": "code",
   "execution_count": null,
   "id": "92ad3325",
   "metadata": {},
   "outputs": [],
   "source": [
    "fruits_loc"
   ]
  },
  {
   "cell_type": "code",
   "execution_count": null,
   "id": "028738c2",
   "metadata": {},
   "outputs": [],
   "source": [
    "fruits_loc.pivot(\"Location\", \"Name\")"
   ]
  },
  {
   "cell_type": "code",
   "execution_count": null,
   "id": "fa3cc375",
   "metadata": {},
   "outputs": [],
   "source": [
    "fruits_loc.pivot(\"Location\", \"Name\", values=\"Price\", collect=np.average)"
   ]
  },
  {
   "cell_type": "code",
   "execution_count": null,
   "id": "d460a5d8",
   "metadata": {
    "scrolled": false
   },
   "outputs": [],
   "source": [
    "fruits_loc.pivot(\"Name\", \"Location\", \"Price\", np.average)"
   ]
  },
  {
   "cell_type": "code",
   "execution_count": null,
   "id": "d8d91d59",
   "metadata": {},
   "outputs": [],
   "source": []
  },
  {
   "cell_type": "code",
   "execution_count": null,
   "id": "1e346cc6",
   "metadata": {},
   "outputs": [],
   "source": []
  },
  {
   "cell_type": "code",
   "execution_count": null,
   "id": "86312a17",
   "metadata": {},
   "outputs": [],
   "source": []
  }
 ],
 "metadata": {
  "kernelspec": {
   "display_name": "Python 3 (ipykernel)",
   "language": "python",
   "name": "python3"
  },
  "language_info": {
   "codemirror_mode": {
    "name": "ipython",
    "version": 3
   },
   "file_extension": ".py",
   "mimetype": "text/x-python",
   "name": "python",
   "nbconvert_exporter": "python",
   "pygments_lexer": "ipython3",
   "version": "3.11.5"
  }
 },
 "nbformat": 4,
 "nbformat_minor": 5
}
