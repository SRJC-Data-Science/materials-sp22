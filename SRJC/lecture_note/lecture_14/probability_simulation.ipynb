{
 "cells": [
  {
   "cell_type": "markdown",
   "id": "4a926599",
   "metadata": {},
   "source": [
    "# Lecture 14: Probability and Simulation\n"
   ]
  },
  {
   "cell_type": "markdown",
   "id": "ff6613cf",
   "metadata": {},
   "source": [
    "**Helpful Resource:**\n",
    "- [Python Reference](http://data8.org/sp22/python-reference.html): Cheat sheet of helpful array & table methods used in Data 8!\n",
    "\n",
    "**Recommended Readings**: \n",
    "\n",
    "* [Tabular Thinking Guide](https://drive.google.com/file/d/13HaWu4rrjeowEOs6S_vaQGM3GremzXQ3/view?usp=sharing)\n",
    "* [Applying Functions](https://www.inferentialthinking.com/chapters/08/1/Applying_a_Function_to_a_Column.html)\n",
    "* [Conditionals](https://www.inferentialthinking.com/chapters/09/1/Conditional_Statements.html)\n",
    "* [Iteration](https://www.inferentialthinking.com/chapters/09/2/Iteration.html)"
   ]
  },
  {
   "cell_type": "code",
   "execution_count": 2,
   "id": "fc0455c1",
   "metadata": {},
   "outputs": [],
   "source": [
    "# Run this cell to set up the notebook, but please don't change it.\n",
    "\n",
    "# These lines import the Numpy and Datascience modules.\n",
    "import numpy as np\n",
    "from datascience import *\n",
    "\n",
    "# These lines do some fancy plotting magic.\n",
    "import matplotlib\n",
    "%matplotlib inline\n",
    "import matplotlib.pyplot as plt\n",
    "plt.style.use('fivethirtyeight')\n",
    "\n",
    "import warnings\n",
    "warnings.simplefilter('ignore', FutureWarning)\n",
    "warnings.filterwarnings(\"ignore\")"
   ]
  },
  {
   "cell_type": "markdown",
   "id": "ad31ac50",
   "metadata": {},
   "source": [
    "### Simulate Dice\n",
    "\n",
    "Use `np.random.choice` to simulate the rolling of two dices by defining a function that rolls the two dices $n$ times. "
   ]
  },
  {
   "cell_type": "code",
   "execution_count": null,
   "id": "13eeabb6",
   "metadata": {},
   "outputs": [],
   "source": [
    "L = np.arange(1, 7)\n",
    "def roll2dice(n):\n",
    "    outcomes = make_array()\n",
    "    for i in np.arange(n):\n",
    "        ...\n",
    "    return(outcomes)\n"
   ]
  },
  {
   "cell_type": "markdown",
   "id": "b8b41c3a",
   "metadata": {},
   "source": [
    "Use your code to perform 1000 rolls of dice, and graph the histogram of the sum of two dice. You may want to use the  `Table().with_column` function to create the table first, then use the `hist` functions to create the histogram. "
   ]
  },
  {
   "cell_type": "code",
   "execution_count": null,
   "id": "124b17c5",
   "metadata": {},
   "outputs": [],
   "source": []
  },
  {
   "cell_type": "markdown",
   "id": "f27f1311",
   "metadata": {},
   "source": [
    "Compute the proportion of the outcomes that are greater than 10. "
   ]
  },
  {
   "cell_type": "code",
   "execution_count": null,
   "id": "19e8c5fd",
   "metadata": {},
   "outputs": [],
   "source": []
  },
  {
   "cell_type": "markdown",
   "id": "81b0727c",
   "metadata": {},
   "source": [
    "If you continue to the roll the dice indefinitely, eventually how many percent of your outcomes will be greater than $10$? (you don't need to write any program for this question. Instead, calculate the probability based on the possible outcomes of rolling 2 dice)"
   ]
  },
  {
   "cell_type": "code",
   "execution_count": null,
   "id": "12da5496",
   "metadata": {},
   "outputs": [],
   "source": []
  },
  {
   "cell_type": "markdown",
   "id": "f6b73d11",
   "metadata": {},
   "source": [
    "### Rolling 3 dice\n",
    "\n",
    "Now consider the rolling of 3 fair dice. Calculate each probability first, then verify your probability calculation with a simulation using `np.random.choice`  \n",
    "\n",
    "What is the chance that you get a sum of 16?"
   ]
  },
  {
   "cell_type": "code",
   "execution_count": null,
   "id": "d8ecd5a9",
   "metadata": {},
   "outputs": [],
   "source": []
  },
  {
   "cell_type": "markdown",
   "id": "5376a15c",
   "metadata": {},
   "source": [
    "What is the chance of having no even numbers among the three dice? "
   ]
  },
  {
   "cell_type": "markdown",
   "id": "6b399953",
   "metadata": {},
   "source": []
  },
  {
   "cell_type": "markdown",
   "id": "f09f6215",
   "metadata": {},
   "source": [
    "What is the chance of having at least one 6 among the three dice? "
   ]
  },
  {
   "cell_type": "markdown",
   "id": "be4d2775",
   "metadata": {},
   "source": []
  },
  {
   "cell_type": "markdown",
   "id": "47a16a1c",
   "metadata": {},
   "source": [
    "What is the chance of having a pair of 6's among the three dice? (the third die shows a different number)"
   ]
  },
  {
   "cell_type": "code",
   "execution_count": null,
   "id": "7c299574",
   "metadata": {},
   "outputs": [],
   "source": []
  },
  {
   "cell_type": "markdown",
   "id": "297204d2",
   "metadata": {},
   "source": [
    "What is the chance of having all different numbers on the three dice? "
   ]
  },
  {
   "cell_type": "markdown",
   "id": "afed1a00",
   "metadata": {},
   "source": []
  },
  {
   "cell_type": "markdown",
   "id": "baf932e8",
   "metadata": {},
   "source": [
    "### Non standard dice \n",
    "\n",
    "Sicherman dice are a pair of 6-sided dice with non-standard numbers—one with the sides 1, 2, 2, 3, 3, 4 and the other with the sides 1, 3, 4, 5, 6, 8. \n",
    "\n",
    "What is the chance of rolling a pair of such dice and have a sum of faces greater than 10? "
   ]
  },
  {
   "cell_type": "markdown",
   "id": "284a8aa0",
   "metadata": {},
   "source": []
  },
  {
   "cell_type": "markdown",
   "id": "57db3a29",
   "metadata": {},
   "source": [
    "Modify your code to simulate the rolling of a pair of Sicherman dice and create a histogram of the sum of faces. How does it compare with the standard dice? "
   ]
  },
  {
   "cell_type": "code",
   "execution_count": null,
   "id": "8307f59e",
   "metadata": {},
   "outputs": [],
   "source": []
  },
  {
   "cell_type": "markdown",
   "id": "4113c37e",
   "metadata": {},
   "source": [
    "### Simulate a Game of Randomness\n",
    "\n",
    "Suppose you are playing a game with your friend by rolling two standard dice. In each round, if the sum of face is more than 10, your friend pays you 8 dollars, otherwise, you pay her 1 dollar. Each game lasts 100 rounds. Simulate this game 1000 times and calculate the net winning for you at the end of the game.  "
   ]
  },
  {
   "cell_type": "code",
   "execution_count": 16,
   "id": "ed4de971",
   "metadata": {},
   "outputs": [],
   "source": [
    "def dice_game(n):\n",
    "    payout = 0\n",
    "    outcomes = roll2dice(n)\n",
    "    for i in outcomes:\n",
    "        ...\n",
    "        \n",
    "    return(payout)"
   ]
  },
  {
   "cell_type": "markdown",
   "id": "02711dac",
   "metadata": {},
   "source": [
    "Simulate 1000 games, and plot the histogram of your net winning. What formula would describe the average net winning of this game? "
   ]
  },
  {
   "cell_type": "code",
   "execution_count": null,
   "id": "ca3b221c",
   "metadata": {},
   "outputs": [],
   "source": []
  },
  {
   "cell_type": "markdown",
   "id": "564cb27d",
   "metadata": {},
   "source": [
    "Calculate the proportion of games in which you have a positive winning (greater than $0)"
   ]
  },
  {
   "cell_type": "code",
   "execution_count": null,
   "id": "8c99d6ec",
   "metadata": {},
   "outputs": [],
   "source": []
  }
 ],
 "metadata": {
  "kernelspec": {
   "display_name": ".venv",
   "language": "python",
   "name": "python3"
  },
  "language_info": {
   "codemirror_mode": {
    "name": "ipython",
    "version": 3
   },
   "file_extension": ".py",
   "mimetype": "text/x-python",
   "name": "python",
   "nbconvert_exporter": "python",
   "pygments_lexer": "ipython3",
   "version": "3.12.3"
  }
 },
 "nbformat": 4,
 "nbformat_minor": 5
}
