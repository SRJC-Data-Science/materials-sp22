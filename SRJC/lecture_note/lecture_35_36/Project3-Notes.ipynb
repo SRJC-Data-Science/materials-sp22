{
 "cells": [
  {
   "cell_type": "code",
   "execution_count": null,
   "id": "a5d8fdc7",
   "metadata": {},
   "outputs": [],
   "source": [
    "# Run this cell to set up the notebook, but please don't change it.\n",
    "import numpy as np\n",
    "import math\n",
    "import datascience\n",
    "from datascience import *\n",
    "\n",
    "# These lines set up the plotting functionality and formatting.\n",
    "import matplotlib\n",
    "%matplotlib inline\n",
    "import matplotlib.pyplot as plots\n",
    "plots.style.use('fivethirtyeight')\n",
    "import warnings\n",
    "warnings.simplefilter(\"ignore\")"
   ]
  },
  {
   "cell_type": "code",
   "execution_count": null,
   "id": "745c43f0",
   "metadata": {},
   "outputs": [],
   "source": [
    "movies = Table.read_table('movies.csv')"
   ]
  },
  {
   "cell_type": "code",
   "execution_count": null,
   "id": "7edb1103",
   "metadata": {},
   "outputs": [],
   "source": [
    "title_index = movies.index_by('Title')\n",
    "def row_for_title(title):\n",
    "    \"\"\"Return the row for a title, similar to the following expression (but faster)\n",
    "    \n",
    "    movies.where('Title', title).row(0)\n",
    "    \"\"\"\n",
    "    return title_index.get(title)[0]\n",
    "\n",
    "row_for_title('toy story')"
   ]
  },
  {
   "cell_type": "code",
   "execution_count": null,
   "id": "b593b4ed",
   "metadata": {},
   "outputs": [],
   "source": [
    "# Here we have defined the proportion of our data\n",
    "# that we want to designate for training as 17/20ths\n",
    "# of our total dataset.  3/20ths of the data is\n",
    "# reserved for testing.\n",
    "\n",
    "training_proportion = 17/20\n",
    "\n",
    "num_movies = movies.num_rows\n",
    "num_train = int(num_movies * training_proportion)\n",
    "num_test = num_movies - num_train\n",
    "\n",
    "train_movies = movies.take(np.arange(num_train))\n",
    "test_movies = movies.take(np.arange(num_train, num_movies))\n",
    "\n",
    "print(\"Training: \",   train_movies.num_rows, \";\",\n",
    "      \"Test: \",       test_movies.num_rows)"
   ]
  },
  {
   "cell_type": "markdown",
   "id": "eb779b1a",
   "metadata": {},
   "source": [
    "#### Use Horizontal Bar Chart to Visualize Proportion of Comedy in Training Set and Test Set"
   ]
  },
  {
   "cell_type": "code",
   "execution_count": null,
   "id": "af2f04ab",
   "metadata": {},
   "outputs": [],
   "source": [
    "# Step 1 :\n",
    "#  Create a function to return the proportion of comedy movies in a dataset\n",
    "# Option 1\n",
    "def comedy_proportion(table):\n",
    "    \"\"\"Return the proportion of movies in a table that have the comedy genre.\"\"\"\n",
    "    return table.where('Genre', are.equal_to('comedy')).num_rows / table.num_rows\n",
    "\n",
    "# Option 2\n",
    "#def comedy_proportion(table):\n",
    "#    \"\"\"Return the proportion of movies in a table that have the comedy genre.\"\"\"\n",
    "#    total_movies = table.num_rows\n",
    "#    comedy_movies = table.where('Genre', are.equal_to('comedy'))\n",
    "#    return comedy_movies / table.total_movies\n",
    "\n",
    "# Step 2:\n",
    "#  Create a table with 2 columns (Dataset and Proportion of Comedy)\n",
    "# Option 1\n",
    "datasets = make_array('Training', 'Test')\n",
    "prop_comedy = make_array(comedy_proportion(train_movies), comedy_proportion(test_movies))\n",
    "Table().with_columns(\n",
    "        'Dataset', datasets,\n",
    "        'Proportion of Comedy', prop_comedy).barh('Dataset')\n",
    "\n",
    "# Option 2\n",
    "#train_comedy = comedy_proportion(train_movies)\n",
    "#test_comedy = comedy_proportion(test_movies)\n",
    "#comedy_prop_tbl = Table().with_columns(\n",
    "#                    'Dataset', make_array('Training', 'Test'),\n",
    "#                    'Proportion of Comedy', make_array(train_comedy, test_comedy)\n",
    "#                    )\n",
    "#comedy_prop_tbl.barh('Dataset')"
   ]
  },
  {
   "cell_type": "markdown",
   "id": "93f3844d",
   "metadata": {},
   "source": [
    "#### Compute the distance between Monty Python and the Holy Grail and The Godfather, using the water and feel features only"
   ]
  },
  {
   "cell_type": "code",
   "execution_count": null,
   "id": "868f49d8",
   "metadata": {},
   "outputs": [],
   "source": [
    "python = row_for_title(\"monty python and the holy grail\") \n",
    "godfather = row_for_title(\"the godfather\")\n",
    "\n",
    "# Option 1\n",
    "one_distance = ((python.item(\"water\") - godfather.item(\"water\"))**2 + (python.item(\"feel\") - godfather.item(\"feel\"))**2)**0.5\n",
    "\n",
    "# Option 2\n",
    "#python_water = python.item(\"water\")  # x1\n",
    "#python_feel = python.item(\"feel\")    # y1\n",
    "#godfather_water = godfather.item(\"water\")   # x2\n",
    "#godfather_feel = godfather.item(\"feel\")     # y2\n",
    "#one_distance = ((python_water - godfather_water)**2 + (python_feel - godfather_feel)**2)**0.5\n",
    "\n",
    "one_distance"
   ]
  },
  {
   "cell_type": "markdown",
   "id": "9cfb4187",
   "metadata": {},
   "source": [
    "#### Create a function to computes the distance between any two movies, using two features"
   ]
  },
  {
   "cell_type": "code",
   "execution_count": null,
   "id": "6fc1938a",
   "metadata": {},
   "outputs": [],
   "source": [
    "# This function will take 2 movie names and 2 features for parameters.\n",
    "#   It will call row_for_title() function to get the row object of a movie.\n",
    "#   The row object contains the 5000 features of the movie.\n",
    "#   row_for_title() will be called twice to get the row objects for the 2 movies.\n",
    "#   Then the feature values can be retrieved from the row objects\n",
    "#   for computing the distance of the 2 movies in the context of the 2 features\\.\n",
    "def distance_two_features(title0, title1, x_feature, y_feature):\n",
    "    \"\"\"Compute the distance between two movies with titles title0 and title1.\n",
    "    \n",
    "    Only the features named x_feature and y_feature are used when computing the distance.\n",
    "    \"\"\"\n",
    "    row0 = row_for_title(title0)\n",
    "    row1 = row_for_title(title1)\n",
    "    return ((row0.item(x_feature) - row1.item(x_feature))**2 + (row0.item(y_feature) - row1.item(y_feature))**2)**0.5"
   ]
  },
  {
   "cell_type": "markdown",
   "id": "4344a13e",
   "metadata": {},
   "source": [
    "#### Create a function to computes the distance between a movie and \"monty python and the holy grail\", using \"water\" and \"feel\" features"
   ]
  },
  {
   "cell_type": "code",
   "execution_count": null,
   "id": "e2a7ccec",
   "metadata": {},
   "outputs": [],
   "source": [
    "# This function will take 1 movie title for parameter.\n",
    "# It will call distance_two_features() by passing in a movie name, \n",
    "#   \"monty python and the holy grail\", \"water\" and \"feel\" as arguments.\n",
    "# Then, return the distance between a movie and \"monty python and the holy grail\",\n",
    "#   in context of \"water\" and \"feel\" features.\n",
    "def distance_from_python(title):\n",
    "    \"\"\"The distance between the given movie and \"monty python and the holy grail\", \n",
    "    based on the features \"water\" and \"feel\".\n",
    "    \n",
    "    This function takes a single argument:\n",
    "      title: A string, the name of a movie.\n",
    "    \"\"\"\n",
    "    \n",
    "    return distance_two_features(title, \"monty python and the holy grail\", \"water\", \"feel\")"
   ]
  },
  {
   "cell_type": "markdown",
   "id": "488c2cf7",
   "metadata": {},
   "source": [
    "#### Find the names and genres of the 5 movies in the training set (train_movies table above) closest to \"monty python and the holy grail\", using \"water\" and \"feel\" features"
   ]
  },
  {
   "cell_type": "code",
   "execution_count": null,
   "id": "28465a72",
   "metadata": {},
   "outputs": [],
   "source": [
    "# Option 1\n",
    "# Step 1:\n",
    "#  Select 4 columns from the train_movies table - \"Title\", \"Genre\", \"water\", \"feel\" \n",
    "water_feel = train_movies.select(\"Title\", \"Genre\", \"water\", \"feel\")\n",
    "\n",
    "# Step 2:\n",
    "#  Use apply method to call distance_from_python() function to \n",
    "#  return an array distance between \"monty python and the holy grail\" and \n",
    "#  other movies in the train_movies table\n",
    "distance_array = water_feel.apply(distance_from_python, 'Title')\n",
    "\n",
    "# Step 3:\n",
    "#  Append a new column with distance_array to water_feel table \n",
    "water_feel_distance = water_feel.with_column('distance from python', distance_array)\n",
    "\n",
    "# Step 4:\n",
    "#  Sort water_feel_distance by column 'distance from python' in ascending order and \n",
    "#  take the first 5 rows and name/assign it to close_movies\n",
    "close_movies = water_feel_distance.sort('distance from python').take(np.arange(5))\n",
    "\n",
    "# Option 2\n",
    "#water_feel = train_movies.select(\"Title\", \"Genre\", \"water\", \"feel\")\n",
    "#close_movies = water_feel.with_column('distance from python', water_feel.apply(distance_from_python, 'Title'))\\\n",
    "#                       .sort('distance from python')\\\n",
    "#                       .take(np.arange(5))\n",
    "\n",
    "close_movies"
   ]
  },
  {
   "cell_type": "markdown",
   "id": "d0aca47b",
   "metadata": {},
   "source": [
    "#### Predict the genre of \"monty python and the holy grail\" based on the closest movies"
   ]
  },
  {
   "cell_type": "code",
   "execution_count": null,
   "id": "b49e7c88",
   "metadata": {},
   "outputs": [],
   "source": [
    "# Create a function to look for the majority of genre in the close_movies table\n",
    "# Step 1: group the table by class (genre in this case)\n",
    "# Step 2: sort by count column in descending order\n",
    "# Step 3: get the first item in the genre column\n",
    "\n",
    "def most_common(label, table):\n",
    "    \"\"\"The most common element in a column of a table.\n",
    "    \n",
    "    This function takes two arguments:\n",
    "      label: The label of a column, a string.\n",
    "      table: A table.\n",
    "     \n",
    "    It returns the most common value in the label column of the table.\n",
    "    In case of a tie, it returns any one of the most common values.    \n",
    "    \"\"\"\n",
    "    return table.group(label).sort('count', descending=True).column(label).item(0)"
   ]
  },
  {
   "cell_type": "code",
   "execution_count": null,
   "id": "214b95ab",
   "metadata": {},
   "outputs": [],
   "source": [
    "most_common('Genre', close_movies)"
   ]
  },
  {
   "cell_type": "code",
   "execution_count": null,
   "id": "ea9667e9",
   "metadata": {},
   "outputs": [],
   "source": [
    "# Just run this cell to define fast_distances.\n",
    "\n",
    "def fast_distances(test_row, train_table):\n",
    "    \"\"\"Return an array of the distances between test_row and each row in train_table.\n",
    "\n",
    "    Takes 2 arguments:\n",
    "      test_row: A row of a table containing features of one\n",
    "        test movie (e.g., test_my_features.row(0)).\n",
    "      train_table: A table of features (for example, the whole\n",
    "        table train_my_features).\"\"\"\n",
    "    assert train_table.num_columns < 50, \"Make sure you're not using all the features of the movies table.\"\n",
    "    assert type(test_row) != datascience.tables.Table, \"Make sure you are passing in a row object to fast_distances.\"\n",
    "    assert len(test_row) == len(train_table.row(0)), \"Make sure the length of test row is the same as the length of a row in train_table.\"\n",
    "    counts_matrix = np.asmatrix(train_table.columns).transpose()\n",
    "    diff = np.tile(np.array(list(test_row)), [counts_matrix.shape[0], 1]) - counts_matrix\n",
    "    np.random.seed(0) # For tie breaking purposes\n",
    "    distances = np.squeeze(np.asarray(np.sqrt(np.square(diff).sum(1))))\n",
    "    eps = np.random.uniform(size=distances.shape)*1e-10 #Noise for tie break\n",
    "    distances = distances + eps\n",
    "    return distances"
   ]
  },
  {
   "cell_type": "markdown",
   "id": "24f58ace",
   "metadata": {},
   "source": [
    "#### Make an array of at least 10 common words that you think might let you distinguish between comedy and thriller movies and assign the array to my_features"
   ]
  },
  {
   "cell_type": "code",
   "execution_count": null,
   "id": "34592a52",
   "metadata": {},
   "outputs": [],
   "source": [
    "my_features = make_array(... put your choice of ten words here ...)\n",
    "\n",
    "\n",
    "train_my_features = train_movies.select(my_features)\n",
    "test_my_features = test_movies.select(my_features)"
   ]
  },
  {
   "cell_type": "markdown",
   "id": "5056a0a6",
   "metadata": {},
   "source": [
    "#### How to use fast_distances() function\n",
    "\n",
    "fast_distances() function:\n",
    "1. takes 2 parameters - a row object from test_my_features and a table - train_my_features table\n",
    "2. computer the distance of the row object against each row object in the train_my_features table\n",
    "3. return an array of resulting distances"
   ]
  },
  {
   "cell_type": "code",
   "execution_count": null,
   "id": "b10576fa",
   "metadata": {},
   "outputs": [],
   "source": [
    "# Example of using fast_distances() function\n",
    "\n",
    "distances = fast_distances(test_my_features.row(0), train_my_features)\n",
    "distances"
   ]
  },
  {
   "cell_type": "code",
   "execution_count": null,
   "id": "0b2385ab",
   "metadata": {},
   "outputs": [],
   "source": []
  },
  {
   "cell_type": "code",
   "execution_count": null,
   "id": "16533abf",
   "metadata": {},
   "outputs": [],
   "source": []
  }
 ],
 "metadata": {
  "kernelspec": {
   "display_name": "Python 3 (ipykernel)",
   "language": "python",
   "name": "python3"
  },
  "language_info": {
   "codemirror_mode": {
    "name": "ipython",
    "version": 3
   },
   "file_extension": ".py",
   "mimetype": "text/x-python",
   "name": "python",
   "nbconvert_exporter": "python",
   "pygments_lexer": "ipython3",
   "version": "3.11.5"
  }
 },
 "nbformat": 4,
 "nbformat_minor": 5
}
