{
 "cells": [
  {
   "cell_type": "markdown",
   "id": "eae0ee0e",
   "metadata": {},
   "source": [
    "## Lecture Notes - Charts and Histograms ##\n",
    "\n",
    "**Helpful Resource:**\n",
    "- [Python Reference](http://data8.org/sp22/python-reference.html): Cheat sheet of helpful array & table methods used in Data 8!\n",
    "\n",
    "**Recommended Readings:**\n",
    "- [Visualizing Numerical Distributions](https://inferentialthinking.com/chapters/07/2/Visualizing_Numerical_Distributions.html)\n",
    "- [Visualizing Categorical Distributions](https://inferentialthinking.com/chapters/07/1/Visualizing_Categorical_Distributions.html)\n",
    "- [Visualization](https://inferentialthinking.com/chapters/07/Visualization.html)\n",
    "- [Tables](https://inferentialthinking.com/chapters/06/Tables.html)\n",
    "- [Arrays](https://inferentialthinking.com/chapters/05/1/Arrays.html)\n",
    "- [Data Types](https://inferentialthinking.com/chapters/04/Data_Types.html)\n",
    "- [Programming in Python](http://www.inferentialthinking.com/chapters/03/programming-in-python.html)"
   ]
  },
  {
   "cell_type": "markdown",
   "id": "3e62426d",
   "metadata": {},
   "source": [
    "## Table Methods ##\n",
    "\n",
    "- Creating tables: `Table.read_table` \n",
    "- Extending tables: `Table().with_columns`\n",
    "- Finding numbers of rows in a table: `num_rows`\n",
    "- Finding numbers of columns in a table: `num_columns`\n",
    "- Referring to columns: by labels or indices: column indices start at 0\n",
    "- Accessing data in a column: `column` takes a label or index and returns an array\n",
    "- Using array methods to work with data in columns: `item`, `sum`, `min`, `max`, and so on\n",
    "- Creating new tables containing some of the original columns: `select`, `drop`"
   ]
  },
  {
   "cell_type": "markdown",
   "id": "a86abb44",
   "metadata": {},
   "source": [
    "## Manipulating Rows ##\n",
    "\n",
    "- `tbl.sort(column)` sorts the rows in increasing order\n",
    "- `tbl.sort(column, descending=True)` sorts the rows in decreasing order\n",
    "- `tbl.take(row_numbers)` keeps the numbered rows and each row has an index, starting at 0\n",
    "- `tbl.where(column, condition)` where *condition* can be a value or a predictor, keeps all rows for which a column's value satisfies a condition.  \n",
    "\n",
    "    For example:\n",
    "    \n",
    "    ```tbl.where(column, are.equal_to(value))``` keeps all rows for which a column's value equals some particular value, shorter form: `tbl.where(column, value)`"
   ]
  },
  {
   "cell_type": "code",
   "execution_count": null,
   "id": "01abfc72",
   "metadata": {},
   "outputs": [],
   "source": [
    "# Just run the cell to import the required module\n",
    "\n",
    "from datascience import *\n",
    "import numpy as np\n",
    "import warnings\n",
    "warnings.simplefilter('ignore', FutureWarning)\n",
    "\n",
    "# These lines do some fancy plotting magic.\\n\",\n",
    "import matplotlib\n",
    "%matplotlib inline\n",
    "import matplotlib.pyplot as plots\n",
    "plots.style.use('fivethirtyeight')"
   ]
  },
  {
   "cell_type": "code",
   "execution_count": null,
   "id": "19d8a228",
   "metadata": {},
   "outputs": [],
   "source": [
    "%%html\n",
    "<style>\n",
    "table {float: left}\n",
    "</style>"
   ]
  },
  {
   "cell_type": "markdown",
   "id": "4832d186",
   "metadata": {},
   "source": [
    "## Visualizing Categorical Distributions ##\n",
    "\n",
    "Data come in different forms, some are numerical and many are not numerical. \n",
    "\n",
    "For examples, data can be pieces of music and places on a map. They can also be categories into which you can place individuals. We call them categorical variables.\n",
    "\n",
    "Examples:\n",
    "\n",
    "- Ice cream flavors\n",
    "- Moive genre\n",
    "- Job titles\n",
    "- Types of nutrients\n",
    "- College majors\n"
   ]
  },
  {
   "cell_type": "markdown",
   "id": "9480f9bd",
   "metadata": {},
   "source": [
    "## Bar Chart ##\n",
    "\n",
    "The bar chart is a way of visualizing categorical distributions. It displays a bar for each category. The bars are equally spaced and equally wide. The length of each bar is proportional to the frequency of the corresponding category.\n",
    "\n",
    "Table method to draw a horizontal bar chart:\n",
    "\n",
    "`tbl.barh(categories, values)`\n",
    "\n",
    "It takes two arguments: the first is the column label of the categories, and the second is the column label of the frequencies.\n",
    "\n",
    "`tbl.barh(categories)`\n",
    "\n",
    "If the table contains only 2 columns - a category and the frequency of the corresponding category, we can omit the second arguments int the tbl.barh() method"
   ]
  },
  {
   "cell_type": "code",
   "execution_count": null,
   "id": "4055e511",
   "metadata": {
    "scrolled": false
   },
   "outputs": [],
   "source": [
    "cars = Table.read_table(\"Cars2015_v1.csv\")\n",
    "cars.show(5)"
   ]
  },
  {
   "cell_type": "markdown",
   "id": "6ab18032",
   "metadata": {},
   "source": [
    "### Distribution Table ###\n",
    "\n",
    "A distribution table shows all the values of the variable along with the frequency of each one.\n",
    "\n",
    "The `tbl.group()` allows us to count how frequently each car type appears in the table, by calling each car type a category and collecting all the rows in each of these new categories.\n",
    "\n",
    "The `tbl.group()` takes as its argument the label of the column that contains the categories. It returns a table of counts of rows in each category.\n",
    "\n",
    "Thus `tbl.group()` creates a distribution table that shows how the cars are distributed among the type categories.\n",
    "\n",
    "The `tbl.group()` lists the categories in ascending order. Since our categories are type names and therefore represented as strings, ascending order means alphabetical order.\n",
    "\n",
    "The column of counts is always called `count`, but you can change that if you like by using relabeled."
   ]
  },
  {
   "cell_type": "code",
   "execution_count": null,
   "id": "12b7ce6d",
   "metadata": {
    "scrolled": true
   },
   "outputs": [],
   "source": [
    "car_group_by_type = cars.group('Type')\n",
    "car_group_by_type"
   ]
  },
  {
   "cell_type": "code",
   "execution_count": null,
   "id": "608c627a",
   "metadata": {},
   "outputs": [],
   "source": [
    "# we can relabel `count` to be more descriptive\n",
    "\n",
    "car_types_distribution = car_group_by_type.relabeled('count', 'Number of Cars')\n",
    "car_types_distribution"
   ]
  },
  {
   "cell_type": "code",
   "execution_count": null,
   "id": "898efea6",
   "metadata": {
    "scrolled": false
   },
   "outputs": [],
   "source": [
    "car_types_distribution.barh('Type', 'Number of Cars')\n",
    "\n",
    "# or if the table contains only 2 columns - a category and \n",
    "#    the frequency of the corresponding category,\n",
    "#.   we can omit the second arguments int the tbl.barh() method\n",
    "\n",
    "#car_types.barh('Type')"
   ]
  },
  {
   "cell_type": "markdown",
   "id": "d02cbb0f",
   "metadata": {},
   "source": [
    "### Bar Chart vs Plot ###\n",
    "\n",
    "The bar chart has categories on one axis and numerical quantities on the other.\n",
    "\n",
    "The scatter plot and the line plot display two quantitative variables – the variables on both axes are quantitative."
   ]
  },
  {
   "cell_type": "markdown",
   "id": "cc960d29",
   "metadata": {},
   "source": [
    "### Order of the Bars ###\n",
    "\n",
    "The bars can be drawn in different orders:\n",
    "\n",
    "- ascending\n",
    "- descending\n",
    "- order that originated from the table"
   ]
  },
  {
   "cell_type": "code",
   "execution_count": null,
   "id": "6658ce1a",
   "metadata": {
    "scrolled": false
   },
   "outputs": [],
   "source": [
    "# ascending order\n",
    "\n",
    "car_types_distribution.sort('Number of Cars').barh('Type')"
   ]
  },
  {
   "cell_type": "code",
   "execution_count": null,
   "id": "8f6621bd",
   "metadata": {
    "scrolled": false
   },
   "outputs": [],
   "source": [
    "# descending order\n",
    "\n",
    "car_types_distribution.sort('Number of Cars', descending=True).barh('Type')"
   ]
  },
  {
   "cell_type": "code",
   "execution_count": null,
   "id": "daf2c3c5",
   "metadata": {
    "scrolled": true
   },
   "outputs": [],
   "source": [
    "cars.select('Make', 'Model')"
   ]
  },
  {
   "cell_type": "code",
   "execution_count": null,
   "id": "7e05ed11",
   "metadata": {},
   "outputs": [],
   "source": [
    "#cars_group_by_make = cars.select('Make', 'Model').group('Make').relabeled('count', 'Number of Models')\n",
    "\n",
    "# or\n",
    "\n",
    "cars_make_model = cars.select('Make', 'Model')\n",
    "cars_make_model_distribution = cars_make_model.group('Make').relabeled('count', 'Number of Models')\n",
    "cars_make_model_distribution"
   ]
  },
  {
   "cell_type": "code",
   "execution_count": null,
   "id": "304f276c",
   "metadata": {},
   "outputs": [],
   "source": [
    "cars_make_model_distribution.sort('Number of Models').barh('Make')"
   ]
  },
  {
   "cell_type": "markdown",
   "id": "52679c57",
   "metadata": {},
   "source": [
    "## Visualizing Numerical Distributions ##\n"
   ]
  },
  {
   "cell_type": "markdown",
   "id": "aa006579",
   "metadata": {},
   "source": [
    "### Histogram ###\n",
    "\n",
    "A histogram is a visualization of the distribution of a quantitative variable - numerical values.\n",
    "\n",
    "`tbl.hist(column, unit, bins, group)`\n",
    "\n",
    "It generates a histogram of the numerical values in a column. `unit` and `bins` are optional arguments, used to label the axes and group the values into intervals (bins), respectively. Bins have the form `[a, b)`, where **a** is included in the bin and **b** is not."
   ]
  },
  {
   "cell_type": "code",
   "execution_count": null,
   "id": "fab6a951",
   "metadata": {},
   "outputs": [],
   "source": [
    "cars.show(3)"
   ]
  },
  {
   "cell_type": "code",
   "execution_count": null,
   "id": "169c546d",
   "metadata": {},
   "outputs": [],
   "source": [
    "pound = cars.select('Model').with_columns('Adjusted Weight', cars.column('Weight')/100)\n",
    "\n",
    "# or break it into multiple lines\n",
    "#model = cars.select('Model')  # create a new table with 1 column - 'Model'\n",
    "#hundred_pound = cars.column('Weight') / 100  # create an array for 'Weight' column, then divide each item in the array by 100\n",
    "#pound = model.with_columns('Adjusted Weight', hundred_pound)  # append a column to the table with the array\n",
    "\n",
    "pound"
   ]
  },
  {
   "cell_type": "markdown",
   "id": "f86cf8fc",
   "metadata": {},
   "source": [
    "### Binning the Data ###\n",
    "\n",
    "Groups values into intervals.\n",
    "\n",
    "`tbl.bin(column_name_or_index, bins)`\n",
    "\n",
    "It results in a two-column table that contains the number of rows in each bin. The first column lists the left endpoints of the bins, except in the last row.\n",
    "\n",
    "Bins have the form `[a, b)`, where **a** is included in the bin and **b** is not."
   ]
  },
  {
   "cell_type": "code",
   "execution_count": null,
   "id": "9cbbf9c3",
   "metadata": {},
   "outputs": [],
   "source": [
    "# check the range of the 'Adjusted Weight'\n",
    "\n",
    "# Step 1:\n",
    "# convert a table column to an array\n",
    "weight = pound.column('Adjusted Weight')\n",
    "\n",
    "# Step 2:\n",
    "# check the min and max value in the array\n",
    "min(weight), max(weight)"
   ]
  },
  {
   "cell_type": "code",
   "execution_count": null,
   "id": "a7214b8b",
   "metadata": {
    "scrolled": true
   },
   "outputs": [],
   "source": [
    "# specify the bin size\n",
    "\n",
    "bin_counts = pound.bin('Adjusted Weight', bins=np.arange(20,65,5))\n",
    "bin_counts.show()"
   ]
  },
  {
   "cell_type": "markdown",
   "id": "4db912c0",
   "metadata": {},
   "source": [
    "Bin 1 interval -- \\[20, 25)  include 20, exclude 25\n",
    "\n",
    "Bin 2 interval -- \\[25, 30)  include 25, exclude 30\n",
    "\n",
    "Bin 3 interval -- \\[30, 35)  include 30, exclude 35\n",
    "\n",
    "Bin 4 interval -- \\[35, 40)  include 35, exclude 40\n",
    "\n",
    "... etc\n"
   ]
  },
  {
   "cell_type": "code",
   "execution_count": null,
   "id": "f5fe1188",
   "metadata": {
    "scrolled": true
   },
   "outputs": [],
   "source": [
    "# specify a number of equally wide bins\n",
    "\n",
    "pound.bin('Adjusted Weight', bins=3)"
   ]
  },
  {
   "cell_type": "code",
   "execution_count": null,
   "id": "dd73ae1c",
   "metadata": {
    "scrolled": true
   },
   "outputs": [],
   "source": [
    "# no specification, by default, \n",
    "#    `tbl.bin` produce 10 equally wide bins between the minimum and maximum values of the data\n",
    "\n",
    "pound.bin('Adjusted Weight').show()"
   ]
  },
  {
   "cell_type": "markdown",
   "id": "989e29cc",
   "metadata": {},
   "source": [
    "### Visualization - Histogram ###"
   ]
  },
  {
   "cell_type": "code",
   "execution_count": null,
   "id": "b637f5a7",
   "metadata": {
    "scrolled": false
   },
   "outputs": [],
   "source": [
    "pound.hist('Adjusted Weight', bins=np.arange(20,65,10), unit='Hundred Pounds')"
   ]
  },
  {
   "cell_type": "code",
   "execution_count": null,
   "id": "1224e2df",
   "metadata": {},
   "outputs": [],
   "source": [
    "pound.bin('Adjusted Weight', bins=np.arange(20,65,10))"
   ]
  },
  {
   "cell_type": "code",
   "execution_count": null,
   "id": "1ea0819f",
   "metadata": {
    "scrolled": false
   },
   "outputs": [],
   "source": [
    "uneven = make_array(20, 22, 24, 26, 28, 30, 40, 60)\n",
    "pound.hist('Adjusted Weight', bins=uneven, unit='Hundred Pounds')"
   ]
  },
  {
   "cell_type": "code",
   "execution_count": null,
   "id": "230233c0",
   "metadata": {},
   "outputs": [],
   "source": [
    "pound.bin('Adjusted Weight', bins=uneven)"
   ]
  },
  {
   "cell_type": "markdown",
   "id": "bc35d9a3",
   "metadata": {},
   "source": [
    "### Density Scale on The Vertical Axis ###\n",
    "\n",
    "The height of bar is not the percent of entries in the bin. It is the percent of entries in the bin relative to the amount of space in the bin. That is why the height measures crowdedness or density. The vertical axis is said to be on the density scale."
   ]
  },
  {
   "cell_type": "code",
   "execution_count": null,
   "id": "414b5f1a",
   "metadata": {},
   "outputs": [],
   "source": [
    "pound.num_rows"
   ]
  },
  {
   "cell_type": "code",
   "execution_count": null,
   "id": "f71d4d71",
   "metadata": {},
   "outputs": [],
   "source": [
    "percent = 41 / 110 * 100\n",
    "percent"
   ]
  },
  {
   "cell_type": "markdown",
   "id": "c1bdab23",
   "metadata": {},
   "source": [
    "#### How to Compute the Height of each Bar in Density Scale? ####\n",
    "\n",
    "[Density Scale](https://inferentialthinking.com/chapters/07/2/Visualizing_Numerical_Distributions.html#the-vertical-axis-density-scale) in the textbook has a great explanation.\n",
    "\n",
    "area = width * height\n",
    "\n",
    "height = area / width\n",
    "\n",
    "##### Example 1: #####\n",
    "\n",
    "area - bin \\[40, 60) contains the weight of 41 cars\n",
    "\n",
    "the 41 cars represents 37.27\\% of the of all 110 cars\n",
    "\n",
    "width is the bin interval which is 60 - 40 = 20"
   ]
  },
  {
   "cell_type": "code",
   "execution_count": null,
   "id": "5286e8ad",
   "metadata": {},
   "outputs": [],
   "source": [
    "height = percent / (60 - 40)\n",
    "height"
   ]
  },
  {
   "cell_type": "markdown",
   "id": "9931693f",
   "metadata": {},
   "source": [
    "##### Example 2: #####\n",
    "\n",
    "area - bin [30, 40) contains the weight of 52 cars\n",
    "\n",
    "Step 1:\n",
    "\n",
    "1. find the percentage of the 52 cars out of 110 cars\n",
    "1. find the width of the bin that contains 52 cars\n"
   ]
  },
  {
   "cell_type": "code",
   "execution_count": null,
   "id": "21eef870",
   "metadata": {},
   "outputs": [],
   "source": [
    "percent = 52 / 110 * 100\n",
    "percent"
   ]
  },
  {
   "cell_type": "code",
   "execution_count": null,
   "id": "b0be8e42",
   "metadata": {},
   "outputs": [],
   "source": [
    "height = percent / (40 - 30)\n",
    "height"
   ]
  },
  {
   "cell_type": "markdown",
   "id": "7a50e2a5",
   "metadata": {},
   "source": [
    "#### Benefits of Using Density Scale ####\n",
    "\n",
    "The main reason for plotting density on the vertical axis is to be able to compare histograms and approximate them with smooth curves where proportions are represented by areas under the curve.\n",
    "\n",
    "Drawing histograms on the density scale also allows us to compare histograms that are based on data sets of different sizes or have different choices of bins. For example, if 2 histograms are drawn to the density scale then areas and densities are comparable."
   ]
  },
  {
   "cell_type": "markdown",
   "id": "8c2a4985",
   "metadata": {},
   "source": [
    "### Overlaid Graphs ###"
   ]
  },
  {
   "cell_type": "code",
   "execution_count": null,
   "id": "fc9a7fff",
   "metadata": {},
   "outputs": [],
   "source": [
    "# scatter plot - association of FuelCap with CityMPG and HwyMPG\n",
    "\n",
    "fuel_mpg = cars.select('FuelCap', 'CityMPG', 'HwyMPG')\n",
    "fuel_mpg.scatter('FuelCap')"
   ]
  },
  {
   "cell_type": "code",
   "execution_count": null,
   "id": "5e169f16",
   "metadata": {},
   "outputs": [],
   "source": [
    "rate = Table.read_table('ratings.csv')\n",
    "rate"
   ]
  },
  {
   "cell_type": "code",
   "execution_count": null,
   "id": "cdc89d7c",
   "metadata": {},
   "outputs": [],
   "source": [
    "# bar chart - Yelp and Google rating distribution of burrito restaurants\n",
    "\n",
    "rate.barh('Name')"
   ]
  },
  {
   "cell_type": "code",
   "execution_count": null,
   "id": "754ecaf3",
   "metadata": {},
   "outputs": [],
   "source": [
    "# pick 1 out of every 10 restaurants\n",
    "\n",
    "rate.take(np.arange(0,rate.num_rows,10)).barh('Name')\n",
    "\n",
    "# or use multiple lines of code\n",
    "#random = rate.take(np.arange(0,rate.num_rows,10))\n",
    "#random.barh('Name')"
   ]
  },
  {
   "cell_type": "code",
   "execution_count": null,
   "id": "bd317d57",
   "metadata": {},
   "outputs": [],
   "source": [
    "# show only Yelp and Google ratings\n",
    "\n",
    "rate.select('Name', 'Yelp', 'Google').take(np.arange(0,rate.num_rows,10)).barh('Name')\n",
    "\n",
    "# or use multiple lines of code\n",
    "#yelp_google = rate.select('Name', 'Yelp', 'Google')\n",
    "#every_10_rows = yelp_google.take(np.arange(0,rate.num_rows,10))\n",
    "#every_10_rows.barh('Name')"
   ]
  },
  {
   "cell_type": "code",
   "execution_count": null,
   "id": "d7ab91ba",
   "metadata": {
    "scrolled": true
   },
   "outputs": [],
   "source": [
    "np.arange(0,rate.num_rows,10)"
   ]
  },
  {
   "cell_type": "code",
   "execution_count": null,
   "id": "fc8286d0",
   "metadata": {},
   "outputs": [],
   "source": []
  }
 ],
 "metadata": {
  "kernelspec": {
   "display_name": "Python 3 (ipykernel)",
   "language": "python",
   "name": "python3"
  },
  "language_info": {
   "codemirror_mode": {
    "name": "ipython",
    "version": 3
   },
   "file_extension": ".py",
   "mimetype": "text/x-python",
   "name": "python",
   "nbconvert_exporter": "python",
   "pygments_lexer": "ipython3",
   "version": "3.11.5"
  }
 },
 "nbformat": 4,
 "nbformat_minor": 5
}
