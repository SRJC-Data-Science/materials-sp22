{
 "cells": [
  {
   "cell_type": "markdown",
   "id": "e26d5b0a",
   "metadata": {},
   "source": [
    "## Lecture Notes - Tables ##\n",
    "\n",
    "**Helpful Resource:**\n",
    "- [Python Reference](http://data8.org/sp22/python-reference.html): Cheat sheet of helpful array & table methods used in Data 8!\n",
    "\n",
    "**Recommended Readings:**\n",
    " * [Introduction to Tables](https://www.inferentialthinking.com/chapters/03/4/Introduction_to_Tables)"
   ]
  },
  {
   "cell_type": "markdown",
   "id": "7175d308",
   "metadata": {},
   "source": [
    "## Python Arithmetic ##\n",
    "\n",
    "Already done last lecture"
   ]
  },
  {
   "cell_type": "markdown",
   "id": "a3d05b31",
   "metadata": {},
   "source": [
    "## Variables ##\n",
    "\n",
    "In Python, a variable dosen't need to be declared a data type before using it.\n",
    "\n",
    "The data type of a variable is determined by the value assigned to it.\n"
   ]
  },
  {
   "cell_type": "markdown",
   "id": "2acacfcf",
   "metadata": {},
   "source": [
    "### `int` and `float`"
   ]
  },
  {
   "cell_type": "code",
   "execution_count": null,
   "id": "e5e6331f",
   "metadata": {},
   "outputs": [],
   "source": [
    "# hourly_rate is a double or float\n",
    "\n",
    "hourly_rate = 20.5\n",
    "type(hourly_rate)\n"
   ]
  },
  {
   "cell_type": "code",
   "execution_count": null,
   "id": "d91eff26",
   "metadata": {},
   "outputs": [],
   "source": [
    "# price is an integer\n",
    "\n",
    "hour = 16\n",
    "type(hour)\n"
   ]
  },
  {
   "cell_type": "code",
   "execution_count": null,
   "id": "61649559",
   "metadata": {},
   "outputs": [],
   "source": [
    "# total's data type is determined by the data types of the expressions\n",
    "#   hourly_rate and hour\n",
    "\n",
    "total = hourly_rate * hour\n",
    "\n",
    "total, type(total)\n"
   ]
  },
  {
   "cell_type": "code",
   "execution_count": null,
   "id": "267feacd",
   "metadata": {},
   "outputs": [],
   "source": [
    "# hourly_rate is an integer\n",
    "\n",
    "hourly_rate = 20\n",
    "type(hourly_rate)"
   ]
  },
  {
   "cell_type": "code",
   "execution_count": null,
   "id": "06c9b1fd",
   "metadata": {},
   "outputs": [],
   "source": [
    "# hour is an integer\n",
    "\n",
    "hour = 16\n",
    "type(hour)"
   ]
  },
  {
   "cell_type": "code",
   "execution_count": null,
   "id": "d32b25d4",
   "metadata": {},
   "outputs": [],
   "source": [
    "# total's data type is determined by the data types of the expressions\n",
    "#   hourly_rate and hour\n",
    "\n",
    "total = hourly_rate * hour\n",
    "\n",
    "total, type(total)"
   ]
  },
  {
   "cell_type": "markdown",
   "id": "1c7404a5",
   "metadata": {},
   "source": [
    "### `str` ###\n",
    "\n",
    "how to assign a string value to a variable?\n",
    "use `\"\"` or `''` to represent a string, otherwise produce errors"
   ]
  },
  {
   "cell_type": "code",
   "execution_count": null,
   "id": "a117a2b7",
   "metadata": {},
   "outputs": [],
   "source": [
    "# use ''\n",
    "\n",
    "name = 'c'\n",
    "name, type(name)"
   ]
  },
  {
   "cell_type": "code",
   "execution_count": null,
   "id": "6b082632",
   "metadata": {},
   "outputs": [],
   "source": [
    "# use \"\"\n",
    "\n",
    "name = \"c\"\n",
    "name, type(name)"
   ]
  },
  {
   "cell_type": "code",
   "execution_count": null,
   "id": "929b807c",
   "metadata": {},
   "outputs": [],
   "source": [
    "# this assignment statement produce errors\n",
    "#   because c doesn't have a value and being assigned to a variable\n",
    "\n",
    "name = c"
   ]
  },
  {
   "cell_type": "markdown",
   "id": "1a827635",
   "metadata": {},
   "source": [
    "## Assignment Statements ##\n",
    "\n",
    "We have seen Python codes where contain a variable name, an equal sign and a value expression in one line.  They are call **assignment statements**.\n",
    "\n",
    "<img src='assignment-statement.png' alt='assignment statement' width='280px'>\n",
    "\n",
    "An assignment statement changes the meaning of the variable name to the left of the `=` sign.\n",
    "\n",
    "The variable name is bound to the value of the expression to the right of the `=` sign (its current value; not the equation)\n"
   ]
  },
  {
   "cell_type": "markdown",
   "id": "518cdb96",
   "metadata": {},
   "source": [
    "## Why do we use variables (names)? ##\n",
    "\n",
    "Ans: to store the values and use them later in the program\n",
    "\n",
    "### ...more on data types and variables in next lecture... ###"
   ]
  },
  {
   "cell_type": "markdown",
   "id": "31da6a8a",
   "metadata": {},
   "source": [
    "## Functions and Call Expressions ##\n",
    "\n",
    "There are two types of functions - pre-defined functions and user-defined functions. For now, we look at pre-defined functions provided by Python or other libraries/modules.  Later we learn to write our own functions.\n",
    "\n",
    "### Function Anatomy ###\n",
    "\n",
    "<img src='function-anatomy.png' alt='function anatomy' width='300px'>\n",
    "\n",
    "For example, if we want to use math functions, we need to import the math modules to our notebook."
   ]
  },
  {
   "cell_type": "code",
   "execution_count": null,
   "id": "620e53e4",
   "metadata": {
    "scrolled": true
   },
   "outputs": [],
   "source": [
    "import math\n",
    "\n",
    "math.log(8, 2)"
   ]
  },
  {
   "cell_type": "code",
   "execution_count": null,
   "id": "7ce9e048",
   "metadata": {},
   "outputs": [],
   "source": [
    "# if we specify what to import, \n",
    "#    we can omit the module name - `math` when we call it\n",
    "\n",
    "from math import pi\n",
    "pi"
   ]
  },
  {
   "cell_type": "markdown",
   "id": "909eab4e",
   "metadata": {},
   "source": [
    "## Some functions already come with Python \n",
    "\n",
    "Just call the functions directly, no need to import modules/libraries.\n",
    "\n",
    "For examples, finding an absolute value, rounding up a decimal number or looking for the min or max value in a list of numbers, etc.\n"
   ]
  },
  {
   "cell_type": "code",
   "execution_count": null,
   "id": "ee7e50cc",
   "metadata": {
    "scrolled": true
   },
   "outputs": [],
   "source": [
    "abs(-5)"
   ]
  },
  {
   "cell_type": "code",
   "execution_count": null,
   "id": "5ce447fa",
   "metadata": {
    "scrolled": false
   },
   "outputs": [],
   "source": [
    "round(3.141592653589793)"
   ]
  },
  {
   "cell_type": "code",
   "execution_count": null,
   "id": "ece711a1",
   "metadata": {
    "scrolled": true
   },
   "outputs": [],
   "source": [
    "list = [100, 43, 2, 90]\n",
    "min(list), type(list)"
   ]
  },
  {
   "cell_type": "code",
   "execution_count": null,
   "id": "55ee322d",
   "metadata": {
    "scrolled": true
   },
   "outputs": [],
   "source": [
    "max(list)"
   ]
  },
  {
   "cell_type": "code",
   "execution_count": null,
   "id": "3c4bc619",
   "metadata": {},
   "outputs": [],
   "source": [
    "min(100, 43, 2, 90)"
   ]
  },
  {
   "cell_type": "markdown",
   "id": "f93c3f64",
   "metadata": {},
   "source": [
    "There are more on pre-defined functions in labs and homeworks for you to practice.\n",
    "\n",
    "### View a Function Documentation ###\n",
    "\n",
    "Type a `?` after a function name to see its documentation.\n"
   ]
  },
  {
   "cell_type": "code",
   "execution_count": 1,
   "id": "13598b56",
   "metadata": {},
   "outputs": [],
   "source": [
    "# Example\n",
    "\n",
    "round?"
   ]
  },
  {
   "cell_type": "markdown",
   "id": "24fdf12d",
   "metadata": {},
   "source": [
    "## Tables ##\n",
    "\n",
    "Similar to Excel in MS Office, a table in Python is composed of columns and rows.\n",
    "\n",
    "Each column has a label (name of the column).  Each row represents an individual entity with the columns in a dataset.  Each column is a category to describe a charactristic of the individual entities (row) in a dataset.  In other words, data within a column represents one attribute of the individual entities (row).\n",
    "\n",
    "<img src='table.png' alt='data in a table' width='500px'>\n",
    "\n",
    "To use tables in Python, we need to import a package/library which is called \"datascience\".  It was created by UC Berkeley professors and fellow students."
   ]
  },
  {
   "cell_type": "code",
   "execution_count": null,
   "id": "186d431a",
   "metadata": {},
   "outputs": [],
   "source": [
    "# import everyting from datascience library/module\n",
    "# once the module is imported, it can be used for all the cells below it.\n",
    "from datascience import *\n"
   ]
  },
  {
   "cell_type": "code",
   "execution_count": null,
   "id": "9b5c7a60",
   "metadata": {},
   "outputs": [],
   "source": [
    "# here we read a data file to a table \n",
    "#   and then assign the table to a variable\n",
    "cones = Table.read_table('cones.csv')\n",
    "cones\n"
   ]
  },
  {
   "cell_type": "markdown",
   "id": "b1153bc1",
   "metadata": {},
   "source": [
    "### Default Table Display ##"
   ]
  },
  {
   "cell_type": "code",
   "execution_count": null,
   "id": "2447eb3e",
   "metadata": {},
   "outputs": [],
   "source": [
    "# let's read another data file to a table\n",
    "#   we don't assign the table to a variable\n",
    "#   when this cell is executed, by default, the table will be displayed \n",
    "#     10 rows and hide others  \n",
    "\n",
    "Table.read_table('student_data.csv')"
   ]
  },
  {
   "cell_type": "markdown",
   "id": "44420d39",
   "metadata": {},
   "source": [
    "### Specify a Number of Rows to Display - `tbl.show()` ###"
   ]
  },
  {
   "cell_type": "code",
   "execution_count": null,
   "id": "2827545c",
   "metadata": {
    "scrolled": true
   },
   "outputs": [],
   "source": [
    "# show a specific number of rows\n",
    "\n",
    "student_tbl = Table.read_table('student_data.csv')\n",
    "student_tbl.show(5)\n"
   ]
  },
  {
   "cell_type": "code",
   "execution_count": null,
   "id": "c15df101",
   "metadata": {},
   "outputs": [],
   "source": [
    "# or we can also chain the function calls in one line\n",
    "\n",
    "Table.read_table('student_data.csv').show(5)\n"
   ]
  },
  {
   "cell_type": "markdown",
   "id": "a5efd5f6",
   "metadata": {},
   "source": [
    "### Display All Rows - `tbl.show()` ###\n",
    "\n",
    "To display all rows in a table, omit the number inside the parentheses."
   ]
  },
  {
   "cell_type": "code",
   "execution_count": null,
   "id": "26182d53",
   "metadata": {
    "scrolled": false
   },
   "outputs": [],
   "source": [
    "# to display all rows in a table\n",
    "\n",
    "student_tbl = Table.read_table('student_data.csv')\n",
    "student_tbl.show()\n"
   ]
  },
  {
   "cell_type": "code",
   "execution_count": null,
   "id": "7e75df1c",
   "metadata": {},
   "outputs": [],
   "source": [
    "# or chain the function calls in one line\n",
    "\n",
    "Table.read_table('student_data.csv').show()"
   ]
  },
  {
   "cell_type": "markdown",
   "id": "6256e8cd",
   "metadata": {},
   "source": [
    "### `tbl.select(label)` ###\n",
    "\n",
    "Constructs a new table with just the specified columns"
   ]
  },
  {
   "cell_type": "code",
   "execution_count": null,
   "id": "0d42c333",
   "metadata": {},
   "outputs": [],
   "source": [
    "student_tbl.select(\"SHOE\", \"HEIGHT\")"
   ]
  },
  {
   "cell_type": "markdown",
   "id": "70099727",
   "metadata": {},
   "source": [
    "### `tbl.where(label, condition)` ###\n",
    "\n",
    "Constructs a new table with just the rows that match the condition\n",
    "\n",
    "Each `tbl.where(label, condition)` takes one pair of label and condition at a time."
   ]
  },
  {
   "cell_type": "code",
   "execution_count": null,
   "id": "1e4864d3",
   "metadata": {
    "scrolled": true
   },
   "outputs": [],
   "source": [
    "student_tbl.where(\"ZIP\", 95403)"
   ]
  },
  {
   "cell_type": "markdown",
   "id": "22765ac0",
   "metadata": {},
   "source": [
    "If we want to construct a new table with just the rows that match more than one condition, we need to chain up another `where(label, condition)`"
   ]
  },
  {
   "cell_type": "code",
   "execution_count": null,
   "id": "930500e7",
   "metadata": {},
   "outputs": [],
   "source": [
    "student_tbl.where(\"ZIP\", 95403).where(\"COLOR\", \"Green\")"
   ]
  },
  {
   "cell_type": "markdown",
   "id": "705c966e",
   "metadata": {},
   "source": [
    "### `tbl.sort(label)` ###\n",
    "\n",
    "Constructs a new table with rows sorted by the specified column"
   ]
  },
  {
   "cell_type": "code",
   "execution_count": null,
   "id": "a94c7143",
   "metadata": {},
   "outputs": [],
   "source": [
    "# by default, sort function will sort the table in ascending order\n",
    "\n",
    "student_tbl.sort(\"AGE\")\n"
   ]
  },
  {
   "cell_type": "code",
   "execution_count": null,
   "id": "137fcb9d",
   "metadata": {},
   "outputs": [],
   "source": [
    "# sometimes we may want to view the entire table\n",
    "\n",
    "student_tbl.sort(\"AGE\").show()"
   ]
  },
  {
   "cell_type": "code",
   "execution_count": null,
   "id": "33f2f237",
   "metadata": {},
   "outputs": [],
   "source": [
    "# we can also sort a table in descending order\n",
    "\n",
    "student_tbl.sort(\"AGE\", descending=True)"
   ]
  },
  {
   "cell_type": "markdown",
   "id": "da83d77b",
   "metadata": {},
   "source": [
    "### `tbl.drop(label)` ###\n",
    "\n",
    "Constructs a new table in which the specified columns are omitted\n"
   ]
  },
  {
   "cell_type": "code",
   "execution_count": null,
   "id": "18a0ff06",
   "metadata": {},
   "outputs": [],
   "source": [
    "# When we work on tabular data, the table may be too big to view and \n",
    "#   some data may not be relevant, we can drop table columns.\n",
    "\n",
    "student_tbl.drop(\"PAPER\")"
   ]
  },
  {
   "cell_type": "code",
   "execution_count": null,
   "id": "d43c6c2d",
   "metadata": {},
   "outputs": [],
   "source": [
    "# when we do tbl.drop(), we only remove the column for a table view,\n",
    "#   not actually remove the column from the table permanently,\n",
    "#   when we display the table again, we see all column intact\n",
    "\n",
    "student_tbl"
   ]
  },
  {
   "cell_type": "code",
   "execution_count": null,
   "id": "3a181b41",
   "metadata": {},
   "outputs": [],
   "source": [
    "# To keep a table with the column removed, \n",
    "#   we need to assign the updated table to a variable\n",
    "\n",
    "student_tbl_without_paper_col = student_tbl.drop(\"PAPER\")\n",
    "student_tbl_without_paper_col"
   ]
  },
  {
   "cell_type": "code",
   "execution_count": null,
   "id": "d3e8f784",
   "metadata": {},
   "outputs": [],
   "source": [
    "# the original student table - student_tbl still contains the PAPER column\n",
    "\n",
    "student_tbl"
   ]
  },
  {
   "cell_type": "code",
   "execution_count": null,
   "id": "606b4d68",
   "metadata": {},
   "outputs": [],
   "source": []
  }
 ],
 "metadata": {
  "kernelspec": {
   "display_name": "Python 3 (ipykernel)",
   "language": "python",
   "name": "python3"
  },
  "language_info": {
   "codemirror_mode": {
    "name": "ipython",
    "version": 3
   },
   "file_extension": ".py",
   "mimetype": "text/x-python",
   "name": "python",
   "nbconvert_exporter": "python",
   "pygments_lexer": "ipython3",
   "version": "3.11.5"
  }
 },
 "nbformat": 4,
 "nbformat_minor": 5
}
