{
 "cells": [
  {
   "cell_type": "markdown",
   "id": "46712aa3",
   "metadata": {},
   "source": [
    "## Lecture Notes - Functions ##\n",
    "\n",
    "**Helpful Resource:**\n",
    "- [Python Reference](http://data8.org/sp22/python-reference.html): Cheat sheet of helpful array & table methods used in Data 8!\n",
    "\n",
    "**Recommended Readings:**\n",
    "- [Functions and Tables](https://inferentialthinking.com/chapters/08/Functions_and_Tables.html)\n",
    "- [Applying a Function to a Column](https://inferentialthinking.com/chapters/08/1/Applying_a_Function_to_a_Column.html)\n",
    "- [Visualization](https://inferentialthinking.com/chapters/07/Visualization.html)"
   ]
  },
  {
   "cell_type": "code",
   "execution_count": null,
   "id": "33e6a0f1",
   "metadata": {},
   "outputs": [],
   "source": [
    "# import modules to be used in this notebook\n",
    "\n",
    "from datascience import *\n",
    "import numpy as np\n",
    "\n",
    "%matplotlib inline\n",
    "import matplotlib.pyplot as plots\n",
    "plots.style.use('fivethirtyeight')"
   ]
  },
  {
   "cell_type": "markdown",
   "id": "f786e6af",
   "metadata": {},
   "source": [
    "## The Anatomy of a Function ## \n",
    "\n",
    "<img src=\"functions-anatomy-1.png\" style=\"width: 500px\" />\n",
    "\n",
    "A -- Signature\n",
    "\n",
    "B -- Documentation (\"docstring\")\n",
    "\n",
    "C -- Body\n",
    "\n",
    "E -- Indentation\n",
    "\n",
    "<hr>\n",
    "\n",
    "### Name, Arguments/Parameters, Statements & Return Values ###\n",
    "<img src=\"functions-anatomy-2.png\" style=\"width: 500px\" />"
   ]
  },
  {
   "cell_type": "markdown",
   "id": "f6a8b80d",
   "metadata": {},
   "source": [
    "## Functions Operations ##"
   ]
  },
  {
   "cell_type": "code",
   "execution_count": null,
   "id": "2fea0643",
   "metadata": {},
   "outputs": [],
   "source": [
    "def double(x):\n",
    "    \"\"\" Take one argument x, multiple x by 2 and return the value\"\"\"\n",
    "    return 2*x"
   ]
  },
  {
   "cell_type": "code",
   "execution_count": null,
   "id": "7db95d78",
   "metadata": {},
   "outputs": [],
   "source": [
    "# Documentation explain what the function does and how to use it\n",
    "\n",
    "# display the function documentation\n",
    "double?"
   ]
  },
  {
   "cell_type": "code",
   "execution_count": null,
   "id": "2a652f38",
   "metadata": {},
   "outputs": [],
   "source": [
    "# Multiple statements in a function body\n",
    "\n",
    "def double(x):\n",
    "    \"\"\" Take one argument x, multiple x by 2 and return the value\"\"\"\n",
    "    timeTwo = 2 * x\n",
    "    return timeTwo"
   ]
  },
  {
   "cell_type": "markdown",
   "id": "13cc6193",
   "metadata": {},
   "source": [
    "### Functions are Type-Agnostic ###\n",
    "\n",
    "Functions operate on any data types based on the arguments passed into it."
   ]
  },
  {
   "cell_type": "code",
   "execution_count": null,
   "id": "2ade9f19",
   "metadata": {},
   "outputs": [],
   "source": [
    "# int\n",
    "\n",
    "double(5)"
   ]
  },
  {
   "cell_type": "code",
   "execution_count": null,
   "id": "b88518f2",
   "metadata": {
    "scrolled": true
   },
   "outputs": [],
   "source": [
    "# string\n",
    "\n",
    "double(\"sally \")"
   ]
  },
  {
   "cell_type": "code",
   "execution_count": null,
   "id": "87a8ef9a",
   "metadata": {},
   "outputs": [],
   "source": [
    "# float\n",
    "\n",
    "double(4.7)"
   ]
  },
  {
   "cell_type": "markdown",
   "id": "2a27de54",
   "metadata": {},
   "source": [
    "### Multiple Arguments in a Function ###\n",
    "\n",
    "Functions can take more than one argument."
   ]
  },
  {
   "cell_type": "code",
   "execution_count": null,
   "id": "1cc0a263",
   "metadata": {},
   "outputs": [],
   "source": [
    "def volumn(width, height, depth):\n",
    "    \"\"\" Take three argunment, compute and return the volumn \"\"\"\n",
    "    vol = width * height * depth\n",
    "    return vol"
   ]
  },
  {
   "cell_type": "code",
   "execution_count": null,
   "id": "66e1dcf9",
   "metadata": {},
   "outputs": [],
   "source": [
    "volumn(2, 3, 4)"
   ]
  },
  {
   "cell_type": "markdown",
   "id": "7b76ad54",
   "metadata": {},
   "source": [
    "### Functions operate on an array ###\n",
    "\n",
    "Functions can take an array argument and operate on each element in the array."
   ]
  },
  {
   "cell_type": "code",
   "execution_count": null,
   "id": "1cbcee23",
   "metadata": {},
   "outputs": [],
   "source": [
    "# Take an array argument and return an array with updated values in it.\n",
    "def double(x):\n",
    "    \"\"\" Take one argument x, multiple x by 2 and return the value\"\"\"\n",
    "    return 2*x\n",
    "\n",
    "num_array = make_array(2, 4, 6)\n",
    "\n",
    "double(num_array)"
   ]
  },
  {
   "cell_type": "code",
   "execution_count": null,
   "id": "d04e49b6",
   "metadata": {},
   "outputs": [],
   "source": [
    "# Example to take an array of float argument\n",
    "\n",
    "double(make_array(2.5, 4.6, 6.7))"
   ]
  },
  {
   "cell_type": "code",
   "execution_count": null,
   "id": "0f036c6d",
   "metadata": {},
   "outputs": [],
   "source": [
    "# Example to take multiple arrays and operate on each element of the arrays\n",
    "\n",
    "def volumn(width, height, depth):\n",
    "    \"\"\" Take three argunment, compute and return the volumn \"\"\"\n",
    "    vol = width * height * depth\n",
    "    return vol\n",
    "\n",
    "width = make_array(1,2,3)\n",
    "height = make_array(4,5,6)\n",
    "depth = make_array(7,8,9)\n",
    "\n",
    "volumn(width, height, depth)"
   ]
  },
  {
   "cell_type": "markdown",
   "id": "194a4d3f",
   "metadata": {},
   "source": [
    "## Functions Scope ##\n",
    "\n",
    "Names/variables that are inside a function or the function argument araa can only be seen by the function itself. It is call local scope."
   ]
  },
  {
   "cell_type": "code",
   "execution_count": null,
   "id": "4158a0fe",
   "metadata": {},
   "outputs": [],
   "source": [
    "def volumn(f_width, f_height, f_depth):\n",
    "    \"\"\" Take three argunment, compute and return the volumn \"\"\"\n",
    "    vol = f_width * f_height * f_depth\n",
    "    return vol\n",
    "\n",
    "my_width = make_array(1,2,3)\n",
    "my_height = make_array(4,5,6)\n",
    "my_depth = make_array(7,8,9)\n",
    "\n",
    "volumn(my_width, my_height, my_depth)"
   ]
  },
  {
   "cell_type": "code",
   "execution_count": null,
   "id": "75be4919",
   "metadata": {},
   "outputs": [],
   "source": [
    "# Error: because f_width can only be accessed inside the function volumn\n",
    "f_width"
   ]
  },
  {
   "cell_type": "markdown",
   "id": "623f8614",
   "metadata": {},
   "source": [
    "## Apply a Function to a Column in a Table ##\n",
    "\n",
    "Now we know functions can take an array argument. Functions can also be applied to a column in a table and return an array with updated values.\n"
   ]
  },
  {
   "cell_type": "code",
   "execution_count": null,
   "id": "17d2db4d",
   "metadata": {},
   "outputs": [],
   "source": [
    "# Create a table from scratch with arrays and columns\n",
    "\n",
    "names = make_array(\"apple\", \"banana\", \"cranberry\")\n",
    "prices = make_array(1.2, 0.29, 3.2)\n",
    "\n",
    "fruits = Table().with_columns(\n",
    "        \"Fruit\", names,\n",
    "        \"Price\", prices\n",
    ")\n",
    "\n",
    "fruits"
   ]
  },
  {
   "cell_type": "code",
   "execution_count": null,
   "id": "5785bdef",
   "metadata": {},
   "outputs": [],
   "source": [
    "# Create a function to double a price\n",
    "\n",
    "def doublePrice(x):\n",
    "    \"\"\" Take one argument x, multiple x by 2 and return the value\"\"\"\n",
    "    newPrice = 2 * x\n",
    "    return newPrice\n",
    "\n",
    "fruits.apply(doublePrice, \"Price\")"
   ]
  },
  {
   "cell_type": "code",
   "execution_count": null,
   "id": "8db4f0c3",
   "metadata": {},
   "outputs": [],
   "source": [
    "fruits"
   ]
  },
  {
   "cell_type": "code",
   "execution_count": null,
   "id": "9b04ebcf",
   "metadata": {},
   "outputs": [],
   "source": [
    "# Create a new table to include the new price column and\n",
    "#   rename the original price column name to \"Old Price\"\n",
    "\n",
    "new_prices = fruits.with_columns(\"New Price\", fruits.apply(doublePrice, \"Price\")).relabeled(\"Price\", \"Old Price\")\n",
    "new_prices"
   ]
  },
  {
   "cell_type": "code",
   "execution_count": null,
   "id": "01366e08",
   "metadata": {},
   "outputs": [],
   "source": [
    "new_prices.group(\"Fruit\", np.average)"
   ]
  },
  {
   "cell_type": "code",
   "execution_count": null,
   "id": "bb7b10c0",
   "metadata": {},
   "outputs": [],
   "source": []
  },
  {
   "cell_type": "code",
   "execution_count": null,
   "id": "edab0c52",
   "metadata": {},
   "outputs": [],
   "source": []
  }
 ],
 "metadata": {
  "kernelspec": {
   "display_name": "Python 3 (ipykernel)",
   "language": "python",
   "name": "python3"
  },
  "language_info": {
   "codemirror_mode": {
    "name": "ipython",
    "version": 3
   },
   "file_extension": ".py",
   "mimetype": "text/x-python",
   "name": "python",
   "nbconvert_exporter": "python",
   "pygments_lexer": "ipython3",
   "version": "3.11.5"
  }
 },
 "nbformat": 4,
 "nbformat_minor": 5
}
