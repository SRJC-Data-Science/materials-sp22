{
 "cells": [
  {
   "cell_type": "markdown",
   "id": "46712aa3",
   "metadata": {},
   "source": [
    "## Lecture Notes - Functions ##\n",
    "\n",
    "**Helpful Resource:**\n",
    "- [Python Reference](http://data8.org/sp22/python-reference.html): Cheat sheet of helpful array & table methods used in Data 8!\n",
    "\n",
    "**Recommended Readings:**\n",
    "- [Functions and Tables](https://inferentialthinking.com/chapters/08/Functions_and_Tables.html)\n",
    "- [Applying a Function to a Column](https://inferentialthinking.com/chapters/08/1/Applying_a_Function_to_a_Column.html)\n",
    "- [Visualization](https://inferentialthinking.com/chapters/07/Visualization.html)"
   ]
  },
  {
   "cell_type": "code",
   "execution_count": 17,
   "id": "33e6a0f1",
   "metadata": {},
   "outputs": [],
   "source": [
    "# import modules to be used in this notebook\n",
    "\n",
    "from datascience import *\n",
    "import numpy as np\n",
    "\n",
    "%matplotlib inline\n",
    "import matplotlib.pyplot as plots\n",
    "plots.style.use('fivethirtyeight')"
   ]
  },
  {
   "cell_type": "markdown",
   "id": "f786e6af",
   "metadata": {},
   "source": [
    "## The Anatomy of a Function ## \n",
    "\n",
    "<img src=\"functions-anatomy-1.png\" style=\"width: 500px\" />\n",
    "\n",
    "A -- Signature\n",
    "\n",
    "B -- Documentation (\"docstring\")\n",
    "\n",
    "C -- Body\n",
    "\n",
    "E -- Indentation\n",
    "\n",
    "<hr>\n",
    "\n",
    "### Name, Arguments/Parameters, Statements & Return Values ###\n",
    "<img src=\"functions-anatomy-2.png\" style=\"width: 500px\" />"
   ]
  },
  {
   "cell_type": "markdown",
   "id": "f6a8b80d",
   "metadata": {},
   "source": [
    "## Functions Operations ##"
   ]
  },
  {
   "cell_type": "code",
   "execution_count": 18,
   "id": "2fea0643",
   "metadata": {},
   "outputs": [],
   "source": [
    "def double(x):\n",
    "    \"\"\" Take one argument x, multiple x by 2 and return the value\"\"\"\n",
    "    return 2*x"
   ]
  },
  {
   "cell_type": "code",
   "execution_count": 19,
   "id": "7db95d78",
   "metadata": {},
   "outputs": [],
   "source": [
    "# Documentation explain what the function does and how to use it\n",
    "\n",
    "# display the function documentation\n",
    "double?"
   ]
  },
  {
   "cell_type": "code",
   "execution_count": 20,
   "id": "2a652f38",
   "metadata": {},
   "outputs": [],
   "source": [
    "# Multiple statements in a function body\n",
    "\n",
    "def double(x):\n",
    "    \"\"\" Take one argument x, multiple x by 2 and return the value\"\"\"\n",
    "    timeTwo = 2 * x\n",
    "    return timeTwo"
   ]
  },
  {
   "cell_type": "markdown",
   "id": "13cc6193",
   "metadata": {},
   "source": [
    "### Functions are Type-Agnostic ###\n",
    "\n",
    "Functions operate on any data types based on the arguments passed into it."
   ]
  },
  {
   "cell_type": "code",
   "execution_count": 21,
   "id": "2ade9f19",
   "metadata": {},
   "outputs": [
    {
     "data": {
      "text/plain": [
       "10"
      ]
     },
     "execution_count": 21,
     "metadata": {},
     "output_type": "execute_result"
    }
   ],
   "source": [
    "# int\n",
    "\n",
    "double(5)"
   ]
  },
  {
   "cell_type": "code",
   "execution_count": 22,
   "id": "b88518f2",
   "metadata": {
    "scrolled": true
   },
   "outputs": [
    {
     "data": {
      "text/plain": [
       "'sally sally '"
      ]
     },
     "execution_count": 22,
     "metadata": {},
     "output_type": "execute_result"
    }
   ],
   "source": [
    "# string\n",
    "\n",
    "double(\"sally \")"
   ]
  },
  {
   "cell_type": "code",
   "execution_count": 23,
   "id": "87a8ef9a",
   "metadata": {},
   "outputs": [
    {
     "data": {
      "text/plain": [
       "9.4"
      ]
     },
     "execution_count": 23,
     "metadata": {},
     "output_type": "execute_result"
    }
   ],
   "source": [
    "# float\n",
    "\n",
    "double(4.7)"
   ]
  },
  {
   "cell_type": "markdown",
   "id": "2a27de54",
   "metadata": {},
   "source": [
    "### Multiple Arguments in a Function ###\n",
    "\n",
    "Functions can take more than one argument."
   ]
  },
  {
   "cell_type": "code",
   "execution_count": 24,
   "id": "1cc0a263",
   "metadata": {},
   "outputs": [],
   "source": [
    "def volumn(width, height, depth):\n",
    "    \"\"\" Take three argunment, compute and return the volumn \"\"\"\n",
    "    vol = width * height * depth\n",
    "    return vol"
   ]
  },
  {
   "cell_type": "code",
   "execution_count": 25,
   "id": "66e1dcf9",
   "metadata": {},
   "outputs": [
    {
     "data": {
      "text/plain": [
       "24"
      ]
     },
     "execution_count": 25,
     "metadata": {},
     "output_type": "execute_result"
    }
   ],
   "source": [
    "volumn(2, 3, 4)"
   ]
  },
  {
   "cell_type": "markdown",
   "id": "7b76ad54",
   "metadata": {},
   "source": [
    "### Functions operate on an array ###\n",
    "\n",
    "Functions can take an array argument and operate on each element in the array."
   ]
  },
  {
   "cell_type": "code",
   "execution_count": 26,
   "id": "1cbcee23",
   "metadata": {},
   "outputs": [
    {
     "data": {
      "text/plain": [
       "array([ 4,  8, 12])"
      ]
     },
     "execution_count": 26,
     "metadata": {},
     "output_type": "execute_result"
    }
   ],
   "source": [
    "# Take an array argument and return an array with updated values in it.\n",
    "def double(x):\n",
    "    \"\"\" Take one argument x, multiple x by 2 and return the value\"\"\"\n",
    "    return 2*x\n",
    "\n",
    "num_array = make_array(2, 4, 6)\n",
    "\n",
    "double(num_array)"
   ]
  },
  {
   "cell_type": "code",
   "execution_count": 27,
   "id": "d04e49b6",
   "metadata": {},
   "outputs": [
    {
     "data": {
      "text/plain": [
       "array([  5. ,   9.2,  13.4])"
      ]
     },
     "execution_count": 27,
     "metadata": {},
     "output_type": "execute_result"
    }
   ],
   "source": [
    "# Example to take an array of float argument\n",
    "\n",
    "double(make_array(2.5, 4.6, 6.7))"
   ]
  },
  {
   "cell_type": "code",
   "execution_count": 28,
   "id": "0f036c6d",
   "metadata": {},
   "outputs": [
    {
     "data": {
      "text/plain": [
       "array([ 28,  80, 162])"
      ]
     },
     "execution_count": 28,
     "metadata": {},
     "output_type": "execute_result"
    }
   ],
   "source": [
    "# Example to take multiple arrays and operate on each element of the arrays\n",
    "\n",
    "def volumn(width, height, depth):\n",
    "    \"\"\" Take three argunment, compute and return the volumn \"\"\"\n",
    "    vol = width * height * depth\n",
    "    return vol\n",
    "\n",
    "width = make_array(1,2,3)\n",
    "height = make_array(4,5,6)\n",
    "depth = make_array(7,8,9)\n",
    "\n",
    "volumn(width, height, depth)"
   ]
  },
  {
   "cell_type": "markdown",
   "id": "194a4d3f",
   "metadata": {},
   "source": [
    "## Functions Scope ##\n",
    "\n",
    "Names/variables that are inside a function or the function argument araa can only be seen by the function itself. It is call local scope."
   ]
  },
  {
   "cell_type": "code",
   "execution_count": 29,
   "id": "4158a0fe",
   "metadata": {},
   "outputs": [
    {
     "data": {
      "text/plain": [
       "array([ 28,  80, 162])"
      ]
     },
     "execution_count": 29,
     "metadata": {},
     "output_type": "execute_result"
    }
   ],
   "source": [
    "def volumn(f_width, f_height, f_depth):\n",
    "    \"\"\" Take three argunment, compute and return the volumn \"\"\"\n",
    "    vol = f_width * f_height * f_depth\n",
    "    return vol\n",
    "\n",
    "my_width = make_array(1,2,3)\n",
    "my_height = make_array(4,5,6)\n",
    "my_depth = make_array(7,8,9)\n",
    "\n",
    "volumn(my_width, my_height, my_depth)"
   ]
  },
  {
   "cell_type": "code",
   "execution_count": 53,
   "id": "75be4919",
   "metadata": {},
   "outputs": [
    {
     "ename": "NameError",
     "evalue": "name 'f_width' is not defined",
     "output_type": "error",
     "traceback": [
      "\u001b[0;31m---------------------------------------------------------------------------\u001b[0m",
      "\u001b[0;31mNameError\u001b[0m                                 Traceback (most recent call last)",
      "Cell \u001b[0;32mIn[53], line 2\u001b[0m\n\u001b[1;32m      1\u001b[0m \u001b[38;5;66;03m# Error: because f_width can only be accessed inside the function volumn\u001b[39;00m\n\u001b[0;32m----> 2\u001b[0m f_width\n",
      "\u001b[0;31mNameError\u001b[0m: name 'f_width' is not defined"
     ]
    }
   ],
   "source": [
    "# Error: because f_width can only be accessed inside the function volumn\n",
    "f_width"
   ]
  },
  {
   "cell_type": "markdown",
   "id": "623f8614",
   "metadata": {},
   "source": [
    "## Apply a Function to a Column in a Table ##\n",
    "\n",
    "Now we know functions can take an array argument. Functions can also be applied to a column in a table and return an array with updated values.\n"
   ]
  },
  {
   "cell_type": "code",
   "execution_count": 49,
   "id": "17d2db4d",
   "metadata": {},
   "outputs": [
    {
     "data": {
      "text/html": [
       "<table border=\"1\" class=\"dataframe\">\n",
       "    <thead>\n",
       "        <tr>\n",
       "            <th>Fruit</th> <th>Price</th>\n",
       "        </tr>\n",
       "    </thead>\n",
       "    <tbody>\n",
       "        <tr>\n",
       "            <td>apple    </td> <td>1.2  </td>\n",
       "        </tr>\n",
       "        <tr>\n",
       "            <td>banana   </td> <td>0.29 </td>\n",
       "        </tr>\n",
       "        <tr>\n",
       "            <td>cranberry</td> <td>3.2  </td>\n",
       "        </tr>\n",
       "    </tbody>\n",
       "</table>"
      ],
      "text/plain": [
       "Fruit     | Price\n",
       "apple     | 1.2\n",
       "banana    | 0.29\n",
       "cranberry | 3.2"
      ]
     },
     "execution_count": 49,
     "metadata": {},
     "output_type": "execute_result"
    }
   ],
   "source": [
    "# Create a table from scratch with arrays and columns\n",
    "\n",
    "names = make_array(\"apple\", \"banana\", \"cranberry\")\n",
    "prices = make_array(1.2, 0.29, 3.2)\n",
    "\n",
    "fruits = Table().with_columns(\n",
    "        \"Fruit\", names,\n",
    "        \"Price\", prices\n",
    ")\n",
    "\n",
    "fruits"
   ]
  },
  {
   "cell_type": "code",
   "execution_count": 50,
   "id": "5785bdef",
   "metadata": {},
   "outputs": [
    {
     "data": {
      "text/plain": [
       "array([ 2.4 ,  0.58,  6.4 ])"
      ]
     },
     "execution_count": 50,
     "metadata": {},
     "output_type": "execute_result"
    }
   ],
   "source": [
    "# Create a function to double a price\n",
    "\n",
    "def doublePrice(x):\n",
    "    \"\"\" Take one argument x, multiple x by 2 and return the value\"\"\"\n",
    "    newPrice = 2 * x\n",
    "    return newPrice\n",
    "\n",
    "fruits.apply(doublePrice, \"Price\")"
   ]
  },
  {
   "cell_type": "code",
   "execution_count": 51,
   "id": "8db4f0c3",
   "metadata": {},
   "outputs": [
    {
     "data": {
      "text/html": [
       "<table border=\"1\" class=\"dataframe\">\n",
       "    <thead>\n",
       "        <tr>\n",
       "            <th>Fruit</th> <th>Price</th>\n",
       "        </tr>\n",
       "    </thead>\n",
       "    <tbody>\n",
       "        <tr>\n",
       "            <td>apple    </td> <td>1.2  </td>\n",
       "        </tr>\n",
       "        <tr>\n",
       "            <td>banana   </td> <td>0.29 </td>\n",
       "        </tr>\n",
       "        <tr>\n",
       "            <td>cranberry</td> <td>3.2  </td>\n",
       "        </tr>\n",
       "    </tbody>\n",
       "</table>"
      ],
      "text/plain": [
       "Fruit     | Price\n",
       "apple     | 1.2\n",
       "banana    | 0.29\n",
       "cranberry | 3.2"
      ]
     },
     "execution_count": 51,
     "metadata": {},
     "output_type": "execute_result"
    }
   ],
   "source": [
    "fruits"
   ]
  },
  {
   "cell_type": "code",
   "execution_count": 52,
   "id": "9b04ebcf",
   "metadata": {},
   "outputs": [
    {
     "data": {
      "text/html": [
       "<table border=\"1\" class=\"dataframe\">\n",
       "    <thead>\n",
       "        <tr>\n",
       "            <th>Fruit</th> <th>Old Price</th> <th>New Price</th>\n",
       "        </tr>\n",
       "    </thead>\n",
       "    <tbody>\n",
       "        <tr>\n",
       "            <td>apple    </td> <td>1.2      </td> <td>2.4      </td>\n",
       "        </tr>\n",
       "        <tr>\n",
       "            <td>banana   </td> <td>0.29     </td> <td>0.58     </td>\n",
       "        </tr>\n",
       "        <tr>\n",
       "            <td>cranberry</td> <td>3.2      </td> <td>6.4      </td>\n",
       "        </tr>\n",
       "    </tbody>\n",
       "</table>"
      ],
      "text/plain": [
       "Fruit     | Old Price | New Price\n",
       "apple     | 1.2       | 2.4\n",
       "banana    | 0.29      | 0.58\n",
       "cranberry | 3.2       | 6.4"
      ]
     },
     "execution_count": 52,
     "metadata": {},
     "output_type": "execute_result"
    }
   ],
   "source": [
    "# Create a new table to include the new price column and\n",
    "#   rename the original price column name to \"Old Price\"\n",
    "\n",
    "new_prices = fruits.with_columns(\"New Price\", fruits.apply(doublePrice, \"Price\")).relabeled(\"Price\", \"Old Price\")\n",
    "new_prices"
   ]
  },
  {
   "cell_type": "code",
   "execution_count": 48,
   "id": "01366e08",
   "metadata": {},
   "outputs": [
    {
     "data": {
      "text/html": [
       "<table border=\"1\" class=\"dataframe\">\n",
       "    <thead>\n",
       "        <tr>\n",
       "            <th>Fruit</th> <th>Old Price average</th> <th>New Price average</th>\n",
       "        </tr>\n",
       "    </thead>\n",
       "    <tbody>\n",
       "        <tr>\n",
       "            <td>apple    </td> <td>1.05             </td> <td>2.1              </td>\n",
       "        </tr>\n",
       "        <tr>\n",
       "            <td>banana   </td> <td>0.245            </td> <td>0.49             </td>\n",
       "        </tr>\n",
       "        <tr>\n",
       "            <td>cranberry</td> <td>3.7              </td> <td>7.4              </td>\n",
       "        </tr>\n",
       "    </tbody>\n",
       "</table>"
      ],
      "text/plain": [
       "Fruit     | Old Price average | New Price average\n",
       "apple     | 1.05              | 2.1\n",
       "banana    | 0.245             | 0.49\n",
       "cranberry | 3.7               | 7.4"
      ]
     },
     "execution_count": 48,
     "metadata": {},
     "output_type": "execute_result"
    }
   ],
   "source": [
    "new_prices.group(\"Fruit\", np.average)"
   ]
  },
  {
   "cell_type": "code",
   "execution_count": null,
   "id": "bb7b10c0",
   "metadata": {},
   "outputs": [],
   "source": []
  },
  {
   "cell_type": "code",
   "execution_count": null,
   "id": "4a331aae",
   "metadata": {},
   "outputs": [],
   "source": []
  }
 ],
 "metadata": {
  "kernelspec": {
   "display_name": "Python 3 (ipykernel)",
   "language": "python",
   "name": "python3"
  },
  "language_info": {
   "codemirror_mode": {
    "name": "ipython",
    "version": 3
   },
   "file_extension": ".py",
   "mimetype": "text/x-python",
   "name": "python",
   "nbconvert_exporter": "python",
   "pygments_lexer": "ipython3",
   "version": "3.11.5"
  }
 },
 "nbformat": 4,
 "nbformat_minor": 5
}
