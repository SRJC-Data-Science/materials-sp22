{
 "cells": [
  {
   "cell_type": "markdown",
   "id": "4a926599",
   "metadata": {},
   "source": [
    "### Team Homework #2: Arrays and Tables\n",
    "Complete this problem set with your group (up to 4 students). You can either hand-write your work and submit a hard copy, or go to File -> Download as HTML to generate an HTML file, then either submit it online or as a hard copy. Each group only needs to submit one copy and will receive the same grade. \n"
   ]
  },
  {
   "cell_type": "markdown",
   "id": "6f95a691",
   "metadata": {},
   "source": [
    "**Helpful Resource:**\n",
    "- [Python Reference](http://data8.org/sp22/python-reference.html): Cheat sheet of helpful array & table methods used in Data 8!\n",
    "\n",
    "**Recommended Readings:**\n",
    "- [Arrays](https://inferentialthinking.com/chapters/05/1/Arrays.html)\n",
    "- [What is Data Science?](http://www.inferentialthinking.com/chapters/01/what-is-data-science.html)\n",
    "- [Causality and Experiments](http://www.inferentialthinking.com/chapters/02/causality-and-experiments.html) \n",
    "- [Programming in Python](http://www.inferentialthinking.com/chapters/03/programming-in-python.html)"
   ]
  },
  {
   "cell_type": "code",
   "execution_count": null,
   "id": "f245a356",
   "metadata": {},
   "outputs": [],
   "source": [
    "# Run this cell to set up the notebook, but please don't change it.\n",
    "\n",
    "import numpy as np\n",
    "from datascience import *\n",
    "import warnings\n",
    "warnings.simplefilter('ignore', FutureWarning)\n"
   ]
  },
  {
   "cell_type": "markdown",
   "id": "dbf0697d",
   "metadata": {},
   "source": [
    "The factorial function is defined as $n! = n(n-1)(n-2)\\cdots 1$. You can access the factorial function in the same way that you access other functions under the math module. For example, the following code evaluates $4! = 4\\cdot 3\\cdot 2 \\cdot 1 = 24$\n",
    "\n",
    "```math.factorial(4)```"
   ]
  },
  {
   "cell_type": "code",
   "execution_count": null,
   "id": "fd72cd4e",
   "metadata": {},
   "outputs": [],
   "source": []
  },
  {
   "cell_type": "markdown",
   "id": "9a83a154",
   "metadata": {},
   "source": [
    "Use the following method to compute $e$:\n",
    "\n",
    "$e = 1 + \\frac{1}{1!} +  \\frac{1}{2!} +  \\frac{1}{3!} +  \\frac{1}{4!} + \\cdots $. \n",
    "\n",
    "Round the result by using the ```math.round(x, n)``` function. How many terms must be added in order to compute e accurate within the 10th decimal place? "
   ]
  },
  {
   "cell_type": "code",
   "execution_count": null,
   "id": "c743a55a",
   "metadata": {},
   "outputs": [],
   "source": []
  },
  {
   "cell_type": "markdown",
   "id": "9b260d0f",
   "metadata": {},
   "source": [
    "The next few questions involve a table containing students taking Statistics or Data Science at SRJC this semester. "
   ]
  },
  {
   "cell_type": "code",
   "execution_count": null,
   "id": "29382ac9",
   "metadata": {},
   "outputs": [],
   "source": [
    "from datascience import *\n",
    "Table.read_table('student_data.csv')"
   ]
  },
  {
   "cell_type": "markdown",
   "id": "6a7a9e5c",
   "metadata": {},
   "source": [
    "Find how many students are included in this data set. "
   ]
  },
  {
   "cell_type": "code",
   "execution_count": null,
   "id": "d484ecdc",
   "metadata": {},
   "outputs": [],
   "source": []
  },
  {
   "cell_type": "markdown",
   "id": "212963f4",
   "metadata": {},
   "source": [
    "Answer the following questions based on the data and briefly explain your reasoning. \n",
    "\n",
    "Is it possible to find the average number of hours students spend on social network? "
   ]
  },
  {
   "cell_type": "code",
   "execution_count": null,
   "id": "ac15c4c6",
   "metadata": {},
   "outputs": [],
   "source": []
  },
  {
   "cell_type": "markdown",
   "id": "13498926",
   "metadata": {},
   "source": [
    "Is it possible to find the percentage of students who do not own any pets? "
   ]
  },
  {
   "cell_type": "code",
   "execution_count": null,
   "id": "38a53177",
   "metadata": {},
   "outputs": [],
   "source": []
  },
  {
   "cell_type": "markdown",
   "id": "0c0a1280",
   "metadata": {},
   "source": [
    "What is the meaning of ```nan``` under the column labeled “CAR\"? Why do you think such values exist in the table? "
   ]
  },
  {
   "cell_type": "code",
   "execution_count": null,
   "id": "f29af0f3",
   "metadata": {},
   "outputs": [],
   "source": []
  },
  {
   "cell_type": "markdown",
   "id": "c477304d",
   "metadata": {},
   "source": [
    "Is it possible to find the average shoe size for the whole class? "
   ]
  },
  {
   "cell_type": "code",
   "execution_count": null,
   "id": "a4dc1f99",
   "metadata": {},
   "outputs": [],
   "source": []
  },
  {
   "cell_type": "markdown",
   "id": "524aa824",
   "metadata": {},
   "source": [
    "Identify the number of male students in the table by using ```where```. "
   ]
  },
  {
   "cell_type": "code",
   "execution_count": null,
   "id": "ae9b1335",
   "metadata": {},
   "outputs": [],
   "source": []
  },
  {
   "cell_type": "markdown",
   "id": "ba0e119c",
   "metadata": {},
   "source": [
    "What is the oldest car driven by students in this data set? Answer the question by using ```sort```. "
   ]
  },
  {
   "cell_type": "code",
   "execution_count": null,
   "id": "9879cf64",
   "metadata": {},
   "outputs": [],
   "source": []
  },
  {
   "cell_type": "markdown",
   "id": "96aca122",
   "metadata": {},
   "source": [
    "Find the height of the tallest women in the class. "
   ]
  },
  {
   "cell_type": "code",
   "execution_count": null,
   "id": "786246d9",
   "metadata": {},
   "outputs": [],
   "source": []
  },
  {
   "cell_type": "markdown",
   "id": "09f81be0",
   "metadata": {},
   "source": [
    "Generate a new table containing only SEX and SOCIAL columns using ```select```. "
   ]
  },
  {
   "cell_type": "code",
   "execution_count": null,
   "id": "75e9ed5a",
   "metadata": {},
   "outputs": [],
   "source": []
  },
  {
   "cell_type": "markdown",
   "id": "fdcdad2b",
   "metadata": {},
   "source": [
    "Find the range of age of students in the data set. You can either use range = max - min, or do it by sorting. "
   ]
  },
  {
   "cell_type": "code",
   "execution_count": null,
   "id": "70d68ab6",
   "metadata": {},
   "outputs": [],
   "source": []
  },
  {
   "cell_type": "markdown",
   "id": "f1da2cfc",
   "metadata": {},
   "source": [
    "From the table you obtained in the previous step, find the counts of data within the following table by using ```where```. You may need to use multiple lines, or a single line of code. (Note: later we will learn a more efficient way of doing this.) \n",
    "\n",
    "<p>&nbsp;</p>\n",
    "<table style=\"width: 286px; height: 184px; margin-left: auto; margin-right: auto;\" border=\"1\">\n",
    "<tbody>\n",
    "<tr>\n",
    "<td style=\"width: 105.625px;\">&nbsp;</td>\n",
    "<td style=\"width: 89.8438px;\">Use Social Media&nbsp;</td>\n",
    "<td style=\"width: 89.8646px;\">Do not use Social Media&nbsp;</td>\n",
    "</tr>\n",
    "<tr>\n",
    "<td style=\"width: 105.625px;\">&nbsp;Female</td>\n",
    "<td style=\"width: 89.8438px;\">&nbsp;</td>\n",
    "<td style=\"width: 89.8646px;\">&nbsp;</td>\n",
    "</tr>\n",
    "<tr>\n",
    "<td style=\"width: 105.625px;\">Male&nbsp;</td>\n",
    "<td style=\"width: 89.8438px;\">&nbsp;</td>\n",
    "<td style=\"width: 89.8646px;\">&nbsp;</td>\n",
    "</tr>\n",
    "</tbody>\n",
    "</table>\n",
    "\n"
   ]
  },
  {
   "cell_type": "markdown",
   "id": "8dee60d2",
   "metadata": {},
   "source": [
    "# Arrays and Tables\n",
    "\n",
    "### Question 1: Make an Array with Strings\n",
    "\n",
    "Make an array called `candy_basket` for Emma's birthday party. The array `candy_basket` should contain the following items (in the given order):\n",
    "\n",
    "1. snickers\n",
    "2. peanut butter cups\n",
    "3. kit kat\n",
    "4. twix\n",
    "5. dark chocolate bar"
   ]
  },
  {
   "cell_type": "code",
   "execution_count": null,
   "id": "53ff5f57",
   "metadata": {},
   "outputs": [],
   "source": [
    "# Use Python to complete the answer to the question in this cell.\n",
    "\n",
    "candy_basket = ...\n",
    "candy_basket\n"
   ]
  },
  {
   "cell_type": "markdown",
   "id": "a4a54597",
   "metadata": {},
   "source": [
    "### Question 2: Combine Strings\n",
    "\n",
    "Strings have a method called `join`.  `join` takes one argument, an array of strings.  It returns a single string.  Specifically, the value of `a_string.join(an_array)` is a single string that's the [concatenation](https://en.wikipedia.org/wiki/Concatenation) (\"putting together\") of all the strings in `an_array`, **except** `a_string` is inserted in between each string.\n",
    "\n",
    "Use the array combine all candies in `candy_basket` into a string with a colon (` : `) as a delimiter.\n"
   ]
  },
  {
   "cell_type": "code",
   "execution_count": null,
   "id": "552e5572",
   "metadata": {},
   "outputs": [],
   "source": [
    "# Use Python to complete the answer to the question in this cell.\n",
    "\n",
    "colon_delimiter = ...\n",
    "colon_delimiter\n"
   ]
  },
  {
   "cell_type": "markdown",
   "id": "37267b81",
   "metadata": {},
   "source": [
    "### Question 3: Make an Array with Numbers\n",
    "\n",
    "Emma is going to have a lucky draw in her birthday party and making up a bunch of numbers. \n",
    "\n",
    "Make an array called `lucky_numbers` containing the following numbers (in the given order):\n",
    "\n",
    "1. 101\n",
    "2. square of 8\n",
    "3. 3.1416\n",
    "4. round up 2989.631416 to the nearest integer\n"
   ]
  },
  {
   "cell_type": "code",
   "execution_count": null,
   "id": "3583efc7",
   "metadata": {},
   "outputs": [],
   "source": [
    "# Use Python to complete the answer to the question in this cell.\n",
    "\n",
    "lucky_number = ...\n",
    "lucky_number\n"
   ]
  },
  {
   "cell_type": "markdown",
   "id": "7d43b795",
   "metadata": {},
   "source": [
    "### Question 4: Array Elements\n",
    "\n",
    "#### i. Find the value of an element in an array\n",
    "\n",
    "Make an array called `dessert_menu`. The array `dessert_menu` should contain the following items (in the given order):\n",
    "\n",
    "1. apple pie\n",
    "2. banana bread\n",
    "3. cheesecake\n",
    "4. dutch biscuit\n",
    "5. english pudding\n",
    "\n",
    "Set the `flavorite_dessert` to the 3rd element of `dessert_menu`.\n"
   ]
  },
  {
   "cell_type": "code",
   "execution_count": null,
   "id": "45f3be26",
   "metadata": {},
   "outputs": [],
   "source": [
    "# Use Python to complete the answer to the question in this cell.\n",
    "\n",
    "dessert_menu = ...\n",
    "\n",
    "flavorite_dessert = ...\n",
    "flavorite_dessert\n"
   ]
  },
  {
   "cell_type": "markdown",
   "id": "b9137ffe",
   "metadata": {},
   "source": [
    "#### ii. Add a new item to the end of an array\n",
    "\n",
    "Add a new dessert `new york cheesecake` to the end of `dessert_menu` that you created previously.\n",
    "\n",
    "*Hint: check out the Array Functions and Methods section on [Python Reference](http://data8.org/sp22/python-reference.html): Cheat sheet of helpful array & table methods used in Data 8!*"
   ]
  },
  {
   "cell_type": "code",
   "execution_count": null,
   "id": "0a7e494f",
   "metadata": {},
   "outputs": [],
   "source": [
    "# Use Python to complete the answer to the question in this cell.\n",
    "\n",
    "...\n",
    "\n",
    "\n"
   ]
  },
  {
   "cell_type": "markdown",
   "id": "dfa094e8",
   "metadata": {},
   "source": [
    "#### iii. What is the length of `dessert_menu`?"
   ]
  },
  {
   "cell_type": "code",
   "execution_count": null,
   "id": "6dbfbdb8",
   "metadata": {},
   "outputs": [],
   "source": [
    "# Use Python to complete the answer to the question in this cell.\n",
    "\n",
    "...\n",
    "\n",
    "\n"
   ]
  },
  {
   "cell_type": "markdown",
   "id": "42cbf5ac",
   "metadata": {},
   "source": [
    "#### iv. What is the last item in `dessert_menu`?"
   ]
  },
  {
   "cell_type": "code",
   "execution_count": null,
   "id": "a6d890c0",
   "metadata": {},
   "outputs": [],
   "source": [
    "# Use Python to complete the answer to the question in this cell.\n",
    "\n",
    "\n",
    "...\n",
    "\n",
    "\n"
   ]
  },
  {
   "cell_type": "markdown",
   "id": "f5f1a9c3",
   "metadata": {},
   "source": [
    "#### v. Why doesn't `dessert_menu` contain `new york cheesecake`?\n",
    "\n",
    "You have added `new york cheesecake` to the end of `dessert_meun`, but it doesn't show up in the menu.\n",
    "\n",
    "Briefly explan your answer in the cell below.\n"
   ]
  },
  {
   "cell_type": "markdown",
   "id": "8a20c72f",
   "metadata": {},
   "source": [
    "_Type your answer here, replacing this text._\n",
    "\n",
    "\n",
    "\n",
    "\n",
    "\n"
   ]
  },
  {
   "cell_type": "markdown",
   "id": "c251461b",
   "metadata": {},
   "source": [
    "### Question 5: Make a table with arrays\n",
    "\n",
    "Use Python to complete the cell below to create a table with 3 columns of `Invoice`, `Dessert` and `Quantity`.\n",
    "\n",
    "Reminder: you have already made an array of `dessert_menu`.\n",
    "\n",
    "*Hint: replace the `...` with your Python code.\n"
   ]
  },
  {
   "cell_type": "code",
   "execution_count": null,
   "id": "c437094a",
   "metadata": {},
   "outputs": [],
   "source": [
    "# Use Python to complete the answer to the question in this cell.\n",
    "\n",
    "invoice_1 = 101\n",
    "invoice_2 = 102\n",
    "invoice_3 = 103\n",
    "invoice_4 = 104\n",
    "invoice_5 = 105\n",
    "\n",
    "qty_1 = 5\n",
    "qty_2 = 10\n",
    "qty_3 = 3\n",
    "qty_4 = 16\n",
    "qty_5 = 38\n",
    "\n",
    "dessert_orders_tbl = Table().with_columns(\n",
    "    \"Invoice\", ...,\n",
    "    \"Dessert\", ...,\n",
    "    \"Quantity\", ...\n",
    ")\n",
    "\n",
    "dessert_orders_tbl"
   ]
  },
  {
   "cell_type": "markdown",
   "id": "5dd6048d",
   "metadata": {},
   "source": [
    "### Question 6: Make an Array from a Table Column\n",
    "\n",
    "#### i. Make an array called `ages_array`\n",
    "\n",
    "The cell below reads a table from `student_data.csv` and assigns it to `students_tbl`.\n",
    "\n",
    "Use Python to complete the cell below to make an array called `ages_array` from the column of `AGE` in `students_tbl`.\n",
    "\n",
    "*Hint: use tbl.column(...) method and check out the Array Functions and Methods section on [Python Reference](http://data8.org/sp22/python-reference.html): Cheat sheet of helpful array & table methods used in Data 8!*\n"
   ]
  },
  {
   "cell_type": "code",
   "execution_count": null,
   "id": "b1856439",
   "metadata": {},
   "outputs": [],
   "source": [
    "# Use Python to complete the answer to the question in this cell.\n",
    "\n",
    "students_tbl = Table.read_table('student_data.csv')\n",
    "ages_array = ...\n",
    "ages_array\n"
   ]
  },
  {
   "cell_type": "markdown",
   "id": "263c1c1a",
   "metadata": {},
   "source": [
    "#### ii. What is the eldest age in `ages_array`?"
   ]
  },
  {
   "cell_type": "code",
   "execution_count": null,
   "id": "a2a1bb8c",
   "metadata": {},
   "outputs": [],
   "source": [
    "# Use Python to complete the answer to the question in this cell.\n",
    "\n",
    "...\n",
    "\n",
    "\n"
   ]
  },
  {
   "cell_type": "markdown",
   "id": "9a3e1c43",
   "metadata": {},
   "source": [
    "#### ii. What is the youngest age in `ages_array`?"
   ]
  },
  {
   "cell_type": "code",
   "execution_count": null,
   "id": "04568839",
   "metadata": {},
   "outputs": [],
   "source": [
    "# Use Python to complete the answer to the question in this cell.\n",
    "\n",
    "...\n",
    "\n",
    "\n"
   ]
  },
  {
   "cell_type": "markdown",
   "id": "6bab27cb",
   "metadata": {},
   "source": [
    "#### ii. How many items are there in `ages_array`?"
   ]
  },
  {
   "cell_type": "code",
   "execution_count": null,
   "id": "1c2b7771",
   "metadata": {},
   "outputs": [],
   "source": [
    "# Use Python to complete the answer to the question in this cell.\n",
    "\n",
    "...\n",
    "\n",
    "\n"
   ]
  }
 ],
 "metadata": {
  "kernelspec": {
   "display_name": "Python 3 (ipykernel)",
   "language": "python",
   "name": "python3"
  },
  "language_info": {
   "codemirror_mode": {
    "name": "ipython",
    "version": 3
   },
   "file_extension": ".py",
   "mimetype": "text/x-python",
   "name": "python",
   "nbconvert_exporter": "python",
   "pygments_lexer": "ipython3",
   "version": "3.11.5"
  }
 },
 "nbformat": 4,
 "nbformat_minor": 5
}
