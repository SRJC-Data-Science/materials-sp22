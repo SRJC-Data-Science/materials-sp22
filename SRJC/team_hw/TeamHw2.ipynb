{
 "cells": [
  {
   "cell_type": "markdown",
   "id": "4a926599",
   "metadata": {},
   "source": [
    "### Team Homework #2: Tables\n",
    "Complete this problem set with your group (up to 4 students). You can either hand-write your work and submit a hard copy, or go to File -> Download as HTML to generate an HTML file, then either submit it online or as a hard copy. Each group only needs to submit one copy and will receive the same grade. \n"
   ]
  },
  {
   "cell_type": "markdown",
   "id": "dbf0697d",
   "metadata": {},
   "source": [
    "The factorial function is defined as $n! = n(n-1)(n-2)\\cdots 1$. You can access the factorial function in the same way that you access other functions under the math module. For example, the following code evaluates $4! = 4\\cdot 3\\cdot 2 \\cdot 1 = 24$\n",
    "\n",
    "```math.factorial(4)```"
   ]
  },
  {
   "cell_type": "code",
   "execution_count": null,
   "id": "fd72cd4e",
   "metadata": {},
   "outputs": [],
   "source": []
  },
  {
   "cell_type": "markdown",
   "id": "9a83a154",
   "metadata": {},
   "source": [
    "Use the following method to compute $e$:\n",
    "\n",
    "$e = 1 + \\frac{1}{1!} +  \\frac{1}{2!} +  \\frac{1}{3!} +  \\frac{1}{4!} + \\cdots $. \n",
    "\n",
    "Round the result by using the ```math.round(x, n)``` function. How many terms must be added in order to compute e accurate within the 10th decimal place? "
   ]
  },
  {
   "cell_type": "code",
   "execution_count": null,
   "id": "c743a55a",
   "metadata": {},
   "outputs": [],
   "source": []
  },
  {
   "cell_type": "markdown",
   "id": "9b260d0f",
   "metadata": {},
   "source": [
    "The next few questions involve a table containing students taking Statistics or Data Science at SRJC this semester. "
   ]
  },
  {
   "cell_type": "code",
   "execution_count": 13,
   "id": "29382ac9",
   "metadata": {},
   "outputs": [
    {
     "data": {
      "text/html": [
       "<table border=\"1\" class=\"dataframe\">\n",
       "    <thead>\n",
       "        <tr>\n",
       "            <th>SEX</th> <th>COLOR</th> <th>ZIP</th> <th>MATH</th> <th>PAPER</th> <th>CAR</th> <th>SHOE</th> <th>AGE</th> <th>HEIGHT</th> <th>PETS</th> <th>SOCIAL</th>\n",
       "        </tr>\n",
       "    </thead>\n",
       "    <tbody>\n",
       "        <tr>\n",
       "            <td>Female</td> <td>Blue  </td> <td>95403</td> <td>3   </td> <td>2    </td> <td>2018</td> <td>6.5 </td> <td>20  </td> <td>61    </td> <td>0   </td> <td>Yes   </td>\n",
       "        </tr>\n",
       "        <tr>\n",
       "            <td>Female</td> <td>Other </td> <td>95401</td> <td>2   </td> <td>5    </td> <td>2007</td> <td>6.5 </td> <td>26  </td> <td>61    </td> <td>1   </td> <td>No    </td>\n",
       "        </tr>\n",
       "        <tr>\n",
       "            <td>Female</td> <td>Green </td> <td>95492</td> <td>1   </td> <td>3    </td> <td>1994</td> <td>5.5 </td> <td>22  </td> <td>62    </td> <td>4   </td> <td>Yes   </td>\n",
       "        </tr>\n",
       "        <tr>\n",
       "            <td>Female</td> <td>Black </td> <td>95472</td> <td>3   </td> <td>3    </td> <td>nan </td> <td>8   </td> <td>19  </td> <td>62    </td> <td>2   </td> <td>Yes   </td>\n",
       "        </tr>\n",
       "        <tr>\n",
       "            <td>Female</td> <td>Purple</td> <td>95409</td> <td>2   </td> <td>2    </td> <td>1990</td> <td>7   </td> <td>19  </td> <td>63    </td> <td>3   </td> <td>Yes   </td>\n",
       "        </tr>\n",
       "        <tr>\n",
       "            <td>Female</td> <td>Orange</td> <td>95407</td> <td>4   </td> <td>3    </td> <td>2016</td> <td>8.5 </td> <td>37  </td> <td>63    </td> <td>2   </td> <td>Yes   </td>\n",
       "        </tr>\n",
       "        <tr>\n",
       "            <td>Female</td> <td>Blue  </td> <td>95401</td> <td>5   </td> <td>4    </td> <td>2003</td> <td>8   </td> <td>17  </td> <td>63    </td> <td>5   </td> <td>Yes   </td>\n",
       "        </tr>\n",
       "        <tr>\n",
       "            <td>Female</td> <td>Blue  </td> <td>94928</td> <td>3   </td> <td>3    </td> <td>2012</td> <td>7.5 </td> <td>18  </td> <td>63    </td> <td>6   </td> <td>Yes   </td>\n",
       "        </tr>\n",
       "        <tr>\n",
       "            <td>Female</td> <td>Purple</td> <td>95403</td> <td>4   </td> <td>5    </td> <td>nan </td> <td>8.5 </td> <td>36  </td> <td>63    </td> <td>0   </td> <td>No    </td>\n",
       "        </tr>\n",
       "        <tr>\n",
       "            <td>Female</td> <td>Red   </td> <td>95404</td> <td>2   </td> <td>2    </td> <td>2011</td> <td>7.5 </td> <td>20  </td> <td>64    </td> <td>7   </td> <td>Yes   </td>\n",
       "        </tr>\n",
       "    </tbody>\n",
       "</table>\n",
       "<p>... (64 rows omitted)</p>"
      ],
      "text/plain": [
       "SEX    | COLOR  | ZIP   | MATH | PAPER | CAR  | SHOE | AGE  | HEIGHT | PETS | SOCIAL\n",
       "Female | Blue   | 95403 | 3    | 2     | 2018 | 6.5  | 20   | 61     | 0    | Yes\n",
       "Female | Other  | 95401 | 2    | 5     | 2007 | 6.5  | 26   | 61     | 1    | No\n",
       "Female | Green  | 95492 | 1    | 3     | 1994 | 5.5  | 22   | 62     | 4    | Yes\n",
       "Female | Black  | 95472 | 3    | 3     | nan  | 8    | 19   | 62     | 2    | Yes\n",
       "Female | Purple | 95409 | 2    | 2     | 1990 | 7    | 19   | 63     | 3    | Yes\n",
       "Female | Orange | 95407 | 4    | 3     | 2016 | 8.5  | 37   | 63     | 2    | Yes\n",
       "Female | Blue   | 95401 | 5    | 4     | 2003 | 8    | 17   | 63     | 5    | Yes\n",
       "Female | Blue   | 94928 | 3    | 3     | 2012 | 7.5  | 18   | 63     | 6    | Yes\n",
       "Female | Purple | 95403 | 4    | 5     | nan  | 8.5  | 36   | 63     | 0    | No\n",
       "Female | Red    | 95404 | 2    | 2     | 2011 | 7.5  | 20   | 64     | 7    | Yes\n",
       "... (64 rows omitted)"
      ]
     },
     "execution_count": 13,
     "metadata": {},
     "output_type": "execute_result"
    }
   ],
   "source": [
    "from datascience import *\n",
    "Table.read_table('student_data.csv')"
   ]
  },
  {
   "cell_type": "markdown",
   "id": "6a7a9e5c",
   "metadata": {},
   "source": [
    "Find how many students are included in this data set. "
   ]
  },
  {
   "cell_type": "code",
   "execution_count": null,
   "id": "d484ecdc",
   "metadata": {},
   "outputs": [],
   "source": []
  },
  {
   "cell_type": "markdown",
   "id": "212963f4",
   "metadata": {},
   "source": [
    "Answer the following questions based on the data and briefly explain your reasoning. \n",
    "\n",
    "Is it possible to find the average number of hours students spend on social network? "
   ]
  },
  {
   "cell_type": "code",
   "execution_count": null,
   "id": "ac15c4c6",
   "metadata": {},
   "outputs": [],
   "source": []
  },
  {
   "cell_type": "markdown",
   "id": "13498926",
   "metadata": {},
   "source": [
    "Is it possible to find the percentage of students who do not own any pets? "
   ]
  },
  {
   "cell_type": "code",
   "execution_count": null,
   "id": "38a53177",
   "metadata": {},
   "outputs": [],
   "source": []
  },
  {
   "cell_type": "markdown",
   "id": "0c0a1280",
   "metadata": {},
   "source": [
    "What is the meaning of ```nan``` under the column labeled “CAR\"? Why do you think such values exist in the table? "
   ]
  },
  {
   "cell_type": "code",
   "execution_count": null,
   "id": "f29af0f3",
   "metadata": {},
   "outputs": [],
   "source": []
  },
  {
   "cell_type": "markdown",
   "id": "c477304d",
   "metadata": {},
   "source": [
    "Is it possible to find the average shoe size for the whole class? "
   ]
  },
  {
   "cell_type": "code",
   "execution_count": null,
   "id": "a4dc1f99",
   "metadata": {},
   "outputs": [],
   "source": []
  },
  {
   "cell_type": "markdown",
   "id": "524aa824",
   "metadata": {},
   "source": [
    "Identify the number of male students in the table by using ```where```. "
   ]
  },
  {
   "cell_type": "code",
   "execution_count": null,
   "id": "ae9b1335",
   "metadata": {},
   "outputs": [],
   "source": []
  },
  {
   "cell_type": "markdown",
   "id": "ba0e119c",
   "metadata": {},
   "source": [
    "What is the oldest car driven by students in this data set? Answer the question by using ```sort```. "
   ]
  },
  {
   "cell_type": "code",
   "execution_count": null,
   "id": "9879cf64",
   "metadata": {},
   "outputs": [],
   "source": []
  },
  {
   "cell_type": "markdown",
   "id": "96aca122",
   "metadata": {},
   "source": [
    "Find the height of the tallest women in the class. "
   ]
  },
  {
   "cell_type": "code",
   "execution_count": null,
   "id": "786246d9",
   "metadata": {},
   "outputs": [],
   "source": []
  },
  {
   "cell_type": "markdown",
   "id": "09f81be0",
   "metadata": {},
   "source": [
    "Generate a new table containing only SEX and SOCIAL columns using ```select```. "
   ]
  },
  {
   "cell_type": "code",
   "execution_count": null,
   "id": "75e9ed5a",
   "metadata": {},
   "outputs": [],
   "source": []
  },
  {
   "cell_type": "markdown",
   "id": "fdcdad2b",
   "metadata": {},
   "source": [
    "Find the range of age of students in the data set. You can either use range = max - min, or do it by sorting. "
   ]
  },
  {
   "cell_type": "code",
   "execution_count": null,
   "id": "70d68ab6",
   "metadata": {},
   "outputs": [],
   "source": []
  },
  {
   "cell_type": "markdown",
   "id": "f1da2cfc",
   "metadata": {},
   "source": [
    "From the table you obtained in the previous step, find the counts of data within the following table by using ```where```. You may need to use multiple lines, or a single line of code. (Note: later we will learn a more efficient way of doing this.) \n",
    "\n",
    "<p>&nbsp;</p>\n",
    "<table style=\"width: 286px; height: 184px; margin-left: auto; margin-right: auto;\" border=\"1\">\n",
    "<tbody>\n",
    "<tr>\n",
    "<td style=\"width: 105.625px;\">&nbsp;</td>\n",
    "<td style=\"width: 89.8438px;\">Use Social Media&nbsp;</td>\n",
    "<td style=\"width: 89.8646px;\">Do not use Social Media&nbsp;</td>\n",
    "</tr>\n",
    "<tr>\n",
    "<td style=\"width: 105.625px;\">&nbsp;Female</td>\n",
    "<td style=\"width: 89.8438px;\">&nbsp;</td>\n",
    "<td style=\"width: 89.8646px;\">&nbsp;</td>\n",
    "</tr>\n",
    "<tr>\n",
    "<td style=\"width: 105.625px;\">Male&nbsp;</td>\n",
    "<td style=\"width: 89.8438px;\">&nbsp;</td>\n",
    "<td style=\"width: 89.8646px;\">&nbsp;</td>\n",
    "</tr>\n",
    "</tbody>\n",
    "</table>\n",
    "\n"
   ]
  },
  {
   "cell_type": "code",
   "execution_count": null,
   "id": "eabc6c73",
   "metadata": {},
   "outputs": [],
   "source": []
  },
  {
   "cell_type": "code",
   "execution_count": null,
   "id": "0dbcdf0e",
   "metadata": {},
   "outputs": [],
   "source": []
  }
 ],
 "metadata": {
  "kernelspec": {
   "display_name": "Python 3 (ipykernel)",
   "language": "python",
   "name": "python3"
  },
  "language_info": {
   "codemirror_mode": {
    "name": "ipython",
    "version": 3
   },
   "file_extension": ".py",
   "mimetype": "text/x-python",
   "name": "python",
   "nbconvert_exporter": "python",
   "pygments_lexer": "ipython3",
   "version": "3.10.11"
  }
 },
 "nbformat": 4,
 "nbformat_minor": 5
}
