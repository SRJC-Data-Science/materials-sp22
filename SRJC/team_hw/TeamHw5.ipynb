{
 "cells": [
  {
   "cell_type": "markdown",
   "id": "df673c8c",
   "metadata": {},
   "source": [
    "# Team Homework 5: Iteration, Conditional and Simulation\n",
    "\n"
   ]
  },
  {
   "cell_type": "markdown",
   "id": "3c03c160",
   "metadata": {},
   "source": [
    "(Still need to add exercises about iteration and conditional statements.)\n",
    "\n",
    "This team problem set covers materials from Lecture 13: Conditional and Iteration and Lecture 14: Chance. "
   ]
  },
  {
   "cell_type": "code",
   "execution_count": 5,
   "id": "30e98a50",
   "metadata": {},
   "outputs": [],
   "source": [
    "# Run this cell to set up the notebook, but please don't change it.\n",
    "\n",
    "# These lines import the Numpy and Datascience modules.\n",
    "import numpy as np\n",
    "from datascience import *\n",
    "\n",
    "# These lines do some fancy plotting magic.\n",
    "import matplotlib\n",
    "%matplotlib inline\n",
    "import matplotlib.pyplot as plt\n",
    "plt.style.use('fivethirtyeight')\n",
    "\n",
    "import warnings\n",
    "warnings.simplefilter('ignore', FutureWarning)\n",
    "warnings.filterwarnings(\"ignore\")"
   ]
  },
  {
   "cell_type": "markdown",
   "id": "54eb088a",
   "metadata": {},
   "source": [
    "### Reading and Writing Conditional Statements \n",
    "\n",
    "What does the following function do? Write a sentence below describing what the function’s inputs should be and what the function does. Hint: Try to run the function on a few different inputs and see what happens!"
   ]
  },
  {
   "cell_type": "code",
   "execution_count": null,
   "id": "615354bb",
   "metadata": {},
   "outputs": [],
   "source": [
    "def mystery_function(n1, n2): \n",
    "    if n2 - n1 > 0:\n",
    "        return n2 - n1 \n",
    "    elif n2 - n1 < 0:\n",
    "        return n1 - n2 \n",
    "    else:\n",
    "        return 0"
   ]
  },
  {
   "cell_type": "code",
   "execution_count": null,
   "id": "efbd1919",
   "metadata": {},
   "outputs": [],
   "source": []
  },
  {
   "cell_type": "markdown",
   "id": "fbf16d75",
   "metadata": {},
   "source": [
    "Define a function that takes in a student’s score on a scale from 0 to 100 and assigns a letter grade based on the following grade boundaries.\n",
    "\n",
    "    Score\tLetter Grade\n",
    "    [0,60)\tF\n",
    "    [60,69)\tD\n",
    "    [70,79)\tC\n",
    "    [80,89)\tB\n",
    "    [90,100]\tA"
   ]
  },
  {
   "cell_type": "code",
   "execution_count": null,
   "id": "30768b44",
   "metadata": {},
   "outputs": [],
   "source": [
    "def compute_letter_grade(score):\n",
    "    ...\n"
   ]
  },
  {
   "cell_type": "markdown",
   "id": "42a1f0e5",
   "metadata": {},
   "source": [
    "The % operator returns the remainder if you divide by a certain number. (e.g.\n",
    "11%5=1) If a number n is odd, what will n%2 return?"
   ]
  },
  {
   "cell_type": "code",
   "execution_count": null,
   "id": "e9c8abf6",
   "metadata": {},
   "outputs": [],
   "source": []
  },
  {
   "cell_type": "markdown",
   "id": "8413197a",
   "metadata": {},
   "source": [
    "Use a combination of iteration and conditionals to complete the `count_evens` function below so that it returns the number of even numbers in the array. \n"
   ]
  },
  {
   "cell_type": "code",
   "execution_count": null,
   "id": "210f2c1b",
   "metadata": {},
   "outputs": [],
   "source": [
    "def count_evens(n_array): \n",
    "    num_evens = 0\n",
    "    for ... :\n",
    "        if  ... : \n",
    "            ...\n",
    "    return ..."
   ]
  },
  {
   "cell_type": "markdown",
   "id": "63cfdc80",
   "metadata": {},
   "source": [
    "### Simulate Coin tosses\n",
    "\n",
    "Use `np.random.choice` to simulate the tossing of two dices by defining a function that rolls the two dices $n$ times. "
   ]
  },
  {
   "cell_type": "code",
   "execution_count": 18,
   "id": "a219e4ff",
   "metadata": {},
   "outputs": [],
   "source": [
    "L = np.arange(1, 7)\n",
    "def roll_dice(n):\n",
    "    outcomes = make_array()    \n",
    "    for i in np.arange(n):\n",
    "        two_rolls = np.random.choice(L, 2)    \n",
    "        outcomes = np.append(outcomes, int(sum(two_rolls)))\n",
    "    return(outcomes)"
   ]
  },
  {
   "cell_type": "markdown",
   "id": "eed48533",
   "metadata": {},
   "source": [
    "Use your code to perform 1000 rolls of dice, and graph the histogram of the sum of two dice. You may want to use the  `Table().with_column` function to create the table first, then use the `hist` functions to create the histogram. "
   ]
  },
  {
   "cell_type": "code",
   "execution_count": 19,
   "id": "efd268e3",
   "metadata": {},
   "outputs": [
    {
     "data": {
      "image/png": "[encoded data removed]",
      "text/plain": [
       "<Figure size 600x400 with 1 Axes>"
      ]
     },
     "metadata": {},
     "output_type": "display_data"
    }
   ],
   "source": [
    "outcomes = roll_dice(10000)\n",
    "Table().with_column('sum of two dice', outcomes).hist(bins=np.arange(0.5,13))"
   ]
  },
  {
   "cell_type": "markdown",
   "id": "474140a0",
   "metadata": {},
   "source": [
    "Compute the proportion of the outcomes that are greater than 10. "
   ]
  },
  {
   "cell_type": "code",
   "execution_count": null,
   "id": "27ba3732",
   "metadata": {},
   "outputs": [],
   "source": []
  },
  {
   "cell_type": "markdown",
   "id": "597ee23b",
   "metadata": {},
   "source": [
    "If you continue to the roll the dice indefinitely, eventually how many percent of your outcomes will be greater than $10$? (you don't need to write any program for this question)"
   ]
  },
  {
   "cell_type": "code",
   "execution_count": null,
   "id": "05e58acb",
   "metadata": {},
   "outputs": [],
   "source": []
  },
  {
   "cell_type": "markdown",
   "id": "38eb486b",
   "metadata": {},
   "source": [
    "### Simulate a Game of Randomness\n",
    "\n",
    "Suppose you are playing a game with your friend by rolling two dice. In each round, if the sum of face is more than 10, your friend pays you 8 dollars, otherwise, you pay her 1 dollar. Each game lasts 100 rounds. Simulate this game 1000 times and calculate the net winning for you at the end of the game.  "
   ]
  },
  {
   "cell_type": "code",
   "execution_count": 23,
   "id": "0edca931",
   "metadata": {},
   "outputs": [
    {
     "data": {
      "text/plain": [
       "-1"
      ]
     },
     "execution_count": 23,
     "metadata": {},
     "output_type": "execute_result"
    }
   ],
   "source": [
    "def dice_game(n):\n",
    "    payout = 0\n",
    "    outcomes = roll_dice(n)\n",
    "    for i in outcomes:\n",
    "        if i > 10:\n",
    "            payout += 8\n",
    "        else:\n",
    "            payout += -1\n",
    "    return(payout)\n",
    "dice_game(10)"
   ]
  },
  {
   "cell_type": "markdown",
   "id": "6a56e402",
   "metadata": {},
   "source": [
    "Simulate 1000 games, and plot the histogram of your net winning. "
   ]
  },
  {
   "cell_type": "code",
   "execution_count": 27,
   "id": "efcc0e04",
   "metadata": {},
   "outputs": [
    {
     "data": {
      "image/png": "[encoded data removed]",
      "text/plain": [
       "<Figure size 600x400 with 1 Axes>"
      ]
     },
     "metadata": {},
     "output_type": "display_data"
    }
   ],
   "source": [
    "outcomes = make_array()\n",
    "for i in np.arange(1000):\n",
    "    x = dice_game(10)\n",
    "    outcomes = np.append(outcomes, x)\n",
    "outcome_table = Table().with_column('Game Winning', outcomes)\n",
    "outcome_table.hist()"
   ]
  },
  {
   "cell_type": "markdown",
   "id": "fb526873",
   "metadata": {},
   "source": [
    "Calculate the proportion of games in which you have a positive winning (greater than $0)"
   ]
  },
  {
   "cell_type": "code",
   "execution_count": null,
   "id": "2e7f4d26",
   "metadata": {},
   "outputs": [],
   "source": []
  }
 ],
 "metadata": {
  "kernelspec": {
   "display_name": "Python 3 (ipykernel)",
   "language": "python",
   "name": "python3"
  },
  "language_info": {
   "codemirror_mode": {
    "name": "ipython",
    "version": 3
   },
   "file_extension": ".py",
   "mimetype": "text/x-python",
   "name": "python",
   "nbconvert_exporter": "python",
   "pygments_lexer": "ipython3",
   "version": "3.10.11"
  }
 },
 "nbformat": 4,
 "nbformat_minor": 5
}
