{
 "cells": [
  {
   "cell_type": "markdown",
   "id": "df673c8c",
   "metadata": {},
   "source": [
    "# Team Homework 6: Sampling, Simulation and Randomness\n",
    "\n"
   ]
  },
  {
   "cell_type": "markdown",
   "id": "3c03c160",
   "metadata": {},
   "source": [
    "This team problem set covers materials from Lecture 15: Sampling to Lecture 16: Models"
   ]
  },
  {
   "cell_type": "code",
   "execution_count": 8,
   "id": "30e98a50",
   "metadata": {},
   "outputs": [],
   "source": [
    "# Run this cell to set up the notebook, but please don't change it.\n",
    "\n",
    "# These lines import the Numpy and Datascience modules.\n",
    "import numpy as np\n",
    "from datascience import *\n",
    "\n",
    "# These lines do some fancy plotting magic.\n",
    "import matplotlib\n",
    "%matplotlib inline\n",
    "import matplotlib.pyplot as plt\n",
    "plt.style.use('fivethirtyeight')\n",
    "\n",
    "import warnings\n",
    "warnings.simplefilter('ignore', FutureWarning)\n",
    "warnings.filterwarnings(\"ignore\")"
   ]
  },
  {
   "cell_type": "markdown",
   "id": "61aa4312",
   "metadata": {},
   "source": [
    "### Parameter and Statistic\n",
    "\n",
    "According to the US Department of Public Health  between June 7-14, 2020 439,778 Californians were tested for Covid-19 with about 4.6% testing positive. \n",
    "\n",
    "\n",
    "a)\tDescribe the sample and the population in this study.\n",
    " "
   ]
  },
  {
   "cell_type": "code",
   "execution_count": null,
   "id": "8348ca54",
   "metadata": {},
   "outputs": [],
   "source": []
  },
  {
   "cell_type": "markdown",
   "id": "52c3d506",
   "metadata": {},
   "source": [
    "b) Is the 4.6% a statistic or a parameter? Why?\n",
    "\n",
    "\n",
    "\n",
    "\n",
    "\n"
   ]
  },
  {
   "cell_type": "code",
   "execution_count": null,
   "id": "c7a862d9",
   "metadata": {},
   "outputs": [],
   "source": []
  },
  {
   "cell_type": "markdown",
   "id": "51e65f4f",
   "metadata": {},
   "source": [
    "c) Can we conclude that about 4.6% of Californians have Covid-19? (in the textbook this is called \"statistical inference\") Briefly explain why. \n"
   ]
  },
  {
   "cell_type": "code",
   "execution_count": null,
   "id": "f8ea7498",
   "metadata": {},
   "outputs": [],
   "source": []
  },
  {
   "cell_type": "markdown",
   "id": "a7412ffb",
   "metadata": {},
   "source": [
    "### Sampling Distribution\n",
    "\n",
    "A sampling distribution is shown for the proportion of US citizens over 15 years old who have never been married, using the data from the 2010 US Census and random samples of size n = 500.  \n",
    "\n",
    "<img src=\"sampling_distribution_proportion_never_married.png\" alt=\"drawing\" width=\"600\"/>\n"
   ]
  },
  {
   "cell_type": "code",
   "execution_count": null,
   "id": "97fe60c9",
   "metadata": {},
   "outputs": [],
   "source": []
  },
  {
   "cell_type": "markdown",
   "id": "8de34915",
   "metadata": {},
   "source": [
    "a) What does one dot in the dotplot represent?"
   ]
  },
  {
   "cell_type": "code",
   "execution_count": null,
   "id": "6a7ee14d",
   "metadata": {},
   "outputs": [],
   "source": []
  },
  {
   "cell_type": "markdown",
   "id": "67594b6b",
   "metadata": {},
   "source": [
    "b) Use the sampling distribution to estimate the proportion of all US citizens over 15 years old who have never been married. (Note: you are performing an inference about a parameter)"
   ]
  },
  {
   "cell_type": "code",
   "execution_count": null,
   "id": "5cc98540",
   "metadata": {},
   "outputs": [],
   "source": []
  },
  {
   "cell_type": "markdown",
   "id": "00e9861c",
   "metadata": {},
   "source": [
    "c) The following sample proportions: 0.28, 0.30, 0.36, and 0.39 are each derived from a separate sample of 500 individuals. If one of the sample is known to be biased, which one is most likely? "
   ]
  },
  {
   "cell_type": "code",
   "execution_count": null,
   "id": "ce22e2fc",
   "metadata": {},
   "outputs": [],
   "source": []
  },
  {
   "cell_type": "markdown",
   "id": "fb54090c",
   "metadata": {},
   "source": [
    "### Simulating Coin Flips\n",
    "\n",
    "Sydnie is flipping a coin. She thinks it is unfair, but is not sure. She flips\n",
    "it 10 times, and gets heads 9 times. She wants to determine whether the coin was\n",
    "actually unfair, or whether the coin was fair and her result of 9 heads in 10 flips was due\n",
    "to random chance. What is the possible model she can use to run simulations? What is the parameter of this model? "
   ]
  },
  {
   "cell_type": "code",
   "execution_count": null,
   "id": "2319eb23",
   "metadata": {},
   "outputs": [],
   "source": []
  },
  {
   "cell_type": "markdown",
   "id": "d4e701e7",
   "metadata": {},
   "source": [
    "Under this model, what is the expected number of heads in 10 flips? "
   ]
  },
  {
   "cell_type": "code",
   "execution_count": null,
   "id": "e924bf1a",
   "metadata": {},
   "outputs": [],
   "source": []
  },
  {
   "cell_type": "markdown",
   "id": "5d8c078e",
   "metadata": {},
   "source": [
    "Complete the function `flip_coin_10_times` by using the `sample_proportions` function, which takes no arguments and returns the absolute difference between the observed number of heads in 10 flips of a fair coin and the expected number of heads in 10 flips of a fair coin."
   ]
  },
  {
   "cell_type": "code",
   "execution_count": 9,
   "id": "9007937e",
   "metadata": {},
   "outputs": [],
   "source": [
    "def flip_coin_10_times():\n",
    "    probabilities = make_array(0.5, 0.5)\n",
    "    proportions = sample_proportions(10, probabilities)\n",
    "    num_heads = proportions*10\n",
    "    return abs(num_heads-5)"
   ]
  },
  {
   "cell_type": "code",
   "execution_count": null,
   "id": "58dac9e5",
   "metadata": {},
   "outputs": [],
   "source": []
  },
  {
   "cell_type": "markdown",
   "id": "16b22474",
   "metadata": {},
   "source": [
    "Rewrite `flip_coin_10_times` and use `np.random.choice` and `np.count_nonzero` this time. You are allowed to create new variables."
   ]
  },
  {
   "cell_type": "code",
   "execution_count": null,
   "id": "2ece8fdb",
   "metadata": {},
   "outputs": [],
   "source": [
    "#def flip_coin_10_times():\n",
    "#    ..."
   ]
  },
  {
   "cell_type": "markdown",
   "id": "0da4e15e",
   "metadata": {},
   "source": [
    "Complete the code below to simulate the experiment 10000 times and record the\n",
    "statistic in each of those trials in an array called `abs_differences`."
   ]
  },
  {
   "cell_type": "code",
   "execution_count": 14,
   "id": "56986176",
   "metadata": {},
   "outputs": [
    {
     "data": {
      "image/png": "[encoded data removed]",
      "text/plain": [
       "<Figure size 600x400 with 1 Axes>"
      ]
     },
     "metadata": {},
     "output_type": "display_data"
    }
   ],
   "source": [
    "abs_differences = make_array()\n",
    "for i in np.arange(10000):\n",
    "    abs_diff_one_trial = flip_coin_10_times()\n",
    "    abs_differences = np.append(abs_differences, abs_diff_one_trial)\n",
    "Table().with_column('Abs Diff in Heads', abs_differences).hist(bins=np.arange(-0.5, 6))"
   ]
  },
  {
   "cell_type": "markdown",
   "id": "b30b7b9e",
   "metadata": {},
   "source": [
    "Based on Sidney's simulation, is her result of 9 out of 10 heads a realistic outcome under the fair coin model? "
   ]
  },
  {
   "cell_type": "code",
   "execution_count": null,
   "id": "f7143593",
   "metadata": {},
   "outputs": [],
   "source": []
  },
  {
   "cell_type": "markdown",
   "id": "f8891566",
   "metadata": {},
   "source": [
    "### Swain v.s. Alabama Revisited\n",
    "\n",
    "In Lecture 16 example of Swain v.s. Alabama. If the proportions of black voters was 10%, make changes to the lecture code and repeat the sampling to simulate the sampling distribution shown in the graph \"Number of Black Men in a Panel of 100\". Show your graph to the instructor."
   ]
  },
  {
   "cell_type": "code",
   "execution_count": null,
   "id": "75c54a27",
   "metadata": {},
   "outputs": [],
   "source": []
  },
  {
   "cell_type": "code",
   "execution_count": null,
   "id": "859789ec",
   "metadata": {},
   "outputs": [],
   "source": []
  },
  {
   "cell_type": "code",
   "execution_count": 7,
   "id": "d8d253c9",
   "metadata": {},
   "outputs": [
    {
     "data": {
      "image/png": "[encoded data removed]",
      "text/plain": [
       "<Figure size 600x400 with 1 Axes>"
      ]
     },
     "metadata": {},
     "output_type": "display_data"
    }
   ],
   "source": [
    "population_proportions = make_array(.10, .90)\n",
    "def panel_proportion():\n",
    "    return sample_proportions(100, population_proportions).item(0)\n",
    "\n",
    "panels = make_array()\n",
    "for i in np.arange(10000):\n",
    "    new_panel = panel_proportion() * 100\n",
    "    panels = np.append(panels, new_panel)\n",
    "\n",
    "Table().with_column('Number of Black Men on Panel of 100', panels).hist(bins=np.arange(-0.5,40.))"
   ]
  },
  {
   "cell_type": "code",
   "execution_count": null,
   "id": "e7e9f995",
   "metadata": {},
   "outputs": [],
   "source": []
  },
  {
   "cell_type": "markdown",
   "id": "b3f7e680",
   "metadata": {},
   "source": [
    "In this new sampling disribution, is the 8/100 a realistic outcome if the jury selection process were unbiased? "
   ]
  },
  {
   "cell_type": "code",
   "execution_count": null,
   "id": "313c4660",
   "metadata": {},
   "outputs": [],
   "source": []
  },
  {
   "cell_type": "markdown",
   "id": "cd084671",
   "metadata": {},
   "source": [
    "Based on the simulation above, calculate the proportion of the statistics to the left of 8. (In the next lecture, this proportion is called the \"p-value\" of the hypothesis test)"
   ]
  },
  {
   "cell_type": "code",
   "execution_count": null,
   "id": "0b02cea3",
   "metadata": {},
   "outputs": [],
   "source": []
  },
  {
   "cell_type": "markdown",
   "id": "fbc7bcd4",
   "metadata": {},
   "source": [
    "### Three or More Categories\n",
    "\n",
    "The manufactuer of Reese's Pieces claims that 50% of the candies were Orange, and the Brown and Yellow pieces were 25% each. Selena thought these numbers were inaccurate and bought a bga of Reese's pieces and found the following: \n",
    "\n",
    "    Color    # of Pieces\n",
    "    Orange    120\n",
    "    Brown     30\n",
    "    Yellow    50\n",
    "\n",
    "What are the hypotheses were involved in this decision? Which one can you simulate under?    "
   ]
  },
  {
   "cell_type": "code",
   "execution_count": null,
   "id": "5797fdd9",
   "metadata": {},
   "outputs": [],
   "source": []
  },
  {
   "cell_type": "markdown",
   "id": "71e423bb",
   "metadata": {},
   "source": [
    "What is the statistic used to measure the distance between the simulated and observed distributions? "
   ]
  },
  {
   "cell_type": "code",
   "execution_count": null,
   "id": "270a6a9f",
   "metadata": {},
   "outputs": [],
   "source": []
  },
  {
   "cell_type": "markdown",
   "id": "23ce1e37",
   "metadata": {},
   "source": [
    "Calculate this statistic based on the information above. "
   ]
  },
  {
   "cell_type": "code",
   "execution_count": null,
   "id": "b15c4caf",
   "metadata": {},
   "outputs": [],
   "source": []
  }
 ],
 "metadata": {
  "kernelspec": {
   "display_name": "Python 3 (ipykernel)",
   "language": "python",
   "name": "python3"
  },
  "language_info": {
   "codemirror_mode": {
    "name": "ipython",
    "version": 3
   },
   "file_extension": ".py",
   "mimetype": "text/x-python",
   "name": "python",
   "nbconvert_exporter": "python",
   "pygments_lexer": "ipython3",
   "version": "3.10.11"
  }
 },
 "nbformat": 4,
 "nbformat_minor": 5
}
