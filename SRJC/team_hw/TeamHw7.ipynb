{
 "cells": [
  {
   "cell_type": "markdown",
   "id": "df673c8c",
   "metadata": {},
   "source": [
    "# Team Homework 7: Hypotheses and A/B Testing\n",
    "\n",
    "Complete this problem set with your group (up to 4 students). You can either hand-write your work and submit a hard copy, or go to File -> Download as HTML to generate an HTML file, then either submit it online or as a hard copy. Each group only needs to submit one copy and will receive the same grade. \n",
    "\n",
    "This homework covers the topics in Lecture 17: Comparing distributions, Lecture 18: Decisions and Uncertainty, Lecture 19: A/B Testing and Lecture 20: Causality\n",
    "\n",
    "**Helpful Resource:**\n",
    "- [Python Reference](http://data8.org/sp22/python-reference.html): Cheat sheet of helpful array & table methods used in Data 8!\n",
    "\n",
    "**Recommended Readings**: \n",
    "- [Testing Hypotheses](https://inferentialthinking.com/chapters/11/Testing_Hypotheses.html)\n",
    "- [p-Value](https://inferentialthinking.com/chapters/11/3/Decisions_and_Uncertainty.html)\n",
    "- [A/B Testing](https://inferentialthinking.com/chapters/12/1/AB_Testing.html)"
   ]
  },
  {
   "cell_type": "code",
   "execution_count": 2,
   "id": "8413092a",
   "metadata": {},
   "outputs": [],
   "source": [
    "from datascience import *\n",
    "import numpy as np\n",
    "\n",
    "%matplotlib inline\n",
    "import matplotlib.pyplot as plots\n",
    "plots.style.use('fivethirtyeight')"
   ]
  },
  {
   "cell_type": "markdown",
   "id": "3c03c160",
   "metadata": {},
   "source": [
    "### Null and Alternative Hypotheses\n",
    "\n",
    "All statistical tests attempt to choose between two views of the world. Specifically, the choice is between two views about how the data were generated. These two views are called hypotheses.\n",
    "\n",
    "The `null hypothesis` says that the data were generated at random under clearly specified assumptions about the randomness. From a practical perspective, the null hypothesis is a hypothesis under which you can simulate data. The `alternative hypothesis` says that some reason other than chance made the data differ from the predictions of the model in the null hypothesis.\n",
    "\n",
    "Identify the Null and Alternative hypotheses in the following scenarios. "
   ]
  },
  {
   "cell_type": "markdown",
   "id": "87c145b7",
   "metadata": {},
   "source": [
    "a) A study was conducted to see if a new Covid-19 vaccine reduces the risk of contracting the virus. Assume the risk of contracting Covid-19 without vaccine was 20% in the target population. "
   ]
  },
  {
   "cell_type": "code",
   "execution_count": null,
   "id": "075d8053",
   "metadata": {},
   "outputs": [],
   "source": [
    "\n",
    "\n"
   ]
  },
  {
   "cell_type": "markdown",
   "id": "b70845ef",
   "metadata": {},
   "source": [
    "b) During the 2010 World Cup tournament, Paul the Octopus (in a German aquarium) became famous for correctly predicting the winner in all 8 games it was asked to predict.  (Two containers of food were lowered into Paul’s tank, each with a flag of the opposing teams.  He made a selection by choosing which container to eat from. Is this evidence that Paul has psychic powers and can choose correctly more than half the time?"
   ]
  },
  {
   "cell_type": "code",
   "execution_count": null,
   "id": "d2d43fdc",
   "metadata": {},
   "outputs": [],
   "source": [
    "from IPython.display import YouTubeVideo\n",
    "YouTubeVideo(\"pc0FLC8H7D8\")"
   ]
  },
  {
   "cell_type": "code",
   "execution_count": null,
   "id": "cb7f84a6",
   "metadata": {},
   "outputs": [],
   "source": [
    "\n",
    "\n",
    "\n"
   ]
  },
  {
   "cell_type": "markdown",
   "id": "0904c5b7",
   "metadata": {},
   "source": [
    "c) In an experiment, students were given words to memorize, then were randomly assigned to either take a 90 minute nap or take a caffeine pill.  A couple hours later, they were tested on their recall ability.  We wish to test to see if the sample provides evidence that there is a difference in mean number of words people can recall depending on whether they take a nap or have some caffeine.  \n",
    "\n"
   ]
  },
  {
   "cell_type": "code",
   "execution_count": null,
   "id": "331e684b",
   "metadata": {},
   "outputs": [],
   "source": [
    "\n",
    "\n"
   ]
  },
  {
   "cell_type": "markdown",
   "id": "45e034c4",
   "metadata": {},
   "source": [
    "d) In 1980 and again in 2010, a Gallup poll asked a random sample of 1000 US citizens people “Are you in favor of the death penalty for a person convicted of murder?”.  In 1980, the proportion saying yes was 0.66.  In 2010, it was 0.64.  Does this data provide evidence that the proportion of US citizens favoring the death penalty was higher in 1980 than it was in 2010?  "
   ]
  },
  {
   "cell_type": "code",
   "execution_count": null,
   "id": "93fe041f",
   "metadata": {},
   "outputs": [],
   "source": [
    "\n",
    "\n"
   ]
  },
  {
   "cell_type": "markdown",
   "id": "69c8bbaa",
   "metadata": {},
   "source": [
    "### Total Variantion Distance\n",
    "\n",
    "A way to compare two categorical distributions is to use the Total Variation Distance (TVD), as seen from the following code:"
   ]
  },
  {
   "cell_type": "code",
   "execution_count": 3,
   "id": "792431db",
   "metadata": {},
   "outputs": [],
   "source": [
    "def tvd(dist1, dist2):\n",
    "    return sum(abs(dist1 - dist2))/2"
   ]
  },
  {
   "cell_type": "markdown",
   "id": "1f0938fb",
   "metadata": {},
   "source": [
    "Based on this definition of `tvd`, what is the Total Variation Distance between the actual outcomes and a fair die if we rolled a die 100 times, and observed the following proportions? $(0.13, 0.12, 0.18, 0.17, 0.21, 0.19)$"
   ]
  },
  {
   "cell_type": "code",
   "execution_count": null,
   "id": "afac7c00",
   "metadata": {},
   "outputs": [],
   "source": []
  },
  {
   "cell_type": "markdown",
   "id": "f9718593",
   "metadata": {},
   "source": [
    "Although the order of `dist1` and `dist2` does not matter, in the examples from lecture, typically `dist1` is simulated from `sample_proportions`, while `dist2` is the expected proportions from the categorical distribution according to the null hypothesis. The larger the value of `tvd`, the more the two distributions disagree with each other. For example, if we roll a fair 6-sided die 100 times, and repeat this experiment over and over, we can observed the histogram of the `tvd`. "
   ]
  },
  {
   "cell_type": "code",
   "execution_count": null,
   "id": "dac23353",
   "metadata": {},
   "outputs": [],
   "source": [
    "fair_die = make_array(1/6, 1/6, 1/6, 1/6, 1/6, 1/6)\n",
    "fair_results = make_array()\n",
    "for i in np.arange(10000):\n",
    "    tvd_stat = tvd(sample_proportions(100, fair_die), fair_die)\n",
    "    fair_results = np.append(fair_results, tvd_stat)\n",
    "Table().with_column('TVD', fair_results).hist()"
   ]
  },
  {
   "cell_type": "markdown",
   "id": "8a0c7fbe",
   "metadata": {},
   "source": [
    "Now consider a loaded die that makes the larger numbers more likely. This would generate a different histogram for the same test statistic. "
   ]
  },
  {
   "cell_type": "code",
   "execution_count": null,
   "id": "271ea1ad",
   "metadata": {},
   "outputs": [],
   "source": [
    "loaded_die = make_array(1/12, 1/12, 1/6, 1/6, 1/4, 1/4)\n",
    "loaded_results = make_array()\n",
    "for i in np.arange(10000):\n",
    "    tvd_stat = tvd(sample_proportions(100, loaded_die), fair_die)\n",
    "    loaded_results = np.append(loaded_results, tvd_stat)\n",
    "Table().with_columns('Fair', fair_results, 'Loaded', loaded_results).hist()"
   ]
  },
  {
   "cell_type": "markdown",
   "id": "e1f2becf",
   "metadata": {},
   "source": [
    "Much of the statistical decision making is about how to say a value from the second histogram is unlikely to come from the first one. This is quantified by the so-called `P-value`. "
   ]
  },
  {
   "cell_type": "markdown",
   "id": "fabf5e43",
   "metadata": {},
   "source": [
    "### Errors in Decisions\n",
    "\n",
    "For the scenario (a) in the problem above, discuss what wrong conclusions (decisions error) are possible. You may refer to Section 11.4 of the textbook: [Error Probabilities](https://inferentialthinking.com/chapters/11/4/Error_Probabilities.html) for a review.  |\n"
   ]
  },
  {
   "cell_type": "code",
   "execution_count": null,
   "id": "81f73c8b",
   "metadata": {},
   "outputs": [],
   "source": [
    "from datascience import *\n",
    "Table.read_table('decision_errors.csv')"
   ]
  },
  {
   "cell_type": "code",
   "execution_count": null,
   "id": "01f6e075",
   "metadata": {},
   "outputs": [],
   "source": [
    "\n",
    "\n",
    "\n",
    "\n"
   ]
  },
  {
   "cell_type": "markdown",
   "id": "76b0933f",
   "metadata": {},
   "source": [
    "### Simulating p-value\n",
    "\n",
    "According to Lecture 17: comparing distributions, in the story of Paul the Octopus mentioned above, what is an appropriate statistic for measuring the discrepancy between the model and data? (Hint: you can also check the code below)"
   ]
  },
  {
   "cell_type": "code",
   "execution_count": null,
   "id": "885c96ab",
   "metadata": {},
   "outputs": [],
   "source": [
    "\n",
    "\n"
   ]
  },
  {
   "cell_type": "markdown",
   "id": "a9ad005d",
   "metadata": {},
   "source": [
    "The following code simulates how one picks the winner by flipping a fair coin. Run the code and use it to estimate the P-value for Paul Octopus' sample statistic. "
   ]
  },
  {
   "cell_type": "code",
   "execution_count": null,
   "id": "210397c2",
   "metadata": {},
   "outputs": [],
   "source": [
    "import numpy as np\n",
    "from datascience import *\n",
    "# These lines do some fancy plotting magic.\n",
    "import matplotlib\n",
    "%matplotlib inline\n",
    "import matplotlib.pyplot as plt\n",
    "plt.style.use('fivethirtyeight')\n",
    "\n",
    "guess = make_array('winner', 'loser')\n",
    "def one_octopus():\n",
    "    eight_guesses = np.random.choice(guess, 8)\n",
    "    return np.count_nonzero(eight_guesses == 'winner') / 8\n",
    "many_octopi = make_array()\n",
    "for i in np.arange(1000):\n",
    "    many_octopi = np.append(many_octopi, one_octopus())\n",
    "    \n",
    "results = Table().with_columns('Success', many_octopi)\n",
    "results.hist(bins=np.arange(-0.125, 1.125, 0.125))"
   ]
  },
  {
   "cell_type": "markdown",
   "id": "ea274716",
   "metadata": {},
   "source": [
    "Suppose a different and less psychically powerful octopus named \"Polly\" only got 6 correct out of 8.  Will the p-value be more than or less than the p-value for Paul the Octopus? Estimate this new p-value using the same sampling distribution shown above. (Note: you do not need to run the code again)"
   ]
  },
  {
   "cell_type": "code",
   "execution_count": null,
   "id": "df138f18",
   "metadata": {},
   "outputs": [],
   "source": []
  },
  {
   "cell_type": "markdown",
   "id": "e16d2252",
   "metadata": {},
   "source": [
    "Suppose the 5% cutoff for the p-value is used to decide whether Paul and Polly are psychic. What should the decisions be? "
   ]
  },
  {
   "cell_type": "code",
   "execution_count": null,
   "id": "c5fe041e",
   "metadata": {},
   "outputs": [],
   "source": []
  },
  {
   "cell_type": "markdown",
   "id": "4ceed32d",
   "metadata": {},
   "source": [
    "### Finding P-value in A/B Testing\n",
    "\n",
    "In the experiment (c) mentioned above, the test statistic was set to be the difference in the mean number of words recalled by people who take a nap ($\\bar{x}_1$) and the ones by those who took a caffeine pill ($\\bar{x}_2$). Similar to the example used in the A/B testing lecture, here the null hypothesis assumes that the two groups have the same population mean. \n",
    "\n",
    "<img src=\"two_means_diff_1000samples.GIF\" alt=\"drawing\" width=\"600\"/>\n"
   ]
  },
  {
   "cell_type": "markdown",
   "id": "366335c5",
   "metadata": {},
   "source": [
    "What is the P-value if the observed difference in the original sample is 3.5 words? "
   ]
  },
  {
   "cell_type": "code",
   "execution_count": null,
   "id": "14422597",
   "metadata": {},
   "outputs": [],
   "source": [
    "\n",
    "\n"
   ]
  },
  {
   "cell_type": "markdown",
   "id": "8cdb1fc1",
   "metadata": {},
   "source": [
    "What is the P-value if the observed difference in the original sample is 3.0 words? "
   ]
  },
  {
   "cell_type": "code",
   "execution_count": null,
   "id": "6570b96d",
   "metadata": {},
   "outputs": [],
   "source": [
    "\n",
    "\n"
   ]
  },
  {
   "cell_type": "markdown",
   "id": "54b97954",
   "metadata": {},
   "source": [
    "### Shuffling Labels for Categorical Data: Comparing Two Proportions\n",
    "\n",
    "The following data records an experiment on whether Lithium was effective in preventing cocaine users from relapsing. In the column labeled \"Result\", 1 represents relapse (returning to cocaine use), and 0 presents no relapse. "
   ]
  },
  {
   "cell_type": "code",
   "execution_count": null,
   "id": "5f2cecdd",
   "metadata": {},
   "outputs": [],
   "source": [
    "coke = Table().read_table('cocaine_lithium.csv')\n",
    "coke.pivot('Result', 'Group')"
   ]
  },
  {
   "cell_type": "markdown",
   "id": "b20be0fc",
   "metadata": {},
   "source": [
    "In the lecture, the following `distance` function was used to calculate the absolute value of the difference in proportions of relapses between the two groups. Based on values shown in the pivot table shown above, can you write an arithmetic expression that generates the same output as the `distance` function? "
   ]
  },
  {
   "cell_type": "code",
   "execution_count": null,
   "id": "16f0f091",
   "metadata": {},
   "outputs": [],
   "source": [
    "def distance(table, group_label):\n",
    "    reduced = table.select('Result', group_label)\n",
    "    proportions = reduced.group(group_label, np.average).column(1)\n",
    "    print(proportions)\n",
    "    return abs(proportions.item(1) - proportions.item(0))\n",
    "\n",
    "distance(coke, 'Group')"
   ]
  },
  {
   "cell_type": "code",
   "execution_count": null,
   "id": "9833f5b8",
   "metadata": {},
   "outputs": [],
   "source": [
    "# your expression that uses the values in the pivot table to generate the same number as above\n",
    "\n",
    "\n"
   ]
  },
  {
   "cell_type": "markdown",
   "id": "d68b749e",
   "metadata": {},
   "source": [
    "The code below uses a similar technique as in Lecture 20: Causality to determine to shuffle the labels under \"Group\" to produce another sample under the null hypothesis (Lithium and Placebo has the same rate of relapse). Run the code a few times and describe what happens after each shuffle. "
   ]
  },
  {
   "cell_type": "code",
   "execution_count": null,
   "id": "c90b6018",
   "metadata": {},
   "outputs": [],
   "source": [
    "def one_shuffle(table):\n",
    "    shuffled_labels = table.sample(with_replacement = False).column('Group')\n",
    "    shuffled_table = table.select('Group', 'Result').with_column(\n",
    "        'Shuffled', shuffled_labels)\n",
    "    return shuffled_table\n",
    "\n",
    "coke_shuffled = one_shuffle(coke)\n",
    "coke_shuffled.pivot('Result','Shuffled')"
   ]
  },
  {
   "cell_type": "code",
   "execution_count": null,
   "id": "f5d093b9",
   "metadata": {},
   "outputs": [],
   "source": [
    "\n",
    "\n",
    "\n",
    "\n"
   ]
  },
  {
   "cell_type": "markdown",
   "id": "083c7872",
   "metadata": {},
   "source": [
    "Now run the `distance` function again on the shuffled list, and verify that your expression above again produces the same output. "
   ]
  },
  {
   "cell_type": "code",
   "execution_count": null,
   "id": "116226fb",
   "metadata": {},
   "outputs": [],
   "source": [
    "def distance(table, group_label):\n",
    "    reduced = table.select('Result', group_label)\n",
    "    proportions = reduced.group(group_label, np.average).column(1)\n",
    "    return abs(proportions.item(1) - proportions.item(0))\n",
    "\n",
    "distance(coke_shuffled, 'Shuffled')"
   ]
  },
  {
   "cell_type": "code",
   "execution_count": 2,
   "id": "38f458bb",
   "metadata": {},
   "outputs": [],
   "source": [
    "# test your expression here to see if it results in the same value \n"
   ]
  },
  {
   "cell_type": "markdown",
   "id": "4493ce92",
   "metadata": {},
   "source": [
    "Here we will proceed to simulate 1000 values of the test statistic based on the `distance` function defined above. "
   ]
  },
  {
   "cell_type": "code",
   "execution_count": null,
   "id": "ade35cb1",
   "metadata": {},
   "outputs": [],
   "source": [
    "stats = make_array()\n",
    "\n",
    "for i in np.arange(1000):\n",
    "    stats = np.append(stats, distance(one_shuffle(coke), 'Shuffled'))\n",
    "\n",
    "Table().with_column('Test statistic', stats).hist()"
   ]
  },
  {
   "cell_type": "markdown",
   "id": "a20d89ce",
   "metadata": {},
   "source": [
    "Idenfify on the graph which areas correspond to the p-value. Then write a single line of code the evaluates this p-value. "
   ]
  },
  {
   "cell_type": "code",
   "execution_count": null,
   "id": "66e1003e",
   "metadata": {},
   "outputs": [],
   "source": []
  },
  {
   "cell_type": "markdown",
   "id": "10ff63b5",
   "metadata": {},
   "source": [
    "What should be the conclusion of this test? If you were a doctor, would you recommend the Lithium treatment to your patients? "
   ]
  },
  {
   "cell_type": "code",
   "execution_count": null,
   "id": "25fc70ef",
   "metadata": {},
   "outputs": [],
   "source": [
    "\n",
    "\n"
   ]
  }
 ],
 "metadata": {
  "kernelspec": {
   "display_name": "Python 3 (ipykernel)",
   "language": "python",
   "name": "python3"
  },
  "language_info": {
   "codemirror_mode": {
    "name": "ipython",
    "version": 3
   },
   "file_extension": ".py",
   "mimetype": "text/x-python",
   "name": "python",
   "nbconvert_exporter": "python",
   "pygments_lexer": "ipython3",
   "version": "3.12.3"
  }
 },
 "nbformat": 4,
 "nbformat_minor": 5
}
