{
 "cells": [
  {
   "cell_type": "markdown",
   "id": "4a926599",
   "metadata": {},
   "source": [
    "# Team Homework 4: Functions, Tables and Groups\n",
    "\n",
    "Complete this problem set with your group (up to 4 students). You can either hand-write your work and submit a hard copy, or go to File -> Download as HTML to generate an HTML file, then either submit it online or as a hard copy. Each group only needs to submit one copy and will receive the same grade.\n",
    "\n",
    "This team problem set covers materials from Lecture 9: Functions, Lecture 10: Groups and Lecture 11: Pivots and Joins.\n"
   ]
  },
  {
   "cell_type": "markdown",
   "id": "ff6613cf",
   "metadata": {},
   "source": [
    "**Helpful Resource:**\n",
    "- [Python Reference](http://data8.org/sp22/python-reference.html): Cheat sheet of helpful array & table methods used in Data 8!\n",
    "\n",
    "**Recommended Readings**: \n",
    "\n",
    "* [Visualizing Numerical Distributions](https://www.inferentialthinking.com/chapters/07/2/Visualizing_Numerical_Distributions.html)\n",
    "* [Functions and Tables](https://www.inferentialthinking.com/chapters/08/Functions_and_Tables.html)"
   ]
  },
  {
   "cell_type": "code",
   "execution_count": 1,
   "id": "fc0455c1",
   "metadata": {},
   "outputs": [],
   "source": [
    "# Run this cell to set up the notebook, but please don't change it.\n",
    "# These lines import the Numpy and Datascience modules.\n",
    "import numpy as np\n",
    "from datascience import *\n",
    "\n",
    "# These lines do some fancy plotting magic.\n",
    "import matplotlib\n",
    "%matplotlib inline\n",
    "import matplotlib.pyplot as plt\n",
    "plt.style.use('fivethirtyeight')\n",
    "\n",
    "import warnings\n",
    "warnings.simplefilter('ignore', FutureWarning)\n",
    "warnings.filterwarnings(\"ignore\")"
   ]
  },
  {
   "cell_type": "markdown",
   "id": "a7fe2a09",
   "metadata": {},
   "source": [
    "# Student Data\n",
    "\n",
    "In a statistics class, Emma collected a dataset of students in Santa Rose. She knows you've been learning data science and asks you to help her understand the data. She has a list of quesions for you.\n",
    "\n",
    "First you need to run the next cell to read in the data files and display them in a table format.\n",
    "\n",
    "The first file to read in a table is called `student_data.csv` which has one row per student and the following columns:\n",
    "\n",
    "- SEX: student's gender\n",
    "- COLOR: student's flavor color\n",
    "- ZIP: zip code of student's residential address\n",
    "- MATH: number of math assignments submitted\n",
    "- PAPER: number of paper submitted for a writing class\n",
    "- CAR: year of the car that the student drives\n",
    "- SHOE: student's shose size\n",
    "- AGE: years of age\n",
    "- HEIGHT: student's height\n",
    "- PETS: number of pets that the student keeps\n",
    "- SOCIAL: whethe the student is active on social media\n",
    "\n",
    "The second file to read in a table is called `color_ratings.csv` which has one row per rating and the following column:\n",
    "\n",
    "- COLOR\n",
    "- POPULAR: rating of the color"
   ]
  },
  {
   "cell_type": "code",
   "execution_count": null,
   "id": "110f2984",
   "metadata": {
    "scrolled": true
   },
   "outputs": [],
   "source": [
    "# Run this cell read and show the tables\n",
    "\n",
    "students = Table.read_table('student_data.csv')\n",
    "color_ratings = Table.read_table('color_ratings.csv')\n",
    "students.show(3)\n",
    "color_ratings.show(3)\n"
   ]
  },
  {
   "cell_type": "markdown",
   "id": "cd4a21b0",
   "metadata": {},
   "source": [
    "## Question 1\n",
    "\n",
    "Emma wants to use one table called `students_tbl` that contains the data of the two tables `students` and `color_ratings`, so she dosen't need to look over the data back and forth in two different tables.\n",
    "\n",
    "Use Python to complete the next cell to combine `students` and `color_ratings` into one table `students_tbl`."
   ]
  },
  {
   "cell_type": "code",
   "execution_count": null,
   "id": "9e9fb169",
   "metadata": {},
   "outputs": [],
   "source": [
    "students_tbl = ...\n",
    "\n",
    "students_tbl.show()"
   ]
  },
  {
   "cell_type": "markdown",
   "id": "9b260d0f",
   "metadata": {},
   "source": [
    "## Question 2 \n",
    "\n",
    "Emma looks at `students_tbl` and wonders how the heights affect the shoe sizes. \n",
    "\n",
    "To help Emma visualizes the relationship of students' heights and shoe, you need to plot a graph to present your findings.\n",
    "\n",
    "Use Python to complete the next cell to plot a graph to present your findings."
   ]
  },
  {
   "cell_type": "code",
   "execution_count": null,
   "id": "29382ac9",
   "metadata": {},
   "outputs": [],
   "source": [
    "height_and_shoe = ...\n",
    "\n",
    "...\n"
   ]
  },
  {
   "cell_type": "markdown",
   "id": "6a7a9e5c",
   "metadata": {},
   "source": [
    "## Question 3\n",
    "\n",
    "Looking at the graph you just made in last question, what pattern(s) do  you notice? \n",
    "\n",
    "Describe them **briefly** in the cell below."
   ]
  },
  {
   "cell_type": "markdown",
   "id": "93c0939d",
   "metadata": {},
   "source": [
    "_Type your answer here_\n",
    "\n",
    "\n",
    "\n",
    "\n"
   ]
  },
  {
   "cell_type": "markdown",
   "id": "212963f4",
   "metadata": {},
   "source": [
    "## Question 4\n",
    "\n",
    "Emma wants to further visualize the relationship between heights and shoe sizes of female students.\n",
    "\n",
    "You need do visualization on the data.\n",
    "\n",
    "Use Python to complete the next cell to visualize the data of height and shoe size of female students.\n"
   ]
  },
  {
   "cell_type": "code",
   "execution_count": null,
   "id": "ac15c4c6",
   "metadata": {},
   "outputs": [],
   "source": [
    "height_and_shoe_female = ...\n",
    "\n",
    "...\n",
    "\n"
   ]
  },
  {
   "cell_type": "markdown",
   "id": "13498926",
   "metadata": {},
   "source": [
    "## Question 5\n",
    "\n",
    "What pattern do you recognize from the plot you just made in last question?  \n",
    "\n",
    "Describe them **briefly** in the cell below."
   ]
  },
  {
   "cell_type": "markdown",
   "id": "e1801a0a",
   "metadata": {},
   "source": [
    "_Type your answer here_\n",
    "\n",
    "\n",
    "\n"
   ]
  },
  {
   "cell_type": "markdown",
   "id": "9b65c0ef",
   "metadata": {},
   "source": [
    "## Question 6\n",
    "\n",
    "Emma is now interested in finding out the average shoe sizes of female students and the average shoe sizes of male students.\n",
    "\n",
    "You need to calculate the average shoe sizes by SEX column. To do that, you may make use of `numpy` by adding `import numpy as np`.\n",
    "\n",
    "Use Python to complete the next cell to compute the average shoe sizes of female students and the average shoe sizes of male students.\n",
    "\n",
    "*Hint: Use group method*\n"
   ]
  },
  {
   "cell_type": "code",
   "execution_count": null,
   "id": "3fa27231",
   "metadata": {},
   "outputs": [],
   "source": [
    "import numpy as np\n",
    "\n",
    "shoe_size_avg_grouped_by_sex = ...\n",
    "...\n",
    "\n",
    "\n"
   ]
  },
  {
   "cell_type": "markdown",
   "id": "0c0a1280",
   "metadata": {},
   "source": [
    "## Question 7\n",
    "\n",
    "Similar to the last question, Emma wants to find out the average ages in each zip, and then to find out the zip code that contains the youngest average age.\n",
    "\n",
    "Use Python to complete the next cell to find out the average ages in each zip and the zip code has the youngest average age.\n",
    "\n",
    "*Hint: Use group and sort methods*\n"
   ]
  },
  {
   "cell_type": "code",
   "execution_count": null,
   "id": "90697751",
   "metadata": {},
   "outputs": [],
   "source": [
    "import numpy as np\n",
    "\n",
    "avg_age_grouped_by_zip = ...\n",
    "\n",
    "\n",
    "zip_with_youngest_avg_age = ...\n",
    "zip_with_youngest_avg_age"
   ]
  },
  {
   "cell_type": "markdown",
   "id": "c477304d",
   "metadata": {},
   "source": [
    "## Question 8\n",
    "\n",
    "Plot a histogram to visualize the ages distribution of the students in the students table (`stuedent_tbl`). Also use the provided bins variable when making your histogram, so that the histogram is more visually informative."
   ]
  },
  {
   "cell_type": "code",
   "execution_count": null,
   "id": "ce97a9f8",
   "metadata": {},
   "outputs": [],
   "source": [
    "# Please also use the provided bins\n",
    "bins = np.arange(10, 50, 1)\n",
    "...\n",
    "\n"
   ]
  },
  {
   "cell_type": "markdown",
   "id": "524aa824",
   "metadata": {},
   "source": [
    "## Question 9\n",
    "\n",
    "What percentage of students are younger than 20 years old. Assign your answer to `percentage_ages_younger_than_20`, which should be between 0 and 100.\n",
    "\n",
    "You should only use the histogram you created in the last question to answer this question. \n",
    "\n",
    "Do not use code on the table to find the answer, just eyeball the heights and use Python to evaluate your arithmetic!\n",
    "\n",
    "*Note*: Your answer does not have to be exact, but it should be within a couple percentages of the right answer.\n"
   ]
  },
  {
   "cell_type": "code",
   "execution_count": null,
   "id": "ae9b1335",
   "metadata": {},
   "outputs": [],
   "source": [
    "percentage_ages_younger_than_20 = ...\n",
    "\n",
    "\n",
    "percentage_ages_younger_than_20"
   ]
  },
  {
   "cell_type": "markdown",
   "id": "ba0e119c",
   "metadata": {},
   "source": [
    "## Question 10\n",
    "\n",
    "Set `student_age_ranges` to a table containing zips as the rows, and the sexes (female and male) as the columns. The values in the rows should correspond to a age range, where range is defined as the difference between the oldest age and the youngest age in the zip for that sex (female or male).\n",
    "\n",
    "*Hint 1: First you'll need to define a new function called `age_range` which takes in an array of ages and returns the range of ages in that array.*\n",
    "\n",
    "*Hint 2: Use pivot method*"
   ]
  },
  {
   "cell_type": "code",
   "execution_count": null,
   "id": "e4bcf9a1",
   "metadata": {
    "scrolled": true
   },
   "outputs": [],
   "source": [
    "# Define age_range first\n",
    "...\n",
    "    ...\n",
    "\n",
    "    \n",
    "    \n",
    "student_age_ranges = ...\n",
    "student_age_ranges.show()\n"
   ]
  },
  {
   "cell_type": "markdown",
   "id": "96aca122",
   "metadata": {},
   "source": [
    "## Question 11\n",
    "\n",
    "Give an explanation as to why some of the row values are `0` in the `age_ranges` table from the last question."
   ]
  },
  {
   "cell_type": "code",
   "execution_count": null,
   "id": "c38b82a7",
   "metadata": {},
   "outputs": [],
   "source": [
    "_Type your answer here_\n",
    "\n",
    "\n",
    "\n"
   ]
  },
  {
   "cell_type": "markdown",
   "id": "89192661",
   "metadata": {},
   "source": [
    "## Question 11\n",
    "\n",
    "Find the number of zips appearing in the `students_tbl` table that have an average age of greater than 21 years old; assign this value to the variable `num_over_21_years`.\n",
    "\n",
    "Use Python to complete the next cell to answer the question.\n",
    "\n",
    "*Hint: The variable names provided are meant to help guide the intermediate steps and general thought process. Feel free to delete them if you'd prefer to start from scratch, but make sure your final answer is assigned to `num_over_21_years`!*\n"
   ]
  },
  {
   "cell_type": "code",
   "execution_count": null,
   "id": "a5181c8d",
   "metadata": {},
   "outputs": [],
   "source": [
    "zips_and_ages = ...\n",
    "\n",
    "avg_ages_by_zips = ...\n",
    "\n",
    "num_over_21_years = ...\n",
    "num_over_21_years"
   ]
  },
  {
   "cell_type": "markdown",
   "id": "7e9a9f36",
   "metadata": {},
   "source": [
    "## Question 12\n",
    "\n",
    "Continue from the last question, in the next cell, use Python to display a table that contains a column of zip codes and a column of average ages where average ages are older than 23."
   ]
  },
  {
   "cell_type": "code",
   "execution_count": null,
   "id": "763b936a",
   "metadata": {},
   "outputs": [],
   "source": [
    "# Use Python to answer the last question.\n",
    "\n",
    "\n",
    "\n"
   ]
  }
 ],
 "metadata": {
  "kernelspec": {
   "display_name": "Python 3 (ipykernel)",
   "language": "python",
   "name": "python3"
  },
  "language_info": {
   "codemirror_mode": {
    "name": "ipython",
    "version": 3
   },
   "file_extension": ".py",
   "mimetype": "text/x-python",
   "name": "python",
   "nbconvert_exporter": "python",
   "pygments_lexer": "ipython3",
   "version": "3.11.5"
  }
 },
 "nbformat": 4,
 "nbformat_minor": 5
}
