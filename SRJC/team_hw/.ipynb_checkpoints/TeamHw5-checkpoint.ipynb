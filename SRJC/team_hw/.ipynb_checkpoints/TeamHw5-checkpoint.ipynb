{
 "cells": [
  {
   "cell_type": "markdown",
   "id": "4a926599",
   "metadata": {},
   "source": [
    "# Team Homework 5: Iteration, Conditional and Simulation\n",
    "\n",
    "Complete this problem set with your group (up to 4 students). You can either hand-write your work and submit a hard copy, or go to File -> Download as HTML to generate an HTML file, then either submit it online or as a hard copy. Each group only needs to submit one copy and will receive the same grade. \n",
    "\n",
    "This team problem set covers materials from Lecture 13: Conditional and Iteration and Lecture 14: Chance.\n"
   ]
  },
  {
   "cell_type": "markdown",
   "id": "ff6613cf",
   "metadata": {},
   "source": [
    "**Helpful Resource:**\n",
    "- [Python Reference](http://data8.org/sp22/python-reference.html): Cheat sheet of helpful array & table methods used in Data 8!\n",
    "\n",
    "**Recommended Readings**: \n",
    "\n",
    "* [Tabular Thinking Guide](https://drive.google.com/file/d/13HaWu4rrjeowEOs6S_vaQGM3GremzXQ3/view?usp=sharing)\n",
    "* [Applying Functions](https://www.inferentialthinking.com/chapters/08/1/Applying_a_Function_to_a_Column.html)\n",
    "* [Conditionals](https://www.inferentialthinking.com/chapters/09/1/Conditional_Statements.html)\n",
    "* [Iteration](https://www.inferentialthinking.com/chapters/09/2/Iteration.html)"
   ]
  },
  {
   "cell_type": "code",
   "execution_count": 1,
   "id": "fc0455c1",
   "metadata": {},
   "outputs": [],
   "source": [
    "# Run this cell to set up the notebook, but please don't change it.\n",
    "\n",
    "# These lines import the Numpy and Datascience modules.\n",
    "import numpy as np\n",
    "from datascience import *\n",
    "\n",
    "# These lines do some fancy plotting magic.\n",
    "import matplotlib\n",
    "%matplotlib inline\n",
    "import matplotlib.pyplot as plt\n",
    "plt.style.use('fivethirtyeight')\n",
    "\n",
    "import warnings\n",
    "warnings.simplefilter('ignore', FutureWarning)\n",
    "warnings.filterwarnings(\"ignore\")"
   ]
  },
  {
   "cell_type": "markdown",
   "id": "3edf6306",
   "metadata": {},
   "source": [
    "### Reading and Writing Conditional Statements \n",
    "\n",
    "What does the following function do? Write a sentence below describing what the function’s inputs should be and what the function does. Hint: Try to run the function on a few different inputs and see what happens!"
   ]
  },
  {
   "cell_type": "code",
   "execution_count": null,
   "id": "e7d5c8a5",
   "metadata": {},
   "outputs": [],
   "source": [
    "def mystery_function(n1, n2): \n",
    "    if n2 - n1 > 0:\n",
    "        return n2 - n1 \n",
    "    elif n2 - n1 < 0:\n",
    "        return n1 - n2 \n",
    "    else:\n",
    "        return 0"
   ]
  },
  {
   "cell_type": "code",
   "execution_count": null,
   "id": "69dd9c5e",
   "metadata": {},
   "outputs": [],
   "source": []
  },
  {
   "cell_type": "markdown",
   "id": "ade4db52",
   "metadata": {},
   "source": [
    "Define a function that takes in a student’s score on a scale from 0 to 100 and assigns a letter grade based on the following grade boundaries.\n",
    "\n",
    "    Score\tLetter Grade\n",
    "    [0,60)\t    F\n",
    "    [60,69)\t    D\n",
    "    [70,79)\t    C\n",
    "    [80,89)\t    B\n",
    "    [90,100]    A"
   ]
  },
  {
   "cell_type": "code",
   "execution_count": null,
   "id": "3d9fc103",
   "metadata": {},
   "outputs": [],
   "source": [
    "def compute_letter_grade(score):\n",
    "    ...\n"
   ]
  },
  {
   "cell_type": "markdown",
   "id": "01f6c106",
   "metadata": {},
   "source": [
    "The % operator returns the remainder if you divide by a certain number. (e.g. 11%5=1) If a number n is odd, what will n%2 return?"
   ]
  },
  {
   "cell_type": "code",
   "execution_count": null,
   "id": "b394fd71",
   "metadata": {},
   "outputs": [],
   "source": []
  },
  {
   "cell_type": "markdown",
   "id": "28e6506e",
   "metadata": {},
   "source": [
    "Use a combination of iteration and conditionals to complete the `count_evens` function below so that it returns the number of even numbers in the array. \n"
   ]
  },
  {
   "cell_type": "code",
   "execution_count": null,
   "id": "8f7413df",
   "metadata": {},
   "outputs": [],
   "source": [
    "def count_evens(n_array): \n",
    "    num_evens = 0\n",
    "    for ... :\n",
    "        if  ... : \n",
    "            ...\n",
    "    return ..."
   ]
  },
  {
   "cell_type": "markdown",
   "id": "ad31ac50",
   "metadata": {},
   "source": [
    "### Simulate Coin tosses\n",
    "\n",
    "Use `np.random.choice` to simulate the tossing of two dices by defining a function that rolls the two dices $n$ times. "
   ]
  },
  {
   "cell_type": "code",
   "execution_count": 2,
   "id": "13eeabb6",
   "metadata": {},
   "outputs": [],
   "source": [
    "L = np.arange(1, 7)\n",
    "def roll_dice(n):\n",
    "    outcomes = make_array()    \n",
    "    for i in np.arange(n):\n",
    "        two_rolls = np.random.choice(L, 2)    \n",
    "        outcomes = np.append(outcomes, int(sum(two_rolls)))\n",
    "    return(outcomes)"
   ]
  },
  {
   "cell_type": "markdown",
   "id": "b8b41c3a",
   "metadata": {},
   "source": [
    "Use your code to perform 1000 rolls of dice, and graph the histogram of the sum of two dice. You may want to use the  `Table().with_column` function to create the table first, then use the `hist` functions to create the histogram. "
   ]
  },
  {
   "cell_type": "code",
   "execution_count": 3,
   "id": "124b17c5",
   "metadata": {},
   "outputs": [
    {
     "data": {
      "image/png": "[encoded data removed]",
      "text/plain": [
       "<Figure size 600x400 with 1 Axes>"
      ]
     },
     "metadata": {},
     "output_type": "display_data"
    }
   ],
   "source": [
    "outcomes = roll_dice(10000)\n",
    "Table().with_column('sum of two dice', outcomes).hist(bins=np.arange(0.5,13))"
   ]
  },
  {
   "cell_type": "markdown",
   "id": "f27f1311",
   "metadata": {},
   "source": [
    "Compute the proportion of the outcomes that are greater than 10. "
   ]
  },
  {
   "cell_type": "code",
   "execution_count": null,
   "id": "19e8c5fd",
   "metadata": {},
   "outputs": [],
   "source": []
  },
  {
   "cell_type": "markdown",
   "id": "81b0727c",
   "metadata": {},
   "source": [
    "If you continue to the roll the dice indefinitely, eventually how many percent of your outcomes will be greater than $10$? (you don't need to write any program for this question)"
   ]
  },
  {
   "cell_type": "code",
   "execution_count": null,
   "id": "12da5496",
   "metadata": {},
   "outputs": [],
   "source": []
  },
  {
   "cell_type": "markdown",
   "id": "4113c37e",
   "metadata": {},
   "source": [
    "### Simulate a Game of Randomness\n",
    "\n",
    "Suppose you are playing a game with your friend by rolling two dice. In each round, if the sum of face is more than 10, your friend pays you 8 dollars, otherwise, you pay her 1 dollar. Each game lasts 100 rounds. Simulate this game 1000 times and calculate the net winning for you at the end of the game.  "
   ]
  },
  {
   "cell_type": "code",
   "execution_count": 5,
   "id": "ed4de971",
   "metadata": {},
   "outputs": [
    {
     "data": {
      "text/plain": [
       "-1"
      ]
     },
     "execution_count": 5,
     "metadata": {},
     "output_type": "execute_result"
    }
   ],
   "source": [
    "def dice_game(n):\n",
    "    payout = 0\n",
    "    outcomes = roll_dice(n)\n",
    "    for i in outcomes:\n",
    "        if i > 10:\n",
    "            payout += 8\n",
    "        else:\n",
    "            payout += -1\n",
    "    return(payout)\n",
    "dice_game(10)"
   ]
  },
  {
   "cell_type": "markdown",
   "id": "02711dac",
   "metadata": {},
   "source": [
    "Simulate 1000 games, and plot the histogram of your net winning. "
   ]
  },
  {
   "cell_type": "code",
   "execution_count": 6,
   "id": "ca3b221c",
   "metadata": {},
   "outputs": [
    {
     "data": {
      "image/png": "[encoded data removed]",
      "text/plain": [
       "<Figure size 600x400 with 1 Axes>"
      ]
     },
     "metadata": {},
     "output_type": "display_data"
    }
   ],
   "source": [
    "outcomes = make_array()\n",
    "for i in np.arange(1000):\n",
    "    x = dice_game(10)\n",
    "    outcomes = np.append(outcomes, x)\n",
    "outcome_table = Table().with_column('Game Winning', outcomes)\n",
    "outcome_table.hist()"
   ]
  },
  {
   "cell_type": "markdown",
   "id": "564cb27d",
   "metadata": {},
   "source": [
    "Calculate the proportion of games in which you have a positive winning (greater than $0)"
   ]
  },
  {
   "cell_type": "code",
   "execution_count": null,
   "id": "8c99d6ec",
   "metadata": {},
   "outputs": [],
   "source": []
  },
  {
   "cell_type": "markdown",
   "id": "5efd4ba9",
   "metadata": {},
   "source": [
    "# Student Data - Applying Functions and Iteration\n",
    "\n",
    "In a statistics class, Emma collected a dataset of students in Santa Rose. She knows you've been learning data science and asks you to help her understand the data. She has a list of quesions for you.\n",
    "\n",
    "First you need to run the next cell to read in the data filse and display them in a table format.\n",
    "\n",
    "The first file to read in a table is called `student_data.csv` which contains:\n",
    "\n",
    "- SEX: student's gender\n",
    "- COLOR: student's flavor color\n",
    "- ZIP: zip code of student's residential address\n",
    "- MATH: number of math assignments submitted\n",
    "- PAPER: number of paper submitted for a writing class\n",
    "- CAR: year of the car that the student drives\n",
    "- SHOE: student's shose size\n",
    "- AGE: years of age\n",
    "- HEIGHT: student's height\n",
    "- PETS: number of pets that the student keeps\n",
    "- SOCIAL: whethe the student is active on social media\n",
    "\n",
    "The second file to read in a table is called `color_ratings.csv` which contains:\n",
    "\n",
    "- COLOR\n",
    "- POPULAR: rating of the color"
   ]
  },
  {
   "cell_type": "code",
   "execution_count": null,
   "id": "110f2984",
   "metadata": {
    "scrolled": false
   },
   "outputs": [],
   "source": [
    "# Run this cell read and show the tables\n",
    "\n",
    "students = Table.read_table('student_data.csv')\n",
    "color_ratings = Table.read_table('color_ratings.csv')\n",
    "students.show(3)\n",
    "color_ratings.show(3)\n"
   ]
  },
  {
   "cell_type": "markdown",
   "id": "cd4a21b0",
   "metadata": {},
   "source": [
    "## Question 1\n",
    "\n",
    "Emma continues using `student_data.csv` and `color_ratings.csv` in her statistics class. She wants to rename the column `POPULAR` to `RATING`.\n",
    "\n",
    "Use Python to complete the next cell to combine students and color_ratings into one table `students_tbl`. Make sure rename the column `POPULAR` to `RATING`. \n"
   ]
  },
  {
   "cell_type": "code",
   "execution_count": null,
   "id": "9e9fb169",
   "metadata": {
    "scrolled": true
   },
   "outputs": [],
   "source": [
    "students_tbl = ...\n",
    "\n",
    "\n",
    "students_tbl.show(5)\n"
   ]
  },
  {
   "cell_type": "markdown",
   "id": "9b260d0f",
   "metadata": {},
   "source": [
    "## Question 2\n",
    "\n",
    "Emma's flavor colors are red and purple, she wonders how many students have the same preference.\n",
    "\n",
    "How many students have color rating on Red and Purple? \n",
    "\n",
    "Use Python to complete the next cell to answer the question.\n"
   ]
  },
  {
   "cell_type": "markdown",
   "id": "b44aef3d",
   "metadata": {
    "scrolled": false
   },
   "source": [
    "_Type your code here, replacing this text._\n",
    "\n",
    "\n",
    "\n",
    "\n"
   ]
  },
  {
   "cell_type": "markdown",
   "id": "6a7a9e5c",
   "metadata": {},
   "source": [
    "## Question 3\n",
    "\n",
    "Emma is curious about whether there is a feature in Python that allows for reusing the same code block for the same task.\n",
    "\n",
    "You've just learned about functions in Python and wanted to show her how to do it.\n",
    "\n",
    "Write a function called `sum_ages`.  It should take five arguments, where each argument represents an integer corresponding to a student's age. So the five arguments represent five students' ages. The function `sum_ages` should return a summation of the five arguments (students' ages).\n",
    "\n",
    "You may take any five ages from the table `students_tbl`.\n",
    "\n",
    "*Note: Don't overthink this question!*\n",
    "\n",
    "*Hint: Look for AGE column in the table, pick the first 5 ages and use them for the function arguments.*\n",
    "\n",
    "Use Python to complete the next cell to answer the question.\n"
   ]
  },
  {
   "cell_type": "code",
   "execution_count": null,
   "id": "91563c47",
   "metadata": {},
   "outputs": [],
   "source": [
    "def sum_ages(...):\n",
    "    '''Returns the total age calculated by adding up the age of each students'''\n",
    "    ...\n",
    "    \n",
    "    \n",
    "    \n",
    "    \n",
    "_Call the function here, replacing this text._"
   ]
  },
  {
   "cell_type": "markdown",
   "id": "212963f4",
   "metadata": {},
   "source": [
    "## Question 4\n",
    "\n",
    "Emma wants to know how well the students of submitting `MATH` and `PAPER` assignments. \n",
    "\n",
    "Create a new table `submitted_tbl` with four columns in this *specific* order: `SEX`, `MATH`, `PAPER`, `SUBMITTED`. You will have to create the `SUBMITTED` column. \n",
    "\n",
    "You also need to create a function called `sum_assignments`. It should take two arguments, where each argument represents an integer corresponding to a number of `MATH` assignments and a number of `PAPER` assignments submitted. It should return the total number of the assignments submitted.\n",
    "\n",
    "*Hint:* If you want to apply a function that takes in multiple arguments, you can pass multiple column names as arguments in `tbl.apply()`. The column values will be passed into the corresponding arguments of the function. Take a look at the [Python Reference Sheet](http://data8.org/sp22/python-reference.html) and Lecture 13's demo for syntax.\n",
    "\n",
    "Use Python to complete the next cell to answer the question.\n"
   ]
  },
  {
   "cell_type": "code",
   "execution_count": null,
   "id": "335ff4dc",
   "metadata": {},
   "outputs": [],
   "source": [
    "def sum_assignments(a1, a2):\n",
    "    '''Returns the total number of the assignment submitted'''\n",
    "    ...\n",
    "\n",
    "    \n",
    "    \n",
    "...\n",
    "\n",
    "\n",
    "submitted_tbl = ...\n",
    "\n",
    "\n",
    "submitted_tbl.show()"
   ]
  },
  {
   "cell_type": "markdown",
   "id": "13498926",
   "metadata": {},
   "source": [
    "## Question 5\n",
    "\n",
    "Emma wants to see for a particular student whether or not reaches the drinking age which is 21. Write a function called `is_drinking_age`. It should take one argument: a row object from the `students_tbl` table. It should return either `True` if the student is 21 or older, and `False` otherwise.\n",
    "\n",
    "### Use `tbl.row(n)` and `row.item(\"column_name\")`\n",
    "In Python, we can get specific row objects from a table. You can use `tbl.row(n)` to get the nth row of a table. `row.item(\"column_name\")` will allow you to select the element that corresponds to `column_name` in a particular `row`.\n",
    "\n",
    "*Note 1: \"Row object\" means a row from the table that contains all the data for that specific row. It is not the index of a row. Do not try and call `students_tbl.row(row)` inside of the function.*\n",
    "\n",
    "*Note 2: If you're still confused by row objects, try printing out `students_tbl.row(1)` in a new cell to visually see what it looks like! This piece of code is pulling out the row object located at index 1 of the `students_tbl` table and returning it. When you display it in a cell, you'll see that it is not located within a table, but is instead a standalone row object!*\n",
    "\n",
    "Here are examples. You may run the exercises in the next cells before answering the question.\n"
   ]
  },
  {
   "cell_type": "code",
   "execution_count": null,
   "id": "af8df764",
   "metadata": {
    "scrolled": true
   },
   "outputs": [],
   "source": [
    "# Just run this cell\n",
    "students_tbl.row(7)"
   ]
  },
  {
   "cell_type": "code",
   "execution_count": null,
   "id": "ea6d32ab",
   "metadata": {},
   "outputs": [],
   "source": [
    "# Just run this cell\n",
    "students_tbl.row(7).item(\"ZIP\")"
   ]
  },
  {
   "cell_type": "markdown",
   "id": "d86aa798",
   "metadata": {},
   "source": [
    "### Write a function called `is_drinking_age` \n",
    "\n",
    "`is_drinking_age` should take one argument: a row object from the `students_tbl` table. It should return either `True` if the student is 21 or older, and `False` otherwise.\n",
    "\n",
    "Use Python to complete the next cell to answer the question.\n"
   ]
  },
  {
   "cell_type": "code",
   "execution_count": null,
   "id": "c947104f",
   "metadata": {},
   "outputs": [],
   "source": [
    "def is_drinking_age(row):\n",
    "    ...\n",
    "    \n",
    "\n",
    "    \n",
    "\n",
    "is_drinking_age(students_tbl.row(12)) #DO NOT CHANGE THIS LINE"
   ]
  },
  {
   "cell_type": "markdown",
   "id": "9b65c0ef",
   "metadata": {},
   "source": [
    "## Question 6\n",
    "\n",
    "Emma wants to see how many students are under the drinking age and how many students have already reached the drinking age. Using the `students_tbl` table:\n",
    "\n",
    "1. Assign `who_can_drink` to an array of `True` and `False` values that correspond to whether or not the students are under the drinking age.\n",
    "2. Add the `who_can_drink` array to the `students_tbl` table in a column named `DRINKING AGE`, and assign this to `tbl_with_drinking_age_col`.\n",
    "3. Then, respectively assign the number of students under the drinking age and the number of students have reached the drinking age to `not_ok_to_drink` and `ok_to_drink`.\n",
    "\n",
    "*Hint 1: `True` and `False` are **not** strings. What data type are they?*\n",
    "\n",
    "*Hint 2: `tbl.num_rows` might be helpful too.*\n",
    "\n",
    "*Hint 3: When you only pass a function name and no column labels through `tbl.apply()`, the function gets applied to every row in `tbl`.*\n"
   ]
  },
  {
   "cell_type": "code",
   "execution_count": null,
   "id": "3fa27231",
   "metadata": {},
   "outputs": [],
   "source": [
    "who_can_drink = ...\n",
    "\n",
    "\n",
    "tbl_with_drinking_age_col = ...\n",
    "\n",
    "\n",
    "ok_to_drink = ...\n",
    "\n",
    "\n",
    "not_ok_to_drink = ...\n",
    "\n",
    "\n",
    "\n",
    "# Don't delete or edit the following line:\n",
    "print(f\"{not_ok_to_drink} students are under 21 and {ok_to_drink} students are 21 or over\")"
   ]
  }
 ],
 "metadata": {
  "kernelspec": {
   "display_name": "Python 3 (ipykernel)",
   "language": "python",
   "name": "python3"
  },
  "language_info": {
   "codemirror_mode": {
    "name": "ipython",
    "version": 3
   },
   "file_extension": ".py",
   "mimetype": "text/x-python",
   "name": "python",
   "nbconvert_exporter": "python",
   "pygments_lexer": "ipython3",
   "version": "3.11.5"
  }
 },
 "nbformat": 4,
 "nbformat_minor": 5
}
