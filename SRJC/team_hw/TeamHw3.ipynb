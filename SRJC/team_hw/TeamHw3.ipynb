{
 "cells": [
  {
   "cell_type": "markdown",
   "id": "4a926599",
   "metadata": {},
   "source": [
    "### Team Homework #3: Table Manipulation and Visualization\n",
    "Complete this problem set with your group (up to 4 students). You can either hand-write your work and submit a hard copy, or go to File -> Download as HTML to generate an HTML file, then either submit it online or as a hard copy. Each group only needs to submit one copy and will receive the same grade. \n"
   ]
  },
  {
   "cell_type": "markdown",
   "id": "6f95a691",
   "metadata": {},
   "source": [
    "**Helpful Resource:**\n",
    "- [Python Reference](http://data8.org/sp22/python-reference.html): Cheat sheet of helpful array & table methods used in Data 8!\n",
    "\n",
    "**Recommended Reading**: \n",
    "* [Visualization](https://inferentialthinking.com/chapters/07/Visualization.html)"
   ]
  },
  {
   "cell_type": "code",
   "execution_count": null,
   "id": "f245a356",
   "metadata": {},
   "outputs": [],
   "source": [
    "# Don't change this cell; just run it. \n",
    "\n",
    "import numpy as np\n",
    "from datascience import *\n",
    "import warnings\n",
    "warnings.simplefilter('ignore', FutureWarning)\n",
    "\n",
    "# These lines do some fancy plotting magic.\\n\",\n",
    "import matplotlib\n",
    "%matplotlib inline\n",
    "import matplotlib.pyplot as plots\n",
    "plots.style.use('fivethirtyeight')\n"
   ]
  },
  {
   "cell_type": "markdown",
   "id": "8437995e",
   "metadata": {},
   "source": [
    "### Question 1 \n",
    "\n",
    "#### i. Load the data file `Cars2015_v1.csv` into a table called `cars`."
   ]
  },
  {
   "cell_type": "code",
   "execution_count": null,
   "id": "82d453cf",
   "metadata": {},
   "outputs": [],
   "source": [
    "# Use Python to complete the answer to the question in this cell.\n",
    "\n",
    "cars = ...\n",
    "cars\n"
   ]
  },
  {
   "cell_type": "markdown",
   "id": "332615b2",
   "metadata": {},
   "source": [
    "#### ii. To your best guess, what is the ratio and unit for the numbers in `LowPrice` and `HighPrice` columns."
   ]
  },
  {
   "cell_type": "markdown",
   "id": "5bc1c93e",
   "metadata": {},
   "source": [
    "_Type your answer here, replacing this text._\n",
    "\n",
    "\n"
   ]
  },
  {
   "cell_type": "markdown",
   "id": "fb9ca16d",
   "metadata": {},
   "source": [
    "### Question 2 \n",
    "\n",
    "#### Sort the table `cars` by the column `LowPrice` in ascending order, then assign the sorted table to `sort_by_low_price`\n"
   ]
  },
  {
   "cell_type": "code",
   "execution_count": null,
   "id": "199e924e",
   "metadata": {},
   "outputs": [],
   "source": [
    "# Use Python to complete the answer to the question in this cell.\n",
    "\n",
    "sort_by_low_price = ...\n",
    "sort_by_low_price\n"
   ]
  },
  {
   "cell_type": "markdown",
   "id": "eb2f27d2",
   "metadata": {},
   "source": [
    "### Question 3 \n",
    "\n",
    "#### Make a table containing the cheapest 7 cars, then assign the table to `lowest_7`.\n",
    "\n",
    "*Hint: Use table take method. Check out the Array Functions and Methods section on [Python Reference](http://data8.org/sp22/python-reference.html): Cheat sheet of helpful array & table methods used in this course.*"
   ]
  },
  {
   "cell_type": "code",
   "execution_count": null,
   "id": "14e0dbf9",
   "metadata": {},
   "outputs": [],
   "source": [
    "# Use Python to complete the answer to the question in this cell.\n",
    "\n",
    "lowest_7 = ...\n",
    "lowest_7\n"
   ]
  },
  {
   "cell_type": "markdown",
   "id": "c55038f5",
   "metadata": {},
   "source": [
    "### Question 4\n",
    "\n",
    "#### Compute an array containing the box size volumns of the cars in the table `cars`, then assign the array to `storage_spaces`.\n",
    "\n",
    "*Hint: if you want to put a car in a huge gift box, how you would measure the dimensions and volumn of the box to wrap the car in it. Same way as computing the volumn of a cubic rectangle - width x length x height*."
   ]
  },
  {
   "cell_type": "code",
   "execution_count": null,
   "id": "b5528a42",
   "metadata": {},
   "outputs": [],
   "source": [
    "# Use Python to complete the answer to the question in this cell.\n",
    "\n",
    "storage_spaces = ...\n",
    "storage_spaces\n"
   ]
  },
  {
   "cell_type": "markdown",
   "id": "4f29b7ee",
   "metadata": {},
   "source": [
    "### Question 5\n",
    "\n",
    "#### Create a table with a new column\n",
    "\n",
    "1. Add the array `storage_spaces` as a column to the table `cars`\n",
    "2. Name the column as `Cargo Vol`\n",
    "3. Sort the resulting table by that column `Cargo Vol` in ascending order\n",
    "4. Assign the resulting table to `sort_by_cargo_vol`.\n",
    "\n",
    "*Hint: you have already created the array `storage_spaces` in a question above.*"
   ]
  },
  {
   "cell_type": "code",
   "execution_count": null,
   "id": "a4dc1f99",
   "metadata": {},
   "outputs": [],
   "source": [
    "# Use Python to complete the answer to the question in this cell.\n",
    "\n",
    "sort_by_cargo_vol = ...\n",
    "sort_by_cargo_vol\n",
    "\n"
   ]
  },
  {
   "cell_type": "markdown",
   "id": "ba0e119c",
   "metadata": {},
   "source": [
    "### Question 6 Visualization\n",
    "\n",
    "#### i (a). Create a line plot of `Cargo Vol` over `Weight`.\n",
    "\n"
   ]
  },
  {
   "cell_type": "code",
   "execution_count": null,
   "id": "f2528a0b",
   "metadata": {
    "scrolled": true
   },
   "outputs": [],
   "source": [
    "# Use Python to complete the answer to the question in this cell.\n",
    "\n",
    "...\n"
   ]
  },
  {
   "cell_type": "markdown",
   "id": "1b6410dd",
   "metadata": {},
   "source": [
    "#### i (b). What pattern do you see from the plot you created above?\n",
    "\n",
    "Briefly explan your answer in the cell below."
   ]
  },
  {
   "cell_type": "markdown",
   "id": "7ae8f3ee",
   "metadata": {},
   "source": [
    "_Type your answer here, replacing this text._\n",
    "\n",
    "\n"
   ]
  },
  {
   "cell_type": "markdown",
   "id": "a7f04f0a",
   "metadata": {},
   "source": [
    "#### ii (a). Create a scatter plot to visualize the association of the `HighPrice` and its corresponding `CityMPG`.\n"
   ]
  },
  {
   "cell_type": "code",
   "execution_count": null,
   "id": "80d88b94",
   "metadata": {},
   "outputs": [],
   "source": [
    "# Use Python to complete the answer to the question in this cell.\n",
    "\n",
    "...\n"
   ]
  },
  {
   "cell_type": "markdown",
   "id": "3b3a276d",
   "metadata": {},
   "source": [
    "#### ii (b). True or False: There is an association between price and miles per gallon in city. \n",
    "\n",
    "Briefly explan your answer in the cell below.\n"
   ]
  },
  {
   "cell_type": "markdown",
   "id": "0e749962",
   "metadata": {},
   "source": [
    "_Type your answer here, replacing this text._\n",
    "\n",
    "\n",
    "\n"
   ]
  },
  {
   "cell_type": "markdown",
   "id": "09f81be0",
   "metadata": {},
   "source": [
    "#### iii (a).  Produce a histogram that visualizes the distributions of all `HighPrice`  cars. using the given bins in equal_bins. "
   ]
  },
  {
   "cell_type": "code",
   "execution_count": null,
   "id": "fde49871",
   "metadata": {},
   "outputs": [],
   "source": [
    "# Use Python to complete the answer to the question in this cell.\n",
    "\n",
    "equal_bins = np.arange(10, 200, 5)\n",
    "\n",
    "...\n",
    "\n"
   ]
  },
  {
   "cell_type": "markdown",
   "id": "59e8638d",
   "metadata": {},
   "source": [
    "#### iii (b). On the y-axis label, what does the \"unit\" in \"Percent per unit\" represent?\n",
    "\n",
    "Briefly explan your answer in the cell below.\n"
   ]
  },
  {
   "cell_type": "markdown",
   "id": "5e6bb1bf",
   "metadata": {},
   "source": [
    "_Type your answer here, replacing this text._\n",
    "\n",
    "\n",
    "\n"
   ]
  },
  {
   "cell_type": "markdown",
   "id": "7dc04793",
   "metadata": {},
   "source": [
    "#### iii (c). What is the percentage of the cars which are below US\\\\$47,000.\n",
    "\n",
    "Use the variables provided below in order to compute the percentages. Your solution should only use height variables, numbers, and mathematical operations. You should **not** access the table `cars` in any way. In other words, you should only eyeball the vertical bars in the histogram to figure out the values for the variables provided below."
   ]
  },
  {
   "cell_type": "code",
   "execution_count": null,
   "id": "227fb3b1",
   "metadata": {},
   "outputs": [],
   "source": [
    "# Use Python to complete the answer to the question in this cell.\n",
    "\n",
    "below_43k = ...\n",
    "from_43k_to_below_44k = ...\n",
    "from_44k_to_below_45k = ...\n",
    "from_45k_to_below_46k = ...\n",
    "from_46k_to_below_47k = ...\n",
    "\n",
    "below_47k = ...\n",
    "below_47k\n"
   ]
  },
  {
   "cell_type": "markdown",
   "id": "fdcdad2b",
   "metadata": {},
   "source": [
    "### Question 7 Online Sales Computation\n",
    "\n",
    "#### i. Load the data file `online_retail_sales.csv` into a table called `sales` and display 3 rows."
   ]
  },
  {
   "cell_type": "code",
   "execution_count": null,
   "id": "429c36c1",
   "metadata": {},
   "outputs": [],
   "source": [
    "# Use Python to complete the answer to the question in this cell.\n",
    "\n",
    "sales = ...\n",
    "...\n"
   ]
  },
  {
   "cell_type": "markdown",
   "id": "badac14c",
   "metadata": {},
   "source": [
    "#### ii. Compute the percentage of customers who are 50 years or older of ages\n",
    "\n",
    "*Hint: The variable names provided are meant to help guide the intermediate steps and general thought process. Feel free to delete them if you'd prefer to start from scratch.*"
   ]
  },
  {
   "cell_type": "code",
   "execution_count": null,
   "id": "3e49a0fa",
   "metadata": {},
   "outputs": [],
   "source": [
    "# Use Python to complete the answer to the question in this cell.\n",
    "\n",
    "above_49 = ...\n",
    "above_49_percentage = ...\n",
    "above_49_percentage\n"
   ]
  },
  {
   "cell_type": "markdown",
   "id": "63a64bc0",
   "metadata": {},
   "source": [
    "#### iii. Compute the spending percentage of the customers who are 55 years or older of ages out of the total spending of all the customers in the table.\n",
    "\n",
    "*Hint: The variable names provided are meant to help guide the intermediate steps and general thought process. Feel free to delete them if you'd prefer to start from scratch.*"
   ]
  },
  {
   "cell_type": "code",
   "execution_count": null,
   "id": "cc148738",
   "metadata": {},
   "outputs": [],
   "source": [
    "# Use Python to complete the answer to the question in this cell.\n",
    "\n",
    "above_54 = ...\n",
    "\n",
    "above_54_spending = ...\n",
    "\n",
    "total_spending = ...\n",
    "\n",
    "above_54_spending_percentage = ...\n",
    "\n",
    "above_54_spending_percentage\n"
   ]
  }
 ],
 "metadata": {
  "kernelspec": {
   "display_name": "Python 3 (ipykernel)",
   "language": "python",
   "name": "python3"
  },
  "language_info": {
   "codemirror_mode": {
    "name": "ipython",
    "version": 3
   },
   "file_extension": ".py",
   "mimetype": "text/x-python",
   "name": "python",
   "nbconvert_exporter": "python",
   "pygments_lexer": "ipython3",
   "version": "3.11.5"
  }
 },
 "nbformat": 4,
 "nbformat_minor": 5
}
