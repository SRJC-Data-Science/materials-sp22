{
 "cells": [
  {
   "cell_type": "markdown",
   "id": "05d8996d",
   "metadata": {},
   "source": [
    "### Team Homework #1: Introduction, Causality\n",
    "\n",
    "Complete this problem set with your group (up to 4 students). You can either hand-write your work and submit a hard copy, or go to File -> Download as HTML to generate an HTML file, then either submit it online or as a hard copy. Each group only needs to submit one copy and will receive the same grade. \n",
    "\n",
    "\n",
    "**Recommended Reading**: \n",
    "- [Introduction](https://inferentialthinking.com/chapters/01/1/intro.html)"
   ]
  },
  {
   "cell_type": "markdown",
   "id": "126ec56e",
   "metadata": {},
   "source": [
    "### Python as Calculator\n",
    "\n",
    "Use Python to evaluate the following expressions. \n",
    "\n",
    "$\\displaystyle{3}-{4}{\\left({2}+{\\left(-{5}\\right)}\\right)}$"
   ]
  },
  {
   "cell_type": "code",
   "execution_count": null,
   "id": "6bb2e6b4-a494-4066-acdd-3cccb617c977",
   "metadata": {},
   "outputs": [],
   "source": []
  },
  {
   "cell_type": "markdown",
   "id": "e783f866",
   "metadata": {},
   "source": [
    "$\\displaystyle-{7}{\\left[{\\left(-{7}\\right)}+{8}{\\left({4}+{7}\\right)}\\right]}-2^{2}$"
   ]
  },
  {
   "cell_type": "code",
   "execution_count": null,
   "id": "368505d1",
   "metadata": {},
   "outputs": [],
   "source": []
  },
  {
   "cell_type": "markdown",
   "id": "1fc616fd",
   "metadata": {},
   "source": [
    "$\\displaystyle\\frac{{-{\\left({4}-{7}\\right)}^{2}}}{{{9}-{4}\\cdot{3}}}$"
   ]
  },
  {
   "cell_type": "code",
   "execution_count": null,
   "id": "65b513ab",
   "metadata": {},
   "outputs": [],
   "source": []
  },
  {
   "cell_type": "markdown",
   "id": "2de112d3",
   "metadata": {},
   "source": [
    "### Translate Formulas to Code\n",
    "\n",
    "Evaluate the expression with variables (lower and upper case, variables with multiple characters)\n",
    "\n",
    "$R = \\frac{1}{\\frac{1}{R_1} + \\frac{1}{R_2}}$\n",
    "\n",
    "Where $R_1=1.5$ and $R_2=2$. "
   ]
  },
  {
   "cell_type": "code",
   "execution_count": null,
   "id": "06634d9d",
   "metadata": {},
   "outputs": [],
   "source": []
  },
  {
   "cell_type": "markdown",
   "id": "4584cdbd",
   "metadata": {},
   "source": [
    "$\\displaystyle{A}={P}{\\left({1}+\\frac{r}{{n}}\\right)}^{{{n}{t}}}$\n",
    "\n",
    "$ I = A - P$\n",
    "\n",
    "Given $P=4800$ dollars, $t = 8$ years, $r = 0.10$, and $n = 12$, find the value of $I$."
   ]
  },
  {
   "cell_type": "code",
   "execution_count": null,
   "id": "4d4d73ca",
   "metadata": {},
   "outputs": [],
   "source": []
  },
  {
   "cell_type": "markdown",
   "id": "c0dbd89d",
   "metadata": {},
   "source": [
    "Evaluate the following expressions involving absolute value. First on paper, then in Python. Enter one line of code for each expression:  \n",
    "\n",
    "$\\left|-12-7 \\right|- \\left|3+10\\right| = $\n",
    "\n",
    "$\\displaystyle{\\left|{-{12}-{7}-{\\left|{{3}+{10}}\\right|}}\\right|}=$\n",
    "\n",
    "$\\displaystyle{\\left|{-{12}-{7}{\\left|{-{3}+{10}}\\right|}}\\right|}=$\n",
    "|"
   ]
  },
  {
   "cell_type": "code",
   "execution_count": null,
   "id": "9ea64a77",
   "metadata": {},
   "outputs": [],
   "source": []
  },
  {
   "cell_type": "markdown",
   "id": "919534d8",
   "metadata": {},
   "source": [
    "### Translate English to Code\n",
    "\n",
    "Translate the following statement into a Python expression. Feel free to name your own variables. \n",
    "\n",
    "The sample mean is the average of the numbers. Find the sample mean for: 48, 50, 52, 61, 45"
   ]
  },
  {
   "cell_type": "code",
   "execution_count": null,
   "id": "b638decc",
   "metadata": {},
   "outputs": [],
   "source": []
  },
  {
   "cell_type": "markdown",
   "id": "723112a2",
   "metadata": {},
   "source": [
    "Rita's score is 11 more than double Mike's score."
   ]
  },
  {
   "cell_type": "code",
   "execution_count": null,
   "id": "5c09162a",
   "metadata": {},
   "outputs": [],
   "source": []
  },
  {
   "cell_type": "markdown",
   "id": "08975c38",
   "metadata": {},
   "source": [
    "The circumference of a rectangle is twice the sum of the width and length. "
   ]
  },
  {
   "cell_type": "code",
   "execution_count": null,
   "id": "902246a2",
   "metadata": {},
   "outputs": [],
   "source": []
  },
  {
   "cell_type": "markdown",
   "id": "3cef8716",
   "metadata": {},
   "source": [
    "Dave's salary in Year 2 increased 5% over the first year, and decreased 5% from Year 2 to Year 3. "
   ]
  },
  {
   "cell_type": "code",
   "execution_count": null,
   "id": "e351690b",
   "metadata": {},
   "outputs": [],
   "source": []
  },
  {
   "cell_type": "markdown",
   "id": "b6a27bc4",
   "metadata": {},
   "source": [
    "### Course Logistics\n",
    "\n",
    "How do you know you have answered all the questions in the Lab and Homework?"
   ]
  },
  {
   "cell_type": "code",
   "execution_count": null,
   "id": "e4e2a4fb",
   "metadata": {},
   "outputs": [],
   "source": []
  },
  {
   "cell_type": "markdown",
   "id": "93184d90",
   "metadata": {},
   "source": [
    "Where do you submit the lab and homework after you have completed it? "
   ]
  },
  {
   "cell_type": "code",
   "execution_count": null,
   "id": "789645f3",
   "metadata": {},
   "outputs": [],
   "source": []
  }
 ],
 "metadata": {
  "kernelspec": {
   "display_name": "Python 3 (ipykernel)",
   "language": "python",
   "name": "python3"
  },
  "language_info": {
   "codemirror_mode": {
    "name": "ipython",
    "version": 3
   },
   "file_extension": ".py",
   "mimetype": "text/x-python",
   "name": "python",
   "nbconvert_exporter": "python",
   "pygments_lexer": "ipython3",
   "version": "3.12.3"
  }
 },
 "nbformat": 4,
 "nbformat_minor": 5
}
