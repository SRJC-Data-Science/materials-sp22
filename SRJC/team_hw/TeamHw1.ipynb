{
 "cells": [
  {
   "cell_type": "markdown",
   "id": "05d8996d",
   "metadata": {},
   "source": [
    "### Team Homework #1: Introduction, Causality\n",
    "\n",
    "Complete this problem set with your group (up to 4 students). You can either hand-write your work and submit a hard copy, or go to File -> Download as HTML to generate an HTML file, then either submit it online or as a hard copy. Each group only needs to submit one copy and will receive the same grade. \n"
   ]
  },
  {
   "cell_type": "markdown",
   "id": "126ec56e",
   "metadata": {},
   "source": [
    "### Python as Calculator\n",
    "\n",
    "Use Python to evaluate the following expressions. \n",
    "\n",
    "$\\displaystyle{3}-{4}{\\left({2}+{\\left(-{5}\\right)}\\right)}$"
   ]
  },
  {
   "cell_type": "code",
   "execution_count": null,
   "id": "6bb2e6b4-a494-4066-acdd-3cccb617c977",
   "metadata": {},
   "outputs": [],
   "source": []
  },
  {
   "cell_type": "markdown",
   "id": "e783f866",
   "metadata": {},
   "source": [
    "$\\displaystyle-{7}{\\left[{\\left(-{7}\\right)}+{8}{\\left({4}+{7}\\right)}\\right]}-2^{2}$"
   ]
  },
  {
   "cell_type": "code",
   "execution_count": null,
   "id": "368505d1",
   "metadata": {},
   "outputs": [],
   "source": []
  },
  {
   "cell_type": "markdown",
   "id": "1fc616fd",
   "metadata": {},
   "source": [
    "$\\displaystyle\\frac{{-{\\left({4}-{7}\\right)}^{2}}}{{{9}-{4}\\cdot{3}}}$"
   ]
  },
  {
   "cell_type": "code",
   "execution_count": null,
   "id": "65b513ab",
   "metadata": {},
   "outputs": [],
   "source": []
  },
  {
   "cell_type": "markdown",
   "id": "79478010",
   "metadata": {},
   "source": [
    "$\\displaystyle{\\left|{8}-{13}\\right|}-{\\left|{5}-{4}\\right|}^{2}$"
   ]
  },
  {
   "cell_type": "code",
   "execution_count": null,
   "id": "34290a30",
   "metadata": {},
   "outputs": [],
   "source": []
  },
  {
   "cell_type": "markdown",
   "id": "2de112d3",
   "metadata": {},
   "source": [
    "### Translate Formulas to Code\n",
    "\n",
    "Evaluate the expression with variables (lower and upper case, variables with multiple characters)\n",
    "\n",
    "$\\text{surface} = 4\\pi^2  r\\cdot R$\n",
    "\n",
    "Where $r=1.5$ and $R=4$. "
   ]
  },
  {
   "cell_type": "code",
   "execution_count": null,
   "id": "06634d9d",
   "metadata": {},
   "outputs": [],
   "source": []
  },
  {
   "cell_type": "markdown",
   "id": "949c3eb5",
   "metadata": {},
   "source": [
    "$ x = \\frac{-b\\pm \\sqrt{b^2-4ac}}{2a}$\n",
    "\n",
    "Where $a=-1$, $b=1$, and $c=1$. "
   ]
  },
  {
   "cell_type": "code",
   "execution_count": null,
   "id": "cda9acd8",
   "metadata": {},
   "outputs": [],
   "source": []
  },
  {
   "cell_type": "markdown",
   "id": "4584cdbd",
   "metadata": {},
   "source": [
    "$\\displaystyle{A}={P}{\\left({1}+\\frac{r}{{n}}\\right)}^{{{n}{t}}}$\n",
    "\n",
    "$ I = A - P$\n",
    "\n",
    "Where $P=4800$ dollars, $t = 8$ years, $r = 10\\%$, and $n = 12$. "
   ]
  },
  {
   "cell_type": "code",
   "execution_count": null,
   "id": "4d4d73ca",
   "metadata": {},
   "outputs": [],
   "source": []
  },
  {
   "cell_type": "markdown",
   "id": "c0dbd89d",
   "metadata": {},
   "source": [
    "Evaluate the following expressions involving absolute value. First on paper, then in Python. Enter one line of code for each expression:  \n",
    "\n",
    "$\\left|-12-7 \\right|- \\left|3+10\\right| = $\n",
    "\n",
    "$\\displaystyle{\\left|{-{12}-{7}-{\\left|{{3}+{10}}\\right|}}\\right|}=$\n",
    "\n",
    "$\\displaystyle{\\left|{-{12}-{7}{\\left|{-{3}+{10}}\\right|}}\\right|}=$\n"
   ]
  },
  {
   "cell_type": "code",
   "execution_count": null,
   "id": "9ea64a77",
   "metadata": {},
   "outputs": [],
   "source": []
  },
  {
   "cell_type": "markdown",
   "id": "919534d8",
   "metadata": {},
   "source": [
    "### Translate English to Code\n",
    "\n",
    "Translate the following statement into a Python expression. Feel free to name your own variables. \n",
    "\n",
    "The solution is 8 less than the quotient of the cube of the input and eight."
   ]
  },
  {
   "cell_type": "code",
   "execution_count": null,
   "id": "b638decc",
   "metadata": {},
   "outputs": [],
   "source": []
  },
  {
   "cell_type": "markdown",
   "id": "100f75c0",
   "metadata": {},
   "source": [
    "The tax is the calculated by 10% of your income between 0 and 24000, plus 15% of the amount over 24000. "
   ]
  },
  {
   "cell_type": "code",
   "execution_count": null,
   "id": "c6058eb4",
   "metadata": {},
   "outputs": [],
   "source": []
  },
  {
   "cell_type": "markdown",
   "id": "8f488862",
   "metadata": {},
   "source": [
    "The sample mean is the average of the numbers. Find the sample mean for: 48, 50, 52, 61, 45"
   ]
  },
  {
   "cell_type": "code",
   "execution_count": null,
   "id": "89bd4915",
   "metadata": {},
   "outputs": [],
   "source": []
  },
  {
   "cell_type": "markdown",
   "id": "723112a2",
   "metadata": {},
   "source": [
    "Rita's score is 11 more than double Mike's score."
   ]
  },
  {
   "cell_type": "code",
   "execution_count": null,
   "id": "5c09162a",
   "metadata": {},
   "outputs": [],
   "source": []
  },
  {
   "cell_type": "markdown",
   "id": "08975c38",
   "metadata": {},
   "source": [
    "The circumference of a rectangle is twice the sum of the width and length. "
   ]
  },
  {
   "cell_type": "code",
   "execution_count": null,
   "id": "902246a2",
   "metadata": {},
   "outputs": [],
   "source": []
  },
  {
   "cell_type": "markdown",
   "id": "3cef8716",
   "metadata": {},
   "source": [
    "Dave's salary in Year 2 increased 5% over the first year, and decreased 5% from Year 2 to Year 3. "
   ]
  },
  {
   "cell_type": "code",
   "execution_count": null,
   "id": "e351690b",
   "metadata": {},
   "outputs": [],
   "source": []
  },
  {
   "cell_type": "markdown",
   "id": "b6a27bc4",
   "metadata": {},
   "source": [
    "### Course Logistics\n",
    "\n",
    "How do you know you have answered all the questions in the Lab and Homework?"
   ]
  },
  {
   "cell_type": "code",
   "execution_count": null,
   "id": "e4e2a4fb",
   "metadata": {},
   "outputs": [],
   "source": []
  },
  {
   "cell_type": "markdown",
   "id": "93184d90",
   "metadata": {},
   "source": [
    "Where do you submit the lab and homework after you have completed it? "
   ]
  },
  {
   "cell_type": "code",
   "execution_count": null,
   "id": "789645f3",
   "metadata": {},
   "outputs": [],
   "source": []
  }
 ],
 "metadata": {
  "kernelspec": {
   "display_name": "Python 3 (ipykernel)",
   "language": "python",
   "name": "python3"
  },
  "language_info": {
   "codemirror_mode": {
    "name": "ipython",
    "version": 3
   },
   "file_extension": ".py",
   "mimetype": "text/x-python",
   "name": "python",
   "nbconvert_exporter": "python",
   "pygments_lexer": "ipython3",
   "version": "3.12.3"
  }
 },
 "nbformat": 4,
 "nbformat_minor": 5
}
