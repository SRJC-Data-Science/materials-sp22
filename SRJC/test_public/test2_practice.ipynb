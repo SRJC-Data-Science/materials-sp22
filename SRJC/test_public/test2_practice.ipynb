{
 "cells": [
  {
   "cell_type": "markdown",
   "metadata": {},
   "source": [
    "### Test 2 Part 2 Sample Questions\n",
    "\n",
    "In this part of the test, you will have up to 2 hours to complete several problems that require coding and simulations. Please answer all questions within the notebook, and submit the code if needed. You are allowed to consult the course material in Canvas, but please complete the test yourself within the time limit. Your completed notebook and HTML file must be submitted in Canvas before the stated time limit. "
   ]
  },
  {
   "cell_type": "code",
   "execution_count": 4,
   "metadata": {},
   "outputs": [],
   "source": [
    "from datascience import *\n",
    "import numpy as np\n",
    "\n",
    "%matplotlib inline\n",
    "import matplotlib.pyplot as plots\n",
    "plots.style.use('fivethirtyeight')\n",
    "students = Table().read_table('student_data.csv')\n"
   ]
  },
  {
   "cell_type": "markdown",
   "metadata": {},
   "source": [
    "### Hypothesis Testing\n",
    "\n",
    "Include the following steps in your hypothesis test. \n",
    "1. State the null and alternative hypothesis\n",
    "2. Pick a test statistic\n",
    "3. Simulate the sampling distribution of the test statistic, under the null model\n",
    "4. Draw conclusion with regard to null model based on the p-value, using the distribution generated from Step 3. A significance level (cut-off value) of 0.05  used to decide whether the p-value is low enough. \n"
   ]
  },
  {
   "cell_type": "markdown",
   "metadata": {},
   "source": [
    "#### Question 1: \n",
    "\n",
    "A gambler at the Graton Casino observed 120 dice rolls and noticed that the number of rolls were not perfectly even. Specifically, he counted the following frequencies for each side of the die: (18, 21, 19, 23, 29, 10). He suspects the die may be loaded. \n",
    "\n",
    "What are the null and alternative models? "
   ]
  },
  {
   "cell_type": "markdown",
   "metadata": {},
   "source": []
  },
  {
   "cell_type": "markdown",
   "metadata": {},
   "source": [
    "Based on the Total Variation Distance test statistic, wwhat is value of the test statistic given the observed data? "
   ]
  },
  {
   "cell_type": "code",
   "execution_count": 2,
   "metadata": {},
   "outputs": [],
   "source": [
    "# show your code as well as the output of the test statistic"
   ]
  },
  {
   "cell_type": "markdown",
   "metadata": {},
   "source": [
    "Simulate the sampling distribution of simulated test statistic based on the null model. "
   ]
  },
  {
   "cell_type": "code",
   "execution_count": 3,
   "metadata": {},
   "outputs": [],
   "source": [
    "# show your code as well as the output of one simulation "
   ]
  },
  {
   "cell_type": "markdown",
   "metadata": {},
   "source": [
    "Based on the simulated sampling distribution, what is the p-value and the conclusion of the test? "
   ]
  },
  {
   "cell_type": "code",
   "execution_count": null,
   "metadata": {},
   "outputs": [],
   "source": [
    "# Calcualte "
   ]
  },
  {
   "cell_type": "markdown",
   "metadata": {},
   "source": [
    "#### Question 2\n",
    "\n",
    "Based on the student data in ```student_data.csv```, suppose we want to test the hypothesis that students who do not use social networking sites tend to be older in terms of average age. \n",
    "\n",
    "What is are the null and alternative models? "
   ]
  },
  {
   "cell_type": "markdown",
   "metadata": {},
   "source": []
  },
  {
   "cell_type": "markdown",
   "metadata": {},
   "source": [
    "Suppose we use ```average_of_social_media_users - average_of_non-users``` as the test statistic. Compute the observed test statistic from the student data. "
   ]
  },
  {
   "cell_type": "code",
   "execution_count": null,
   "metadata": {},
   "outputs": [],
   "source": []
  },
  {
   "cell_type": "markdown",
   "metadata": {},
   "source": [
    "Simulate the sampling distribution of simulated test statistic based on the null model. "
   ]
  },
  {
   "cell_type": "code",
   "execution_count": null,
   "metadata": {},
   "outputs": [],
   "source": []
  },
  {
   "cell_type": "markdown",
   "metadata": {},
   "source": [
    "What is the p-value and conclusion of the hypothesis test？ "
   ]
  },
  {
   "cell_type": "code",
   "execution_count": null,
   "metadata": {},
   "outputs": [],
   "source": []
  },
  {
   "cell_type": "markdown",
   "metadata": {},
   "source": [
    "#### Question 3: \n",
    "\n",
    "\n",
    "Based on the student data in ```student_data.csv```, suppose we want to test the hypothesis that there is a difference in the proportion of female and male students who own pets. Use the absolute value of the difference of proportions as a test statistic. Show all step of the hypothesis test as above. "
   ]
  },
  {
   "cell_type": "code",
   "execution_count": null,
   "metadata": {},
   "outputs": [],
   "source": []
  },
  {
   "cell_type": "markdown",
   "metadata": {},
   "source": [
    "### Confidence Interval \n",
    "\n",
    "Use the bootstrapping method to construct confidence intervals. Show the code you used for simulation, as well as the confidence intervals you found from one simulation. \n",
    "\n",
    "### Question 4: \n",
    "\n",
    "Use the class data to construct a 90% confidence interval for the percentage of students who drives a car. Note: you may use ```math.isnan``` to handle the missing values. "
   ]
  },
  {
   "cell_type": "code",
   "execution_count": null,
   "metadata": {},
   "outputs": [],
   "source": []
  },
  {
   "cell_type": "markdown",
   "metadata": {},
   "source": [
    "### Question 5: \n",
    "\n",
    "Use the class data to construct a 80% confidence interval for the average height of students. "
   ]
  },
  {
   "cell_type": "markdown",
   "metadata": {},
   "source": []
  },
  {
   "cell_type": "markdown",
   "metadata": {},
   "source": [
    "### Question 6:\n",
    "\n",
    "Now calculate the confidence interval by the formula: \n",
    "\n",
    " $\\text{sample mean} \\pm z\\cdot SD$\n",
    "\n",
    " What value of $z$ should be used for the 80% confidence interval? Show the interval you found by using this formula. Note: you will need to use ```scipy.stats.norm.cdf``` and/or ```scipy.stats.norm.ppf``` "
   ]
  },
  {
   "cell_type": "code",
   "execution_count": 33,
   "metadata": {},
   "outputs": [
    {
     "data": {
      "text/plain": [
       "1.2815515655446004"
      ]
     },
     "execution_count": 33,
     "metadata": {},
     "output_type": "execute_result"
    }
   ],
   "source": [
    "import scipy\n",
    "scipy.stats.norm.ppf(0.90)"
   ]
  },
  {
   "cell_type": "markdown",
   "metadata": {},
   "source": [
    "### Question 7: \n",
    "\n",
    "To keep the estimate of the average height within 1 inch of the actual parameter, how many students do you need to include in another survey of SRJC students? Assume the sample SD is the same as the population SD. "
   ]
  },
  {
   "cell_type": "markdown",
   "metadata": {},
   "source": []
  }
 ],
 "metadata": {
  "kernelspec": {
   "display_name": ".venv",
   "language": "python",
   "name": "python3"
  },
  "language_info": {
   "codemirror_mode": {
    "name": "ipython",
    "version": 3
   },
   "file_extension": ".py",
   "mimetype": "text/x-python",
   "name": "python",
   "nbconvert_exporter": "python",
   "pygments_lexer": "ipython3",
   "version": "3.12.3"
  }
 },
 "nbformat": 4,
 "nbformat_minor": 2
}
