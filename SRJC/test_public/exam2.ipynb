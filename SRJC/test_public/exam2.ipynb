{
 "cells": [
  {
   "cell_type": "markdown",
   "metadata": {},
   "source": [
    "### CS88: Exam 2\n",
    "\n",
    "In this part of the test, you will have up to 2 hours to complete several problems that require coding and simulations. Please answer all questions within the notebook, and submit the code if needed. You are allowed to consult the course material in Canvas, but please complete the test yourself within the time limit. Your completed notebook and HTML file must be submitted in Canvas before the stated time limit. "
   ]
  },
  {
   "cell_type": "code",
   "execution_count": 2,
   "metadata": {},
   "outputs": [],
   "source": [
    "from datascience import *\n",
    "import numpy as np\n",
    "\n",
    "%matplotlib inline\n",
    "import matplotlib.pyplot as plots\n",
    "plots.style.use('fivethirtyeight')\n"
   ]
  },
  {
   "cell_type": "markdown",
   "metadata": {},
   "source": [
    "#### Question 1: \n",
    "\n",
    "There are three types of positions in basketball: Center (C), Forwards (F), which includes Power Forwards (PF) and Small Forwards (SF), and Guards (G), which include Shooting Guards (SG), and Point Guards (PG). Traditionally in a lineup, there is one Center, two Forwards and two Guards. Use the NBA data from year 2020, and test the hypothesis that these three positions are no longer accounting for 20%, 40% and 40% of all the players. \n",
    "\n",
    "Include the following steps in your hypothesis test. \n",
    "\n",
    "1. State the null and alternative hypothesis\n",
    "2. Use Total Variational Distance as test statistic\n",
    "3. Simulate the sampling distribution of the test statistic, under the null model\n",
    "4. Draw conclusion with regard to null model based on the p-value, based on a cut-off value of 0.05. \n"
   ]
  },
  {
   "cell_type": "code",
   "execution_count": 53,
   "metadata": {},
   "outputs": [],
   "source": [
    "nba = Table().read_table('nba_salaries.csv')\n"
   ]
  },
  {
   "cell_type": "markdown",
   "metadata": {},
   "source": [
    "### Question 2\n",
    "\n",
    "Use bootstrapping to construct two 95% confidence intervals, one for the average salary of NBA players who are playing the Point Guard (PG) position, the other for the average salary for Centers (C). Based on these two intervals, is there evidence that on average,  the point guard gets paid higher? "
   ]
  },
  {
   "cell_type": "code",
   "execution_count": 9,
   "metadata": {},
   "outputs": [],
   "source": []
  },
  {
   "cell_type": "markdown",
   "metadata": {},
   "source": [
    "#### Question 3: \n",
    "\n",
    "\n",
    "Based on the student data in ```student_data.csv```, suppose we want to test the hypothesis that there is a difference in attitude of female and male students towards mathematics (shown in the variable ```MATH```). Use the absolute value of the difference of means as a test statistic. Show all step of the hypothesis test as above. "
   ]
  },
  {
   "cell_type": "code",
   "execution_count": 54,
   "metadata": {},
   "outputs": [],
   "source": [
    "students = Table().read_table('student_data.csv')\n",
    "\n"
   ]
  },
  {
   "cell_type": "markdown",
   "metadata": {},
   "source": [
    "### Question 4: \n",
    "\n",
    "To keep the width of the confidence interval for the average Math attitude score no more than 0.1, how many students do you need to include in another survey of SRJC students at the 95% confidence level? Assume the sample SD from the class data is the same as the population SD. "
   ]
  },
  {
   "cell_type": "code",
   "execution_count": null,
   "metadata": {},
   "outputs": [],
   "source": []
  },
  {
   "cell_type": "markdown",
   "metadata": {},
   "source": [
    "### Question 5: \n",
    "\n",
    "Use the ```united``` data and bootstrapping to create a 90% confidence interval for the percentage of flights to Honolulu (HNL) that are delayed (these flights show a positive value for the ```Delay``` variable)"
   ]
  },
  {
   "cell_type": "code",
   "execution_count": 55,
   "metadata": {},
   "outputs": [],
   "source": [
    "united = Table().read_table('united.csv')\n"
   ]
  },
  {
   "cell_type": "markdown",
   "metadata": {},
   "source": [
    "### Question 6: \n",
    "\n",
    "Treat all flights to Honolulu as a population, create a sampling distribution of the average delay of $n=30$ flights, and compare its histogram to that of the original population. What does the Central Limit Theorem say about this sampling distribution? (with regard to shape, center, standard deviation)\n",
    "\n"
   ]
  },
  {
   "cell_type": "code",
   "execution_count": null,
   "metadata": {},
   "outputs": [],
   "source": [
    "\n"
   ]
  }
 ],
 "metadata": {
  "kernelspec": {
   "display_name": ".venv",
   "language": "python",
   "name": "python3"
  },
  "language_info": {
   "codemirror_mode": {
    "name": "ipython",
    "version": 3
   },
   "file_extension": ".py",
   "mimetype": "text/x-python",
   "name": "python",
   "nbconvert_exporter": "python",
   "pygments_lexer": "ipython3",
   "version": "3.12.3"
  }
 },
 "nbformat": 4,
 "nbformat_minor": 2
}
