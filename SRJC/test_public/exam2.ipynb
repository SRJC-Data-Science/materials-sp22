{
 "cells": [
  {
   "cell_type": "markdown",
   "metadata": {},
   "source": [
    "### CS88: Exam 2 Coding and Verbal Response Questions\n",
    "\n",
    "\n",
    "In this part of the test, you will have up to 2 hours to complete several problems that require coding and simulations. Please answer all questions within the notebook, and submit the code if needed. You are allowed to consult the course material in Canvas, but please complete the test yourself within the time limit. Your completed notebook and HTML file must be submitted in Canvas before the stated time limit. "
   ]
  },
  {
   "cell_type": "code",
   "execution_count": null,
   "metadata": {},
   "outputs": [],
   "source": [
    "from datascience import *\n",
    "from scipy import stats\n",
    "import numpy as np\n",
    "\n",
    "%matplotlib inline\n",
    "import matplotlib.pyplot as plots\n",
    "plots.style.use('fivethirtyeight')\n"
   ]
  },
  {
   "cell_type": "markdown",
   "metadata": {},
   "source": [
    "#### Question 1: \n",
    "\n",
    "\n",
    "Based on the student data in ```student_data.csv```, suppose we want to test the hypothesis that there is a difference in the average attitude of female and male students towards mathematics (shown in the variable ```MATH```). \n",
    "\n",
    "Include the following steps in your A/B test. \n",
    "\n",
    "1. State the null and alternative hypothesis\n",
    "2. Use the absolute value of the difference of means as  test statistic. \n",
    "3. Simulate the sampling distribution of the test statistic, under the null model\n",
    "4. Draw conclusion with regard to null model based on the p-value, based on a cut-off value of 0.05. "
   ]
  },
  {
   "cell_type": "code",
   "execution_count": null,
   "metadata": {},
   "outputs": [],
   "source": [
    "students = Table().read_table('student_data.csv')\n"
   ]
  },
  {
   "cell_type": "markdown",
   "metadata": {},
   "source": [
    "### Question 2(a): \n",
    "\n",
    "Find the mean and standard deviation of the number of PETS owned by students taking math from the student data. Find the standardized (z) units/score of the person who owns the most pets. "
   ]
  },
  {
   "cell_type": "code",
   "execution_count": null,
   "metadata": {},
   "outputs": [],
   "source": []
  },
  {
   "cell_type": "markdown",
   "metadata": {},
   "source": [
    "### Question 2(b): \n",
    "\n",
    "Suppose we wish to estimate the average number of PETS owned by students at SRJC by conducting another survey. To keep the width of the confidence interval within 0.5, how many students do you need to include in your survey of SRJC students at the 95% confidence level? Assume we can estimate SD from our student data. "
   ]
  },
  {
   "cell_type": "code",
   "execution_count": null,
   "metadata": {},
   "outputs": [],
   "source": []
  },
  {
   "cell_type": "markdown",
   "metadata": {},
   "source": [
    "### Question 2(c): \n",
    "\n",
    "Suppose we decide to change the confidence level to 99%. How large should your sample size be, given the same width as in 2(b)? Show how you would modify the formula by using the ```stats.norm.ppf``` function. "
   ]
  },
  {
   "cell_type": "code",
   "execution_count": null,
   "metadata": {},
   "outputs": [],
   "source": []
  },
  {
   "cell_type": "markdown",
   "metadata": {},
   "source": [
    "#### Question 3: \n",
    "\n",
    "There are three types of positions in basketball: Center (C), Forwards (F), which includes Power Forwards (PF) and Small Forwards (SF), and Guards (G), which include Shooting Guards (SG), and Point Guards (PG). Traditionally in a lineup, there is one Center, two Forwards and two Guards, thus we would expect 1 in 5 players to be playing the Center position. Use the NBA data from year 2020, and test the hypothesis that Centers now account for less than 20% of the current NBA players.  \n",
    "\n",
    "Include the following steps in your hypothesis test. \n",
    "\n",
    "1. State the null and alternative hypothesis\n",
    "2. Specify which test statistic you would use\n",
    "3. Simulate the sampling distribution of the test statistic, under the null model\n",
    "4. Draw conclusion with regard to null model based on the p-value, based on a cut-off value of 0.05. \n"
   ]
  },
  {
   "cell_type": "code",
   "execution_count": null,
   "metadata": {},
   "outputs": [],
   "source": [
    "nba20 = Table().read_table('nba_salaries.csv').where('season', are.equal_to(2020))"
   ]
  },
  {
   "cell_type": "markdown",
   "metadata": {},
   "source": [
    "### Question 4(a)\n",
    "\n",
    "Use bootstrapping to construct two 95% confidence intervals, one for the average salary of NBA players in 2020 who are playing the Point Guard (PG) position, the other for the average salary for Centers (C). Show your bootstrap distributions as well as the intervals. "
   ]
  },
  {
   "cell_type": "code",
   "execution_count": null,
   "metadata": {},
   "outputs": [],
   "source": []
  },
  {
   "cell_type": "markdown",
   "metadata": {},
   "source": [
    "### Question 4(b)\n",
    "\n",
    "Based on these two intervals in 4(a), is there evidence that on average,  point guards receive higher pay than centers in 2020? Briefly explain your reasoning. "
   ]
  },
  {
   "cell_type": "markdown",
   "metadata": {},
   "source": [
    "(Type your answer below)\n",
    "\n",
    "\n",
    "\n"
   ]
  },
  {
   "cell_type": "markdown",
   "metadata": {},
   "source": [
    "### Question 5: \n",
    "\n",
    "Use the ```united``` data and bootstrapping to create a 90% confidence interval for the percentage of flights to Honolulu (HNL) that are delayed for more than 30 minutes. "
   ]
  },
  {
   "cell_type": "code",
   "execution_count": null,
   "metadata": {},
   "outputs": [],
   "source": [
    "united = Table().read_table('united.csv')\n",
    "hnl = united.where('Destination', are.equal_to('HNL'))"
   ]
  },
  {
   "cell_type": "markdown",
   "metadata": {},
   "source": [
    "### Question 6: \n",
    "\n"
   ]
  },
  {
   "cell_type": "markdown",
   "metadata": {},
   "source": [
    "Use the ```united``` data as the population. Simulate 2000 samples from this population, each containing 100 flights, and plot these sample means in a histogram. (You may re-use your code from Lab 8. Please don't worry about labeling the graph. )"
   ]
  },
  {
   "cell_type": "code",
   "execution_count": null,
   "metadata": {},
   "outputs": [],
   "source": []
  },
  {
   "cell_type": "markdown",
   "metadata": {},
   "source": [
    "What does the Centra Limit Theorem predict in terms of the SD of this sampling distribution? "
   ]
  },
  {
   "cell_type": "code",
   "execution_count": 16,
   "metadata": {},
   "outputs": [],
   "source": [
    "# Compare your SD with the predictions of the Central Limit Theorem below"
   ]
  }
 ],
 "metadata": {
  "kernelspec": {
   "display_name": ".venv",
   "language": "python",
   "name": "python3"
  },
  "language_info": {
   "codemirror_mode": {
    "name": "ipython",
    "version": 3
   },
   "file_extension": ".py",
   "mimetype": "text/x-python",
   "name": "python",
   "nbconvert_exporter": "python",
   "pygments_lexer": "ipython3",
   "version": "3.12.3"
  }
 },
 "nbformat": 4,
 "nbformat_minor": 2
}
